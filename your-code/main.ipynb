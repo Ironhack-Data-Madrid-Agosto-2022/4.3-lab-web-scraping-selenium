{
 "cells": [
  {
   "cell_type": "markdown",
   "metadata": {},
   "source": [
    "# Web Scraping Lab\n",
    "\n",
    "You will find in this notebook some scrapy exercises to practise your scraping skills.\n",
    "\n",
    "**Tips:**\n",
    "\n",
    "- Check the response status code for each request to ensure you have obtained the intended contennt.\n",
    "- Print the response text in each request to understand the kind of info you are getting and its format.\n",
    "- Check for patterns in the response text to extract the data/info requested in each question.\n",
    "- Visit each url and take a look at its source through Chrome DevTools. You'll need to identify the html tags, special class names etc. used for the html content you are expected to extract."
   ]
  },
  {
   "cell_type": "markdown",
   "metadata": {},
   "source": [
    "- [Selenium Doc](https://www.selenium.dev/documentation/)\n",
    "- [Requests library](http://docs.python-requests.org/en/master/#the-user-guide) documentation \n",
    "- [Urllib](https://docs.python.org/3/library/urllib.html#module-urllib)\n",
    "- [re lib](https://docs.python.org/3/library/re.html)\n",
    "- [lxml lib](https://lxml.de/)\n",
    "- [Scrapy](https://scrapy.org/)\n",
    "- [List of HTTP status codes](https://en.wikipedia.org/wiki/List_of_HTTP_status_codes)\n",
    "- [HTML basics](http://www.simplehtmlguide.com/cheatsheet.php)\n",
    "- [CSS basics](https://www.cssbasics.com/#page_start)"
   ]
  },
  {
   "cell_type": "markdown",
   "metadata": {},
   "source": [
    "#### Below are the libraries and modules you may need. `Selenium` and `pandas` are imported for you."
   ]
  },
  {
   "cell_type": "code",
   "execution_count": 13,
   "metadata": {},
   "outputs": [],
   "source": [
    "#%pip install selenium\n",
    "#%pip install webdriver-manager"
   ]
  },
  {
   "cell_type": "code",
   "execution_count": 255,
   "metadata": {},
   "outputs": [],
   "source": [
    "import pandas as pd\n",
    "from selenium import webdriver\n",
    "from selenium.webdriver.chrome.options import Options\n",
    "from webdriver_manager.chrome import ChromeDriverManager"
   ]
  },
  {
   "cell_type": "markdown",
   "metadata": {},
   "source": [
    "#### Enable the options you may need. In the next cell you have an example of them but you can choose to use them or not."
   ]
  },
  {
   "cell_type": "code",
   "execution_count": 256,
   "metadata": {},
   "outputs": [],
   "source": [
    "#driver configuration\n",
    "opciones=Options()\n",
    "\n",
    "opciones.add_experimental_option('excludeSwitches', ['enable-automation'])\n",
    "opciones.add_experimental_option('useAutomationExtension', False)\n",
    "opciones.headless=False    # si True, no aperece la ventana (headless=no visible)\n",
    "opciones.add_argument('--start-maximized')         # comienza maximizado\n",
    "#opciones.add_argument('user-data-dir=selenium')    # mantiene las cookies\n",
    "#opciones.add_extension('driver_folder/adblock.crx')       # adblocker\n",
    "opciones.add_argument('--incognito')"
   ]
  },
  {
   "cell_type": "code",
   "execution_count": 257,
   "metadata": {},
   "outputs": [],
   "source": [
    "from selenium.webdriver.common.by import By"
   ]
  },
  {
   "cell_type": "code",
   "execution_count": 4,
   "metadata": {},
   "outputs": [
    {
     "name": "stderr",
     "output_type": "stream",
     "text": [
      "/var/folders/94/v2x46p016qs_tyhzbgv7ywm40000gn/T/ipykernel_83013/1854830627.py:2: DeprecationWarning: executable_path has been deprecated, please pass in a Service object\n",
      "  driver = webdriver.Chrome(driver,options = opciones)\n"
     ]
    }
   ],
   "source": [
    "driver = ChromeDriverManager().install()#\"./chromedriver.exe\" #remember substitute this for your driver path\n",
    "driver = webdriver.Chrome(driver,options = opciones)"
   ]
  },
  {
   "cell_type": "markdown",
   "metadata": {},
   "source": [
    "----"
   ]
  },
  {
   "cell_type": "markdown",
   "metadata": {},
   "source": [
    "#### Download, parse, and print the content from the Trending Developers page from GitHub:"
   ]
  },
  {
   "cell_type": "markdown",
   "metadata": {},
   "source": [
    "--------"
   ]
  },
  {
   "cell_type": "code",
   "execution_count": 7,
   "metadata": {},
   "outputs": [],
   "source": [
    "import time \n",
    "import warnings\n",
    "warnings.filterwarnings('ignore')"
   ]
  },
  {
   "cell_type": "code",
   "execution_count": 5,
   "metadata": {},
   "outputs": [],
   "source": [
    "# This is the url you will scrape in this exercise\n",
    "url = 'https://github.com/trending/developers'"
   ]
  },
  {
   "cell_type": "code",
   "execution_count": 13,
   "metadata": {},
   "outputs": [
    {
     "data": {
      "text/plain": [
       "[<selenium.webdriver.remote.webelement.WebElement (session=\"5c028ecd00581747a5d40a91c77aa6ba\", element=\"91de9fd9-11ca-46a7-84fa-ce82aae1d440\")>,\n",
       " <selenium.webdriver.remote.webelement.WebElement (session=\"5c028ecd00581747a5d40a91c77aa6ba\", element=\"7741b86e-328b-400d-ae7c-5b5853c2edbc\")>,\n",
       " <selenium.webdriver.remote.webelement.WebElement (session=\"5c028ecd00581747a5d40a91c77aa6ba\", element=\"565af677-95a5-4df7-b885-8b0bd2efb3db\")>,\n",
       " <selenium.webdriver.remote.webelement.WebElement (session=\"5c028ecd00581747a5d40a91c77aa6ba\", element=\"078c51f3-83f9-40dd-8bff-9dac719cae1f\")>,\n",
       " <selenium.webdriver.remote.webelement.WebElement (session=\"5c028ecd00581747a5d40a91c77aa6ba\", element=\"9b6ebca1-51d8-4246-9c22-aae11cebbf5b\")>,\n",
       " <selenium.webdriver.remote.webelement.WebElement (session=\"5c028ecd00581747a5d40a91c77aa6ba\", element=\"f6d8b288-3a0f-41e6-9a0c-a96b08d6f512\")>,\n",
       " <selenium.webdriver.remote.webelement.WebElement (session=\"5c028ecd00581747a5d40a91c77aa6ba\", element=\"1b76f02e-508d-402f-8706-9f8928ff1a07\")>,\n",
       " <selenium.webdriver.remote.webelement.WebElement (session=\"5c028ecd00581747a5d40a91c77aa6ba\", element=\"a0896339-81fc-4884-8ed7-03b404589a4c\")>,\n",
       " <selenium.webdriver.remote.webelement.WebElement (session=\"5c028ecd00581747a5d40a91c77aa6ba\", element=\"8903025e-8471-46f8-9280-21773f35db8c\")>,\n",
       " <selenium.webdriver.remote.webelement.WebElement (session=\"5c028ecd00581747a5d40a91c77aa6ba\", element=\"a1771854-0dfb-4f20-b718-3932583be8e6\")>,\n",
       " <selenium.webdriver.remote.webelement.WebElement (session=\"5c028ecd00581747a5d40a91c77aa6ba\", element=\"3ef60fb8-8dc2-45a2-a59f-f40a2edaccca\")>,\n",
       " <selenium.webdriver.remote.webelement.WebElement (session=\"5c028ecd00581747a5d40a91c77aa6ba\", element=\"81a10653-dc64-4e36-9448-5c2eda770a17\")>,\n",
       " <selenium.webdriver.remote.webelement.WebElement (session=\"5c028ecd00581747a5d40a91c77aa6ba\", element=\"165d5c8b-b00a-4d38-882c-d4d1b99d9918\")>,\n",
       " <selenium.webdriver.remote.webelement.WebElement (session=\"5c028ecd00581747a5d40a91c77aa6ba\", element=\"8f3c2578-1bf6-4715-8a17-e1031934615f\")>,\n",
       " <selenium.webdriver.remote.webelement.WebElement (session=\"5c028ecd00581747a5d40a91c77aa6ba\", element=\"ec6e6829-0b27-4360-9138-1163b541aec8\")>,\n",
       " <selenium.webdriver.remote.webelement.WebElement (session=\"5c028ecd00581747a5d40a91c77aa6ba\", element=\"86e94c51-a968-44ee-9afa-42a7e9961ae3\")>,\n",
       " <selenium.webdriver.remote.webelement.WebElement (session=\"5c028ecd00581747a5d40a91c77aa6ba\", element=\"a3094434-a1b5-40f4-894b-933ee3da9105\")>,\n",
       " <selenium.webdriver.remote.webelement.WebElement (session=\"5c028ecd00581747a5d40a91c77aa6ba\", element=\"395579f7-eecc-4767-8ed2-0856f70c63fa\")>,\n",
       " <selenium.webdriver.remote.webelement.WebElement (session=\"5c028ecd00581747a5d40a91c77aa6ba\", element=\"dbfa274c-8892-4a3d-a7c4-3a6469092723\")>,\n",
       " <selenium.webdriver.remote.webelement.WebElement (session=\"5c028ecd00581747a5d40a91c77aa6ba\", element=\"16c5102e-bc3e-434e-bbd4-188c3f8cf09a\")>,\n",
       " <selenium.webdriver.remote.webelement.WebElement (session=\"5c028ecd00581747a5d40a91c77aa6ba\", element=\"91fb4caf-6521-4d59-b09f-a3cc450fe2f0\")>,\n",
       " <selenium.webdriver.remote.webelement.WebElement (session=\"5c028ecd00581747a5d40a91c77aa6ba\", element=\"422fd41d-8916-4daa-a6ee-0f47352c1bbf\")>,\n",
       " <selenium.webdriver.remote.webelement.WebElement (session=\"5c028ecd00581747a5d40a91c77aa6ba\", element=\"7762d21e-b69d-403f-b6cd-bc008ed97acf\")>,\n",
       " <selenium.webdriver.remote.webelement.WebElement (session=\"5c028ecd00581747a5d40a91c77aa6ba\", element=\"4ca4e773-5fdf-401d-b60a-c4507c3ebfd5\")>,\n",
       " <selenium.webdriver.remote.webelement.WebElement (session=\"5c028ecd00581747a5d40a91c77aa6ba\", element=\"687714a8-a17e-4dc4-8d40-4f0847abb4c4\")>]"
      ]
     },
     "execution_count": 13,
     "metadata": {},
     "output_type": "execute_result"
    }
   ],
   "source": [
    "#your code\n",
    "\n",
    "driver.get(url)\n",
    "\n",
    "test1= driver.find_elements(By.CLASS_NAME,'h3')\n",
    "\n",
    "test1"
   ]
  },
  {
   "cell_type": "code",
   "execution_count": 20,
   "metadata": {},
   "outputs": [
    {
     "data": {
      "text/plain": [
       "['Azure SDK Bot',\n",
       " 'Joshie',\n",
       " 'Ariel Mashraki',\n",
       " 'Tom Payne',\n",
       " 'RangiLyu',\n",
       " 'Vojtech Miksu',\n",
       " 'MichaIng',\n",
       " 'Jocelyn Badgley',\n",
       " 'Bas Nijholt',\n",
       " 'Steve Macenski',\n",
       " 'Ben Manes',\n",
       " 'Nathan Shively-Sanders',\n",
       " 'Matthew Leibowitz',\n",
       " 'Tim MacDonald',\n",
       " 'Dunsin',\n",
       " 'Sunil Pai',\n",
       " 'Costa Huang',\n",
       " 'Edward Z. Yang',\n",
       " 'Geshan Manandhar',\n",
       " 'Bram Gerritsen',\n",
       " 'James Lamb',\n",
       " 'Nolan Lawson',\n",
       " 'jdhao',\n",
       " 'J. Nick Koston',\n",
       " 'Alex Li']"
      ]
     },
     "execution_count": 20,
     "metadata": {},
     "output_type": "execute_result"
    }
   ],
   "source": [
    "lookfinal = [f.text.strip() for f in test1]\n",
    "lookfinal"
   ]
  },
  {
   "cell_type": "markdown",
   "metadata": {},
   "source": [
    "----"
   ]
  },
  {
   "cell_type": "markdown",
   "metadata": {},
   "source": [
    "#### Display the names of the trending developers retrieved in the previous step.\n",
    "\n",
    "Your output should be a Python list of developer names. Each name should not contain any html tag.\n",
    "\n",
    "**Instructions:**\n",
    "\n",
    "1. Find out the html tag and class names used for the developer names.\n",
    "\n",
    "1. Use string manipulation techniques to replace whitespaces and linebreaks (i.e. `\\n`) in the *text* of each html element. Use a list to store the clean names.\n",
    "\n",
    "1. Print the list of names.\n",
    "\n",
    "Your output should look like below:\n",
    "\n",
    "```\n",
    "['trimstray (@trimstray)',\n",
    " 'joewalnes (JoeWalnes)',\n",
    " 'charlax (Charles-AxelDein)',\n",
    " 'ForrestKnight (ForrestKnight)',\n",
    " 'revery-ui (revery-ui)',\n",
    " 'alibaba (Alibaba)',\n",
    " 'Microsoft (Microsoft)',\n",
    " 'github (GitHub)',\n",
    " 'facebook (Facebook)',\n",
    " 'boazsegev (Bo)',\n",
    " 'google (Google)',\n",
    " 'cloudfetch',\n",
    " 'sindresorhus (SindreSorhus)',\n",
    " 'tensorflow',\n",
    " 'apache (TheApacheSoftwareFoundation)',\n",
    " 'DevonCrawford (DevonCrawford)',\n",
    " 'ARMmbed (ArmMbed)',\n",
    " 'vuejs (vuejs)',\n",
    " 'fastai (fast.ai)',\n",
    " 'QiShaoXuan (Qi)',\n",
    " 'joelparkerhenderson (JoelParkerHenderson)',\n",
    " 'torvalds (LinusTorvalds)',\n",
    " 'CyC2018',\n",
    " 'komeiji-satori (神楽坂覚々)',\n",
    " 'script-8']\n",
    " ```"
   ]
  },
  {
   "cell_type": "code",
   "execution_count": null,
   "metadata": {},
   "outputs": [],
   "source": [
    "#your code\n",
    "\n"
   ]
  },
  {
   "cell_type": "markdown",
   "metadata": {},
   "source": [
    "#### Display the trending Python repositories in GitHub\n",
    "\n",
    "The steps to solve this problem is similar to the previous one except that you need to find out the repository names instead of developer names."
   ]
  },
  {
   "cell_type": "code",
   "execution_count": 22,
   "metadata": {},
   "outputs": [],
   "source": [
    "driver = ChromeDriverManager().install()#\"./chromedriver.exe\" #remember substitute this for your driver path\n",
    "driver = webdriver.Chrome(driver,options = opciones)"
   ]
  },
  {
   "cell_type": "code",
   "execution_count": 23,
   "metadata": {},
   "outputs": [],
   "source": [
    "# This is the url you will scrape in this exercise\n",
    "url2 = 'https://github.com/trending/python?since=daily'"
   ]
  },
  {
   "cell_type": "code",
   "execution_count": 25,
   "metadata": {},
   "outputs": [
    {
     "data": {
      "text/plain": [
       "[<selenium.webdriver.remote.webelement.WebElement (session=\"182314565fe892924b4357ea6ec5e255\", element=\"0a6bd779-c5d4-4b88-bac0-c6c91af760ac\")>,\n",
       " <selenium.webdriver.remote.webelement.WebElement (session=\"182314565fe892924b4357ea6ec5e255\", element=\"25a613ae-92d3-4659-b11c-611e0dd10faf\")>,\n",
       " <selenium.webdriver.remote.webelement.WebElement (session=\"182314565fe892924b4357ea6ec5e255\", element=\"24ea269a-2ffe-4ee8-b421-0a966da7da16\")>,\n",
       " <selenium.webdriver.remote.webelement.WebElement (session=\"182314565fe892924b4357ea6ec5e255\", element=\"c436000b-3a41-4ac4-9681-5dab4016f220\")>,\n",
       " <selenium.webdriver.remote.webelement.WebElement (session=\"182314565fe892924b4357ea6ec5e255\", element=\"92f3fd5d-bf82-4382-a6ea-2b08b8ca9c83\")>,\n",
       " <selenium.webdriver.remote.webelement.WebElement (session=\"182314565fe892924b4357ea6ec5e255\", element=\"825de99d-93de-499e-8261-1564370df9b0\")>,\n",
       " <selenium.webdriver.remote.webelement.WebElement (session=\"182314565fe892924b4357ea6ec5e255\", element=\"955225af-882b-4c53-9fa8-b3560901ff4d\")>,\n",
       " <selenium.webdriver.remote.webelement.WebElement (session=\"182314565fe892924b4357ea6ec5e255\", element=\"487e5491-5a0e-4808-b2e1-41c7e3d520e1\")>,\n",
       " <selenium.webdriver.remote.webelement.WebElement (session=\"182314565fe892924b4357ea6ec5e255\", element=\"1589b828-2c83-45c6-ad33-697899758f0f\")>,\n",
       " <selenium.webdriver.remote.webelement.WebElement (session=\"182314565fe892924b4357ea6ec5e255\", element=\"e628ab13-a6a3-4b7f-8701-7dc0be407c26\")>,\n",
       " <selenium.webdriver.remote.webelement.WebElement (session=\"182314565fe892924b4357ea6ec5e255\", element=\"18a01f3c-992e-4cb1-a40c-bf96804c46fc\")>,\n",
       " <selenium.webdriver.remote.webelement.WebElement (session=\"182314565fe892924b4357ea6ec5e255\", element=\"e5b5ad1c-6901-4736-a664-17f53b40e4ae\")>,\n",
       " <selenium.webdriver.remote.webelement.WebElement (session=\"182314565fe892924b4357ea6ec5e255\", element=\"4e841874-9745-4e7c-b843-0134b640ae90\")>,\n",
       " <selenium.webdriver.remote.webelement.WebElement (session=\"182314565fe892924b4357ea6ec5e255\", element=\"ea887d40-b022-4010-bbe4-49eafcba964c\")>,\n",
       " <selenium.webdriver.remote.webelement.WebElement (session=\"182314565fe892924b4357ea6ec5e255\", element=\"2891c215-3460-4f5c-879b-985a28f83888\")>,\n",
       " <selenium.webdriver.remote.webelement.WebElement (session=\"182314565fe892924b4357ea6ec5e255\", element=\"f237b198-95b6-4ed6-a651-ca744c5262d5\")>,\n",
       " <selenium.webdriver.remote.webelement.WebElement (session=\"182314565fe892924b4357ea6ec5e255\", element=\"a0864de3-87f7-4cfe-92ed-be00c694395d\")>,\n",
       " <selenium.webdriver.remote.webelement.WebElement (session=\"182314565fe892924b4357ea6ec5e255\", element=\"6c85e45e-cbd9-4173-aa09-dfa121593248\")>,\n",
       " <selenium.webdriver.remote.webelement.WebElement (session=\"182314565fe892924b4357ea6ec5e255\", element=\"8afb4b35-64ca-45b2-b36d-fb0d11bda494\")>,\n",
       " <selenium.webdriver.remote.webelement.WebElement (session=\"182314565fe892924b4357ea6ec5e255\", element=\"fe8f0f8a-1301-4a19-baeb-517174972202\")>,\n",
       " <selenium.webdriver.remote.webelement.WebElement (session=\"182314565fe892924b4357ea6ec5e255\", element=\"ae1ebe92-3218-4487-978a-0ad40a36e86a\")>,\n",
       " <selenium.webdriver.remote.webelement.WebElement (session=\"182314565fe892924b4357ea6ec5e255\", element=\"f857913c-df98-48a9-9a56-efa80b225e4e\")>,\n",
       " <selenium.webdriver.remote.webelement.WebElement (session=\"182314565fe892924b4357ea6ec5e255\", element=\"7e1af163-af57-40e7-ab8a-ff8d37a87ff1\")>,\n",
       " <selenium.webdriver.remote.webelement.WebElement (session=\"182314565fe892924b4357ea6ec5e255\", element=\"8e6452eb-9b97-4cec-a15b-aa00770cba3f\")>,\n",
       " <selenium.webdriver.remote.webelement.WebElement (session=\"182314565fe892924b4357ea6ec5e255\", element=\"9a0f8cc6-1458-453a-bb29-b8fcd7bb9090\")>]"
      ]
     },
     "execution_count": 25,
     "metadata": {},
     "output_type": "execute_result"
    }
   ],
   "source": [
    "#your code\n",
    "\n",
    "driver.get(url2)\n",
    "\n",
    "test2= driver.find_elements(By.CLASS_NAME,'h3')\n",
    "\n",
    "test2"
   ]
  },
  {
   "cell_type": "code",
   "execution_count": 29,
   "metadata": {},
   "outputs": [
    {
     "data": {
      "text/plain": [
       "[['bes-dev ', ' stable_diffusion.openvino'],\n",
       " ['hlky ', ' sd-enable-textual-inversion'],\n",
       " ['jackfrued ', ' Python-100-Days'],\n",
       " ['hlky ', ' stable-diffusion-webui'],\n",
       " ['k4yt3x ', ' video2x']]"
      ]
     },
     "execution_count": 29,
     "metadata": {},
     "output_type": "execute_result"
    }
   ],
   "source": [
    "lookfinal2 = [f.text.strip().split('/') for f in test2]\n",
    "lookfinal2[:5]"
   ]
  },
  {
   "cell_type": "code",
   "execution_count": null,
   "metadata": {},
   "outputs": [],
   "source": []
  },
  {
   "cell_type": "code",
   "execution_count": null,
   "metadata": {},
   "outputs": [],
   "source": []
  },
  {
   "cell_type": "markdown",
   "metadata": {},
   "source": [
    "---"
   ]
  },
  {
   "cell_type": "markdown",
   "metadata": {},
   "source": [
    "#### Display all the image links from Walt Disney wikipedia page"
   ]
  },
  {
   "cell_type": "markdown",
   "metadata": {},
   "source": [
    "----"
   ]
  },
  {
   "cell_type": "code",
   "execution_count": 30,
   "metadata": {},
   "outputs": [],
   "source": [
    "\n",
    "driver = ChromeDriverManager().install()#\"./chromedriver.exe\" #remember substitute this for your driver path\n",
    "driver = webdriver.Chrome(driver,options = opciones)"
   ]
  },
  {
   "cell_type": "code",
   "execution_count": 117,
   "metadata": {},
   "outputs": [],
   "source": [
    "# This is the url you will scrape in this exercise\n",
    "url3 = 'https://en.wikipedia.org/wiki/Walt_Disney'"
   ]
  },
  {
   "cell_type": "code",
   "execution_count": 118,
   "metadata": {},
   "outputs": [
    {
     "data": {
      "text/plain": [
       "[<selenium.webdriver.remote.webelement.WebElement (session=\"24e6442796ff7271b6fc31aa5d5722d5\", element=\"8760a6c6-0bed-46bf-bd0c-fb418d7c6827\")>,\n",
       " <selenium.webdriver.remote.webelement.WebElement (session=\"24e6442796ff7271b6fc31aa5d5722d5\", element=\"53586267-a4b1-4461-84c6-1597e63844d1\")>,\n",
       " <selenium.webdriver.remote.webelement.WebElement (session=\"24e6442796ff7271b6fc31aa5d5722d5\", element=\"3df565dc-34a1-45e2-ba29-dde6ade49799\")>,\n",
       " <selenium.webdriver.remote.webelement.WebElement (session=\"24e6442796ff7271b6fc31aa5d5722d5\", element=\"683dc776-329d-4983-bf89-b0081a02dfd8\")>,\n",
       " <selenium.webdriver.remote.webelement.WebElement (session=\"24e6442796ff7271b6fc31aa5d5722d5\", element=\"e65ed674-d0a7-49b1-9003-ed9f9f6dca63\")>,\n",
       " <selenium.webdriver.remote.webelement.WebElement (session=\"24e6442796ff7271b6fc31aa5d5722d5\", element=\"d728d4b2-3785-42ca-b619-846be1ceca03\")>,\n",
       " <selenium.webdriver.remote.webelement.WebElement (session=\"24e6442796ff7271b6fc31aa5d5722d5\", element=\"a900ca66-312b-4289-91af-9a244f3711fb\")>,\n",
       " <selenium.webdriver.remote.webelement.WebElement (session=\"24e6442796ff7271b6fc31aa5d5722d5\", element=\"e3cc8ca6-0cfa-4ffc-8a52-14fd38805264\")>,\n",
       " <selenium.webdriver.remote.webelement.WebElement (session=\"24e6442796ff7271b6fc31aa5d5722d5\", element=\"71db11ea-183e-4198-8296-a549fee172e1\")>,\n",
       " <selenium.webdriver.remote.webelement.WebElement (session=\"24e6442796ff7271b6fc31aa5d5722d5\", element=\"d54274fd-d278-4e6a-a288-3c63123862d3\")>,\n",
       " <selenium.webdriver.remote.webelement.WebElement (session=\"24e6442796ff7271b6fc31aa5d5722d5\", element=\"eb0fda56-4b74-41d9-ba5f-ba2614a09d2a\")>,\n",
       " <selenium.webdriver.remote.webelement.WebElement (session=\"24e6442796ff7271b6fc31aa5d5722d5\", element=\"533c9121-9f4d-48cb-807f-79fbf0b99355\")>,\n",
       " <selenium.webdriver.remote.webelement.WebElement (session=\"24e6442796ff7271b6fc31aa5d5722d5\", element=\"ef3bcaf3-0a9e-47c1-aaf5-0f67a4b6a676\")>,\n",
       " <selenium.webdriver.remote.webelement.WebElement (session=\"24e6442796ff7271b6fc31aa5d5722d5\", element=\"73cf2f8c-aeff-4b09-8f09-1032f41dea9e\")>,\n",
       " <selenium.webdriver.remote.webelement.WebElement (session=\"24e6442796ff7271b6fc31aa5d5722d5\", element=\"7ea6ff47-f4d2-4a6e-b545-60da9abd2f8e\")>,\n",
       " <selenium.webdriver.remote.webelement.WebElement (session=\"24e6442796ff7271b6fc31aa5d5722d5\", element=\"d2afabb3-ff5c-4e33-b15d-b19ee2d06ada\")>,\n",
       " <selenium.webdriver.remote.webelement.WebElement (session=\"24e6442796ff7271b6fc31aa5d5722d5\", element=\"ddf030fb-f834-47da-8af5-8826d69cc8ff\")>,\n",
       " <selenium.webdriver.remote.webelement.WebElement (session=\"24e6442796ff7271b6fc31aa5d5722d5\", element=\"a61a7dd5-70e1-4689-8a49-627bb983394f\")>,\n",
       " <selenium.webdriver.remote.webelement.WebElement (session=\"24e6442796ff7271b6fc31aa5d5722d5\", element=\"5cefc7ad-a251-496e-9d8f-25c78c4bc0ec\")>,\n",
       " <selenium.webdriver.remote.webelement.WebElement (session=\"24e6442796ff7271b6fc31aa5d5722d5\", element=\"59f107c4-c2ff-4046-a7cb-9432a69683b4\")>]"
      ]
     },
     "execution_count": 118,
     "metadata": {},
     "output_type": "execute_result"
    }
   ],
   "source": [
    "#your code\n",
    "driver.get(url3)\n",
    "\n",
    "test2= driver.find_elements(By.CLASS_NAME,'image')\n",
    "test2\n"
   ]
  },
  {
   "cell_type": "code",
   "execution_count": 120,
   "metadata": {},
   "outputs": [
    {
     "data": {
      "text/plain": [
       "['https://en.wikipedia.org/wiki/File:Walt_Disney_1946.JPG',\n",
       " 'https://en.wikipedia.org/wiki/File:Walt_Disney_1942_signature.svg',\n",
       " 'https://en.wikipedia.org/wiki/File:Walt_Disney_Birthplace_Exterior_Hermosa_Chicago_Illinois.jpg',\n",
       " 'https://en.wikipedia.org/wiki/File:Walt_Disney_envelope_ca._1921.jpg',\n",
       " 'https://en.wikipedia.org/wiki/File:Trolley_Troubles_poster.jpg',\n",
       " 'https://en.wikipedia.org/wiki/File:Steamboat-willie.jpg',\n",
       " 'https://en.wikipedia.org/wiki/File:Walt_Disney_1935.jpg',\n",
       " 'https://en.wikipedia.org/wiki/File:Walt_Disney_Snow_white_1937_trailer_screenshot_(13).jpg',\n",
       " 'https://en.wikipedia.org/wiki/File:Disney_drawing_goofy.jpg',\n",
       " 'https://en.wikipedia.org/wiki/File:WaltDisneyplansDisneylandDec1954.jpg',\n",
       " 'https://en.wikipedia.org/wiki/File:Walt_disney_portrait_right.jpg',\n",
       " 'https://en.wikipedia.org/wiki/File:DisneySchiphol1951.jpg',\n",
       " 'https://en.wikipedia.org/wiki/File:Walt_Disney_Grave.JPG',\n",
       " 'https://en.wikipedia.org/wiki/File:Roy_O._Disney_with_Company_at_Press_Conference.jpg',\n",
       " 'https://en.wikipedia.org/wiki/File:Disney_Oscar_1953_(cropped).jpg',\n",
       " 'https://en.wikipedia.org/wiki/File:Disney1968.jpg',\n",
       " 'https://en.wikipedia.org/wiki/File:Disneyland_Resort_logo.svg',\n",
       " 'https://en.wikipedia.org/wiki/File:Animation_disc.svg',\n",
       " 'https://en.wikipedia.org/wiki/File:Magic_Kingdom_castle.jpg',\n",
       " 'https://en.wikipedia.org/wiki/File:Blank_television_set.svg']"
      ]
     },
     "execution_count": 120,
     "metadata": {},
     "output_type": "execute_result"
    }
   ],
   "source": [
    "lookfinal4 = [e.get_attribute('href') for e in driver.find_elements(By.CLASS_NAME, 'image')]\n",
    "lookfinal4"
   ]
  },
  {
   "cell_type": "markdown",
   "metadata": {},
   "source": [
    "---"
   ]
  },
  {
   "cell_type": "markdown",
   "metadata": {},
   "source": [
    "#### Retrieve an arbitary Wikipedia page of \"Python\" and create a list of links on that page"
   ]
  },
  {
   "cell_type": "markdown",
   "metadata": {},
   "source": [
    "---"
   ]
  },
  {
   "cell_type": "code",
   "execution_count": 128,
   "metadata": {},
   "outputs": [],
   "source": [
    "driver = ChromeDriverManager().install()#\"./chromedriver.exe\" #remember substitute this for your driver path\n",
    "driver = webdriver.Chrome(driver,options = opciones)"
   ]
  },
  {
   "cell_type": "code",
   "execution_count": 129,
   "metadata": {},
   "outputs": [],
   "source": [
    "# This is the url you will scrape in this exercise\n",
    "url5 ='https://en.wikipedia.org/wiki/Python' "
   ]
  },
  {
   "cell_type": "code",
   "execution_count": 135,
   "metadata": {},
   "outputs": [
    {
     "data": {
      "text/plain": [
       "[<selenium.webdriver.remote.webelement.WebElement (session=\"9e65912bb985a0cc43edf948a895d5df\", element=\"7b4c9ba9-6824-4d09-b0c0-ef31a23a2bc4\")>,\n",
       " <selenium.webdriver.remote.webelement.WebElement (session=\"9e65912bb985a0cc43edf948a895d5df\", element=\"43fdb915-bf0f-4911-80fe-b34ce672eac6\")>,\n",
       " <selenium.webdriver.remote.webelement.WebElement (session=\"9e65912bb985a0cc43edf948a895d5df\", element=\"12cba061-d504-41be-8d76-880f1bc53848\")>,\n",
       " <selenium.webdriver.remote.webelement.WebElement (session=\"9e65912bb985a0cc43edf948a895d5df\", element=\"bfbcab02-2154-4543-91c8-9eed05d0dfb4\")>,\n",
       " <selenium.webdriver.remote.webelement.WebElement (session=\"9e65912bb985a0cc43edf948a895d5df\", element=\"5ad0a6d2-1e5c-4914-8d2d-a3c1d9da9053\")>,\n",
       " <selenium.webdriver.remote.webelement.WebElement (session=\"9e65912bb985a0cc43edf948a895d5df\", element=\"502ba449-dbcf-4cff-a89e-d130e9e0795c\")>,\n",
       " <selenium.webdriver.remote.webelement.WebElement (session=\"9e65912bb985a0cc43edf948a895d5df\", element=\"49b55f29-a74b-47ca-8f3b-3d076bb3ab02\")>,\n",
       " <selenium.webdriver.remote.webelement.WebElement (session=\"9e65912bb985a0cc43edf948a895d5df\", element=\"c26b5151-4328-42a1-96ed-b5f6dca1c003\")>,\n",
       " <selenium.webdriver.remote.webelement.WebElement (session=\"9e65912bb985a0cc43edf948a895d5df\", element=\"3741d1fa-2f73-4083-b1ad-b8e7336515d3\")>,\n",
       " <selenium.webdriver.remote.webelement.WebElement (session=\"9e65912bb985a0cc43edf948a895d5df\", element=\"cd62b394-2998-4bb1-b832-0ccbb11a2044\")>,\n",
       " <selenium.webdriver.remote.webelement.WebElement (session=\"9e65912bb985a0cc43edf948a895d5df\", element=\"5c3e9367-d8c0-476b-bf1b-a67d387a9c62\")>,\n",
       " <selenium.webdriver.remote.webelement.WebElement (session=\"9e65912bb985a0cc43edf948a895d5df\", element=\"52a5f665-6f1b-4d83-ab44-ca14dd8d579b\")>,\n",
       " <selenium.webdriver.remote.webelement.WebElement (session=\"9e65912bb985a0cc43edf948a895d5df\", element=\"410e2fd9-ad84-4f3f-aee6-824d10eef13f\")>,\n",
       " <selenium.webdriver.remote.webelement.WebElement (session=\"9e65912bb985a0cc43edf948a895d5df\", element=\"698ee1f1-32ef-4f45-8ccf-f0cc6722c7fe\")>,\n",
       " <selenium.webdriver.remote.webelement.WebElement (session=\"9e65912bb985a0cc43edf948a895d5df\", element=\"85b17300-f0dc-430f-aa2e-63fed4cfeaae\")>,\n",
       " <selenium.webdriver.remote.webelement.WebElement (session=\"9e65912bb985a0cc43edf948a895d5df\", element=\"5b4baa29-b25b-4d00-82db-d14de1948d3a\")>,\n",
       " <selenium.webdriver.remote.webelement.WebElement (session=\"9e65912bb985a0cc43edf948a895d5df\", element=\"a8f75e30-277e-4bfb-985a-0f4d537fad39\")>,\n",
       " <selenium.webdriver.remote.webelement.WebElement (session=\"9e65912bb985a0cc43edf948a895d5df\", element=\"25473190-2810-418f-9849-930a8be55534\")>,\n",
       " <selenium.webdriver.remote.webelement.WebElement (session=\"9e65912bb985a0cc43edf948a895d5df\", element=\"bc99b096-9470-4954-b9d0-975e6ae260c4\")>,\n",
       " <selenium.webdriver.remote.webelement.WebElement (session=\"9e65912bb985a0cc43edf948a895d5df\", element=\"605c2267-7aef-47ad-8b03-a0b785982614\")>,\n",
       " <selenium.webdriver.remote.webelement.WebElement (session=\"9e65912bb985a0cc43edf948a895d5df\", element=\"a711ba6b-9dcd-4c77-b7fa-fd473c077a33\")>,\n",
       " <selenium.webdriver.remote.webelement.WebElement (session=\"9e65912bb985a0cc43edf948a895d5df\", element=\"62fc7011-4ffd-40ca-a602-265b71615beb\")>,\n",
       " <selenium.webdriver.remote.webelement.WebElement (session=\"9e65912bb985a0cc43edf948a895d5df\", element=\"e475252b-29af-4437-9c7f-8fcebd03f52d\")>,\n",
       " <selenium.webdriver.remote.webelement.WebElement (session=\"9e65912bb985a0cc43edf948a895d5df\", element=\"de679472-5f8c-4c9c-8179-72a4e225dee3\")>,\n",
       " <selenium.webdriver.remote.webelement.WebElement (session=\"9e65912bb985a0cc43edf948a895d5df\", element=\"6540e957-5638-431b-9bb7-e854405124af\")>,\n",
       " <selenium.webdriver.remote.webelement.WebElement (session=\"9e65912bb985a0cc43edf948a895d5df\", element=\"1c330f00-6294-47ca-b894-3f2485e369af\")>,\n",
       " <selenium.webdriver.remote.webelement.WebElement (session=\"9e65912bb985a0cc43edf948a895d5df\", element=\"44fd4b1d-6a2d-459c-94c2-b15113f1c891\")>,\n",
       " <selenium.webdriver.remote.webelement.WebElement (session=\"9e65912bb985a0cc43edf948a895d5df\", element=\"633e3c50-d4bd-4ae1-94f7-956e8f477b31\")>,\n",
       " <selenium.webdriver.remote.webelement.WebElement (session=\"9e65912bb985a0cc43edf948a895d5df\", element=\"b1ce6479-c9ab-42f5-9b2e-f1aeacc01a61\")>,\n",
       " <selenium.webdriver.remote.webelement.WebElement (session=\"9e65912bb985a0cc43edf948a895d5df\", element=\"7abcd388-31ee-474a-af20-6cbaae0df3c7\")>,\n",
       " <selenium.webdriver.remote.webelement.WebElement (session=\"9e65912bb985a0cc43edf948a895d5df\", element=\"2e17ab11-4054-48e3-8323-41ea51276e07\")>,\n",
       " <selenium.webdriver.remote.webelement.WebElement (session=\"9e65912bb985a0cc43edf948a895d5df\", element=\"3a118354-9f37-410d-953c-b50a8c42396d\")>,\n",
       " <selenium.webdriver.remote.webelement.WebElement (session=\"9e65912bb985a0cc43edf948a895d5df\", element=\"581a72c9-6b6f-4a72-bb51-74d046f1b358\")>,\n",
       " <selenium.webdriver.remote.webelement.WebElement (session=\"9e65912bb985a0cc43edf948a895d5df\", element=\"6fd4d30b-0ff0-44e9-9fa9-0a0ed97005c9\")>,\n",
       " <selenium.webdriver.remote.webelement.WebElement (session=\"9e65912bb985a0cc43edf948a895d5df\", element=\"6f3afe84-031a-4d42-90e2-07bf14ae751b\")>,\n",
       " <selenium.webdriver.remote.webelement.WebElement (session=\"9e65912bb985a0cc43edf948a895d5df\", element=\"dd4b157e-ba81-49cc-88d1-b67f9c6d9e76\")>,\n",
       " <selenium.webdriver.remote.webelement.WebElement (session=\"9e65912bb985a0cc43edf948a895d5df\", element=\"46fd4f1b-3bd3-438a-940c-f9521b0bc980\")>,\n",
       " <selenium.webdriver.remote.webelement.WebElement (session=\"9e65912bb985a0cc43edf948a895d5df\", element=\"8f065746-4ffa-4cae-bc63-ec6b11cd0130\")>,\n",
       " <selenium.webdriver.remote.webelement.WebElement (session=\"9e65912bb985a0cc43edf948a895d5df\", element=\"332ec221-71af-4d61-a986-40e3dfa0f41e\")>,\n",
       " <selenium.webdriver.remote.webelement.WebElement (session=\"9e65912bb985a0cc43edf948a895d5df\", element=\"06d202df-8cc6-4d7a-86ea-d1db4f737b3c\")>,\n",
       " <selenium.webdriver.remote.webelement.WebElement (session=\"9e65912bb985a0cc43edf948a895d5df\", element=\"e873c887-6ee3-4bc9-b4ae-c482dad87be8\")>,\n",
       " <selenium.webdriver.remote.webelement.WebElement (session=\"9e65912bb985a0cc43edf948a895d5df\", element=\"17a6a629-2004-421f-948d-1a1d04cc6629\")>,\n",
       " <selenium.webdriver.remote.webelement.WebElement (session=\"9e65912bb985a0cc43edf948a895d5df\", element=\"7978ff8f-ddf7-4db3-8668-3047babeefb4\")>,\n",
       " <selenium.webdriver.remote.webelement.WebElement (session=\"9e65912bb985a0cc43edf948a895d5df\", element=\"d111bd80-9f8b-4f6e-8b94-6183c3a59c8e\")>,\n",
       " <selenium.webdriver.remote.webelement.WebElement (session=\"9e65912bb985a0cc43edf948a895d5df\", element=\"4f5ff0e0-2519-4d81-86ba-b17b3e47815b\")>,\n",
       " <selenium.webdriver.remote.webelement.WebElement (session=\"9e65912bb985a0cc43edf948a895d5df\", element=\"f0679380-8aa6-48b4-83ef-c77f4f8566fd\")>,\n",
       " <selenium.webdriver.remote.webelement.WebElement (session=\"9e65912bb985a0cc43edf948a895d5df\", element=\"07e165cc-d0f0-4f6e-967e-1085717e9360\")>,\n",
       " <selenium.webdriver.remote.webelement.WebElement (session=\"9e65912bb985a0cc43edf948a895d5df\", element=\"8e79c763-71e0-4764-b720-382883a3d04e\")>,\n",
       " <selenium.webdriver.remote.webelement.WebElement (session=\"9e65912bb985a0cc43edf948a895d5df\", element=\"28ce42e2-00f3-429c-969c-70cb331cb876\")>,\n",
       " <selenium.webdriver.remote.webelement.WebElement (session=\"9e65912bb985a0cc43edf948a895d5df\", element=\"d59f34c4-5e6b-4bbb-97a5-9ae9a3ec6cc8\")>,\n",
       " <selenium.webdriver.remote.webelement.WebElement (session=\"9e65912bb985a0cc43edf948a895d5df\", element=\"da4291b0-332e-419d-969c-318dc5cb83c2\")>,\n",
       " <selenium.webdriver.remote.webelement.WebElement (session=\"9e65912bb985a0cc43edf948a895d5df\", element=\"8138dfe4-eb3b-40f7-b259-9a6b48cec2ca\")>,\n",
       " <selenium.webdriver.remote.webelement.WebElement (session=\"9e65912bb985a0cc43edf948a895d5df\", element=\"cd6e342a-ef0b-4046-abaf-ca7825980d3c\")>,\n",
       " <selenium.webdriver.remote.webelement.WebElement (session=\"9e65912bb985a0cc43edf948a895d5df\", element=\"d310a82f-41f2-48c9-ae9e-c29ff74dfb05\")>,\n",
       " <selenium.webdriver.remote.webelement.WebElement (session=\"9e65912bb985a0cc43edf948a895d5df\", element=\"7c0f3b66-c8ef-4902-9e99-bc7d317c24e2\")>,\n",
       " <selenium.webdriver.remote.webelement.WebElement (session=\"9e65912bb985a0cc43edf948a895d5df\", element=\"649f8320-7b4e-4f04-bc3a-d08fd6f8cb06\")>,\n",
       " <selenium.webdriver.remote.webelement.WebElement (session=\"9e65912bb985a0cc43edf948a895d5df\", element=\"d8445971-9358-4518-9e45-9ba1d0c5fd6f\")>,\n",
       " <selenium.webdriver.remote.webelement.WebElement (session=\"9e65912bb985a0cc43edf948a895d5df\", element=\"f7397095-0a55-476e-84ef-d6ac61319e32\")>,\n",
       " <selenium.webdriver.remote.webelement.WebElement (session=\"9e65912bb985a0cc43edf948a895d5df\", element=\"cf105ff3-43b3-477b-8873-5d5547fa94d0\")>,\n",
       " <selenium.webdriver.remote.webelement.WebElement (session=\"9e65912bb985a0cc43edf948a895d5df\", element=\"a2361875-1082-4b36-ad91-56e81182c052\")>,\n",
       " <selenium.webdriver.remote.webelement.WebElement (session=\"9e65912bb985a0cc43edf948a895d5df\", element=\"37673593-79ba-415c-8e85-52e69bace067\")>,\n",
       " <selenium.webdriver.remote.webelement.WebElement (session=\"9e65912bb985a0cc43edf948a895d5df\", element=\"d7adf1a9-67d0-402c-9819-29c31accd35c\")>,\n",
       " <selenium.webdriver.remote.webelement.WebElement (session=\"9e65912bb985a0cc43edf948a895d5df\", element=\"d1c1a0fb-ea70-4d33-90d3-0aad291e2aab\")>,\n",
       " <selenium.webdriver.remote.webelement.WebElement (session=\"9e65912bb985a0cc43edf948a895d5df\", element=\"cd86aaa6-6e47-4861-a8ac-1109da53c7da\")>,\n",
       " <selenium.webdriver.remote.webelement.WebElement (session=\"9e65912bb985a0cc43edf948a895d5df\", element=\"4fabc913-4815-4f5b-b8c7-3a2dea8fa04b\")>,\n",
       " <selenium.webdriver.remote.webelement.WebElement (session=\"9e65912bb985a0cc43edf948a895d5df\", element=\"15b236b3-a432-470a-9d97-58facbf513f3\")>,\n",
       " <selenium.webdriver.remote.webelement.WebElement (session=\"9e65912bb985a0cc43edf948a895d5df\", element=\"0793da13-7150-4265-9d83-7337d8a83065\")>,\n",
       " <selenium.webdriver.remote.webelement.WebElement (session=\"9e65912bb985a0cc43edf948a895d5df\", element=\"4c61146a-87a5-4a84-80d2-015c6b69c600\")>,\n",
       " <selenium.webdriver.remote.webelement.WebElement (session=\"9e65912bb985a0cc43edf948a895d5df\", element=\"8afa4f8d-2d41-405c-a296-9070b9c4bf3f\")>,\n",
       " <selenium.webdriver.remote.webelement.WebElement (session=\"9e65912bb985a0cc43edf948a895d5df\", element=\"1e2deba8-7ecc-4d1c-b684-967650a4b21f\")>,\n",
       " <selenium.webdriver.remote.webelement.WebElement (session=\"9e65912bb985a0cc43edf948a895d5df\", element=\"092bc637-71fb-4a16-acf1-76608639452c\")>,\n",
       " <selenium.webdriver.remote.webelement.WebElement (session=\"9e65912bb985a0cc43edf948a895d5df\", element=\"326d0c67-6fda-4bc0-8a67-94d5ff65470b\")>,\n",
       " <selenium.webdriver.remote.webelement.WebElement (session=\"9e65912bb985a0cc43edf948a895d5df\", element=\"518d1416-cf0d-4a05-a403-58c2b9614686\")>,\n",
       " <selenium.webdriver.remote.webelement.WebElement (session=\"9e65912bb985a0cc43edf948a895d5df\", element=\"e0258848-30e1-473d-8f9b-2ebac44761df\")>,\n",
       " <selenium.webdriver.remote.webelement.WebElement (session=\"9e65912bb985a0cc43edf948a895d5df\", element=\"7f1cc137-93ac-461b-81eb-60b08582998e\")>,\n",
       " <selenium.webdriver.remote.webelement.WebElement (session=\"9e65912bb985a0cc43edf948a895d5df\", element=\"ade8a36b-9bd0-4f28-a392-4b9c7430dd1b\")>,\n",
       " <selenium.webdriver.remote.webelement.WebElement (session=\"9e65912bb985a0cc43edf948a895d5df\", element=\"8b72b1ef-e0b7-437c-942f-0d0a2bf4ccdc\")>,\n",
       " <selenium.webdriver.remote.webelement.WebElement (session=\"9e65912bb985a0cc43edf948a895d5df\", element=\"96ea62a3-dc9a-469d-af83-86640c4a5e74\")>,\n",
       " <selenium.webdriver.remote.webelement.WebElement (session=\"9e65912bb985a0cc43edf948a895d5df\", element=\"0971bfcf-7a61-45e5-b9a3-0b851d2bfb11\")>,\n",
       " <selenium.webdriver.remote.webelement.WebElement (session=\"9e65912bb985a0cc43edf948a895d5df\", element=\"a2b16b9b-0455-4a97-b4b3-a03262f14aa4\")>,\n",
       " <selenium.webdriver.remote.webelement.WebElement (session=\"9e65912bb985a0cc43edf948a895d5df\", element=\"134f1cbd-ce24-49c0-9428-2b5045c45275\")>,\n",
       " <selenium.webdriver.remote.webelement.WebElement (session=\"9e65912bb985a0cc43edf948a895d5df\", element=\"13127322-2df4-429e-8492-ae432be8884c\")>,\n",
       " <selenium.webdriver.remote.webelement.WebElement (session=\"9e65912bb985a0cc43edf948a895d5df\", element=\"8b2d9628-f039-420f-b820-19c0751fd93f\")>,\n",
       " <selenium.webdriver.remote.webelement.WebElement (session=\"9e65912bb985a0cc43edf948a895d5df\", element=\"bc41e5fe-d993-4064-85f8-cba854627d33\")>,\n",
       " <selenium.webdriver.remote.webelement.WebElement (session=\"9e65912bb985a0cc43edf948a895d5df\", element=\"5e7915ea-1833-4052-8db9-c3bd4144d2c8\")>,\n",
       " <selenium.webdriver.remote.webelement.WebElement (session=\"9e65912bb985a0cc43edf948a895d5df\", element=\"0f612dfd-ab8c-4805-9a10-ad51a88ced03\")>,\n",
       " <selenium.webdriver.remote.webelement.WebElement (session=\"9e65912bb985a0cc43edf948a895d5df\", element=\"a5a5ffd1-65d0-461f-bf3b-94f03102fc31\")>,\n",
       " <selenium.webdriver.remote.webelement.WebElement (session=\"9e65912bb985a0cc43edf948a895d5df\", element=\"8c2d43e9-3181-4ca5-82eb-573e5aa2589d\")>,\n",
       " <selenium.webdriver.remote.webelement.WebElement (session=\"9e65912bb985a0cc43edf948a895d5df\", element=\"ba78221c-c676-4292-a993-f8ce96d4de68\")>,\n",
       " <selenium.webdriver.remote.webelement.WebElement (session=\"9e65912bb985a0cc43edf948a895d5df\", element=\"4d4bde06-072b-4aac-a483-5c05b67d3702\")>,\n",
       " <selenium.webdriver.remote.webelement.WebElement (session=\"9e65912bb985a0cc43edf948a895d5df\", element=\"1dfebac4-4da5-41b6-9862-5cdfdc49e6c2\")>,\n",
       " <selenium.webdriver.remote.webelement.WebElement (session=\"9e65912bb985a0cc43edf948a895d5df\", element=\"821070c9-b8db-4c95-a47d-3ce6d483edae\")>,\n",
       " <selenium.webdriver.remote.webelement.WebElement (session=\"9e65912bb985a0cc43edf948a895d5df\", element=\"0c47a93c-8936-46e3-bca5-379e2dba5718\")>,\n",
       " <selenium.webdriver.remote.webelement.WebElement (session=\"9e65912bb985a0cc43edf948a895d5df\", element=\"794ace6e-0fef-49bd-99d5-1fa1beb42234\")>,\n",
       " <selenium.webdriver.remote.webelement.WebElement (session=\"9e65912bb985a0cc43edf948a895d5df\", element=\"d6eb80ff-dd79-4c66-8444-a08d4cd3f929\")>,\n",
       " <selenium.webdriver.remote.webelement.WebElement (session=\"9e65912bb985a0cc43edf948a895d5df\", element=\"2f7f9b01-1a03-4585-8959-57cde6041d5d\")>,\n",
       " <selenium.webdriver.remote.webelement.WebElement (session=\"9e65912bb985a0cc43edf948a895d5df\", element=\"7420379f-3e67-4fa0-b87c-a10c7765b902\")>,\n",
       " <selenium.webdriver.remote.webelement.WebElement (session=\"9e65912bb985a0cc43edf948a895d5df\", element=\"27723ba3-e096-416a-a6a3-27a9a1103b8b\")>,\n",
       " <selenium.webdriver.remote.webelement.WebElement (session=\"9e65912bb985a0cc43edf948a895d5df\", element=\"acfe9159-587f-41ad-864f-a01a82d76251\")>,\n",
       " <selenium.webdriver.remote.webelement.WebElement (session=\"9e65912bb985a0cc43edf948a895d5df\", element=\"279d0b34-29cf-45b7-b025-ab882511f806\")>,\n",
       " <selenium.webdriver.remote.webelement.WebElement (session=\"9e65912bb985a0cc43edf948a895d5df\", element=\"0edd7c2b-b6ba-45a8-8780-e89194ac852f\")>,\n",
       " <selenium.webdriver.remote.webelement.WebElement (session=\"9e65912bb985a0cc43edf948a895d5df\", element=\"2f8eccda-3113-4352-8fb2-4d90e48e0296\")>,\n",
       " <selenium.webdriver.remote.webelement.WebElement (session=\"9e65912bb985a0cc43edf948a895d5df\", element=\"1883fdcc-bc90-41ce-8afb-a378aeb5cc4f\")>,\n",
       " <selenium.webdriver.remote.webelement.WebElement (session=\"9e65912bb985a0cc43edf948a895d5df\", element=\"97e0dd21-09c9-4586-ba32-536d9232affb\")>,\n",
       " <selenium.webdriver.remote.webelement.WebElement (session=\"9e65912bb985a0cc43edf948a895d5df\", element=\"807192ff-eb21-4152-b99f-011d4519ffee\")>,\n",
       " <selenium.webdriver.remote.webelement.WebElement (session=\"9e65912bb985a0cc43edf948a895d5df\", element=\"2861496a-3499-408f-ae27-556e5dec196e\")>,\n",
       " <selenium.webdriver.remote.webelement.WebElement (session=\"9e65912bb985a0cc43edf948a895d5df\", element=\"6c6d9a31-1cd2-4b82-b1a1-89a1a182f34d\")>,\n",
       " <selenium.webdriver.remote.webelement.WebElement (session=\"9e65912bb985a0cc43edf948a895d5df\", element=\"526ac13c-a41f-4fbc-b727-e09e5111e935\")>,\n",
       " <selenium.webdriver.remote.webelement.WebElement (session=\"9e65912bb985a0cc43edf948a895d5df\", element=\"f3d7d9de-edac-4de6-a3b6-2197c06e6d98\")>,\n",
       " <selenium.webdriver.remote.webelement.WebElement (session=\"9e65912bb985a0cc43edf948a895d5df\", element=\"1a58aad1-33e2-4dfa-af00-3f800238b9be\")>,\n",
       " <selenium.webdriver.remote.webelement.WebElement (session=\"9e65912bb985a0cc43edf948a895d5df\", element=\"fd58f22d-a53e-4af9-b9cd-18628c439429\")>,\n",
       " <selenium.webdriver.remote.webelement.WebElement (session=\"9e65912bb985a0cc43edf948a895d5df\", element=\"ee7b1d3f-52cf-4723-89e7-6b2cde3e0c27\")>,\n",
       " <selenium.webdriver.remote.webelement.WebElement (session=\"9e65912bb985a0cc43edf948a895d5df\", element=\"efd76340-fa83-412f-9b4d-49c3447e04a7\")>,\n",
       " <selenium.webdriver.remote.webelement.WebElement (session=\"9e65912bb985a0cc43edf948a895d5df\", element=\"3a5fde2c-47ac-456a-8974-10ae4e859285\")>,\n",
       " <selenium.webdriver.remote.webelement.WebElement (session=\"9e65912bb985a0cc43edf948a895d5df\", element=\"ed484ab4-7dbf-4e6c-a1bf-280ee996a858\")>,\n",
       " <selenium.webdriver.remote.webelement.WebElement (session=\"9e65912bb985a0cc43edf948a895d5df\", element=\"f3f5c7d4-0be1-4a0b-8648-a5d1377be1cf\")>,\n",
       " <selenium.webdriver.remote.webelement.WebElement (session=\"9e65912bb985a0cc43edf948a895d5df\", element=\"29213727-65b1-4009-8a68-ffb605c57c57\")>,\n",
       " <selenium.webdriver.remote.webelement.WebElement (session=\"9e65912bb985a0cc43edf948a895d5df\", element=\"afb1a0d0-f21b-4ed9-aa67-5aee05f490e0\")>,\n",
       " <selenium.webdriver.remote.webelement.WebElement (session=\"9e65912bb985a0cc43edf948a895d5df\", element=\"978a2a2c-a4d9-4fc9-a5fd-5385a31646c4\")>,\n",
       " <selenium.webdriver.remote.webelement.WebElement (session=\"9e65912bb985a0cc43edf948a895d5df\", element=\"ebc904f5-6656-4160-a16b-5707f5cbe0f3\")>,\n",
       " <selenium.webdriver.remote.webelement.WebElement (session=\"9e65912bb985a0cc43edf948a895d5df\", element=\"143b89a5-b8e0-4da7-9f8b-13ad6997ce5c\")>,\n",
       " <selenium.webdriver.remote.webelement.WebElement (session=\"9e65912bb985a0cc43edf948a895d5df\", element=\"e86a000b-9516-490f-b9b7-83802f7265d0\")>,\n",
       " <selenium.webdriver.remote.webelement.WebElement (session=\"9e65912bb985a0cc43edf948a895d5df\", element=\"a345ecac-d65b-425d-a769-1be66c1d90e8\")>,\n",
       " <selenium.webdriver.remote.webelement.WebElement (session=\"9e65912bb985a0cc43edf948a895d5df\", element=\"c059ffa4-f9fe-4f25-9711-ce7be0676ef5\")>,\n",
       " <selenium.webdriver.remote.webelement.WebElement (session=\"9e65912bb985a0cc43edf948a895d5df\", element=\"b35b7468-81e2-4330-90da-201613bfb92a\")>,\n",
       " <selenium.webdriver.remote.webelement.WebElement (session=\"9e65912bb985a0cc43edf948a895d5df\", element=\"e0162405-92ff-4490-8fbc-c8914c2a4b7f\")>,\n",
       " <selenium.webdriver.remote.webelement.WebElement (session=\"9e65912bb985a0cc43edf948a895d5df\", element=\"c2370473-1ef6-4797-93d4-697b5e960dee\")>,\n",
       " <selenium.webdriver.remote.webelement.WebElement (session=\"9e65912bb985a0cc43edf948a895d5df\", element=\"fbc365bd-5ea4-4b73-981c-b76903709f2f\")>,\n",
       " <selenium.webdriver.remote.webelement.WebElement (session=\"9e65912bb985a0cc43edf948a895d5df\", element=\"e154193c-abd2-4c59-9073-caf95be28312\")>,\n",
       " <selenium.webdriver.remote.webelement.WebElement (session=\"9e65912bb985a0cc43edf948a895d5df\", element=\"ecb71304-6afc-4ae3-9e65-71b27a8e86e7\")>,\n",
       " <selenium.webdriver.remote.webelement.WebElement (session=\"9e65912bb985a0cc43edf948a895d5df\", element=\"1ad02766-b280-4514-a786-dd8ac04f4f93\")>,\n",
       " <selenium.webdriver.remote.webelement.WebElement (session=\"9e65912bb985a0cc43edf948a895d5df\", element=\"594e73c8-1a52-4c31-b2c4-008d6cedc567\")>,\n",
       " <selenium.webdriver.remote.webelement.WebElement (session=\"9e65912bb985a0cc43edf948a895d5df\", element=\"5ffe6550-e68c-45cd-8130-6070d0517bc4\")>,\n",
       " <selenium.webdriver.remote.webelement.WebElement (session=\"9e65912bb985a0cc43edf948a895d5df\", element=\"45cfd305-3b17-45cb-b4d1-628a52124bd7\")>,\n",
       " <selenium.webdriver.remote.webelement.WebElement (session=\"9e65912bb985a0cc43edf948a895d5df\", element=\"018ebbd7-4336-49e2-ade7-b111d99602ef\")>,\n",
       " <selenium.webdriver.remote.webelement.WebElement (session=\"9e65912bb985a0cc43edf948a895d5df\", element=\"3fb89d85-ed09-4fc0-b2cd-a76579ee306b\")>,\n",
       " <selenium.webdriver.remote.webelement.WebElement (session=\"9e65912bb985a0cc43edf948a895d5df\", element=\"f2424af3-138f-4aa5-8abb-cf32f963c819\")>,\n",
       " <selenium.webdriver.remote.webelement.WebElement (session=\"9e65912bb985a0cc43edf948a895d5df\", element=\"311b2b36-8566-4f62-8735-83640b44360b\")>,\n",
       " <selenium.webdriver.remote.webelement.WebElement (session=\"9e65912bb985a0cc43edf948a895d5df\", element=\"2d80db7d-2647-415e-b2e8-218e58d4e132\")>,\n",
       " <selenium.webdriver.remote.webelement.WebElement (session=\"9e65912bb985a0cc43edf948a895d5df\", element=\"16f4107e-b1ed-442d-b409-e0aeab361f25\")>,\n",
       " <selenium.webdriver.remote.webelement.WebElement (session=\"9e65912bb985a0cc43edf948a895d5df\", element=\"cd4606d1-fb03-4957-9c04-44262db7f974\")>,\n",
       " <selenium.webdriver.remote.webelement.WebElement (session=\"9e65912bb985a0cc43edf948a895d5df\", element=\"2a6ad2a3-10d1-4283-b25f-cf24a33eaab6\")>,\n",
       " <selenium.webdriver.remote.webelement.WebElement (session=\"9e65912bb985a0cc43edf948a895d5df\", element=\"36c2bdd6-389a-44ca-955e-468c943504e1\")>,\n",
       " <selenium.webdriver.remote.webelement.WebElement (session=\"9e65912bb985a0cc43edf948a895d5df\", element=\"e8cf4ca2-07f0-45d8-822f-f11a940b907d\")>,\n",
       " <selenium.webdriver.remote.webelement.WebElement (session=\"9e65912bb985a0cc43edf948a895d5df\", element=\"2cc7efdc-ebb8-4ade-95a3-35f358f654ca\")>,\n",
       " <selenium.webdriver.remote.webelement.WebElement (session=\"9e65912bb985a0cc43edf948a895d5df\", element=\"54c247b7-2439-494b-acad-403ea3939444\")>,\n",
       " <selenium.webdriver.remote.webelement.WebElement (session=\"9e65912bb985a0cc43edf948a895d5df\", element=\"01fcf942-7545-4f7d-8a5c-4b2b0d3eff84\")>,\n",
       " <selenium.webdriver.remote.webelement.WebElement (session=\"9e65912bb985a0cc43edf948a895d5df\", element=\"df4d9fcf-9e37-42c6-81b1-35ff6f5daa7e\")>,\n",
       " <selenium.webdriver.remote.webelement.WebElement (session=\"9e65912bb985a0cc43edf948a895d5df\", element=\"a9b89041-96b0-414b-a6b1-6c26f244809f\")>,\n",
       " <selenium.webdriver.remote.webelement.WebElement (session=\"9e65912bb985a0cc43edf948a895d5df\", element=\"e650a159-9a90-45b2-b333-33d3c6eab7c9\")>,\n",
       " <selenium.webdriver.remote.webelement.WebElement (session=\"9e65912bb985a0cc43edf948a895d5df\", element=\"eae19a0f-a722-467c-bf1d-1141856b812f\")>,\n",
       " <selenium.webdriver.remote.webelement.WebElement (session=\"9e65912bb985a0cc43edf948a895d5df\", element=\"87a7a68f-c8fe-4899-aa27-294424b49da1\")>,\n",
       " <selenium.webdriver.remote.webelement.WebElement (session=\"9e65912bb985a0cc43edf948a895d5df\", element=\"443b624d-0f57-4da6-b560-f0b307cc92ce\")>,\n",
       " <selenium.webdriver.remote.webelement.WebElement (session=\"9e65912bb985a0cc43edf948a895d5df\", element=\"6f16c4e1-8e39-4480-888f-10763de2d154\")>,\n",
       " <selenium.webdriver.remote.webelement.WebElement (session=\"9e65912bb985a0cc43edf948a895d5df\", element=\"8ba3460f-66c1-49e9-93e1-dda12f5fe484\")>]"
      ]
     },
     "execution_count": 135,
     "metadata": {},
     "output_type": "execute_result"
    }
   ],
   "source": [
    "driver.get(url5)\n",
    "\n",
    "list_links= driver.find_elements(By.TAG_NAME, 'a')\n",
    "\n",
    "list_links\n"
   ]
  },
  {
   "cell_type": "code",
   "execution_count": 140,
   "metadata": {},
   "outputs": [
    {
     "data": {
      "text/plain": [
       "['https://en.wikipedia.org/wiki/Python#mw-head',\n",
       " 'https://en.wikipedia.org/wiki/Python#searchInput',\n",
       " 'https://en.wiktionary.org/wiki/Python',\n",
       " 'https://en.wiktionary.org/wiki/python',\n",
       " 'https://en.wikipedia.org/wiki/Python#Snakes',\n",
       " 'https://en.wikipedia.org/wiki/Python#Computing',\n",
       " 'https://en.wikipedia.org/wiki/Python#People',\n",
       " 'https://en.wikipedia.org/wiki/Python#Roller_coasters',\n",
       " 'https://en.wikipedia.org/wiki/Python#Vehicles',\n",
       " 'https://en.wikipedia.org/wiki/Python#Weaponry',\n",
       " 'https://en.wikipedia.org/wiki/Python#Other_uses',\n",
       " 'https://en.wikipedia.org/wiki/Python#See_also',\n",
       " 'https://en.wikipedia.org/w/index.php?title=Python&action=edit&section=1',\n",
       " 'https://en.wikipedia.org/wiki/Pythonidae',\n",
       " 'https://en.wikipedia.org/wiki/Python_(genus)',\n",
       " 'https://en.wikipedia.org/wiki/Python_(mythology)',\n",
       " 'https://en.wikipedia.org/w/index.php?title=Python&action=edit&section=2',\n",
       " 'https://en.wikipedia.org/wiki/Python_(programming_language)',\n",
       " 'https://en.wikipedia.org/wiki/CMU_Common_Lisp',\n",
       " 'https://en.wikipedia.org/wiki/PERQ#PERQ_3',\n",
       " 'https://en.wikipedia.org/w/index.php?title=Python&action=edit&section=3',\n",
       " 'https://en.wikipedia.org/wiki/Python_of_Aenus',\n",
       " 'https://en.wikipedia.org/wiki/Python_(painter)',\n",
       " 'https://en.wikipedia.org/wiki/Python_of_Byzantium',\n",
       " 'https://en.wikipedia.org/wiki/Python_of_Catana',\n",
       " 'https://en.wikipedia.org/wiki/Python_Anghelo',\n",
       " 'https://en.wikipedia.org/w/index.php?title=Python&action=edit&section=4',\n",
       " 'https://en.wikipedia.org/wiki/Python_(Efteling)',\n",
       " 'https://en.wikipedia.org/wiki/Python_(Busch_Gardens_Tampa_Bay)',\n",
       " 'https://en.wikipedia.org/wiki/Python_(Coney_Island,_Cincinnati,_Ohio)',\n",
       " 'https://en.wikipedia.org/w/index.php?title=Python&action=edit&section=5',\n",
       " 'https://en.wikipedia.org/wiki/Python_(automobile_maker)',\n",
       " 'https://en.wikipedia.org/wiki/Python_(Ford_prototype)',\n",
       " 'https://en.wikipedia.org/w/index.php?title=Python&action=edit&section=6',\n",
       " 'https://en.wikipedia.org/wiki/Python_(missile)',\n",
       " 'https://en.wikipedia.org/wiki/Python_(nuclear_primary)',\n",
       " 'https://en.wikipedia.org/wiki/Colt_Python',\n",
       " 'https://en.wikipedia.org/w/index.php?title=Python&action=edit&section=7',\n",
       " 'https://en.wikipedia.org/wiki/Python_(codename)',\n",
       " 'https://en.wikipedia.org/wiki/Python_(film)',\n",
       " 'https://en.wikipedia.org/wiki/Monty_Python',\n",
       " 'https://en.wikipedia.org/wiki/Python_(Monty)_Pictures',\n",
       " 'https://en.wikipedia.org/wiki/Timon_of_Phlius',\n",
       " 'https://en.wikipedia.org/w/index.php?title=Python&action=edit&section=8',\n",
       " 'https://en.wikipedia.org/wiki/Cython',\n",
       " 'https://en.wikipedia.org/wiki/Pyton',\n",
       " 'https://en.wikipedia.org/wiki/Pithon',\n",
       " 'https://en.wikipedia.org/wiki/File:Disambig_gray.svg',\n",
       " 'https://en.wikipedia.org/wiki/Help:Disambiguation',\n",
       " 'https://en.wikipedia.org/w/index.php?title=Special:WhatLinksHere/Python&namespace=0',\n",
       " 'https://en.wikipedia.org/w/index.php?title=Python&oldid=1104201971',\n",
       " 'https://en.wikipedia.org/wiki/Help:Category',\n",
       " 'https://en.wikipedia.org/wiki/Category:Disambiguation_pages',\n",
       " 'https://en.wikipedia.org/wiki/Category:Human_name_disambiguation_pages',\n",
       " 'https://en.wikipedia.org/wiki/Category:Disambiguation_pages_with_given-name-holder_lists',\n",
       " 'https://en.wikipedia.org/wiki/Category:Disambiguation_pages_with_short_descriptions',\n",
       " 'https://en.wikipedia.org/wiki/Category:Short_description_is_different_from_Wikidata',\n",
       " 'https://en.wikipedia.org/wiki/Category:All_article_disambiguation_pages',\n",
       " 'https://en.wikipedia.org/wiki/Category:All_disambiguation_pages',\n",
       " 'https://en.wikipedia.org/wiki/Category:Animal_common_name_disambiguation_pages',\n",
       " 'https://en.wikipedia.org/wiki/Special:MyTalk',\n",
       " 'https://en.wikipedia.org/wiki/Special:MyContributions',\n",
       " 'https://en.wikipedia.org/w/index.php?title=Special:CreateAccount&returnto=Python',\n",
       " 'https://en.wikipedia.org/w/index.php?title=Special:UserLogin&returnto=Python',\n",
       " 'https://en.wikipedia.org/wiki/Python',\n",
       " 'https://en.wikipedia.org/wiki/Talk:Python',\n",
       " 'https://en.wikipedia.org/wiki/Python',\n",
       " 'https://en.wikipedia.org/w/index.php?title=Python&action=edit',\n",
       " 'https://en.wikipedia.org/w/index.php?title=Python&action=history',\n",
       " 'https://en.wikipedia.org/wiki/Main_Page',\n",
       " 'https://en.wikipedia.org/wiki/Main_Page',\n",
       " 'https://en.wikipedia.org/wiki/Wikipedia:Contents',\n",
       " 'https://en.wikipedia.org/wiki/Portal:Current_events',\n",
       " 'https://en.wikipedia.org/wiki/Special:Random',\n",
       " 'https://en.wikipedia.org/wiki/Wikipedia:About',\n",
       " 'https://en.wikipedia.org/wiki/Wikipedia:Contact_us',\n",
       " 'https://donate.wikimedia.org/wiki/Special:FundraiserRedirector?utm_source=donate&utm_medium=sidebar&utm_campaign=C13_en.wikipedia.org&uselang=en',\n",
       " 'https://en.wikipedia.org/wiki/Help:Contents',\n",
       " 'https://en.wikipedia.org/wiki/Help:Introduction',\n",
       " 'https://en.wikipedia.org/wiki/Wikipedia:Community_portal',\n",
       " 'https://en.wikipedia.org/wiki/Special:RecentChanges',\n",
       " 'https://en.wikipedia.org/wiki/Wikipedia:File_Upload_Wizard',\n",
       " 'https://en.wikipedia.org/wiki/Special:WhatLinksHere/Python',\n",
       " 'https://en.wikipedia.org/wiki/Special:RecentChangesLinked/Python',\n",
       " 'https://en.wikipedia.org/wiki/Wikipedia:File_Upload_Wizard',\n",
       " 'https://en.wikipedia.org/wiki/Special:SpecialPages',\n",
       " 'https://en.wikipedia.org/w/index.php?title=Python&oldid=1104201971',\n",
       " 'https://en.wikipedia.org/w/index.php?title=Python&action=info',\n",
       " 'https://en.wikipedia.org/w/index.php?title=Special:CiteThisPage&page=Python&id=1104201971&wpFormIdentifier=titleform',\n",
       " 'https://www.wikidata.org/wiki/Special:EntityPage/Q747452',\n",
       " 'https://en.wikipedia.org/w/index.php?title=Special:DownloadAsPdf&page=Python&action=show-download-screen',\n",
       " 'https://en.wikipedia.org/w/index.php?title=Python&printable=yes',\n",
       " 'https://commons.wikimedia.org/wiki/Category:Python',\n",
       " 'https://af.wikipedia.org/wiki/Python',\n",
       " 'https://als.wikipedia.org/wiki/Python',\n",
       " 'https://ar.wikipedia.org/wiki/%D8%A8%D8%A7%D9%8A%D8%AB%D9%88%D9%86_(%D8%AA%D9%88%D8%B6%D9%8A%D8%AD)',\n",
       " 'https://az.wikipedia.org/wiki/Python',\n",
       " 'https://bn.wikipedia.org/wiki/%E0%A6%AA%E0%A6%BE%E0%A6%87%E0%A6%A5%E0%A6%A8_(%E0%A6%A6%E0%A7%8D%E0%A6%AC%E0%A7%8D%E0%A6%AF%E0%A6%B0%E0%A7%8D%E0%A6%A5%E0%A6%A4%E0%A6%BE_%E0%A6%A8%E0%A6%BF%E0%A6%B0%E0%A6%B8%E0%A6%A8)',\n",
       " 'https://be.wikipedia.org/wiki/Python',\n",
       " 'https://bg.wikipedia.org/wiki/%D0%9F%D0%B8%D1%82%D0%BE%D0%BD_(%D0%BF%D0%BE%D1%8F%D1%81%D0%BD%D0%B5%D0%BD%D0%B8%D0%B5)',\n",
       " 'https://cs.wikipedia.org/wiki/Python_(rozcestn%C3%ADk)',\n",
       " 'https://da.wikipedia.org/wiki/Python',\n",
       " 'https://de.wikipedia.org/wiki/Python',\n",
       " 'https://eo.wikipedia.org/wiki/Pitono_(apartigilo)',\n",
       " 'https://eu.wikipedia.org/wiki/Python_(argipena)',\n",
       " 'https://fa.wikipedia.org/wiki/%D9%BE%D8%A7%DB%8C%D8%AA%D9%88%D9%86',\n",
       " 'https://fr.wikipedia.org/wiki/Python',\n",
       " 'https://ko.wikipedia.org/wiki/%ED%8C%8C%EC%9D%B4%EC%84%A0',\n",
       " 'https://hr.wikipedia.org/wiki/Python_(razdvojba)',\n",
       " 'https://io.wikipedia.org/wiki/Pitono',\n",
       " 'https://id.wikipedia.org/wiki/Python',\n",
       " 'https://ia.wikipedia.org/wiki/Python_(disambiguation)',\n",
       " 'https://is.wikipedia.org/wiki/Python_(a%C3%B0greining)',\n",
       " 'https://it.wikipedia.org/wiki/Python_(disambigua)',\n",
       " 'https://he.wikipedia.org/wiki/%D7%A4%D7%99%D7%AA%D7%95%D7%9F',\n",
       " 'https://ka.wikipedia.org/wiki/%E1%83%9E%E1%83%98%E1%83%97%E1%83%9D%E1%83%9C%E1%83%98_(%E1%83%9B%E1%83%A0%E1%83%90%E1%83%95%E1%83%90%E1%83%9A%E1%83%9B%E1%83%9C%E1%83%98%E1%83%A8%E1%83%95%E1%83%9C%E1%83%94%E1%83%9A%E1%83%9D%E1%83%95%E1%83%90%E1%83%9C%E1%83%98)',\n",
       " 'https://kg.wikipedia.org/wiki/Mboma_(nyoka)',\n",
       " 'https://la.wikipedia.org/wiki/Python_(discretiva)',\n",
       " 'https://lb.wikipedia.org/wiki/Python',\n",
       " 'https://hu.wikipedia.org/wiki/Python_(egy%C3%A9rtelm%C5%B1s%C3%ADt%C5%91_lap)',\n",
       " 'https://mr.wikipedia.org/wiki/%E0%A4%AA%E0%A4%BE%E0%A4%AF%E0%A4%A5%E0%A5%89%E0%A4%A8_(%E0%A4%86%E0%A4%9C%E0%A5%8D%E0%A4%9E%E0%A4%BE%E0%A4%B5%E0%A4%B2%E0%A5%80_%E0%A4%AD%E0%A4%BE%E0%A4%B7%E0%A4%BE)',\n",
       " 'https://nl.wikipedia.org/wiki/Python',\n",
       " 'https://ja.wikipedia.org/wiki/%E3%83%91%E3%82%A4%E3%82%BD%E3%83%B3',\n",
       " 'https://no.wikipedia.org/wiki/Pyton',\n",
       " 'https://pl.wikipedia.org/wiki/Pyton',\n",
       " 'https://pt.wikipedia.org/wiki/Python_(desambigua%C3%A7%C3%A3o)',\n",
       " 'https://ru.wikipedia.org/wiki/Python_(%D0%B7%D0%BD%D0%B0%D1%87%D0%B5%D0%BD%D0%B8%D1%8F)',\n",
       " 'https://sk.wikipedia.org/wiki/Python',\n",
       " 'https://sr.wikipedia.org/wiki/%D0%9F%D0%B8%D1%82%D0%BE%D0%BD_(%D0%B2%D0%B8%D1%88%D0%B5%D0%B7%D0%BD%D0%B0%D1%87%D0%BD%D0%B0_%D0%BE%D0%B4%D1%80%D0%B5%D0%B4%D0%BD%D0%B8%D1%86%D0%B0)',\n",
       " 'https://sh.wikipedia.org/wiki/Python',\n",
       " 'https://fi.wikipedia.org/wiki/Python',\n",
       " 'https://sv.wikipedia.org/wiki/Pyton',\n",
       " 'https://th.wikipedia.org/wiki/%E0%B9%84%E0%B8%9E%E0%B8%97%E0%B8%AD%E0%B8%99',\n",
       " 'https://tr.wikipedia.org/wiki/Python_(anlam_ayr%C4%B1m%C4%B1)',\n",
       " 'https://uk.wikipedia.org/wiki/%D0%9F%D1%96%D1%84%D0%BE%D0%BD',\n",
       " 'https://ur.wikipedia.org/wiki/%D9%BE%D8%A7%D8%A6%DB%8C%D8%AA%DA%BE%D9%88%D9%86',\n",
       " 'https://vi.wikipedia.org/wiki/Python',\n",
       " 'https://zh.wikipedia.org/wiki/Python_(%E6%B6%88%E6%AD%A7%E4%B9%89)',\n",
       " 'https://www.wikidata.org/wiki/Special:EntityPage/Q747452#sitelinks-wikipedia',\n",
       " 'https://en.wikipedia.org/wiki/Wikipedia:Text_of_Creative_Commons_Attribution-ShareAlike_3.0_Unported_License',\n",
       " 'https://creativecommons.org/licenses/by-sa/3.0/',\n",
       " 'https://foundation.wikimedia.org/wiki/Terms_of_Use',\n",
       " 'https://foundation.wikimedia.org/wiki/Privacy_policy',\n",
       " 'https://www.wikimediafoundation.org/',\n",
       " 'https://foundation.wikimedia.org/wiki/Privacy_policy',\n",
       " 'https://en.wikipedia.org/wiki/Wikipedia:About',\n",
       " 'https://en.wikipedia.org/wiki/Wikipedia:General_disclaimer',\n",
       " 'https://en.wikipedia.org/wiki/Wikipedia:Contact_us',\n",
       " 'https://en.m.wikipedia.org/w/index.php?title=Python&mobileaction=toggle_view_mobile',\n",
       " 'https://developer.wikimedia.org/',\n",
       " 'https://stats.wikimedia.org/#/en.wikipedia.org',\n",
       " 'https://foundation.wikimedia.org/wiki/Cookie_statement',\n",
       " 'https://wikimediafoundation.org/',\n",
       " 'https://www.mediawiki.org/']"
      ]
     },
     "execution_count": 140,
     "metadata": {},
     "output_type": "execute_result"
    }
   ],
   "source": [
    "lookfinal5 = [e.get_attribute('href') for e in driver.find_elements(By.TAG_NAME, 'a')]\n",
    "lookfinal5[1::]"
   ]
  },
  {
   "cell_type": "code",
   "execution_count": null,
   "metadata": {},
   "outputs": [],
   "source": []
  },
  {
   "cell_type": "markdown",
   "metadata": {},
   "source": [
    "---"
   ]
  },
  {
   "cell_type": "markdown",
   "metadata": {},
   "source": [
    "#### Number of Titles that have changed in the United States Code since its last release point "
   ]
  },
  {
   "cell_type": "code",
   "execution_count": 142,
   "metadata": {},
   "outputs": [],
   "source": [
    "# This is the url you will scrape in this exercise\n",
    "url7 = 'http://uscode.house.gov/download/download.shtml'"
   ]
  },
  {
   "cell_type": "code",
   "execution_count": 144,
   "metadata": {},
   "outputs": [
    {
     "data": {
      "text/plain": [
       "<selenium.webdriver.remote.webelement.WebElement (session=\"9e65912bb985a0cc43edf948a895d5df\", element=\"83fd93ed-8a23-4bdc-994f-9270ebbb0ef0\")>"
      ]
     },
     "execution_count": 144,
     "metadata": {},
     "output_type": "execute_result"
    }
   ],
   "source": [
    "driver.get(url7)\n",
    "\n",
    "titles= driver.find_elements(By.CLASS_NAME, 'usctitle')\n",
    "\n",
    "titles[5]"
   ]
  },
  {
   "cell_type": "code",
   "execution_count": 158,
   "metadata": {},
   "outputs": [
    {
     "data": {
      "text/plain": [
       "['Title 1 - General Provisions ٭',\n",
       " 'Title 3 - The President ٭',\n",
       " 'Title 4 - Flag and Seal, Seat of Government, and the States ٭',\n",
       " 'Title 6 - Domestic Security',\n",
       " 'Title 7 - Agriculture',\n",
       " 'Title 8 - Aliens and Nationality',\n",
       " 'Title 9 - Arbitration ٭',\n",
       " 'Title 11 - Bankruptcy ٭',\n",
       " 'Title 12 - Banks and Banking',\n",
       " 'Title 13 - Census ٭',\n",
       " 'Title 14 - Coast Guard ٭',\n",
       " 'Title 15 - Commerce and Trade',\n",
       " 'Title 16 - Conservation',\n",
       " 'Title 17 - Copyrights ٭',\n",
       " 'Title 18 - Crimes and Criminal Procedure ٭',\n",
       " 'Title 19 - Customs Duties',\n",
       " 'Title 20 - Education',\n",
       " 'Title 21 - Food and Drugs',\n",
       " 'Title 22 - Foreign Relations and Intercourse',\n",
       " 'Title 23 - Highways ٭',\n",
       " 'Title 24 - Hospitals and Asylums',\n",
       " 'Title 25 - Indians',\n",
       " 'Title 26 - Internal Revenue Code',\n",
       " 'Title 27 - Intoxicating Liquors',\n",
       " 'Title 29 - Labor',\n",
       " 'Title 30 - Mineral Lands and Mining',\n",
       " 'Title 31 - Money and Finance ٭',\n",
       " 'Title 32 - National Guard ٭',\n",
       " 'Title 33 - Navigation and Navigable Waters',\n",
       " 'Title 34 - Crime Control and Law Enforcement',\n",
       " 'Title 35 - Patents ٭',\n",
       " 'Title 36 - Patriotic and National Observances, Ceremonies, and Organizations ٭',\n",
       " 'Title 37 - Pay and Allowances of the Uniformed Services ٭',\n",
       " 'Title 39 - Postal Service ٭',\n",
       " 'Title 40 - Public Buildings, Property, and Works ٭',\n",
       " 'Title 41 - Public Contracts ٭',\n",
       " 'Title 42 - The Public Health and Welfare',\n",
       " 'Title 43 - Public Lands',\n",
       " 'Title 44 - Public Printing and Documents ٭',\n",
       " 'Title 45 - Railroads',\n",
       " 'Title 46 - Shipping ٭',\n",
       " 'Title 47 - Telecommunications',\n",
       " 'Title 48 - Territories and Insular Possessions',\n",
       " 'Title 49 - Transportation ٭',\n",
       " 'Title 50 - War and National Defense',\n",
       " 'Title 51 - National and Commercial Space Programs ٭',\n",
       " 'Title 52 - Voting and Elections',\n",
       " 'Title 53 [Reserved]',\n",
       " 'Title 54 - National Park Service and Related Programs ٭']"
      ]
     },
     "execution_count": 158,
     "metadata": {},
     "output_type": "execute_result"
    }
   ],
   "source": [
    "#your code\n",
    "lookfinal6 = [e.text.lstrip() for e in driver.find_elements(By.CLASS_NAME, 'usctitle')]\n",
    "lookfinal6[2::]"
   ]
  },
  {
   "cell_type": "markdown",
   "metadata": {},
   "source": [
    "----"
   ]
  },
  {
   "cell_type": "markdown",
   "metadata": {},
   "source": [
    "#### A Python list with the top ten FBI's Most Wanted names "
   ]
  },
  {
   "cell_type": "markdown",
   "metadata": {},
   "source": [
    "---"
   ]
  },
  {
   "cell_type": "code",
   "execution_count": 160,
   "metadata": {},
   "outputs": [],
   "source": [
    "# This is the url you will scrape in this exercise\n",
    "url8 = 'https://www.fbi.gov/wanted/topten'"
   ]
  },
  {
   "cell_type": "code",
   "execution_count": 161,
   "metadata": {},
   "outputs": [
    {
     "data": {
      "text/plain": [
       "<selenium.webdriver.remote.webelement.WebElement (session=\"9e65912bb985a0cc43edf948a895d5df\", element=\"0a343ef1-dfa6-4c2c-b567-2d6012a62588\")>"
      ]
     },
     "execution_count": 161,
     "metadata": {},
     "output_type": "execute_result"
    }
   ],
   "source": [
    "#your code \n",
    "\n",
    "driver.get(url8)\n",
    "\n",
    "titles= driver.find_elements(By.CLASS_NAME, 'title')\n",
    "\n",
    "titles[5]"
   ]
  },
  {
   "cell_type": "code",
   "execution_count": 162,
   "metadata": {},
   "outputs": [
    {
     "data": {
      "text/plain": [
       "['JOSE RODOLFO VILLARREAL-HERNANDEZ',\n",
       " 'YULAN ADONAY ARCHAGA CARIAS',\n",
       " 'BHADRESHKUMAR CHETANBHAI PATEL',\n",
       " 'OMAR ALEXANDER CARDENAS',\n",
       " 'ALEJANDRO ROSALES CASTILLO',\n",
       " 'RUJA IGNATOVA',\n",
       " 'JASON DEREK BROWN',\n",
       " 'ARNOLDO JIMENEZ',\n",
       " 'RAFAEL CARO-QUINTERO']"
      ]
     },
     "execution_count": 162,
     "metadata": {},
     "output_type": "execute_result"
    }
   ],
   "source": [
    "lookfinal6 = [e.text.lstrip() for e in driver.find_elements(By.CLASS_NAME, 'title')]\n",
    "lookfinal6[2::]"
   ]
  },
  {
   "cell_type": "code",
   "execution_count": null,
   "metadata": {},
   "outputs": [],
   "source": []
  },
  {
   "cell_type": "markdown",
   "metadata": {},
   "source": [
    "-----"
   ]
  },
  {
   "cell_type": "markdown",
   "metadata": {},
   "source": [
    "####  20 latest earthquakes info (date, time, latitude, longitude and region name) by the EMSC as a pandas dataframe"
   ]
  },
  {
   "cell_type": "markdown",
   "metadata": {},
   "source": [
    "---"
   ]
  },
  {
   "cell_type": "code",
   "execution_count": null,
   "metadata": {},
   "outputs": [],
   "source": [
    "# This is the url you will scrape in this exercise\n",
    "url = 'https://www.emsc-csem.org/Earthquake/'"
   ]
  },
  {
   "cell_type": "code",
   "execution_count": null,
   "metadata": {},
   "outputs": [],
   "source": [
    "#your code"
   ]
  },
  {
   "cell_type": "markdown",
   "metadata": {},
   "source": [
    "----"
   ]
  },
  {
   "cell_type": "markdown",
   "metadata": {},
   "source": [
    "#### Count number of tweets by a given Twitter account."
   ]
  },
  {
   "cell_type": "markdown",
   "metadata": {},
   "source": [
    "You will need to include a ***try/except block*** for account names not found. \n",
    "<br>***Hint:*** the program should count the number of tweets for any provided account"
   ]
  },
  {
   "cell_type": "markdown",
   "metadata": {},
   "source": [
    "------"
   ]
  },
  {
   "cell_type": "code",
   "execution_count": 228,
   "metadata": {},
   "outputs": [],
   "source": [
    "# This is the url you will scrape in this exercise \n",
    "# You will need to add the account credentials to this url\n",
    "url10= 'https://twitter.com/elonmusk'"
   ]
  },
  {
   "cell_type": "code",
   "execution_count": 229,
   "metadata": {},
   "outputs": [],
   "source": [
    "#your code\n",
    "driver.get(url10)\n",
    "\n"
   ]
  },
  {
   "cell_type": "code",
   "execution_count": 232,
   "metadata": {},
   "outputs": [
    {
     "data": {
      "text/plain": [
       "'19,1 mil Tweets'"
      ]
     },
     "execution_count": 232,
     "metadata": {},
     "output_type": "execute_result"
    }
   ],
   "source": [
    "Tweets= driver.find_element(By.XPATH, '//*[@id=\"react-root\"]/div/div/div[2]/main/div/div/div/div/div/div[1]/div[1]/div/div/div/div/div/div[2]/div/div')\n",
    "\n",
    "Tweets.text"
   ]
  },
  {
   "cell_type": "code",
   "execution_count": null,
   "metadata": {},
   "outputs": [],
   "source": []
  },
  {
   "cell_type": "markdown",
   "metadata": {},
   "source": [
    "#### Number of followers of a given twitter account"
   ]
  },
  {
   "cell_type": "markdown",
   "metadata": {},
   "source": [
    "You will need to include a ***try/except block*** in case account/s name not found. \n",
    "<br>***Hint:*** the program should count the followers for any provided account"
   ]
  },
  {
   "cell_type": "code",
   "execution_count": 222,
   "metadata": {},
   "outputs": [],
   "source": [
    "# This is the url you will scrape in this exercise \n",
    "# You will need to add the account credentials to this url\n",
    "url11= 'https://twitter.com/elonmusk'"
   ]
  },
  {
   "cell_type": "code",
   "execution_count": 223,
   "metadata": {},
   "outputs": [],
   "source": [
    "#your code\n",
    "\n",
    "driver.get(url11)\n",
    "\n"
   ]
  },
  {
   "cell_type": "code",
   "execution_count": 227,
   "metadata": {},
   "outputs": [
    {
     "data": {
      "text/plain": [
       "'104,6 M'"
      ]
     },
     "execution_count": 227,
     "metadata": {},
     "output_type": "execute_result"
    }
   ],
   "source": [
    "Followers_elon= driver.find_element(By.XPATH, '//*[@id=\"react-root\"]/div/div/div[2]/main/div/div/div/div/div/div[2]/div/div/div/div/div[5]/div[2]/a/span[1]/span')\n",
    "\n",
    "Followers_elon.text"
   ]
  },
  {
   "cell_type": "code",
   "execution_count": 226,
   "metadata": {},
   "outputs": [
    {
     "data": {
      "text/plain": [
       "'104,6 M'"
      ]
     },
     "execution_count": 226,
     "metadata": {},
     "output_type": "execute_result"
    }
   ],
   "source": []
  },
  {
   "cell_type": "markdown",
   "metadata": {},
   "source": [
    "---"
   ]
  },
  {
   "cell_type": "markdown",
   "metadata": {},
   "source": [
    "#### List all language names and number of related articles in the order they appear in wikipedia.org"
   ]
  },
  {
   "cell_type": "markdown",
   "metadata": {},
   "source": [
    "----"
   ]
  },
  {
   "cell_type": "code",
   "execution_count": 235,
   "metadata": {},
   "outputs": [],
   "source": [
    "# This is the url you will scrape in this exercise\n",
    "url12 = 'https://www.wikipedia.org/'"
   ]
  },
  {
   "cell_type": "code",
   "execution_count": 236,
   "metadata": {},
   "outputs": [
    {
     "data": {
      "text/plain": [
       "[<selenium.webdriver.remote.webelement.WebElement (session=\"9e65912bb985a0cc43edf948a895d5df\", element=\"4ec9c4aa-fee8-44a8-9540-a0094f541995\")>,\n",
       " <selenium.webdriver.remote.webelement.WebElement (session=\"9e65912bb985a0cc43edf948a895d5df\", element=\"36110971-e16b-4c9a-93fe-9df5975f1514\")>,\n",
       " <selenium.webdriver.remote.webelement.WebElement (session=\"9e65912bb985a0cc43edf948a895d5df\", element=\"d8d2a7c6-3fb7-48b1-8e32-fea5ef49a031\")>,\n",
       " <selenium.webdriver.remote.webelement.WebElement (session=\"9e65912bb985a0cc43edf948a895d5df\", element=\"6fa2b4ac-af0e-4dd1-9f82-5b42059338db\")>,\n",
       " <selenium.webdriver.remote.webelement.WebElement (session=\"9e65912bb985a0cc43edf948a895d5df\", element=\"cfc620cd-700c-4224-8618-9a78514a6ef2\")>,\n",
       " <selenium.webdriver.remote.webelement.WebElement (session=\"9e65912bb985a0cc43edf948a895d5df\", element=\"8ef0173c-8e89-47d0-bf07-3e91b44ddf0d\")>,\n",
       " <selenium.webdriver.remote.webelement.WebElement (session=\"9e65912bb985a0cc43edf948a895d5df\", element=\"3cc7f5ce-5397-4177-a353-11f5db55b196\")>,\n",
       " <selenium.webdriver.remote.webelement.WebElement (session=\"9e65912bb985a0cc43edf948a895d5df\", element=\"209aee36-3636-4c67-a29a-faaf89abad20\")>,\n",
       " <selenium.webdriver.remote.webelement.WebElement (session=\"9e65912bb985a0cc43edf948a895d5df\", element=\"fb57c535-632a-467e-bdba-49ffbccc89a3\")>,\n",
       " <selenium.webdriver.remote.webelement.WebElement (session=\"9e65912bb985a0cc43edf948a895d5df\", element=\"7d2c3a4c-ad5b-460b-9969-cab8ed6f988d\")>,\n",
       " <selenium.webdriver.remote.webelement.WebElement (session=\"9e65912bb985a0cc43edf948a895d5df\", element=\"ac23fe71-16f3-4cf4-bec4-b8adac78782f\")>,\n",
       " <selenium.webdriver.remote.webelement.WebElement (session=\"9e65912bb985a0cc43edf948a895d5df\", element=\"48dbc7ae-d3ac-429c-8da4-e7229a30453d\")>,\n",
       " <selenium.webdriver.remote.webelement.WebElement (session=\"9e65912bb985a0cc43edf948a895d5df\", element=\"50829941-6860-44c4-9f25-aaf5525dad22\")>,\n",
       " <selenium.webdriver.remote.webelement.WebElement (session=\"9e65912bb985a0cc43edf948a895d5df\", element=\"6bcb7f2b-a74c-409e-907c-87c807a79a8f\")>,\n",
       " <selenium.webdriver.remote.webelement.WebElement (session=\"9e65912bb985a0cc43edf948a895d5df\", element=\"22c4130b-8fbc-41c8-83bc-2e7754af57b2\")>,\n",
       " <selenium.webdriver.remote.webelement.WebElement (session=\"9e65912bb985a0cc43edf948a895d5df\", element=\"96d3d90d-c305-45bb-9e39-791d6d38006d\")>,\n",
       " <selenium.webdriver.remote.webelement.WebElement (session=\"9e65912bb985a0cc43edf948a895d5df\", element=\"dbd396bc-5076-4e8e-9e1e-eccf4b1b85f4\")>,\n",
       " <selenium.webdriver.remote.webelement.WebElement (session=\"9e65912bb985a0cc43edf948a895d5df\", element=\"d44f5599-ac78-43ae-b336-57f3f3ec580d\")>,\n",
       " <selenium.webdriver.remote.webelement.WebElement (session=\"9e65912bb985a0cc43edf948a895d5df\", element=\"e2f8f508-fe9e-4506-992b-b185dc421ab6\")>,\n",
       " <selenium.webdriver.remote.webelement.WebElement (session=\"9e65912bb985a0cc43edf948a895d5df\", element=\"90b9da2a-298d-47bb-a96e-9e569bfc2ddc\")>,\n",
       " <selenium.webdriver.remote.webelement.WebElement (session=\"9e65912bb985a0cc43edf948a895d5df\", element=\"593f2ef8-392a-4961-98ce-3c9127fa2731\")>,\n",
       " <selenium.webdriver.remote.webelement.WebElement (session=\"9e65912bb985a0cc43edf948a895d5df\", element=\"84355fbc-f2fe-4cb1-bcf6-522f3eb49134\")>,\n",
       " <selenium.webdriver.remote.webelement.WebElement (session=\"9e65912bb985a0cc43edf948a895d5df\", element=\"eaed0c4c-2d01-4468-afd8-765df21ad004\")>,\n",
       " <selenium.webdriver.remote.webelement.WebElement (session=\"9e65912bb985a0cc43edf948a895d5df\", element=\"704c2d05-b508-4f72-8eef-5b9abf56e65b\")>,\n",
       " <selenium.webdriver.remote.webelement.WebElement (session=\"9e65912bb985a0cc43edf948a895d5df\", element=\"aa9eca15-4f21-418f-9f3a-c9eb9598d898\")>,\n",
       " <selenium.webdriver.remote.webelement.WebElement (session=\"9e65912bb985a0cc43edf948a895d5df\", element=\"bac47dc0-2325-46b3-9ee6-374325077fa7\")>,\n",
       " <selenium.webdriver.remote.webelement.WebElement (session=\"9e65912bb985a0cc43edf948a895d5df\", element=\"794cfbcf-3f9f-459d-999e-792f4509f5e6\")>,\n",
       " <selenium.webdriver.remote.webelement.WebElement (session=\"9e65912bb985a0cc43edf948a895d5df\", element=\"57677d72-fdf8-48b3-8655-5e1f2014f9a3\")>,\n",
       " <selenium.webdriver.remote.webelement.WebElement (session=\"9e65912bb985a0cc43edf948a895d5df\", element=\"f150a6b5-4414-49dd-a3b2-a18e6361033c\")>,\n",
       " <selenium.webdriver.remote.webelement.WebElement (session=\"9e65912bb985a0cc43edf948a895d5df\", element=\"3159579a-a861-4fd3-9fb9-565341b0045e\")>,\n",
       " <selenium.webdriver.remote.webelement.WebElement (session=\"9e65912bb985a0cc43edf948a895d5df\", element=\"99b15f5d-9443-4a04-8f53-34e02167c820\")>,\n",
       " <selenium.webdriver.remote.webelement.WebElement (session=\"9e65912bb985a0cc43edf948a895d5df\", element=\"6e03134b-a9df-43f4-8058-53f53feba274\")>,\n",
       " <selenium.webdriver.remote.webelement.WebElement (session=\"9e65912bb985a0cc43edf948a895d5df\", element=\"499c4833-9714-46e3-b4ff-b6e075a6f35d\")>,\n",
       " <selenium.webdriver.remote.webelement.WebElement (session=\"9e65912bb985a0cc43edf948a895d5df\", element=\"4f47f875-dbdd-4d2d-b8b1-684fb8655d90\")>,\n",
       " <selenium.webdriver.remote.webelement.WebElement (session=\"9e65912bb985a0cc43edf948a895d5df\", element=\"cef40c8c-bca7-4cb8-988f-85d45d6dede8\")>,\n",
       " <selenium.webdriver.remote.webelement.WebElement (session=\"9e65912bb985a0cc43edf948a895d5df\", element=\"71733417-f048-4782-a1bf-f0b9efe6cfca\")>,\n",
       " <selenium.webdriver.remote.webelement.WebElement (session=\"9e65912bb985a0cc43edf948a895d5df\", element=\"6a8bf8d0-21c5-458c-bee8-1f4e868af51f\")>,\n",
       " <selenium.webdriver.remote.webelement.WebElement (session=\"9e65912bb985a0cc43edf948a895d5df\", element=\"3752a13a-91ce-4c9f-9c47-fdd23645c387\")>,\n",
       " <selenium.webdriver.remote.webelement.WebElement (session=\"9e65912bb985a0cc43edf948a895d5df\", element=\"95378fff-b63f-4799-a4fc-7d6cab73e717\")>,\n",
       " <selenium.webdriver.remote.webelement.WebElement (session=\"9e65912bb985a0cc43edf948a895d5df\", element=\"5c163db1-4ea2-4309-bc92-4e91493ee773\")>,\n",
       " <selenium.webdriver.remote.webelement.WebElement (session=\"9e65912bb985a0cc43edf948a895d5df\", element=\"323cd6e3-d8aa-4ffb-b8ed-d4602324ee01\")>,\n",
       " <selenium.webdriver.remote.webelement.WebElement (session=\"9e65912bb985a0cc43edf948a895d5df\", element=\"3dd12342-87b5-460b-b3b8-015a65c4765a\")>,\n",
       " <selenium.webdriver.remote.webelement.WebElement (session=\"9e65912bb985a0cc43edf948a895d5df\", element=\"1d57d0ac-e755-439a-9316-75ab14523997\")>,\n",
       " <selenium.webdriver.remote.webelement.WebElement (session=\"9e65912bb985a0cc43edf948a895d5df\", element=\"fbccd7e1-805e-4078-9899-118909b0d06a\")>,\n",
       " <selenium.webdriver.remote.webelement.WebElement (session=\"9e65912bb985a0cc43edf948a895d5df\", element=\"380afde6-ffc3-408a-872a-9fa227a56a0f\")>,\n",
       " <selenium.webdriver.remote.webelement.WebElement (session=\"9e65912bb985a0cc43edf948a895d5df\", element=\"d18a7c8b-8fd5-4195-90c9-07d95bcc44a8\")>,\n",
       " <selenium.webdriver.remote.webelement.WebElement (session=\"9e65912bb985a0cc43edf948a895d5df\", element=\"f238c027-3772-4c38-8ed2-68d58dad21ff\")>,\n",
       " <selenium.webdriver.remote.webelement.WebElement (session=\"9e65912bb985a0cc43edf948a895d5df\", element=\"42580ec6-4036-4cea-99bf-4ead100fd951\")>,\n",
       " <selenium.webdriver.remote.webelement.WebElement (session=\"9e65912bb985a0cc43edf948a895d5df\", element=\"306afd0b-89fa-4ab8-91b9-08a40feccff3\")>,\n",
       " <selenium.webdriver.remote.webelement.WebElement (session=\"9e65912bb985a0cc43edf948a895d5df\", element=\"429332a8-f60f-4cbc-b7aa-afb616173300\")>,\n",
       " <selenium.webdriver.remote.webelement.WebElement (session=\"9e65912bb985a0cc43edf948a895d5df\", element=\"4a05815d-df86-466e-809b-0a80f4621629\")>,\n",
       " <selenium.webdriver.remote.webelement.WebElement (session=\"9e65912bb985a0cc43edf948a895d5df\", element=\"401b925a-11ed-4124-912c-5dfdb9d45b00\")>,\n",
       " <selenium.webdriver.remote.webelement.WebElement (session=\"9e65912bb985a0cc43edf948a895d5df\", element=\"d8c67119-4671-43a0-8fc9-22ea895bc354\")>,\n",
       " <selenium.webdriver.remote.webelement.WebElement (session=\"9e65912bb985a0cc43edf948a895d5df\", element=\"770e63f1-611d-4ab1-a381-0840afa4a8bd\")>,\n",
       " <selenium.webdriver.remote.webelement.WebElement (session=\"9e65912bb985a0cc43edf948a895d5df\", element=\"ae05669f-0ec4-475e-a730-a1aaec39a414\")>,\n",
       " <selenium.webdriver.remote.webelement.WebElement (session=\"9e65912bb985a0cc43edf948a895d5df\", element=\"ccf66e11-0845-41c7-89a8-2a204a2f3e73\")>,\n",
       " <selenium.webdriver.remote.webelement.WebElement (session=\"9e65912bb985a0cc43edf948a895d5df\", element=\"5d123ece-d6ec-4bd8-b43d-2379a259d0fb\")>,\n",
       " <selenium.webdriver.remote.webelement.WebElement (session=\"9e65912bb985a0cc43edf948a895d5df\", element=\"4f4a9f03-6b7b-4e02-9a5d-023eacda179f\")>,\n",
       " <selenium.webdriver.remote.webelement.WebElement (session=\"9e65912bb985a0cc43edf948a895d5df\", element=\"d70d577b-6ebd-44c6-9302-982138d238b2\")>,\n",
       " <selenium.webdriver.remote.webelement.WebElement (session=\"9e65912bb985a0cc43edf948a895d5df\", element=\"726f023e-186a-4c99-abd9-c9ce421320f1\")>,\n",
       " <selenium.webdriver.remote.webelement.WebElement (session=\"9e65912bb985a0cc43edf948a895d5df\", element=\"94db8cc4-8e82-459f-99da-1f508765e713\")>,\n",
       " <selenium.webdriver.remote.webelement.WebElement (session=\"9e65912bb985a0cc43edf948a895d5df\", element=\"551c1fb7-354b-42a5-a63a-7bf002f9c377\")>,\n",
       " <selenium.webdriver.remote.webelement.WebElement (session=\"9e65912bb985a0cc43edf948a895d5df\", element=\"f6249788-2532-44cd-b4e2-fb05aeae881b\")>,\n",
       " <selenium.webdriver.remote.webelement.WebElement (session=\"9e65912bb985a0cc43edf948a895d5df\", element=\"36405008-b69b-4391-bd1d-e852c6cd15e9\")>,\n",
       " <selenium.webdriver.remote.webelement.WebElement (session=\"9e65912bb985a0cc43edf948a895d5df\", element=\"2ee42bb7-bd18-44b2-b1c2-b52aba31395f\")>,\n",
       " <selenium.webdriver.remote.webelement.WebElement (session=\"9e65912bb985a0cc43edf948a895d5df\", element=\"bd17390a-3130-478c-90f4-cb545d39226a\")>,\n",
       " <selenium.webdriver.remote.webelement.WebElement (session=\"9e65912bb985a0cc43edf948a895d5df\", element=\"f734d0a4-0a1c-41c6-b4a0-ba4e21843e50\")>,\n",
       " <selenium.webdriver.remote.webelement.WebElement (session=\"9e65912bb985a0cc43edf948a895d5df\", element=\"615a5ea0-9060-44ab-986f-1526344dbb48\")>,\n",
       " <selenium.webdriver.remote.webelement.WebElement (session=\"9e65912bb985a0cc43edf948a895d5df\", element=\"532b2493-5920-42eb-b1e9-1b10299f35ff\")>,\n",
       " <selenium.webdriver.remote.webelement.WebElement (session=\"9e65912bb985a0cc43edf948a895d5df\", element=\"38a6c100-97e9-48c2-a8fc-7c05764db30c\")>,\n",
       " <selenium.webdriver.remote.webelement.WebElement (session=\"9e65912bb985a0cc43edf948a895d5df\", element=\"59a8eada-b4e2-4f1e-942a-3f62eba6d58c\")>,\n",
       " <selenium.webdriver.remote.webelement.WebElement (session=\"9e65912bb985a0cc43edf948a895d5df\", element=\"9fe71b01-dcb5-403e-bd04-2e816ac02361\")>,\n",
       " <selenium.webdriver.remote.webelement.WebElement (session=\"9e65912bb985a0cc43edf948a895d5df\", element=\"495662bb-cc1d-458c-b260-c57e9b82ac1f\")>,\n",
       " <selenium.webdriver.remote.webelement.WebElement (session=\"9e65912bb985a0cc43edf948a895d5df\", element=\"357c95e7-bca7-442e-a3f4-afd04817c2ac\")>,\n",
       " <selenium.webdriver.remote.webelement.WebElement (session=\"9e65912bb985a0cc43edf948a895d5df\", element=\"84c83d75-7424-49ee-b7d2-a30c135f74bd\")>,\n",
       " <selenium.webdriver.remote.webelement.WebElement (session=\"9e65912bb985a0cc43edf948a895d5df\", element=\"1988587b-92b1-481a-99fc-ac9ef9f5705a\")>,\n",
       " <selenium.webdriver.remote.webelement.WebElement (session=\"9e65912bb985a0cc43edf948a895d5df\", element=\"138c4391-8c84-45cb-ab11-95c78fa09aff\")>,\n",
       " <selenium.webdriver.remote.webelement.WebElement (session=\"9e65912bb985a0cc43edf948a895d5df\", element=\"881dbf18-e50d-4269-ade2-6a0fb0314666\")>,\n",
       " <selenium.webdriver.remote.webelement.WebElement (session=\"9e65912bb985a0cc43edf948a895d5df\", element=\"4c038c1e-1983-49ec-b49a-e019b7d9edab\")>,\n",
       " <selenium.webdriver.remote.webelement.WebElement (session=\"9e65912bb985a0cc43edf948a895d5df\", element=\"332eed95-c806-4d27-94ca-2961cd442980\")>,\n",
       " <selenium.webdriver.remote.webelement.WebElement (session=\"9e65912bb985a0cc43edf948a895d5df\", element=\"09887c01-d829-47d7-9e09-cf7f06a6a3b3\")>,\n",
       " <selenium.webdriver.remote.webelement.WebElement (session=\"9e65912bb985a0cc43edf948a895d5df\", element=\"70dc330f-a344-452c-9fef-0c0e4bddbb6b\")>,\n",
       " <selenium.webdriver.remote.webelement.WebElement (session=\"9e65912bb985a0cc43edf948a895d5df\", element=\"1e099c6e-d49a-4260-9794-28a7b1eade74\")>,\n",
       " <selenium.webdriver.remote.webelement.WebElement (session=\"9e65912bb985a0cc43edf948a895d5df\", element=\"ebfc56e6-47d2-4c2b-8d64-cda0f4b35719\")>,\n",
       " <selenium.webdriver.remote.webelement.WebElement (session=\"9e65912bb985a0cc43edf948a895d5df\", element=\"5b4266c1-feb3-49d3-8a39-39455703cea3\")>,\n",
       " <selenium.webdriver.remote.webelement.WebElement (session=\"9e65912bb985a0cc43edf948a895d5df\", element=\"d00431a7-ed63-4237-9537-05368c75fee0\")>,\n",
       " <selenium.webdriver.remote.webelement.WebElement (session=\"9e65912bb985a0cc43edf948a895d5df\", element=\"2ec6d7a9-abf7-4dd5-ba08-2d85a321eff9\")>,\n",
       " <selenium.webdriver.remote.webelement.WebElement (session=\"9e65912bb985a0cc43edf948a895d5df\", element=\"ddcfc19c-02bf-4cb3-96b2-9e8c90a69a63\")>,\n",
       " <selenium.webdriver.remote.webelement.WebElement (session=\"9e65912bb985a0cc43edf948a895d5df\", element=\"a6f2202d-9ca1-410f-a621-a2ed1db2d5da\")>,\n",
       " <selenium.webdriver.remote.webelement.WebElement (session=\"9e65912bb985a0cc43edf948a895d5df\", element=\"a7400438-da70-4906-b03c-7b87d6c2ce7b\")>,\n",
       " <selenium.webdriver.remote.webelement.WebElement (session=\"9e65912bb985a0cc43edf948a895d5df\", element=\"9df2d610-3ea7-4c32-a077-fea015a11ddd\")>,\n",
       " <selenium.webdriver.remote.webelement.WebElement (session=\"9e65912bb985a0cc43edf948a895d5df\", element=\"7fc2655b-f0e3-4e9c-b208-bc3189c235d6\")>,\n",
       " <selenium.webdriver.remote.webelement.WebElement (session=\"9e65912bb985a0cc43edf948a895d5df\", element=\"cf0d3d9c-1f25-4048-be58-6d68d0c5069f\")>,\n",
       " <selenium.webdriver.remote.webelement.WebElement (session=\"9e65912bb985a0cc43edf948a895d5df\", element=\"8d56a92d-86e9-45dd-955e-0f176d2dafe9\")>,\n",
       " <selenium.webdriver.remote.webelement.WebElement (session=\"9e65912bb985a0cc43edf948a895d5df\", element=\"0c16b063-684c-4279-9cfb-8188e515af96\")>,\n",
       " <selenium.webdriver.remote.webelement.WebElement (session=\"9e65912bb985a0cc43edf948a895d5df\", element=\"88d49b3d-6b51-4af0-9ab9-15d0e8e820a0\")>,\n",
       " <selenium.webdriver.remote.webelement.WebElement (session=\"9e65912bb985a0cc43edf948a895d5df\", element=\"47894a50-3f62-4db6-896f-e7b1412bc78b\")>,\n",
       " <selenium.webdriver.remote.webelement.WebElement (session=\"9e65912bb985a0cc43edf948a895d5df\", element=\"5fca310d-5d39-4882-95ee-5d22c16497d4\")>,\n",
       " <selenium.webdriver.remote.webelement.WebElement (session=\"9e65912bb985a0cc43edf948a895d5df\", element=\"05d37a98-b807-4fdb-9226-3f13c9b8f85a\")>,\n",
       " <selenium.webdriver.remote.webelement.WebElement (session=\"9e65912bb985a0cc43edf948a895d5df\", element=\"93661c61-876c-4f33-b119-905dd0ed85bd\")>,\n",
       " <selenium.webdriver.remote.webelement.WebElement (session=\"9e65912bb985a0cc43edf948a895d5df\", element=\"7ec1bb0a-18b3-4e2e-80cf-f56d307a3a3c\")>,\n",
       " <selenium.webdriver.remote.webelement.WebElement (session=\"9e65912bb985a0cc43edf948a895d5df\", element=\"c6a41ae6-0c40-45e0-83e6-e7747aa089a3\")>,\n",
       " <selenium.webdriver.remote.webelement.WebElement (session=\"9e65912bb985a0cc43edf948a895d5df\", element=\"b4c87c61-b2d7-4cff-8a29-3d69932a5ccc\")>,\n",
       " <selenium.webdriver.remote.webelement.WebElement (session=\"9e65912bb985a0cc43edf948a895d5df\", element=\"eb3c06cb-ce27-422b-a9dc-2c3677a00fb7\")>,\n",
       " <selenium.webdriver.remote.webelement.WebElement (session=\"9e65912bb985a0cc43edf948a895d5df\", element=\"ecf99995-2ce2-478f-a4e1-eaffca9c7ff4\")>,\n",
       " <selenium.webdriver.remote.webelement.WebElement (session=\"9e65912bb985a0cc43edf948a895d5df\", element=\"a507b34c-7f92-470f-b548-13607e64f06c\")>,\n",
       " <selenium.webdriver.remote.webelement.WebElement (session=\"9e65912bb985a0cc43edf948a895d5df\", element=\"35757a73-2c30-468f-8973-4adf08a6e05b\")>,\n",
       " <selenium.webdriver.remote.webelement.WebElement (session=\"9e65912bb985a0cc43edf948a895d5df\", element=\"b2c71a5f-fae9-4504-8f9b-4f904436ae36\")>,\n",
       " <selenium.webdriver.remote.webelement.WebElement (session=\"9e65912bb985a0cc43edf948a895d5df\", element=\"09c660d3-f661-4d15-9de1-42cdbbc54a49\")>,\n",
       " <selenium.webdriver.remote.webelement.WebElement (session=\"9e65912bb985a0cc43edf948a895d5df\", element=\"b7837383-008e-4725-a25b-7d60233b3cda\")>,\n",
       " <selenium.webdriver.remote.webelement.WebElement (session=\"9e65912bb985a0cc43edf948a895d5df\", element=\"baba93f1-c972-4479-a687-cef24cc966cc\")>,\n",
       " <selenium.webdriver.remote.webelement.WebElement (session=\"9e65912bb985a0cc43edf948a895d5df\", element=\"c09c15a4-2202-4b61-a4e8-a2b0b0519460\")>,\n",
       " <selenium.webdriver.remote.webelement.WebElement (session=\"9e65912bb985a0cc43edf948a895d5df\", element=\"2bb1f85c-c6e5-40d4-818c-a8f03ef25e75\")>,\n",
       " <selenium.webdriver.remote.webelement.WebElement (session=\"9e65912bb985a0cc43edf948a895d5df\", element=\"8d0d4272-3533-4b5e-bae4-0052b9c65bf4\")>,\n",
       " <selenium.webdriver.remote.webelement.WebElement (session=\"9e65912bb985a0cc43edf948a895d5df\", element=\"25a0cd20-b527-45bc-80db-e75224577d90\")>,\n",
       " <selenium.webdriver.remote.webelement.WebElement (session=\"9e65912bb985a0cc43edf948a895d5df\", element=\"58fd98f7-1863-47ed-a35b-a600a5dc92a7\")>,\n",
       " <selenium.webdriver.remote.webelement.WebElement (session=\"9e65912bb985a0cc43edf948a895d5df\", element=\"57abaaec-efca-4c87-b103-0a76651bf445\")>,\n",
       " <selenium.webdriver.remote.webelement.WebElement (session=\"9e65912bb985a0cc43edf948a895d5df\", element=\"409b6c18-c985-4a35-9900-c654d35d30ae\")>,\n",
       " <selenium.webdriver.remote.webelement.WebElement (session=\"9e65912bb985a0cc43edf948a895d5df\", element=\"910ca6ba-2914-41eb-8116-a48178cf823a\")>,\n",
       " <selenium.webdriver.remote.webelement.WebElement (session=\"9e65912bb985a0cc43edf948a895d5df\", element=\"415c3b0f-d77b-4013-8569-d32895d56d39\")>,\n",
       " <selenium.webdriver.remote.webelement.WebElement (session=\"9e65912bb985a0cc43edf948a895d5df\", element=\"9c5e04f9-5e42-4aef-9e5c-2ea885d34fd3\")>,\n",
       " <selenium.webdriver.remote.webelement.WebElement (session=\"9e65912bb985a0cc43edf948a895d5df\", element=\"3197cbc9-9286-4c1e-9504-e94c81b43a91\")>,\n",
       " <selenium.webdriver.remote.webelement.WebElement (session=\"9e65912bb985a0cc43edf948a895d5df\", element=\"c3b25759-ce82-4f50-95f1-5e97ca376db9\")>,\n",
       " <selenium.webdriver.remote.webelement.WebElement (session=\"9e65912bb985a0cc43edf948a895d5df\", element=\"0d72d3ed-7ef0-4061-9f9f-e4a84c4f7eca\")>,\n",
       " <selenium.webdriver.remote.webelement.WebElement (session=\"9e65912bb985a0cc43edf948a895d5df\", element=\"072ec81d-097b-44fc-825d-80bc8f107848\")>,\n",
       " <selenium.webdriver.remote.webelement.WebElement (session=\"9e65912bb985a0cc43edf948a895d5df\", element=\"f14c2c0a-c627-4a50-8550-c530ae8ebdcd\")>,\n",
       " <selenium.webdriver.remote.webelement.WebElement (session=\"9e65912bb985a0cc43edf948a895d5df\", element=\"ab18a292-5e08-4709-94fa-36b022c4d1f5\")>,\n",
       " <selenium.webdriver.remote.webelement.WebElement (session=\"9e65912bb985a0cc43edf948a895d5df\", element=\"b1f63939-6c2e-498d-9cb4-fd6ffff62bd3\")>,\n",
       " <selenium.webdriver.remote.webelement.WebElement (session=\"9e65912bb985a0cc43edf948a895d5df\", element=\"bcbbc048-baef-4732-9f3f-097a7be92e81\")>,\n",
       " <selenium.webdriver.remote.webelement.WebElement (session=\"9e65912bb985a0cc43edf948a895d5df\", element=\"a942aebf-2d22-4970-85e3-5562d2ef0330\")>,\n",
       " <selenium.webdriver.remote.webelement.WebElement (session=\"9e65912bb985a0cc43edf948a895d5df\", element=\"7d3bf88f-a4b4-4a1e-9b86-0072cd26b548\")>,\n",
       " <selenium.webdriver.remote.webelement.WebElement (session=\"9e65912bb985a0cc43edf948a895d5df\", element=\"7a1fcfc1-b5b1-454e-8aec-4d350da9863e\")>,\n",
       " <selenium.webdriver.remote.webelement.WebElement (session=\"9e65912bb985a0cc43edf948a895d5df\", element=\"358eecc9-3098-43bc-9462-cc7d5cb45dc8\")>,\n",
       " <selenium.webdriver.remote.webelement.WebElement (session=\"9e65912bb985a0cc43edf948a895d5df\", element=\"bec1c4ab-719c-42c4-83c3-061a428de22a\")>,\n",
       " <selenium.webdriver.remote.webelement.WebElement (session=\"9e65912bb985a0cc43edf948a895d5df\", element=\"a52fe8df-6403-49d2-8b10-5f034bb02b55\")>,\n",
       " <selenium.webdriver.remote.webelement.WebElement (session=\"9e65912bb985a0cc43edf948a895d5df\", element=\"5df57118-14b9-47f0-acde-0bd1c82475d2\")>,\n",
       " <selenium.webdriver.remote.webelement.WebElement (session=\"9e65912bb985a0cc43edf948a895d5df\", element=\"8f871b72-3eb9-4074-94b1-a409faeb3b96\")>,\n",
       " <selenium.webdriver.remote.webelement.WebElement (session=\"9e65912bb985a0cc43edf948a895d5df\", element=\"7ac865c1-74b1-427a-8e63-be44c6cf9389\")>,\n",
       " <selenium.webdriver.remote.webelement.WebElement (session=\"9e65912bb985a0cc43edf948a895d5df\", element=\"841bf766-9d7f-4ca0-847d-28bee9f8777e\")>,\n",
       " <selenium.webdriver.remote.webelement.WebElement (session=\"9e65912bb985a0cc43edf948a895d5df\", element=\"7d68e88d-dac7-4def-a7ad-b9ecbea31696\")>,\n",
       " <selenium.webdriver.remote.webelement.WebElement (session=\"9e65912bb985a0cc43edf948a895d5df\", element=\"2431eb70-454f-4054-844d-fd020aa57cae\")>,\n",
       " <selenium.webdriver.remote.webelement.WebElement (session=\"9e65912bb985a0cc43edf948a895d5df\", element=\"bfb81a19-433e-4af1-8da2-4344dee2f760\")>,\n",
       " <selenium.webdriver.remote.webelement.WebElement (session=\"9e65912bb985a0cc43edf948a895d5df\", element=\"d6ac9d61-a79f-4cca-ba05-4195e9d2b8ab\")>,\n",
       " <selenium.webdriver.remote.webelement.WebElement (session=\"9e65912bb985a0cc43edf948a895d5df\", element=\"83f7f8e0-1d37-4c80-bba7-41840832bbf3\")>,\n",
       " <selenium.webdriver.remote.webelement.WebElement (session=\"9e65912bb985a0cc43edf948a895d5df\", element=\"6335468f-6caa-424c-ae20-0fe151e82d71\")>,\n",
       " <selenium.webdriver.remote.webelement.WebElement (session=\"9e65912bb985a0cc43edf948a895d5df\", element=\"5761195b-e611-457f-8c1c-f31c5a721a16\")>,\n",
       " <selenium.webdriver.remote.webelement.WebElement (session=\"9e65912bb985a0cc43edf948a895d5df\", element=\"8566a5e1-a94b-45be-8ebb-9b1aae73891b\")>,\n",
       " <selenium.webdriver.remote.webelement.WebElement (session=\"9e65912bb985a0cc43edf948a895d5df\", element=\"b5eeb422-e220-46ef-bdef-7a3c2c69827e\")>,\n",
       " <selenium.webdriver.remote.webelement.WebElement (session=\"9e65912bb985a0cc43edf948a895d5df\", element=\"5e813897-7895-4450-8e98-b28f5606e43a\")>,\n",
       " <selenium.webdriver.remote.webelement.WebElement (session=\"9e65912bb985a0cc43edf948a895d5df\", element=\"64cafa62-0d28-4700-a7a5-3a63c95933f0\")>,\n",
       " <selenium.webdriver.remote.webelement.WebElement (session=\"9e65912bb985a0cc43edf948a895d5df\", element=\"afccfdb9-6576-45d8-a544-7c98feda61bf\")>,\n",
       " <selenium.webdriver.remote.webelement.WebElement (session=\"9e65912bb985a0cc43edf948a895d5df\", element=\"5544289a-80c3-4b46-b82a-8fefe188b6f4\")>,\n",
       " <selenium.webdriver.remote.webelement.WebElement (session=\"9e65912bb985a0cc43edf948a895d5df\", element=\"b34a4d1b-88e9-4b4b-86a7-78d07b85cf3c\")>,\n",
       " <selenium.webdriver.remote.webelement.WebElement (session=\"9e65912bb985a0cc43edf948a895d5df\", element=\"4be2b380-b022-4779-bc6c-7a56a5e1a48f\")>,\n",
       " <selenium.webdriver.remote.webelement.WebElement (session=\"9e65912bb985a0cc43edf948a895d5df\", element=\"ce471d20-6257-4124-83d7-ebfa1109d6fc\")>,\n",
       " <selenium.webdriver.remote.webelement.WebElement (session=\"9e65912bb985a0cc43edf948a895d5df\", element=\"c022d0e8-a009-494d-8e78-fef3d4fe7ae4\")>,\n",
       " <selenium.webdriver.remote.webelement.WebElement (session=\"9e65912bb985a0cc43edf948a895d5df\", element=\"06f3358a-6d0b-483e-9d89-1f398f0ed2cb\")>,\n",
       " <selenium.webdriver.remote.webelement.WebElement (session=\"9e65912bb985a0cc43edf948a895d5df\", element=\"63689905-c66e-4dea-a2b3-3368fe979b15\")>,\n",
       " <selenium.webdriver.remote.webelement.WebElement (session=\"9e65912bb985a0cc43edf948a895d5df\", element=\"979715ed-c52c-4365-ad3b-7b2989161e53\")>,\n",
       " <selenium.webdriver.remote.webelement.WebElement (session=\"9e65912bb985a0cc43edf948a895d5df\", element=\"185dfd40-8d30-425b-a039-3a982536be4b\")>,\n",
       " <selenium.webdriver.remote.webelement.WebElement (session=\"9e65912bb985a0cc43edf948a895d5df\", element=\"b50d5b90-c11c-4d66-80c3-c6cc8bc75418\")>,\n",
       " <selenium.webdriver.remote.webelement.WebElement (session=\"9e65912bb985a0cc43edf948a895d5df\", element=\"fd9714a6-59ea-47c0-ab9e-05bd1ab8ba22\")>,\n",
       " <selenium.webdriver.remote.webelement.WebElement (session=\"9e65912bb985a0cc43edf948a895d5df\", element=\"075cb1fa-1e54-4477-83c6-559eea8c74d8\")>,\n",
       " <selenium.webdriver.remote.webelement.WebElement (session=\"9e65912bb985a0cc43edf948a895d5df\", element=\"b8979ac5-9d9c-4079-a4d8-c91982738277\")>,\n",
       " <selenium.webdriver.remote.webelement.WebElement (session=\"9e65912bb985a0cc43edf948a895d5df\", element=\"3f196944-72b5-41f6-8e9a-40d770e5f529\")>,\n",
       " <selenium.webdriver.remote.webelement.WebElement (session=\"9e65912bb985a0cc43edf948a895d5df\", element=\"8dbcc8b3-4456-4f9b-afa9-d3aa5571dde6\")>,\n",
       " <selenium.webdriver.remote.webelement.WebElement (session=\"9e65912bb985a0cc43edf948a895d5df\", element=\"e7f6b000-4474-4db7-86d1-58f26458e79f\")>,\n",
       " <selenium.webdriver.remote.webelement.WebElement (session=\"9e65912bb985a0cc43edf948a895d5df\", element=\"3918e764-c012-4081-9847-e513ef6efa87\")>,\n",
       " <selenium.webdriver.remote.webelement.WebElement (session=\"9e65912bb985a0cc43edf948a895d5df\", element=\"02dbdd6d-58cb-4976-b659-4ab638bf7b9a\")>,\n",
       " <selenium.webdriver.remote.webelement.WebElement (session=\"9e65912bb985a0cc43edf948a895d5df\", element=\"bdf8fd93-4d57-401a-aa62-52374b21bb64\")>,\n",
       " <selenium.webdriver.remote.webelement.WebElement (session=\"9e65912bb985a0cc43edf948a895d5df\", element=\"32ed4266-6ca1-4c10-bf72-c847395f14b0\")>,\n",
       " <selenium.webdriver.remote.webelement.WebElement (session=\"9e65912bb985a0cc43edf948a895d5df\", element=\"48eaafb8-9d8c-446a-98ad-d284d4849ea3\")>,\n",
       " <selenium.webdriver.remote.webelement.WebElement (session=\"9e65912bb985a0cc43edf948a895d5df\", element=\"abff40e1-edb3-4d32-995b-7397be4de0a4\")>,\n",
       " <selenium.webdriver.remote.webelement.WebElement (session=\"9e65912bb985a0cc43edf948a895d5df\", element=\"4e62d7be-1eb0-4ee3-aa84-b3bc40886716\")>,\n",
       " <selenium.webdriver.remote.webelement.WebElement (session=\"9e65912bb985a0cc43edf948a895d5df\", element=\"07c842fa-69bc-42f2-88ce-7631e45f361b\")>,\n",
       " <selenium.webdriver.remote.webelement.WebElement (session=\"9e65912bb985a0cc43edf948a895d5df\", element=\"62d1b67e-a9b6-421f-8400-2809596ed829\")>,\n",
       " <selenium.webdriver.remote.webelement.WebElement (session=\"9e65912bb985a0cc43edf948a895d5df\", element=\"8529c2c6-360a-473c-aa42-1fdfd3bb844a\")>,\n",
       " <selenium.webdriver.remote.webelement.WebElement (session=\"9e65912bb985a0cc43edf948a895d5df\", element=\"f32b4ea3-4806-44c7-a2a0-31f150b81eef\")>,\n",
       " <selenium.webdriver.remote.webelement.WebElement (session=\"9e65912bb985a0cc43edf948a895d5df\", element=\"70178cd7-4a87-4b33-b59c-d84ccb061fea\")>,\n",
       " <selenium.webdriver.remote.webelement.WebElement (session=\"9e65912bb985a0cc43edf948a895d5df\", element=\"c819abd8-fb53-4fd2-8f0e-224de3ff42aa\")>,\n",
       " <selenium.webdriver.remote.webelement.WebElement (session=\"9e65912bb985a0cc43edf948a895d5df\", element=\"859777c3-3688-46bc-bb46-566a2dcb5f5a\")>,\n",
       " <selenium.webdriver.remote.webelement.WebElement (session=\"9e65912bb985a0cc43edf948a895d5df\", element=\"ce57ddcc-c112-41ca-94a5-8802bd8d5c61\")>,\n",
       " <selenium.webdriver.remote.webelement.WebElement (session=\"9e65912bb985a0cc43edf948a895d5df\", element=\"27ae796c-00cb-4797-9c26-7d9f70fc29ab\")>,\n",
       " <selenium.webdriver.remote.webelement.WebElement (session=\"9e65912bb985a0cc43edf948a895d5df\", element=\"adb7ac18-3685-47b0-b879-2dd87aef367c\")>,\n",
       " <selenium.webdriver.remote.webelement.WebElement (session=\"9e65912bb985a0cc43edf948a895d5df\", element=\"ecd666a3-b565-4838-9bff-aba4bd8846a1\")>,\n",
       " <selenium.webdriver.remote.webelement.WebElement (session=\"9e65912bb985a0cc43edf948a895d5df\", element=\"d0f78625-9cf9-4e32-8d59-ce3ca190a9ec\")>,\n",
       " <selenium.webdriver.remote.webelement.WebElement (session=\"9e65912bb985a0cc43edf948a895d5df\", element=\"9d750ec7-139a-422a-ae6c-b4fb5d7d7e69\")>,\n",
       " <selenium.webdriver.remote.webelement.WebElement (session=\"9e65912bb985a0cc43edf948a895d5df\", element=\"93135d5f-d01a-4aa4-a831-48e797a56531\")>,\n",
       " <selenium.webdriver.remote.webelement.WebElement (session=\"9e65912bb985a0cc43edf948a895d5df\", element=\"34e380c1-6e2e-4288-a70e-6f44fcc49428\")>,\n",
       " <selenium.webdriver.remote.webelement.WebElement (session=\"9e65912bb985a0cc43edf948a895d5df\", element=\"c8011dd8-8d18-4711-9484-0d079971f16c\")>,\n",
       " <selenium.webdriver.remote.webelement.WebElement (session=\"9e65912bb985a0cc43edf948a895d5df\", element=\"9068b688-104c-497b-b7e1-c7d6466a9e07\")>,\n",
       " <selenium.webdriver.remote.webelement.WebElement (session=\"9e65912bb985a0cc43edf948a895d5df\", element=\"00c91de4-9cff-4eca-ac5b-f17a50c4fe81\")>,\n",
       " <selenium.webdriver.remote.webelement.WebElement (session=\"9e65912bb985a0cc43edf948a895d5df\", element=\"021099d8-f8ac-4e91-a068-a8f8221b5fac\")>,\n",
       " <selenium.webdriver.remote.webelement.WebElement (session=\"9e65912bb985a0cc43edf948a895d5df\", element=\"deb0d289-f28a-4b80-8c0c-358c7a9afd36\")>,\n",
       " <selenium.webdriver.remote.webelement.WebElement (session=\"9e65912bb985a0cc43edf948a895d5df\", element=\"2aeb3692-6dca-4cb1-8060-01dfd93faf8c\")>,\n",
       " <selenium.webdriver.remote.webelement.WebElement (session=\"9e65912bb985a0cc43edf948a895d5df\", element=\"0cdc19a5-e08b-4ad0-bf3b-2272ac10c12f\")>,\n",
       " <selenium.webdriver.remote.webelement.WebElement (session=\"9e65912bb985a0cc43edf948a895d5df\", element=\"29ee5282-8851-46d8-82a3-e5145f1bc579\")>,\n",
       " <selenium.webdriver.remote.webelement.WebElement (session=\"9e65912bb985a0cc43edf948a895d5df\", element=\"c71640e5-d14c-44d4-9dc5-0d76808afbcd\")>,\n",
       " <selenium.webdriver.remote.webelement.WebElement (session=\"9e65912bb985a0cc43edf948a895d5df\", element=\"596ccb1c-28b4-4d9f-9741-32981e4a8121\")>,\n",
       " <selenium.webdriver.remote.webelement.WebElement (session=\"9e65912bb985a0cc43edf948a895d5df\", element=\"7ec7a7e2-94c7-4fef-a150-329e71147afd\")>,\n",
       " <selenium.webdriver.remote.webelement.WebElement (session=\"9e65912bb985a0cc43edf948a895d5df\", element=\"9e10c2c5-5d67-4883-9b8c-e6da7a58981b\")>,\n",
       " <selenium.webdriver.remote.webelement.WebElement (session=\"9e65912bb985a0cc43edf948a895d5df\", element=\"4f47effc-631a-4e53-bce3-e0693ce1e85e\")>,\n",
       " <selenium.webdriver.remote.webelement.WebElement (session=\"9e65912bb985a0cc43edf948a895d5df\", element=\"7807dffb-df98-48ae-92b9-09fec619e4b6\")>,\n",
       " <selenium.webdriver.remote.webelement.WebElement (session=\"9e65912bb985a0cc43edf948a895d5df\", element=\"4d9f278a-6860-41ec-a1e9-fc03f2c57614\")>,\n",
       " <selenium.webdriver.remote.webelement.WebElement (session=\"9e65912bb985a0cc43edf948a895d5df\", element=\"b0ec38b0-dfe1-4233-b166-1cf85e62c173\")>,\n",
       " <selenium.webdriver.remote.webelement.WebElement (session=\"9e65912bb985a0cc43edf948a895d5df\", element=\"d8eb3bfe-36e5-4ca3-ab8c-7285084cd8ec\")>,\n",
       " <selenium.webdriver.remote.webelement.WebElement (session=\"9e65912bb985a0cc43edf948a895d5df\", element=\"ef5ae51c-8560-4f55-a442-95649d331de3\")>,\n",
       " <selenium.webdriver.remote.webelement.WebElement (session=\"9e65912bb985a0cc43edf948a895d5df\", element=\"cb32bacf-9fb8-4778-a835-32dce6985c03\")>,\n",
       " <selenium.webdriver.remote.webelement.WebElement (session=\"9e65912bb985a0cc43edf948a895d5df\", element=\"98ec88b1-baab-4db8-a5e3-5ff55ad221ec\")>,\n",
       " <selenium.webdriver.remote.webelement.WebElement (session=\"9e65912bb985a0cc43edf948a895d5df\", element=\"32847bd4-d545-4233-a0f1-37235e2f18c7\")>,\n",
       " <selenium.webdriver.remote.webelement.WebElement (session=\"9e65912bb985a0cc43edf948a895d5df\", element=\"69fe4e1d-19b8-4dc4-b1fe-35d5c6333979\")>,\n",
       " <selenium.webdriver.remote.webelement.WebElement (session=\"9e65912bb985a0cc43edf948a895d5df\", element=\"de542fab-8c3b-4f77-863a-c635171569d5\")>,\n",
       " <selenium.webdriver.remote.webelement.WebElement (session=\"9e65912bb985a0cc43edf948a895d5df\", element=\"d9296276-8965-4229-9495-31c8020ba34d\")>,\n",
       " <selenium.webdriver.remote.webelement.WebElement (session=\"9e65912bb985a0cc43edf948a895d5df\", element=\"1ad174a9-acc3-4b5f-829b-292fe3241539\")>,\n",
       " <selenium.webdriver.remote.webelement.WebElement (session=\"9e65912bb985a0cc43edf948a895d5df\", element=\"a4902328-0cf3-449e-85b6-49d8a5034f87\")>,\n",
       " <selenium.webdriver.remote.webelement.WebElement (session=\"9e65912bb985a0cc43edf948a895d5df\", element=\"e15fbdc8-c1c0-42d8-b393-4d97ee002b87\")>,\n",
       " <selenium.webdriver.remote.webelement.WebElement (session=\"9e65912bb985a0cc43edf948a895d5df\", element=\"42505a5d-5460-4b3f-b871-ce04aea3a700\")>,\n",
       " <selenium.webdriver.remote.webelement.WebElement (session=\"9e65912bb985a0cc43edf948a895d5df\", element=\"53ca89c5-3fb1-45cc-9305-5b5336e44c16\")>,\n",
       " <selenium.webdriver.remote.webelement.WebElement (session=\"9e65912bb985a0cc43edf948a895d5df\", element=\"6136f168-b338-4b2c-b8f4-6cf254a7c813\")>,\n",
       " <selenium.webdriver.remote.webelement.WebElement (session=\"9e65912bb985a0cc43edf948a895d5df\", element=\"be770a4e-2569-4109-8fb1-fc7880e096fa\")>,\n",
       " <selenium.webdriver.remote.webelement.WebElement (session=\"9e65912bb985a0cc43edf948a895d5df\", element=\"f107015b-dd9a-472b-8524-9f367777d0cd\")>,\n",
       " <selenium.webdriver.remote.webelement.WebElement (session=\"9e65912bb985a0cc43edf948a895d5df\", element=\"7e687e5b-3b34-40d1-9dc8-198cd1da3ead\")>,\n",
       " <selenium.webdriver.remote.webelement.WebElement (session=\"9e65912bb985a0cc43edf948a895d5df\", element=\"62d395b6-eaee-4008-a214-87a5494d6685\")>,\n",
       " <selenium.webdriver.remote.webelement.WebElement (session=\"9e65912bb985a0cc43edf948a895d5df\", element=\"d275ce7e-576f-4a06-8545-0dbcafdb91ad\")>,\n",
       " <selenium.webdriver.remote.webelement.WebElement (session=\"9e65912bb985a0cc43edf948a895d5df\", element=\"30481c58-1abb-4726-a80e-f40db16334ea\")>,\n",
       " <selenium.webdriver.remote.webelement.WebElement (session=\"9e65912bb985a0cc43edf948a895d5df\", element=\"0a7b075d-4274-4155-bd99-5107466b46ef\")>,\n",
       " <selenium.webdriver.remote.webelement.WebElement (session=\"9e65912bb985a0cc43edf948a895d5df\", element=\"9fda9ff6-4a6d-49ac-b15a-1574e74d64a9\")>,\n",
       " <selenium.webdriver.remote.webelement.WebElement (session=\"9e65912bb985a0cc43edf948a895d5df\", element=\"a8abe9c7-71ef-4ff4-8b19-e07058805049\")>,\n",
       " <selenium.webdriver.remote.webelement.WebElement (session=\"9e65912bb985a0cc43edf948a895d5df\", element=\"88a5e1c0-c0b0-4475-bfc0-c45abe9e27f6\")>,\n",
       " <selenium.webdriver.remote.webelement.WebElement (session=\"9e65912bb985a0cc43edf948a895d5df\", element=\"0906eb5d-c4c6-4ce9-ac03-83f60c7e506f\")>,\n",
       " <selenium.webdriver.remote.webelement.WebElement (session=\"9e65912bb985a0cc43edf948a895d5df\", element=\"9165cbdf-0749-4850-98e6-d95221063770\")>,\n",
       " <selenium.webdriver.remote.webelement.WebElement (session=\"9e65912bb985a0cc43edf948a895d5df\", element=\"29e460e3-efc8-4636-95fb-6e3ab1bf7f27\")>,\n",
       " <selenium.webdriver.remote.webelement.WebElement (session=\"9e65912bb985a0cc43edf948a895d5df\", element=\"90f8cb2e-b266-457b-bcee-bc6e1d196b50\")>,\n",
       " <selenium.webdriver.remote.webelement.WebElement (session=\"9e65912bb985a0cc43edf948a895d5df\", element=\"943cbeb9-ecd5-484a-8dbb-0bf2827fc113\")>,\n",
       " <selenium.webdriver.remote.webelement.WebElement (session=\"9e65912bb985a0cc43edf948a895d5df\", element=\"3f838663-4268-453c-ab92-b85447a42b66\")>,\n",
       " <selenium.webdriver.remote.webelement.WebElement (session=\"9e65912bb985a0cc43edf948a895d5df\", element=\"171214ae-e94d-430b-98c5-0c2bff9424d4\")>,\n",
       " <selenium.webdriver.remote.webelement.WebElement (session=\"9e65912bb985a0cc43edf948a895d5df\", element=\"f97809ca-4e7c-4429-96b7-a01b96522b49\")>,\n",
       " <selenium.webdriver.remote.webelement.WebElement (session=\"9e65912bb985a0cc43edf948a895d5df\", element=\"700cf574-1826-42f3-887b-846ab7c8da0b\")>,\n",
       " <selenium.webdriver.remote.webelement.WebElement (session=\"9e65912bb985a0cc43edf948a895d5df\", element=\"89c14827-75f7-4365-a5b5-4dbda4b146ff\")>,\n",
       " <selenium.webdriver.remote.webelement.WebElement (session=\"9e65912bb985a0cc43edf948a895d5df\", element=\"883179c8-63ce-4f63-8dac-eb002947b8fb\")>,\n",
       " <selenium.webdriver.remote.webelement.WebElement (session=\"9e65912bb985a0cc43edf948a895d5df\", element=\"da0e8f50-50b2-42f9-8cd7-a7d59d00fdf7\")>,\n",
       " <selenium.webdriver.remote.webelement.WebElement (session=\"9e65912bb985a0cc43edf948a895d5df\", element=\"b46ddaae-4585-4180-92a0-4bb2597b8811\")>,\n",
       " <selenium.webdriver.remote.webelement.WebElement (session=\"9e65912bb985a0cc43edf948a895d5df\", element=\"e8870f0e-1e3e-4ae2-9ff8-adc5e9645553\")>,\n",
       " <selenium.webdriver.remote.webelement.WebElement (session=\"9e65912bb985a0cc43edf948a895d5df\", element=\"a0da303d-fd2b-43e2-a03d-58b6aabcf083\")>,\n",
       " <selenium.webdriver.remote.webelement.WebElement (session=\"9e65912bb985a0cc43edf948a895d5df\", element=\"fe8be69c-1cb2-4955-b582-2d031280382e\")>,\n",
       " <selenium.webdriver.remote.webelement.WebElement (session=\"9e65912bb985a0cc43edf948a895d5df\", element=\"0d19344c-4a08-488e-aa11-86de715c85cf\")>,\n",
       " <selenium.webdriver.remote.webelement.WebElement (session=\"9e65912bb985a0cc43edf948a895d5df\", element=\"100729d2-d1b7-4af7-a8e3-ef9640462af2\")>,\n",
       " <selenium.webdriver.remote.webelement.WebElement (session=\"9e65912bb985a0cc43edf948a895d5df\", element=\"7ba73ed6-8584-44c3-9295-1e329c563141\")>,\n",
       " <selenium.webdriver.remote.webelement.WebElement (session=\"9e65912bb985a0cc43edf948a895d5df\", element=\"ee6e8544-f608-48fe-89ed-46a91add5aed\")>,\n",
       " <selenium.webdriver.remote.webelement.WebElement (session=\"9e65912bb985a0cc43edf948a895d5df\", element=\"b3a16bb2-0bc8-481d-ba9f-30edf723d2d1\")>,\n",
       " <selenium.webdriver.remote.webelement.WebElement (session=\"9e65912bb985a0cc43edf948a895d5df\", element=\"14599377-d4f8-47e8-a6b7-17ca9e1d5221\")>,\n",
       " <selenium.webdriver.remote.webelement.WebElement (session=\"9e65912bb985a0cc43edf948a895d5df\", element=\"806a451c-bdc7-4e45-b15e-b5bc0629dec0\")>,\n",
       " <selenium.webdriver.remote.webelement.WebElement (session=\"9e65912bb985a0cc43edf948a895d5df\", element=\"6021bb9b-13f9-4bfc-bb9e-049084602b7c\")>,\n",
       " <selenium.webdriver.remote.webelement.WebElement (session=\"9e65912bb985a0cc43edf948a895d5df\", element=\"1a9b1ba3-8591-487c-a827-c107d6531500\")>,\n",
       " <selenium.webdriver.remote.webelement.WebElement (session=\"9e65912bb985a0cc43edf948a895d5df\", element=\"d22af7ae-cded-44e5-8cfc-7d49fdadd44d\")>,\n",
       " <selenium.webdriver.remote.webelement.WebElement (session=\"9e65912bb985a0cc43edf948a895d5df\", element=\"13e2d7ba-d5b3-4d84-b7c7-20a37a4a773f\")>,\n",
       " <selenium.webdriver.remote.webelement.WebElement (session=\"9e65912bb985a0cc43edf948a895d5df\", element=\"87d05707-c3f7-416e-ba19-4dde7fc82582\")>,\n",
       " <selenium.webdriver.remote.webelement.WebElement (session=\"9e65912bb985a0cc43edf948a895d5df\", element=\"165c2dc1-04b8-4f7b-884c-d0fc86181436\")>,\n",
       " <selenium.webdriver.remote.webelement.WebElement (session=\"9e65912bb985a0cc43edf948a895d5df\", element=\"cfcfa233-2856-4329-9741-39e585d71709\")>,\n",
       " <selenium.webdriver.remote.webelement.WebElement (session=\"9e65912bb985a0cc43edf948a895d5df\", element=\"9735d541-f419-4eca-8342-ed759a5cbaf4\")>,\n",
       " <selenium.webdriver.remote.webelement.WebElement (session=\"9e65912bb985a0cc43edf948a895d5df\", element=\"02f14aa4-8619-4fda-87ff-ec71f6317dfc\")>,\n",
       " <selenium.webdriver.remote.webelement.WebElement (session=\"9e65912bb985a0cc43edf948a895d5df\", element=\"2232c4f7-7213-4c53-a963-bcc4aa3bfcc8\")>,\n",
       " <selenium.webdriver.remote.webelement.WebElement (session=\"9e65912bb985a0cc43edf948a895d5df\", element=\"77897e48-d0f8-455a-971e-5d0b38be2432\")>,\n",
       " <selenium.webdriver.remote.webelement.WebElement (session=\"9e65912bb985a0cc43edf948a895d5df\", element=\"72530e00-8887-4bb7-bc04-10e235c16eec\")>,\n",
       " <selenium.webdriver.remote.webelement.WebElement (session=\"9e65912bb985a0cc43edf948a895d5df\", element=\"d79558dd-b5c5-4971-baf4-3d9d448e0c02\")>,\n",
       " <selenium.webdriver.remote.webelement.WebElement (session=\"9e65912bb985a0cc43edf948a895d5df\", element=\"15a6b69b-bbcd-4f98-ad8b-7f2bef31a739\")>,\n",
       " <selenium.webdriver.remote.webelement.WebElement (session=\"9e65912bb985a0cc43edf948a895d5df\", element=\"480ca293-d30b-40c5-be3d-6313a5665bae\")>,\n",
       " <selenium.webdriver.remote.webelement.WebElement (session=\"9e65912bb985a0cc43edf948a895d5df\", element=\"4a7ef97d-a32c-4b73-92b7-621692bd3de2\")>,\n",
       " <selenium.webdriver.remote.webelement.WebElement (session=\"9e65912bb985a0cc43edf948a895d5df\", element=\"c9e8b8a6-321e-417f-8106-08e3e6bdf222\")>,\n",
       " <selenium.webdriver.remote.webelement.WebElement (session=\"9e65912bb985a0cc43edf948a895d5df\", element=\"6196c09e-b59e-4a79-8c0c-0e774c36d50c\")>,\n",
       " <selenium.webdriver.remote.webelement.WebElement (session=\"9e65912bb985a0cc43edf948a895d5df\", element=\"0b4231a0-af4c-467b-b0a5-8c6846117362\")>,\n",
       " <selenium.webdriver.remote.webelement.WebElement (session=\"9e65912bb985a0cc43edf948a895d5df\", element=\"9f3e0ca7-7cbb-4b1f-a1c2-f4c7eb7ce5ce\")>,\n",
       " <selenium.webdriver.remote.webelement.WebElement (session=\"9e65912bb985a0cc43edf948a895d5df\", element=\"1c5a8c31-ad46-4783-a18c-825a7356ba5f\")>,\n",
       " <selenium.webdriver.remote.webelement.WebElement (session=\"9e65912bb985a0cc43edf948a895d5df\", element=\"88a8124f-4d16-41f8-a778-34a0c40d0d17\")>,\n",
       " <selenium.webdriver.remote.webelement.WebElement (session=\"9e65912bb985a0cc43edf948a895d5df\", element=\"acada5cb-c907-4192-93fc-eda991f59928\")>,\n",
       " <selenium.webdriver.remote.webelement.WebElement (session=\"9e65912bb985a0cc43edf948a895d5df\", element=\"d1a302aa-c0a3-4726-8fcd-25cb4617123c\")>,\n",
       " <selenium.webdriver.remote.webelement.WebElement (session=\"9e65912bb985a0cc43edf948a895d5df\", element=\"38e2df9e-8205-4eb2-af98-f2c3ecf0f9ed\")>,\n",
       " <selenium.webdriver.remote.webelement.WebElement (session=\"9e65912bb985a0cc43edf948a895d5df\", element=\"a840e618-dab3-40ad-814e-014848172bc0\")>,\n",
       " <selenium.webdriver.remote.webelement.WebElement (session=\"9e65912bb985a0cc43edf948a895d5df\", element=\"01240ac8-cf92-4380-a7db-57a95ca80c12\")>,\n",
       " <selenium.webdriver.remote.webelement.WebElement (session=\"9e65912bb985a0cc43edf948a895d5df\", element=\"d8e69dfe-2449-4181-bc1d-2336bb945615\")>,\n",
       " <selenium.webdriver.remote.webelement.WebElement (session=\"9e65912bb985a0cc43edf948a895d5df\", element=\"6750e965-c9fe-46aa-8b7a-799345d59960\")>,\n",
       " <selenium.webdriver.remote.webelement.WebElement (session=\"9e65912bb985a0cc43edf948a895d5df\", element=\"889ceb2a-bae1-4638-a058-595024826d59\")>,\n",
       " <selenium.webdriver.remote.webelement.WebElement (session=\"9e65912bb985a0cc43edf948a895d5df\", element=\"6def8aea-a54d-4fa4-af21-ea8e80f92a1b\")>,\n",
       " <selenium.webdriver.remote.webelement.WebElement (session=\"9e65912bb985a0cc43edf948a895d5df\", element=\"9b7aa1ac-3604-49c9-9abd-ed9a2498fc65\")>,\n",
       " <selenium.webdriver.remote.webelement.WebElement (session=\"9e65912bb985a0cc43edf948a895d5df\", element=\"c6a7e444-3282-4e39-9b71-a171b10bfeb3\")>,\n",
       " <selenium.webdriver.remote.webelement.WebElement (session=\"9e65912bb985a0cc43edf948a895d5df\", element=\"83dc16e4-67fd-4e2d-b2a2-553c1910e61c\")>,\n",
       " <selenium.webdriver.remote.webelement.WebElement (session=\"9e65912bb985a0cc43edf948a895d5df\", element=\"8247d4d3-1d7e-41bc-9f3c-56e5390af82c\")>,\n",
       " <selenium.webdriver.remote.webelement.WebElement (session=\"9e65912bb985a0cc43edf948a895d5df\", element=\"1c9e1a0c-5b23-4fc6-87a2-d422b73bae61\")>,\n",
       " <selenium.webdriver.remote.webelement.WebElement (session=\"9e65912bb985a0cc43edf948a895d5df\", element=\"7fe42b2a-cc84-4f21-9f09-2bd5b6978834\")>,\n",
       " <selenium.webdriver.remote.webelement.WebElement (session=\"9e65912bb985a0cc43edf948a895d5df\", element=\"4751dd08-a081-403c-855e-8c2a4b248319\")>,\n",
       " <selenium.webdriver.remote.webelement.WebElement (session=\"9e65912bb985a0cc43edf948a895d5df\", element=\"ca27200d-e652-4031-8f0f-6b68d80ea375\")>,\n",
       " <selenium.webdriver.remote.webelement.WebElement (session=\"9e65912bb985a0cc43edf948a895d5df\", element=\"d0594098-3f4c-4169-a10d-f5d82a026c8c\")>,\n",
       " <selenium.webdriver.remote.webelement.WebElement (session=\"9e65912bb985a0cc43edf948a895d5df\", element=\"63d5b5d8-3509-4c9a-a234-aee82464b133\")>,\n",
       " <selenium.webdriver.remote.webelement.WebElement (session=\"9e65912bb985a0cc43edf948a895d5df\", element=\"9c04d41f-39ac-4693-b7a2-812428a27b09\")>,\n",
       " <selenium.webdriver.remote.webelement.WebElement (session=\"9e65912bb985a0cc43edf948a895d5df\", element=\"4d927e70-3f8b-446b-99a2-ba062ec5c0c2\")>,\n",
       " <selenium.webdriver.remote.webelement.WebElement (session=\"9e65912bb985a0cc43edf948a895d5df\", element=\"8b61261d-08fe-4ecc-bed1-4fb836c7f4ad\")>,\n",
       " <selenium.webdriver.remote.webelement.WebElement (session=\"9e65912bb985a0cc43edf948a895d5df\", element=\"b0db4369-3234-4a98-8c20-fe2ead66596c\")>,\n",
       " <selenium.webdriver.remote.webelement.WebElement (session=\"9e65912bb985a0cc43edf948a895d5df\", element=\"2bef6bca-b48e-40b9-b87b-a893f772d28a\")>,\n",
       " <selenium.webdriver.remote.webelement.WebElement (session=\"9e65912bb985a0cc43edf948a895d5df\", element=\"475ee66d-a5b2-42a1-8278-141c96f68d40\")>,\n",
       " <selenium.webdriver.remote.webelement.WebElement (session=\"9e65912bb985a0cc43edf948a895d5df\", element=\"a1f20ff0-d5ff-4920-a6ae-1badcf32653c\")>,\n",
       " <selenium.webdriver.remote.webelement.WebElement (session=\"9e65912bb985a0cc43edf948a895d5df\", element=\"605f2b1b-c259-4d1c-8eca-10129c4f366a\")>,\n",
       " <selenium.webdriver.remote.webelement.WebElement (session=\"9e65912bb985a0cc43edf948a895d5df\", element=\"462c0dc3-a824-409a-961d-bd74268fcfc8\")>,\n",
       " <selenium.webdriver.remote.webelement.WebElement (session=\"9e65912bb985a0cc43edf948a895d5df\", element=\"39e0ff1e-5109-478e-82ca-e013076d4caf\")>,\n",
       " <selenium.webdriver.remote.webelement.WebElement (session=\"9e65912bb985a0cc43edf948a895d5df\", element=\"ea031041-9b25-4475-8ae6-d0a277412db6\")>,\n",
       " <selenium.webdriver.remote.webelement.WebElement (session=\"9e65912bb985a0cc43edf948a895d5df\", element=\"b360a0b0-c3d4-4403-ab3e-1f84a1821cd9\")>,\n",
       " <selenium.webdriver.remote.webelement.WebElement (session=\"9e65912bb985a0cc43edf948a895d5df\", element=\"a42f1c5b-1676-4506-a7a7-c083cba832dc\")>,\n",
       " <selenium.webdriver.remote.webelement.WebElement (session=\"9e65912bb985a0cc43edf948a895d5df\", element=\"78de35d3-c75f-4b09-aa4b-78ce8af891ce\")>,\n",
       " <selenium.webdriver.remote.webelement.WebElement (session=\"9e65912bb985a0cc43edf948a895d5df\", element=\"b2a59fdf-383b-46a5-9393-3ebb4197d6db\")>,\n",
       " <selenium.webdriver.remote.webelement.WebElement (session=\"9e65912bb985a0cc43edf948a895d5df\", element=\"62a7b770-1092-4044-9646-08f33659e2bc\")>,\n",
       " <selenium.webdriver.remote.webelement.WebElement (session=\"9e65912bb985a0cc43edf948a895d5df\", element=\"8fce571f-f73e-4fa6-92a6-46a77c98d395\")>,\n",
       " <selenium.webdriver.remote.webelement.WebElement (session=\"9e65912bb985a0cc43edf948a895d5df\", element=\"b9c469f3-6f66-45f3-b5f7-4a6983fbec25\")>,\n",
       " <selenium.webdriver.remote.webelement.WebElement (session=\"9e65912bb985a0cc43edf948a895d5df\", element=\"49a50153-39a4-41f2-8c95-62db22e928a6\")>,\n",
       " <selenium.webdriver.remote.webelement.WebElement (session=\"9e65912bb985a0cc43edf948a895d5df\", element=\"b6b85f44-26fc-46b8-bc8d-7619d7f6c087\")>,\n",
       " <selenium.webdriver.remote.webelement.WebElement (session=\"9e65912bb985a0cc43edf948a895d5df\", element=\"a947bab1-3466-4950-adc5-79a9a60266e7\")>,\n",
       " <selenium.webdriver.remote.webelement.WebElement (session=\"9e65912bb985a0cc43edf948a895d5df\", element=\"8b5ae945-d25a-4e93-aed5-c6e0ca1b6440\")>,\n",
       " <selenium.webdriver.remote.webelement.WebElement (session=\"9e65912bb985a0cc43edf948a895d5df\", element=\"ee1f354b-c989-4af6-9a67-1615da32be62\")>,\n",
       " <selenium.webdriver.remote.webelement.WebElement (session=\"9e65912bb985a0cc43edf948a895d5df\", element=\"8633e65a-9506-4e5d-8f7f-b7a8148d4050\")>,\n",
       " <selenium.webdriver.remote.webelement.WebElement (session=\"9e65912bb985a0cc43edf948a895d5df\", element=\"75aa609a-4c1a-4464-a4de-86facdcd73fd\")>,\n",
       " <selenium.webdriver.remote.webelement.WebElement (session=\"9e65912bb985a0cc43edf948a895d5df\", element=\"c4fab584-dc26-4d6a-9d6d-b75ee9c087b2\")>,\n",
       " <selenium.webdriver.remote.webelement.WebElement (session=\"9e65912bb985a0cc43edf948a895d5df\", element=\"189a1789-fdbd-4840-bb5a-e3e37cca1b58\")>,\n",
       " <selenium.webdriver.remote.webelement.WebElement (session=\"9e65912bb985a0cc43edf948a895d5df\", element=\"7aa1f9fb-d642-47b2-99c6-f03548081029\")>,\n",
       " <selenium.webdriver.remote.webelement.WebElement (session=\"9e65912bb985a0cc43edf948a895d5df\", element=\"cd8d5006-3e80-43c6-9253-356276c54cf8\")>,\n",
       " <selenium.webdriver.remote.webelement.WebElement (session=\"9e65912bb985a0cc43edf948a895d5df\", element=\"d55a7ac0-d679-4f4c-acc7-2931cd08fe18\")>,\n",
       " <selenium.webdriver.remote.webelement.WebElement (session=\"9e65912bb985a0cc43edf948a895d5df\", element=\"8f0ef061-1e00-4d4b-a131-a030a330ba7b\")>,\n",
       " <selenium.webdriver.remote.webelement.WebElement (session=\"9e65912bb985a0cc43edf948a895d5df\", element=\"d5052563-83ad-4a24-aa7e-57ffe7dc19d0\")>,\n",
       " <selenium.webdriver.remote.webelement.WebElement (session=\"9e65912bb985a0cc43edf948a895d5df\", element=\"b9a580ea-407a-4234-9214-29cf21836a3a\")>]"
      ]
     },
     "execution_count": 236,
     "metadata": {},
     "output_type": "execute_result"
    }
   ],
   "source": [
    "#your code\n",
    "\n",
    "driver.get(url12)\n",
    "\n",
    "titles_wiki= driver.find_elements(By.TAG_NAME, 'a')\n",
    "\n",
    "titles_wiki"
   ]
  },
  {
   "cell_type": "code",
   "execution_count": 246,
   "metadata": {},
   "outputs": [
    {
     "data": {
      "text/plain": [
       "[['Español', '1 755 000+ artículos'],\n",
       " ['English', '6 458 000+ articles'],\n",
       " ['日本語', '1 314 000+ 記事'],\n",
       " ['Русский', '1 798 000+ статей'],\n",
       " ['Deutsch', '2 667 000+ Artikel'],\n",
       " ['Français', '2 400 000+ articles'],\n",
       " ['Italiano', '1 742 000+ voci'],\n",
       " ['中文', '1 256 000+ 条目 / 條目'],\n",
       " ['Português', '1 085 000+ artigos'],\n",
       " ['العربية', '1 159 000+ مقالة']]"
      ]
     },
     "execution_count": 246,
     "metadata": {},
     "output_type": "execute_result"
    }
   ],
   "source": [
    "lookfinal6 = [e.text.strip().split('\\n') for e in driver.find_elements(By.TAG_NAME, 'a')]\n",
    "lookfinal6[:10]"
   ]
  },
  {
   "cell_type": "code",
   "execution_count": null,
   "metadata": {},
   "outputs": [],
   "source": []
  },
  {
   "cell_type": "markdown",
   "metadata": {},
   "source": [
    "-----"
   ]
  },
  {
   "cell_type": "markdown",
   "metadata": {},
   "source": [
    "#### A list with the different kind of datasets available in data.gov.uk "
   ]
  },
  {
   "cell_type": "markdown",
   "metadata": {},
   "source": [
    "---"
   ]
  },
  {
   "cell_type": "code",
   "execution_count": 247,
   "metadata": {},
   "outputs": [],
   "source": [
    "# This is the url you will scrape in this exercise\n",
    "url14 = 'https://data.gov.uk/'"
   ]
  },
  {
   "cell_type": "code",
   "execution_count": 250,
   "metadata": {},
   "outputs": [
    {
     "data": {
      "text/plain": [
       "[<selenium.webdriver.remote.webelement.WebElement (session=\"9e65912bb985a0cc43edf948a895d5df\", element=\"bc35e9d5-031c-4ddc-bcb0-6ffd4539aa0d\")>,\n",
       " <selenium.webdriver.remote.webelement.WebElement (session=\"9e65912bb985a0cc43edf948a895d5df\", element=\"a5ebfc49-bb7a-49c7-932b-6606188b8470\")>,\n",
       " <selenium.webdriver.remote.webelement.WebElement (session=\"9e65912bb985a0cc43edf948a895d5df\", element=\"929c127c-00cc-48a8-a25a-a23e5f9f3555\")>,\n",
       " <selenium.webdriver.remote.webelement.WebElement (session=\"9e65912bb985a0cc43edf948a895d5df\", element=\"1493da7d-f581-4dd4-93bd-4c502ab4a743\")>,\n",
       " <selenium.webdriver.remote.webelement.WebElement (session=\"9e65912bb985a0cc43edf948a895d5df\", element=\"c36876e4-791c-49ce-a799-1488874ab363\")>,\n",
       " <selenium.webdriver.remote.webelement.WebElement (session=\"9e65912bb985a0cc43edf948a895d5df\", element=\"7e28d7d8-b925-416d-8073-f13678b3c6f5\")>,\n",
       " <selenium.webdriver.remote.webelement.WebElement (session=\"9e65912bb985a0cc43edf948a895d5df\", element=\"c035b5dc-9019-4991-a74e-de12ede55677\")>,\n",
       " <selenium.webdriver.remote.webelement.WebElement (session=\"9e65912bb985a0cc43edf948a895d5df\", element=\"65ad9d9c-418d-44c7-8240-315aec838b93\")>,\n",
       " <selenium.webdriver.remote.webelement.WebElement (session=\"9e65912bb985a0cc43edf948a895d5df\", element=\"caa15cdb-d4bc-4beb-a61a-2ad2574a45f8\")>,\n",
       " <selenium.webdriver.remote.webelement.WebElement (session=\"9e65912bb985a0cc43edf948a895d5df\", element=\"ae73ce08-331b-472b-9af4-8f7569ba9af4\")>,\n",
       " <selenium.webdriver.remote.webelement.WebElement (session=\"9e65912bb985a0cc43edf948a895d5df\", element=\"3983ca58-5c92-4c82-9af2-1d6e60639109\")>,\n",
       " <selenium.webdriver.remote.webelement.WebElement (session=\"9e65912bb985a0cc43edf948a895d5df\", element=\"4d5daa84-f540-4702-ba3f-2bba63ff1325\")>,\n",
       " <selenium.webdriver.remote.webelement.WebElement (session=\"9e65912bb985a0cc43edf948a895d5df\", element=\"03da04c6-c236-4b0d-bbc6-243bcf33698a\")>,\n",
       " <selenium.webdriver.remote.webelement.WebElement (session=\"9e65912bb985a0cc43edf948a895d5df\", element=\"5c678695-b1d1-4510-8a2f-cb819b0c5980\")>]"
      ]
     },
     "execution_count": 250,
     "metadata": {},
     "output_type": "execute_result"
    }
   ],
   "source": [
    "#your code \n",
    "\n",
    "driver.get(url14)\n",
    "\n",
    "titles_gov= driver.find_elements(By.TAG_NAME, 'h3')\n",
    "\n",
    "titles_gov\n"
   ]
  },
  {
   "cell_type": "code",
   "execution_count": 251,
   "metadata": {},
   "outputs": [
    {
     "data": {
      "text/plain": [
       "['Business and economy',\n",
       " 'Crime and justice',\n",
       " 'Defence',\n",
       " 'Education',\n",
       " 'Environment',\n",
       " 'Government',\n",
       " 'Government spending',\n",
       " 'Health',\n",
       " 'Mapping',\n",
       " 'Society']"
      ]
     },
     "execution_count": 251,
     "metadata": {},
     "output_type": "execute_result"
    }
   ],
   "source": [
    "lookfinal12 = [e.text.strip() for e in driver.find_elements(By.TAG_NAME, 'h3')]\n",
    "lookfinal12[:10]"
   ]
  },
  {
   "cell_type": "markdown",
   "metadata": {},
   "source": [
    "#### Top 10 languages by number of native speakers stored in a Pandas Dataframe"
   ]
  },
  {
   "cell_type": "code",
   "execution_count": 252,
   "metadata": {},
   "outputs": [],
   "source": [
    "# This is the url you will scrape in this exercise\n",
    "url15= 'https://en.wikipedia.org/wiki/List_of_languages_by_number_of_native_speakers'"
   ]
  },
  {
   "cell_type": "code",
   "execution_count": 253,
   "metadata": {},
   "outputs": [],
   "source": [
    "driver.get(url15)\n"
   ]
  },
  {
   "cell_type": "code",
   "execution_count": 270,
   "metadata": {},
   "outputs": [
    {
     "data": {
      "text/plain": [
       "[[],\n",
       " ['1', 'Mandarin Chinese', '929.0', '11.922%', 'Sino-Tibetan', 'Sinitic'],\n",
       " ['2', 'Spanish', '474.7', '5.994%', 'Indo-European', 'Romance'],\n",
       " ['3', 'English', '372.9', '4.922%', 'Indo-European', 'Germanic'],\n",
       " ['4',\n",
       "  'Hindi (Sanskritised Hindustani)[11]',\n",
       "  '343.9',\n",
       "  '4.429%',\n",
       "  'Indo-European',\n",
       "  'Indo-Aryan'],\n",
       " ['5', 'Bengali', '233.7', '4.000%', 'Indo-European', 'Indo-Aryan'],\n",
       " ['6', 'Portuguese', '232.4', '2.870%', 'Indo-European', 'Romance'],\n",
       " ['7', 'Russian', '154.0', '2.000%', 'Indo-European', 'Balto-Slavic'],\n",
       " ['8', 'Japanese', '125.3', '1.662%', 'Japonic', 'Japanese'],\n",
       " ['9', 'Western Punjabi[12]', '92.7', '1.204%', 'Indo-European', 'Indo-Aryan'],\n",
       " ['10', 'Yue Chinese', '85.2', '0.949%', 'Sino-Tibetan', 'Sinitic'],\n",
       " ['11', 'Vietnamese', '84.6', '0.987%', 'Austroasiatic', 'Vietic'],\n",
       " ['12', 'Marathi', '83.1', '1.079%', 'Indo-European', 'Indo-Aryan'],\n",
       " ['13', 'Telugu', '82.0', '1.065%', 'Dravidian', 'South-Central'],\n",
       " ['14', 'Turkish', '82.2', '1.031%', 'Turkic', 'Oghuz'],\n",
       " ['15', 'Wu Chinese', '81.7', '1.057%', 'Sino-Tibetan', 'Sinitic'],\n",
       " ['16', 'Korean', '81.7', '1.004%', 'Koreanic', 'language isolate'],\n",
       " ['17', 'French', '79.9', '1.003%', 'Indo-European', 'Romance'],\n",
       " ['18',\n",
       "  'German (only Standard German)',\n",
       "  '75.6',\n",
       "  '0.988%',\n",
       "  'Indo-European',\n",
       "  'Germanic'],\n",
       " ['19', 'Tamil', '75.0', '0.974%', 'Dravidian', 'South'],\n",
       " ['20',\n",
       "  'Urdu (Persianised Hindustani)[11]',\n",
       "  '70.2',\n",
       "  '0.891%',\n",
       "  'Indo-European',\n",
       "  'Indo-Aryan'],\n",
       " ['21', 'Javanese', '68.3', '0.887%', 'Austronesian', 'Malayo-Polynesian'],\n",
       " ['22', 'Italian', '64.8', '0.842%', 'Indo-European', 'Romance'],\n",
       " ['23', 'Egyptian Arabic', '64.6[a]', '0.839%', 'Afroasiatic', 'Semitic'],\n",
       " ['24', 'Gujarati', '57.0', '0.732%', 'Indo-European', 'Indo-Aryan'],\n",
       " ['25', 'Iranian Persian', '56.4', '0.686%', 'Indo-European', 'Iranian'],\n",
       " ['26', 'Bhojpuri', '52.2', '0.678%', 'Indo-European', 'Indo-Aryan'],\n",
       " ['27', 'Southern Min', '50.1', '0.651%', 'Sino-Tibetan', 'Sinitic'],\n",
       " ['28', 'Hakka', '48.2', '0.626%', 'Sino-Tibetan', 'Sinitic'],\n",
       " ['29', 'Jin Chinese', '46.9', '0.609%', 'Sino-Tibetan', 'Sinitic'],\n",
       " ['30', 'Hausa', '43.9', '0.570%', 'Afroasiatic', 'Chadic'],\n",
       " ['31', 'Kannada', '43.6', '0.566%', 'Dravidian', 'South'],\n",
       " ['32',\n",
       "  'Indonesian',\n",
       "  '43.6[b]',\n",
       "  '0.564%',\n",
       "  'Austronesian',\n",
       "  'Malayo-Polynesian'],\n",
       " ['33', 'Yoruba', '43.6', '0.491%', 'Niger–Congo', 'Volta–Niger'],\n",
       " ['34', 'Polish', '40.0', '0.516%', 'Indo-European', 'Balto-Slavic'],\n",
       " ['35', 'Xiang Chinese', '37.3', '0.484%', 'Sino-Tibetan', 'Sinitic'],\n",
       " ['36', 'Malayalam', '37.1', '0.482%', 'Dravidian', 'South'],\n",
       " ['37', 'Odia', '34.5', '0.448%', 'Indo-European', 'Indo-Aryan'],\n",
       " ['38', 'Maithili', '33.9', '0.440%', 'Indo-European', 'Indo-Aryan'],\n",
       " ['39', 'Sudanese Arabic', '33.3', '0.414%', 'Afroasiatic', 'Semitic'],\n",
       " ['40', 'Burmese', '33.0', '0.427%', 'Sino-Tibetan', 'Lolo-Burmese'],\n",
       " ['41',\n",
       "  'Eastern Punjabi[12]',\n",
       "  '32.6',\n",
       "  '0.423%',\n",
       "  'Indo-European',\n",
       "  'Indo-Aryan'],\n",
       " ['42', 'Sunda', '32.4', '0.421%', 'Austronesian', 'Malayo-Polynesian'],\n",
       " ['43', 'Algerian Arabic', '34.7', '0.382%', 'Afroasiatic', 'Semitic'],\n",
       " ['44', 'Moroccan Arabic', '27.5', '0.357%', 'Afroasiatic', 'Semitic'],\n",
       " ['45', 'Ukrainian', '27.3', '0.355%', 'Indo-European', 'Balto-Slavic'],\n",
       " ['46', 'Igbo', '27.0', '0.351%', 'Niger–Congo', 'Volta–Niger'],\n",
       " ['47', 'Northern Uzbek', '25.1', '0.326%', 'Turkic', 'Karluk'],\n",
       " ['48', 'Sindhi', '24.6', '0.319%', 'Indo-European', 'Indo-Aryan'],\n",
       " ['49', 'North Levantine Arabic', '24.6', '0.319%', 'Afroasiatic', 'Semitic'],\n",
       " ['50', 'Romanian', '24.3', '0.316%', 'Indo-European', 'Romance'],\n",
       " ['51', 'Tagalog', '23.6', '0.306%', 'Austronesian', 'Malayo-Polynesian'],\n",
       " ['52', 'Dutch', '23.1', '0.300%', 'Indo-European', 'Germanic'],\n",
       " ['53', 'Saʽidi Arabic', '22.4', '0.291%', 'Afroasiatic', 'Semitic'],\n",
       " ['54', 'Gan Chinese', '22.1', '0.287%', 'Sino-Tibetan', 'Sinitic'],\n",
       " ['55', 'Amharic', '21.9', '0.284%', 'Afroasiatic', 'Semitic'],\n",
       " ['56', 'Northern Pashto', '20.9', '0.271%', 'Indo-European', 'Iranian'],\n",
       " ['57', 'Magahi', '20.7', '0.269%', 'Indo-European', 'Indo-Aryan'],\n",
       " ['58', 'Thai', '20.7', '0.269%', 'Kra–Dai', 'Tai'],\n",
       " ['59', 'Saraiki', '20.0', '0.260%', 'Indo-European', 'Indo-Aryan'],\n",
       " ['60', 'Khmer', '16.6', '0.216%', 'Austroasiatic', 'Khmer'],\n",
       " ['61', 'Chhattisgarhi', '16.3', '0.212%', 'Indo-European', 'Indo-Aryan'],\n",
       " ['62', 'Somali', '16.2', '0.210%', 'Afroasiatic', 'Cushitic'],\n",
       " ['63',\n",
       "  'Malaysian (Malaysian Malay)',\n",
       "  '16.1',\n",
       "  '0.209%',\n",
       "  'Austronesian',\n",
       "  'Malayo-Polynesian'],\n",
       " ['64', 'Cebuano', '15.9', '0.206%', 'Austronesian', 'Malayo-Polynesian'],\n",
       " ['65', 'Nepali', '15.8', '0.205%', 'Indo-European', 'Indo-Aryan'],\n",
       " ['66', 'Mesopotamian Arabic', '15.7', '0.204%', 'Afroasiatic', 'Semitic'],\n",
       " ['67', 'Assamese', '15.3', '0.199%', 'Indo-European', 'Indo-Aryan'],\n",
       " ['68', 'Sinhalese', '15.3', '0.199%', 'Indo-European', 'Indo-Aryan'],\n",
       " ['69', 'Northern Kurdish', '14.6', '0.190%', 'Indo-European', 'Iranian'],\n",
       " ['70', 'Hejazi Arabic', '14.5', '0.188%', 'Afroasiatic', 'Semitic'],\n",
       " ['71', 'Nigerian Fulfulde', '14.5', '0.188%', 'Niger–Congo', 'Senegambian'],\n",
       " ['72', 'Bavarian', '14.1', '0.183%', 'Indo-European', 'Germanic'],\n",
       " ['73', 'South Azerbaijani', '13.8', '0.179%', 'Turkic', 'Oghuz'],\n",
       " ['74', 'Greek', '13.1', '0.170%', 'Indo-European', 'Hellenic'],\n",
       " ['75', 'Chittagonian', '13.0', '0.169%', 'Indo-European', 'Indo-Aryan'],\n",
       " ['76', 'Kazakh', '12.9', '0.168%', 'Turkic', 'Kipchak'],\n",
       " ['77', 'Deccan', '12.8', '0.166%', 'Indo-European', 'Indo-Aryan'],\n",
       " ['78', 'Hungarian', '12.6', '0.164%', 'Uralic', 'Finno-Ugric'],\n",
       " ['79', 'Kinyarwanda', '12.1', '0.157%', 'Niger–Congo', 'Bantu'],\n",
       " ['80', 'Zulu', '12.1', '0.157%', 'Niger–Congo', 'Bantu'],\n",
       " ['81', 'South Levantine Arabic', '11.6', '0.151%', 'Afroasiatic', 'Semitic'],\n",
       " ['82', 'Tunisian Arabic', '11.6', '0.151%', 'Afroasiatic', 'Semitic'],\n",
       " ['83', 'Sanaani Spoken Arabic', '11.4', '0.148%', 'Afroasiatic', 'Semitic'],\n",
       " ['84', 'Northern Min', '11.0', '0.143%', 'Sino-Tibetan', 'Sinitic'],\n",
       " ['85', 'Southern Pashto', '10.9', '0.142%', 'Indo-European', 'Iranian'],\n",
       " ['86', 'Rundi', '10.8', '0.140%', 'Niger–Congo', 'Bantu'],\n",
       " ['87', 'Czech', '10.7', '0.139%', 'Indo-European', 'Balto-Slavic'],\n",
       " ['88', 'Taʽizzi-Adeni Arabic', '10.5', '0.136%', 'Afroasiatic', 'Semitic'],\n",
       " ['89', 'Uyghur', '10.4', '0.135%', 'Turkic', 'Karluk'],\n",
       " ['90', 'Eastern Min', '10.3', '0.134%', 'Sino-Tibetan', 'Sinitic'],\n",
       " ['91', 'Sylheti', '10.3', '0.134%', 'Indo-European', 'Indo-Aryan']]"
      ]
     },
     "execution_count": 270,
     "metadata": {},
     "output_type": "execute_result"
    }
   ],
   "source": [
    "tabla=driver.find_element(By.TAG_NAME,'tbody')\n",
    "\n",
    "filas=tabla.find_elements(By.TAG_NAME,'tr')\n",
    "\n",
    "\n",
    "data=[]\n",
    "\n",
    "for f in filas:\n",
    "    \n",
    "    elementos=f.find_elements(By.TAG_NAME,'td')\n",
    "    \n",
    "    tmp=[]\n",
    "    \n",
    "    for e in elementos:\n",
    "        \n",
    "        tmp.append(e.text)\n",
    "        \n",
    "    data.append(tmp)\n",
    "    \n",
    "data"
   ]
  },
  {
   "cell_type": "code",
   "execution_count": 283,
   "metadata": {},
   "outputs": [
    {
     "data": {
      "text/plain": [
       "['Rank',\n",
       " 'Language',\n",
       " 'Native Speakers\\n(millions)',\n",
       " 'Percentage\\nof world pop.\\n(March 2019)[10]',\n",
       " 'Language family',\n",
       " 'Branch']"
      ]
     },
     "execution_count": 283,
     "metadata": {},
     "output_type": "execute_result"
    }
   ],
   "source": [
    "\n",
    "# No se porque no consigoo sacar esta, si es exactamente lo mismo que ESPN-  \n",
    "# Vale, al <thead> estar solo, no lo reconocia, por lo que he probado el siguiente elemento <tr> , aunque de pura chiripa porque se podria haber cogido otro y asi ha funcionado\n",
    "\n",
    "\n",
    "cabeceras =driver.find_element(By.TAG_NAME,'tr')\n",
    "\n",
    "cabeceras=[c.text for c in cabeceras.find_elements(By.TAG_NAME,'th')]\n",
    "\n",
    "\n",
    "cabeceras"
   ]
  },
  {
   "cell_type": "code",
   "execution_count": 284,
   "metadata": {},
   "outputs": [
    {
     "data": {
      "text/html": [
       "<div>\n",
       "<style scoped>\n",
       "    .dataframe tbody tr th:only-of-type {\n",
       "        vertical-align: middle;\n",
       "    }\n",
       "\n",
       "    .dataframe tbody tr th {\n",
       "        vertical-align: top;\n",
       "    }\n",
       "\n",
       "    .dataframe thead th {\n",
       "        text-align: right;\n",
       "    }\n",
       "</style>\n",
       "<table border=\"1\" class=\"dataframe\">\n",
       "  <thead>\n",
       "    <tr style=\"text-align: right;\">\n",
       "      <th></th>\n",
       "      <th>Rank</th>\n",
       "      <th>Language</th>\n",
       "      <th>Native Speakers\\n(millions)</th>\n",
       "      <th>Percentage\\nof world pop.\\n(March 2019)[10]</th>\n",
       "      <th>Language family</th>\n",
       "      <th>Branch</th>\n",
       "    </tr>\n",
       "  </thead>\n",
       "  <tbody>\n",
       "    <tr>\n",
       "      <th>0</th>\n",
       "      <td>None</td>\n",
       "      <td>None</td>\n",
       "      <td>None</td>\n",
       "      <td>None</td>\n",
       "      <td>None</td>\n",
       "      <td>None</td>\n",
       "    </tr>\n",
       "    <tr>\n",
       "      <th>1</th>\n",
       "      <td>1</td>\n",
       "      <td>Mandarin Chinese</td>\n",
       "      <td>929.0</td>\n",
       "      <td>11.922%</td>\n",
       "      <td>Sino-Tibetan</td>\n",
       "      <td>Sinitic</td>\n",
       "    </tr>\n",
       "    <tr>\n",
       "      <th>2</th>\n",
       "      <td>2</td>\n",
       "      <td>Spanish</td>\n",
       "      <td>474.7</td>\n",
       "      <td>5.994%</td>\n",
       "      <td>Indo-European</td>\n",
       "      <td>Romance</td>\n",
       "    </tr>\n",
       "    <tr>\n",
       "      <th>3</th>\n",
       "      <td>3</td>\n",
       "      <td>English</td>\n",
       "      <td>372.9</td>\n",
       "      <td>4.922%</td>\n",
       "      <td>Indo-European</td>\n",
       "      <td>Germanic</td>\n",
       "    </tr>\n",
       "    <tr>\n",
       "      <th>4</th>\n",
       "      <td>4</td>\n",
       "      <td>Hindi (Sanskritised Hindustani)[11]</td>\n",
       "      <td>343.9</td>\n",
       "      <td>4.429%</td>\n",
       "      <td>Indo-European</td>\n",
       "      <td>Indo-Aryan</td>\n",
       "    </tr>\n",
       "    <tr>\n",
       "      <th>...</th>\n",
       "      <td>...</td>\n",
       "      <td>...</td>\n",
       "      <td>...</td>\n",
       "      <td>...</td>\n",
       "      <td>...</td>\n",
       "      <td>...</td>\n",
       "    </tr>\n",
       "    <tr>\n",
       "      <th>87</th>\n",
       "      <td>87</td>\n",
       "      <td>Czech</td>\n",
       "      <td>10.7</td>\n",
       "      <td>0.139%</td>\n",
       "      <td>Indo-European</td>\n",
       "      <td>Balto-Slavic</td>\n",
       "    </tr>\n",
       "    <tr>\n",
       "      <th>88</th>\n",
       "      <td>88</td>\n",
       "      <td>Taʽizzi-Adeni Arabic</td>\n",
       "      <td>10.5</td>\n",
       "      <td>0.136%</td>\n",
       "      <td>Afroasiatic</td>\n",
       "      <td>Semitic</td>\n",
       "    </tr>\n",
       "    <tr>\n",
       "      <th>89</th>\n",
       "      <td>89</td>\n",
       "      <td>Uyghur</td>\n",
       "      <td>10.4</td>\n",
       "      <td>0.135%</td>\n",
       "      <td>Turkic</td>\n",
       "      <td>Karluk</td>\n",
       "    </tr>\n",
       "    <tr>\n",
       "      <th>90</th>\n",
       "      <td>90</td>\n",
       "      <td>Eastern Min</td>\n",
       "      <td>10.3</td>\n",
       "      <td>0.134%</td>\n",
       "      <td>Sino-Tibetan</td>\n",
       "      <td>Sinitic</td>\n",
       "    </tr>\n",
       "    <tr>\n",
       "      <th>91</th>\n",
       "      <td>91</td>\n",
       "      <td>Sylheti</td>\n",
       "      <td>10.3</td>\n",
       "      <td>0.134%</td>\n",
       "      <td>Indo-European</td>\n",
       "      <td>Indo-Aryan</td>\n",
       "    </tr>\n",
       "  </tbody>\n",
       "</table>\n",
       "<p>92 rows × 6 columns</p>\n",
       "</div>"
      ],
      "text/plain": [
       "    Rank                             Language Native Speakers\\n(millions)  \\\n",
       "0   None                                 None                        None   \n",
       "1      1                     Mandarin Chinese                       929.0   \n",
       "2      2                              Spanish                       474.7   \n",
       "3      3                              English                       372.9   \n",
       "4      4  Hindi (Sanskritised Hindustani)[11]                       343.9   \n",
       "..   ...                                  ...                         ...   \n",
       "87    87                                Czech                        10.7   \n",
       "88    88                 Taʽizzi-Adeni Arabic                        10.5   \n",
       "89    89                               Uyghur                        10.4   \n",
       "90    90                          Eastern Min                        10.3   \n",
       "91    91                              Sylheti                        10.3   \n",
       "\n",
       "   Percentage\\nof world pop.\\n(March 2019)[10] Language family        Branch  \n",
       "0                                         None            None          None  \n",
       "1                                      11.922%    Sino-Tibetan       Sinitic  \n",
       "2                                       5.994%   Indo-European       Romance  \n",
       "3                                       4.922%   Indo-European      Germanic  \n",
       "4                                       4.429%   Indo-European    Indo-Aryan  \n",
       "..                                         ...             ...           ...  \n",
       "87                                      0.139%   Indo-European  Balto-Slavic  \n",
       "88                                      0.136%     Afroasiatic       Semitic  \n",
       "89                                      0.135%          Turkic        Karluk  \n",
       "90                                      0.134%    Sino-Tibetan       Sinitic  \n",
       "91                                      0.134%   Indo-European    Indo-Aryan  \n",
       "\n",
       "[92 rows x 6 columns]"
      ]
     },
     "execution_count": 284,
     "metadata": {},
     "output_type": "execute_result"
    }
   ],
   "source": [
    "#PUM !!! ESTE EJERCICIO ES MUY VALIOSO!\n",
    "\n",
    "df=pd.DataFrame(data, columns=cabeceras)\n",
    "\n",
    "df\n"
   ]
  },
  {
   "cell_type": "code",
   "execution_count": null,
   "metadata": {},
   "outputs": [],
   "source": [
    "#your code"
   ]
  },
  {
   "cell_type": "markdown",
   "metadata": {},
   "source": [
    "### BONUS QUESTIONS"
   ]
  },
  {
   "cell_type": "markdown",
   "metadata": {},
   "source": [
    "#### Scrape a certain number of tweets of a given Twitter account."
   ]
  },
  {
   "cell_type": "code",
   "execution_count": null,
   "metadata": {},
   "outputs": [],
   "source": [
    "# This is the url you will scrape in this exercise \n",
    "# You will need to add the account credentials to this url\n",
    "url = 'https://twitter.com/'"
   ]
  },
  {
   "cell_type": "code",
   "execution_count": null,
   "metadata": {},
   "outputs": [],
   "source": [
    "# your code\n"
   ]
  },
  {
   "cell_type": "markdown",
   "metadata": {},
   "source": [
    "#### IMDB's Top 250 data (movie name, Initial release, director name and stars) as a pandas dataframe"
   ]
  },
  {
   "cell_type": "code",
   "execution_count": null,
   "metadata": {},
   "outputs": [],
   "source": [
    "# This is the url you will scrape in this exercise \n",
    "url = 'https://www.imdb.com/chart/top'"
   ]
  },
  {
   "cell_type": "code",
   "execution_count": null,
   "metadata": {},
   "outputs": [],
   "source": [
    "# your code"
   ]
  },
  {
   "cell_type": "markdown",
   "metadata": {},
   "source": [
    "#### Movie name, year and a brief summary of the top 10 random movies (IMDB) as a pandas dataframe."
   ]
  },
  {
   "cell_type": "code",
   "execution_count": null,
   "metadata": {},
   "outputs": [],
   "source": [
    "#This is the url you will scrape in this exercise\n",
    "url = 'http://www.imdb.com/chart/top'"
   ]
  },
  {
   "cell_type": "code",
   "execution_count": null,
   "metadata": {},
   "outputs": [],
   "source": [
    "#your code"
   ]
  },
  {
   "cell_type": "markdown",
   "metadata": {},
   "source": [
    "#### Find the live weather report (temperature, wind speed, description and weather) of a given city."
   ]
  },
  {
   "cell_type": "code",
   "execution_count": null,
   "metadata": {},
   "outputs": [],
   "source": [
    "#https://openweathermap.org/current\n",
    "city = city=input('Enter the city:')\n",
    "url = 'http://api.openweathermap.org/data/2.5/weather?'+'q='+city+'&APPID=b35975e18dc93725acb092f7272cc6b8&units=metric'"
   ]
  },
  {
   "cell_type": "code",
   "execution_count": null,
   "metadata": {},
   "outputs": [],
   "source": [
    "# your code"
   ]
  },
  {
   "cell_type": "markdown",
   "metadata": {},
   "source": [
    "#### Book name,price and stock availability as a pandas dataframe."
   ]
  },
  {
   "cell_type": "code",
   "execution_count": null,
   "metadata": {},
   "outputs": [],
   "source": [
    "# This is the url you will scrape in this exercise. \n",
    "# It is a fictional bookstore created to be scraped. \n",
    "url = 'http://books.toscrape.com/'"
   ]
  },
  {
   "cell_type": "code",
   "execution_count": null,
   "metadata": {},
   "outputs": [],
   "source": [
    "#your code"
   ]
  }
 ],
 "metadata": {
  "kernelspec": {
   "display_name": "Python 3.10.5 64-bit",
   "language": "python",
   "name": "python3"
  },
  "language_info": {
   "codemirror_mode": {
    "name": "ipython",
    "version": 3
   },
   "file_extension": ".py",
   "mimetype": "text/x-python",
   "name": "python",
   "nbconvert_exporter": "python",
   "pygments_lexer": "ipython3",
   "version": "3.10.5"
  },
  "vscode": {
   "interpreter": {
    "hash": "aee8b7b246df8f9039afb4144a1f6fd8d2ca17a180786b69acc140d282b71a49"
   }
  }
 },
 "nbformat": 4,
 "nbformat_minor": 2
}

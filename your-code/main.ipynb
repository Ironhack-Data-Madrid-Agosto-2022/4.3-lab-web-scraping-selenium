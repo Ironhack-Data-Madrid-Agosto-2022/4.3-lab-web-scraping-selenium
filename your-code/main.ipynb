{
 "cells": [
  {
   "cell_type": "markdown",
   "metadata": {},
   "source": [
    "# Web Scraping Lab\n",
    "\n",
    "You will find in this notebook some scrapy exercises to practise your scraping skills.\n",
    "\n",
    "**Tips:**\n",
    "\n",
    "- Check the response status code for each request to ensure you have obtained the intended contennt.\n",
    "- Print the response text in each request to understand the kind of info you are getting and its format.\n",
    "- Check for patterns in the response text to extract the data/info requested in each question.\n",
    "- Visit each url and take a look at its source through Chrome DevTools. You'll need to identify the html tags, special class names etc. used for the html content you are expected to extract."
   ]
  },
  {
   "cell_type": "markdown",
   "metadata": {},
   "source": [
    "- [Selenium Doc](https://www.selenium.dev/documentation/)\n",
    "- [Requests library](http://docs.python-requests.org/en/master/#the-user-guide) documentation \n",
    "- [Urllib](https://docs.python.org/3/library/urllib.html#module-urllib)\n",
    "- [re lib](https://docs.python.org/3/library/re.html)\n",
    "- [lxml lib](https://lxml.de/)\n",
    "- [Scrapy](https://scrapy.org/)\n",
    "- [List of HTTP status codes](https://en.wikipedia.org/wiki/List_of_HTTP_status_codes)\n",
    "- [HTML basics](http://www.simplehtmlguide.com/cheatsheet.php)\n",
    "- [CSS basics](https://www.cssbasics.com/#page_start)"
   ]
  },
  {
   "cell_type": "markdown",
   "metadata": {},
   "source": [
    "#### Below are the libraries and modules you may need. `Selenium` and `pandas` are imported for you."
   ]
  },
  {
   "cell_type": "code",
   "execution_count": 548,
   "metadata": {},
   "outputs": [],
   "source": [
    "#%pip install selenium\n",
    "#%pip install webdriver-manager\n",
    "from selenium import webdriver\n",
    "from selenium.webdriver.common.by import By"
   ]
  },
  {
   "cell_type": "code",
   "execution_count": 549,
   "metadata": {},
   "outputs": [],
   "source": [
    "import pandas as pd\n",
    "from selenium.webdriver.chrome.options import Options\n",
    "from webdriver_manager.chrome import ChromeDriverManager"
   ]
  },
  {
   "cell_type": "markdown",
   "metadata": {},
   "source": [
    "#### Enable the options you may need. In the next cell you have an example of them but you can choose to use them or not."
   ]
  },
  {
   "cell_type": "code",
   "execution_count": 550,
   "metadata": {},
   "outputs": [],
   "source": [
    "#driver configuration\n",
    "opciones=Options()\n",
    "\n",
    "opciones.add_experimental_option('excludeSwitches', ['enable-automation'])\n",
    "opciones.add_experimental_option('useAutomationExtension', False)\n",
    "opciones.headless=False    # si True, no aperece la ventana (headless=no visible)\n",
    "opciones.add_argument('--start-maximized')         # comienza maximizado\n",
    "#opciones.add_argument('user-data-dir=selenium')    # mantiene las cookies\n",
    "#opciones.add_extension('driver_folder/adblock.crx')       # adblocker\n",
    "opciones.add_argument('--incognito')"
   ]
  },
  {
   "cell_type": "code",
   "execution_count": 552,
   "metadata": {},
   "outputs": [
    {
     "name": "stderr",
     "output_type": "stream",
     "text": [
      "[WDM] - Downloading: 100%|█████████████████| 8.15M/8.15M [00:00<00:00, 23.6MB/s]\n",
      "/var/folders/x5/35_m562959z2k_v0h2llkrzr0000gn/T/ipykernel_81178/864975294.py:2: DeprecationWarning: executable_path has been deprecated, please pass in a Service object\n",
      "  driver = webdriver.Chrome(PATH, options = opciones)\n"
     ]
    }
   ],
   "source": [
    "PATH = ChromeDriverManager().install()\n",
    "driver = webdriver.Chrome(PATH, options = opciones)"
   ]
  },
  {
   "cell_type": "markdown",
   "metadata": {},
   "source": [
    "#### Download, parse, and print the content from the Trending Developers page from GitHub:"
   ]
  },
  {
   "cell_type": "code",
   "execution_count": 553,
   "metadata": {},
   "outputs": [],
   "source": [
    "# This is the url you will scrape in this exercise\n",
    "url = 'https://github.com/trending/developers'"
   ]
  },
  {
   "cell_type": "code",
   "execution_count": 554,
   "metadata": {},
   "outputs": [],
   "source": [
    "driver.get(url)"
   ]
  },
  {
   "cell_type": "markdown",
   "metadata": {},
   "source": [
    "#### Display the names of the trending developers retrieved in the previous step.\n",
    "\n",
    "Your output should be a Python list of developer names. Each name should not contain any html tag.\n",
    "\n",
    "**Instructions:**\n",
    "\n",
    "1. Find out the html tag and class names used for the developer names.\n",
    "\n",
    "1. Use string manipulation techniques to replace whitespaces and linebreaks (i.e. `\\n`) in the *text* of each html element. Use a list to store the clean names.\n",
    "\n",
    "1. Print the list of names.\n",
    "\n",
    "Your output should look like below:\n",
    "\n",
    "```\n",
    "['trimstray (@trimstray)',\n",
    " 'joewalnes (JoeWalnes)',\n",
    " 'charlax (Charles-AxelDein)',\n",
    " 'ForrestKnight (ForrestKnight)',\n",
    " 'revery-ui (revery-ui)',\n",
    " 'alibaba (Alibaba)',\n",
    " 'Microsoft (Microsoft)',\n",
    " 'github (GitHub)',\n",
    " 'facebook (Facebook)',\n",
    " 'boazsegev (Bo)',\n",
    " 'google (Google)',\n",
    " 'cloudfetch',\n",
    " 'sindresorhus (SindreSorhus)',\n",
    " 'tensorflow',\n",
    " 'apache (TheApacheSoftwareFoundation)',\n",
    " 'DevonCrawford (DevonCrawford)',\n",
    " 'ARMmbed (ArmMbed)',\n",
    " 'vuejs (vuejs)',\n",
    " 'fastai (fast.ai)',\n",
    " 'QiShaoXuan (Qi)',\n",
    " 'joelparkerhenderson (JoelParkerHenderson)',\n",
    " 'torvalds (LinusTorvalds)',\n",
    " 'CyC2018',\n",
    " 'komeiji-satori (神楽坂覚々)',\n",
    " 'script-8']\n",
    " ```"
   ]
  },
  {
   "cell_type": "code",
   "execution_count": 555,
   "metadata": {},
   "outputs": [
    {
     "data": {
      "text/plain": [
       "['Joshie@Joshua-Ashton',\n",
       " 'Azure SDK Bot@azure-sdk',\n",
       " 'Daniel Vaz Gaspar@dpgaspar',\n",
       " 'Bas Nijholt@basnijholt',\n",
       " 'Jeff Mitchell@jefferai',\n",
       " 'RealityBoy@xiaoxian521',\n",
       " 'Dunsin@Dun-sin',\n",
       " 'Marten Seemann@marten-seemann',\n",
       " 'Benjamin Pasero@bpasero',\n",
       " 'Geshan Manandhar@geshan',\n",
       " 'Rex Raphael@juicycleff',\n",
       " 'Steven Allen@Stebalien',\n",
       " 'Martin Atkins@apparentlymart',\n",
       " 'Mattias Wadman@wader',\n",
       " 'Gao Sun@gao-sun',\n",
       " 'Agniva De Sarker@agnivade',\n",
       " 'Rob Wu@Rob--W',\n",
       " 'Fedor Korotkov@fkorotkov',\n",
       " 'David Widmann@devmotion',\n",
       " 'Abhijeet Prasad@AbhiPrasad',\n",
       " 'Lukáš Křečan@lukas-krecan',\n",
       " 'Stefan Prodan@stefanprodan',\n",
       " 'Sachin Neravath@sachinchoolur',\n",
       " 'Jonathan Dick@Redth',\n",
       " 'Matthew Leibowitz@mattleibow']"
      ]
     },
     "execution_count": 555,
     "metadata": {},
     "output_type": "execute_result"
    }
   ],
   "source": [
    "caja = driver.find_elements(By.XPATH, '//*[@id=\"js-pjax-container\"]/div[3]/div')\n",
    "nombres2 = caja[0].find_elements(By.CLASS_NAME, 'col-md-6')\n",
    "\n",
    "filtro_nombres = []\n",
    "\n",
    "for e in nombres2[::2]:\n",
    "    filtro_nombres.append(e.text.strip().replace('\\n', '@'))\n",
    "filtro_nombres"
   ]
  },
  {
   "cell_type": "code",
   "execution_count": 556,
   "metadata": {},
   "outputs": [
    {
     "data": {
      "text/plain": [
       "[<selenium.webdriver.remote.webelement.WebElement (session=\"3c9fea89eb5e121be7eac621367555ad\", element=\"fabe957d-775d-46e3-8305-2eee9a6f133e\")>,\n",
       " <selenium.webdriver.remote.webelement.WebElement (session=\"3c9fea89eb5e121be7eac621367555ad\", element=\"03990d25-e1b8-4fd2-af2a-66674497de71\")>,\n",
       " <selenium.webdriver.remote.webelement.WebElement (session=\"3c9fea89eb5e121be7eac621367555ad\", element=\"7b9b12d4-8d7b-4a83-92e0-2fe7b1611cb1\")>,\n",
       " <selenium.webdriver.remote.webelement.WebElement (session=\"3c9fea89eb5e121be7eac621367555ad\", element=\"7769862f-4342-4205-853f-136c5bb048f1\")>,\n",
       " <selenium.webdriver.remote.webelement.WebElement (session=\"3c9fea89eb5e121be7eac621367555ad\", element=\"d50e26f3-b1f0-4e7e-a9f8-910be04a1cfe\")>,\n",
       " <selenium.webdriver.remote.webelement.WebElement (session=\"3c9fea89eb5e121be7eac621367555ad\", element=\"ecf28b1d-24aa-4c76-a680-3ac9a13047be\")>,\n",
       " <selenium.webdriver.remote.webelement.WebElement (session=\"3c9fea89eb5e121be7eac621367555ad\", element=\"5a5ff0a5-ebeb-455c-9393-2d4e66c3344a\")>,\n",
       " <selenium.webdriver.remote.webelement.WebElement (session=\"3c9fea89eb5e121be7eac621367555ad\", element=\"e9fb98a8-c68b-4277-93bc-2f85fb7af323\")>,\n",
       " <selenium.webdriver.remote.webelement.WebElement (session=\"3c9fea89eb5e121be7eac621367555ad\", element=\"74deca6d-ac6b-47f4-81ec-6937725be7e5\")>,\n",
       " <selenium.webdriver.remote.webelement.WebElement (session=\"3c9fea89eb5e121be7eac621367555ad\", element=\"8d16abd1-cae6-41f9-8803-da0b3e557d46\")>,\n",
       " <selenium.webdriver.remote.webelement.WebElement (session=\"3c9fea89eb5e121be7eac621367555ad\", element=\"ab566197-5ba0-4d7b-af79-a743791f23e9\")>,\n",
       " <selenium.webdriver.remote.webelement.WebElement (session=\"3c9fea89eb5e121be7eac621367555ad\", element=\"999cddbf-d6be-44d2-a304-b1d73eeb009d\")>,\n",
       " <selenium.webdriver.remote.webelement.WebElement (session=\"3c9fea89eb5e121be7eac621367555ad\", element=\"092c9b72-54ac-48c8-b233-6ddf8162af32\")>,\n",
       " <selenium.webdriver.remote.webelement.WebElement (session=\"3c9fea89eb5e121be7eac621367555ad\", element=\"d729244b-461c-4df8-b4d0-cd41a98a2b1f\")>,\n",
       " <selenium.webdriver.remote.webelement.WebElement (session=\"3c9fea89eb5e121be7eac621367555ad\", element=\"0117c322-8d60-4a1a-92db-c9c37865ec00\")>,\n",
       " <selenium.webdriver.remote.webelement.WebElement (session=\"3c9fea89eb5e121be7eac621367555ad\", element=\"38474d22-5ecd-41f2-9e48-cdee61a8ada7\")>,\n",
       " <selenium.webdriver.remote.webelement.WebElement (session=\"3c9fea89eb5e121be7eac621367555ad\", element=\"3c5ec3e1-c371-4ec6-93fe-8bb090d41972\")>,\n",
       " <selenium.webdriver.remote.webelement.WebElement (session=\"3c9fea89eb5e121be7eac621367555ad\", element=\"dd413cf7-d45d-49e7-99d7-e4763e6c2bb3\")>,\n",
       " <selenium.webdriver.remote.webelement.WebElement (session=\"3c9fea89eb5e121be7eac621367555ad\", element=\"a84f4da9-b6c4-4bd8-84d6-69f0db34b66f\")>,\n",
       " <selenium.webdriver.remote.webelement.WebElement (session=\"3c9fea89eb5e121be7eac621367555ad\", element=\"8ac01bcb-84dd-4b8c-b422-af78a58ea9b8\")>,\n",
       " <selenium.webdriver.remote.webelement.WebElement (session=\"3c9fea89eb5e121be7eac621367555ad\", element=\"af513fb2-3847-424c-ad92-d83ac511e00f\")>,\n",
       " <selenium.webdriver.remote.webelement.WebElement (session=\"3c9fea89eb5e121be7eac621367555ad\", element=\"d148b923-5b50-424d-ba5b-9c50b46b4eda\")>,\n",
       " <selenium.webdriver.remote.webelement.WebElement (session=\"3c9fea89eb5e121be7eac621367555ad\", element=\"79135b98-94ca-4393-9323-52768b83f28e\")>,\n",
       " <selenium.webdriver.remote.webelement.WebElement (session=\"3c9fea89eb5e121be7eac621367555ad\", element=\"6f4eef92-cd14-48dd-a655-2e1776fbc5ce\")>,\n",
       " <selenium.webdriver.remote.webelement.WebElement (session=\"3c9fea89eb5e121be7eac621367555ad\", element=\"d8d16ee3-3776-463e-8631-df5cf400c590\")>]"
      ]
     },
     "execution_count": 556,
     "metadata": {},
     "output_type": "execute_result"
    }
   ],
   "source": [
    "caja = driver.find_elements(By.CLASS_NAME, 'h3')\n",
    "caja\n"
   ]
  },
  {
   "cell_type": "markdown",
   "metadata": {},
   "source": [
    "#### Display the trending Python repositories in GitHub\n",
    "\n",
    "The steps to solve this problem is similar to the previous one except that you need to find out the repository names instead of developer names."
   ]
  },
  {
   "cell_type": "code",
   "execution_count": 557,
   "metadata": {},
   "outputs": [],
   "source": [
    "# This is the url you will scrape in this exercise\n",
    "url2 = 'https://github.com/trending/python?since=daily'"
   ]
  },
  {
   "cell_type": "code",
   "execution_count": 558,
   "metadata": {},
   "outputs": [],
   "source": [
    "driver.get(url2)"
   ]
  },
  {
   "cell_type": "code",
   "execution_count": 559,
   "metadata": {},
   "outputs": [
    {
     "data": {
      "text/plain": [
       "[<selenium.webdriver.remote.webelement.WebElement (session=\"3c9fea89eb5e121be7eac621367555ad\", element=\"150dccb2-a3e3-4ffc-845b-ea6358bdf28c\")>,\n",
       " <selenium.webdriver.remote.webelement.WebElement (session=\"3c9fea89eb5e121be7eac621367555ad\", element=\"1b7fcd29-f7f8-4753-b7b0-b1129658eb54\")>,\n",
       " <selenium.webdriver.remote.webelement.WebElement (session=\"3c9fea89eb5e121be7eac621367555ad\", element=\"44d9846f-8b54-4e93-aedf-61a8030ba583\")>,\n",
       " <selenium.webdriver.remote.webelement.WebElement (session=\"3c9fea89eb5e121be7eac621367555ad\", element=\"c619ffa7-afe4-4125-bd8a-afaa75fca332\")>,\n",
       " <selenium.webdriver.remote.webelement.WebElement (session=\"3c9fea89eb5e121be7eac621367555ad\", element=\"d6150285-0c12-40d8-8972-3370e1823610\")>,\n",
       " <selenium.webdriver.remote.webelement.WebElement (session=\"3c9fea89eb5e121be7eac621367555ad\", element=\"ff372445-b0d2-4bc2-a3cb-ecab92877a27\")>,\n",
       " <selenium.webdriver.remote.webelement.WebElement (session=\"3c9fea89eb5e121be7eac621367555ad\", element=\"d64950b7-2b84-4e5c-aa76-3bc89bcd876f\")>,\n",
       " <selenium.webdriver.remote.webelement.WebElement (session=\"3c9fea89eb5e121be7eac621367555ad\", element=\"36851f4b-e715-442c-ada2-e632b1178534\")>,\n",
       " <selenium.webdriver.remote.webelement.WebElement (session=\"3c9fea89eb5e121be7eac621367555ad\", element=\"7057128c-ee57-43e1-8834-c51767a8c30f\")>,\n",
       " <selenium.webdriver.remote.webelement.WebElement (session=\"3c9fea89eb5e121be7eac621367555ad\", element=\"cbcdb2e9-9b6e-49ee-be87-2f85b9ef08cd\")>,\n",
       " <selenium.webdriver.remote.webelement.WebElement (session=\"3c9fea89eb5e121be7eac621367555ad\", element=\"09dc3c0e-c4bb-4788-8bfd-fdd6095b24d6\")>,\n",
       " <selenium.webdriver.remote.webelement.WebElement (session=\"3c9fea89eb5e121be7eac621367555ad\", element=\"f8fe3440-27f3-407f-9cd4-af0acc24dc7f\")>,\n",
       " <selenium.webdriver.remote.webelement.WebElement (session=\"3c9fea89eb5e121be7eac621367555ad\", element=\"9f5f8a89-d88a-4b2e-adc3-c489a93d36dd\")>,\n",
       " <selenium.webdriver.remote.webelement.WebElement (session=\"3c9fea89eb5e121be7eac621367555ad\", element=\"df53c7ef-b93e-4eea-bf57-19ff44ffd60c\")>,\n",
       " <selenium.webdriver.remote.webelement.WebElement (session=\"3c9fea89eb5e121be7eac621367555ad\", element=\"819d89bd-10b3-48fd-8568-923e6e7427a9\")>,\n",
       " <selenium.webdriver.remote.webelement.WebElement (session=\"3c9fea89eb5e121be7eac621367555ad\", element=\"161ec9d4-9f55-4642-b5f1-63447e4aafcb\")>,\n",
       " <selenium.webdriver.remote.webelement.WebElement (session=\"3c9fea89eb5e121be7eac621367555ad\", element=\"70d410a4-cbca-4259-ac76-9e682e10a2ce\")>,\n",
       " <selenium.webdriver.remote.webelement.WebElement (session=\"3c9fea89eb5e121be7eac621367555ad\", element=\"7a8c09b9-bfbe-446a-8d33-c9ea4bb7ee4a\")>,\n",
       " <selenium.webdriver.remote.webelement.WebElement (session=\"3c9fea89eb5e121be7eac621367555ad\", element=\"27c9f7fb-ef99-4b3d-8f64-881f1e22c282\")>,\n",
       " <selenium.webdriver.remote.webelement.WebElement (session=\"3c9fea89eb5e121be7eac621367555ad\", element=\"6e701dbe-8cf4-427c-885c-691ce6e14ca6\")>,\n",
       " <selenium.webdriver.remote.webelement.WebElement (session=\"3c9fea89eb5e121be7eac621367555ad\", element=\"de7b56dc-6b57-4308-8994-69ef73cefcbe\")>,\n",
       " <selenium.webdriver.remote.webelement.WebElement (session=\"3c9fea89eb5e121be7eac621367555ad\", element=\"ec0f3efa-d0d4-48c3-9248-6a3ddb9b4fc6\")>,\n",
       " <selenium.webdriver.remote.webelement.WebElement (session=\"3c9fea89eb5e121be7eac621367555ad\", element=\"ad46fcd8-6f7f-4305-bce6-cc472444231a\")>,\n",
       " <selenium.webdriver.remote.webelement.WebElement (session=\"3c9fea89eb5e121be7eac621367555ad\", element=\"d35fcc6e-70b7-42fd-bfe6-26e0333e6fe7\")>,\n",
       " <selenium.webdriver.remote.webelement.WebElement (session=\"3c9fea89eb5e121be7eac621367555ad\", element=\"ac39bcdf-a9a8-482b-8732-12923f470449\")>]"
      ]
     },
     "execution_count": 559,
     "metadata": {},
     "output_type": "execute_result"
    }
   ],
   "source": [
    "caja1 = driver.find_elements(By.CLASS_NAME, 'h3')\n",
    "caja1\n"
   ]
  },
  {
   "cell_type": "code",
   "execution_count": 560,
   "metadata": {},
   "outputs": [
    {
     "data": {
      "text/plain": [
       "[['EvanLi ', ' Github-Ranking'],\n",
       " ['adap ', ' flower'],\n",
       " ['alibaba ', ' EasyCV'],\n",
       " ['Azure ', ' azure-sdk-for-python'],\n",
       " ['dagster-io ', ' dagster'],\n",
       " ['wandb ', ' wandb'],\n",
       " ['python-poetry ', ' poetry'],\n",
       " ['scikit-learn ', ' scikit-learn'],\n",
       " ['electricitymap ', ' electricitymap-contrib'],\n",
       " ['public-apis ', ' public-apis'],\n",
       " ['ljvmiranda921 ', ' prodigy-pdf-custom-recipe'],\n",
       " ['frida ', ' frida'],\n",
       " ['kedro-org ', ' kedro'],\n",
       " ['sympy ', ' sympy'],\n",
       " ['replicate ', ' cog'],\n",
       " ['smallevilbeast ', ' ntchat'],\n",
       " ['TingsongYu ', ' PyTorch_Tutorial'],\n",
       " ['vnpy ', ' vnpy'],\n",
       " ['Gabattal ', ' Scripts-LeagueOfLegends'],\n",
       " ['facebookresearch ', ' dino'],\n",
       " ['NafisiAslH ', ' KnowledgeSharing'],\n",
       " ['fundamentalvision ', ' Deformable-DETR'],\n",
       " ['vishnubob ', ' wait-for-it'],\n",
       " ['kakaobrain ', ' coyo-dataset'],\n",
       " ['facebookresearch ', ' detr']]"
      ]
     },
     "execution_count": 560,
     "metadata": {},
     "output_type": "execute_result"
    }
   ],
   "source": [
    "repos = [f.text.strip().split('/') for f in caja1]\n",
    "\n",
    "repos"
   ]
  },
  {
   "cell_type": "code",
   "execution_count": null,
   "metadata": {},
   "outputs": [],
   "source": []
  },
  {
   "cell_type": "markdown",
   "metadata": {},
   "source": [
    "#### Display all the image links from Walt Disney wikipedia page"
   ]
  },
  {
   "cell_type": "code",
   "execution_count": 561,
   "metadata": {},
   "outputs": [],
   "source": [
    "# This is the url you will scrape in this exercise\n",
    "url3 = 'https://en.wikipedia.org/wiki/Walt_Disney'"
   ]
  },
  {
   "cell_type": "code",
   "execution_count": 562,
   "metadata": {},
   "outputs": [],
   "source": [
    "driver.get(url3)"
   ]
  },
  {
   "cell_type": "code",
   "execution_count": 563,
   "metadata": {},
   "outputs": [
    {
     "data": {
      "text/plain": [
       "[<selenium.webdriver.remote.webelement.WebElement (session=\"3c9fea89eb5e121be7eac621367555ad\", element=\"8797ab92-4218-4e4e-906e-64a8f7feb8fe\")>,\n",
       " <selenium.webdriver.remote.webelement.WebElement (session=\"3c9fea89eb5e121be7eac621367555ad\", element=\"ace08e28-22fa-47ba-85aa-d4ee1b2c01fd\")>,\n",
       " <selenium.webdriver.remote.webelement.WebElement (session=\"3c9fea89eb5e121be7eac621367555ad\", element=\"9a881577-204f-46d9-99fa-af079d9b41dc\")>,\n",
       " <selenium.webdriver.remote.webelement.WebElement (session=\"3c9fea89eb5e121be7eac621367555ad\", element=\"ed816058-dd35-4d6b-b4fe-e953b7f93e45\")>,\n",
       " <selenium.webdriver.remote.webelement.WebElement (session=\"3c9fea89eb5e121be7eac621367555ad\", element=\"43969e98-5334-4374-baee-96f49bd1535b\")>,\n",
       " <selenium.webdriver.remote.webelement.WebElement (session=\"3c9fea89eb5e121be7eac621367555ad\", element=\"2052bf59-aaaf-4810-906d-0958b7432616\")>,\n",
       " <selenium.webdriver.remote.webelement.WebElement (session=\"3c9fea89eb5e121be7eac621367555ad\", element=\"5ef53d08-1cbd-47d3-8532-d139e55e13fe\")>,\n",
       " <selenium.webdriver.remote.webelement.WebElement (session=\"3c9fea89eb5e121be7eac621367555ad\", element=\"0e9ff769-658b-4376-ac04-46082b6f81ab\")>,\n",
       " <selenium.webdriver.remote.webelement.WebElement (session=\"3c9fea89eb5e121be7eac621367555ad\", element=\"7de6304c-64a4-40cc-be4c-94daf164e51f\")>,\n",
       " <selenium.webdriver.remote.webelement.WebElement (session=\"3c9fea89eb5e121be7eac621367555ad\", element=\"12cdb2ae-dcdd-41bb-a44d-700d75ecba7c\")>,\n",
       " <selenium.webdriver.remote.webelement.WebElement (session=\"3c9fea89eb5e121be7eac621367555ad\", element=\"126f29b3-f3fb-4525-9732-fe650072fa50\")>,\n",
       " <selenium.webdriver.remote.webelement.WebElement (session=\"3c9fea89eb5e121be7eac621367555ad\", element=\"93487cbb-667e-4fd4-bc3b-9bd8e85fff80\")>,\n",
       " <selenium.webdriver.remote.webelement.WebElement (session=\"3c9fea89eb5e121be7eac621367555ad\", element=\"ef608a68-979e-4240-8db6-076c8cb59e99\")>,\n",
       " <selenium.webdriver.remote.webelement.WebElement (session=\"3c9fea89eb5e121be7eac621367555ad\", element=\"1ce1b662-b27b-4ffc-9384-5d67645d3087\")>,\n",
       " <selenium.webdriver.remote.webelement.WebElement (session=\"3c9fea89eb5e121be7eac621367555ad\", element=\"e5fa5ec0-c043-4daa-a0dc-bf3ce3db54b8\")>,\n",
       " <selenium.webdriver.remote.webelement.WebElement (session=\"3c9fea89eb5e121be7eac621367555ad\", element=\"ad386b4d-d588-4608-b94f-67e9bb415541\")>,\n",
       " <selenium.webdriver.remote.webelement.WebElement (session=\"3c9fea89eb5e121be7eac621367555ad\", element=\"2b21da06-298b-402a-8958-fe6c8f64948c\")>,\n",
       " <selenium.webdriver.remote.webelement.WebElement (session=\"3c9fea89eb5e121be7eac621367555ad\", element=\"0584b745-8612-4ffd-9bdb-0e4491ad0683\")>,\n",
       " <selenium.webdriver.remote.webelement.WebElement (session=\"3c9fea89eb5e121be7eac621367555ad\", element=\"21a66f4e-5dc1-4e15-a95d-fb06da802167\")>,\n",
       " <selenium.webdriver.remote.webelement.WebElement (session=\"3c9fea89eb5e121be7eac621367555ad\", element=\"b7245957-58a9-4c0d-b734-77dd6aa7cbde\")>]"
      ]
     },
     "execution_count": 563,
     "metadata": {},
     "output_type": "execute_result"
    }
   ],
   "source": [
    "imagen = driver.find_elements(By.CLASS_NAME, 'image')\n",
    "imagen"
   ]
  },
  {
   "cell_type": "code",
   "execution_count": 564,
   "metadata": {},
   "outputs": [
    {
     "data": {
      "text/plain": [
       "['https://en.wikipedia.org/wiki/File:Walt_Disney_1946.JPG',\n",
       " 'https://en.wikipedia.org/wiki/File:Walt_Disney_1942_signature.svg',\n",
       " 'https://en.wikipedia.org/wiki/File:Walt_Disney_Birthplace_Exterior_Hermosa_Chicago_Illinois.jpg',\n",
       " 'https://en.wikipedia.org/wiki/File:Walt_Disney_envelope_ca._1921.jpg',\n",
       " 'https://en.wikipedia.org/wiki/File:Trolley_Troubles_poster.jpg',\n",
       " 'https://en.wikipedia.org/wiki/File:Steamboat-willie.jpg',\n",
       " 'https://en.wikipedia.org/wiki/File:Walt_Disney_1935.jpg',\n",
       " 'https://en.wikipedia.org/wiki/File:Walt_Disney_Snow_white_1937_trailer_screenshot_(13).jpg',\n",
       " 'https://en.wikipedia.org/wiki/File:Disney_drawing_goofy.jpg',\n",
       " 'https://en.wikipedia.org/wiki/File:WaltDisneyplansDisneylandDec1954.jpg',\n",
       " 'https://en.wikipedia.org/wiki/File:Walt_disney_portrait_right.jpg',\n",
       " 'https://en.wikipedia.org/wiki/File:DisneySchiphol1951.jpg',\n",
       " 'https://en.wikipedia.org/wiki/File:Walt_Disney_Grave.JPG',\n",
       " 'https://en.wikipedia.org/wiki/File:Roy_O._Disney_with_Company_at_Press_Conference.jpg',\n",
       " 'https://en.wikipedia.org/wiki/File:Disney_Oscar_1953_(cropped).jpg',\n",
       " 'https://en.wikipedia.org/wiki/File:Disney1968.jpg',\n",
       " 'https://en.wikipedia.org/wiki/File:Disneyland_Resort_logo.svg',\n",
       " 'https://en.wikipedia.org/wiki/File:Animation_disc.svg',\n",
       " 'https://en.wikipedia.org/wiki/File:Magic_Kingdom_castle.jpg',\n",
       " 'https://en.wikipedia.org/wiki/File:Blank_television_set.svg']"
      ]
     },
     "execution_count": 564,
     "metadata": {},
     "output_type": "execute_result"
    }
   ],
   "source": [
    "img=[e.get_attribute('href') for e in driver.find_elements(By.CLASS_NAME, 'image')]\n",
    "img"
   ]
  },
  {
   "cell_type": "code",
   "execution_count": null,
   "metadata": {},
   "outputs": [],
   "source": [
    "\n"
   ]
  },
  {
   "cell_type": "markdown",
   "metadata": {},
   "source": [
    "#### Retrieve an arbitary Wikipedia page of \"Python\" and create a list of links on that page"
   ]
  },
  {
   "cell_type": "code",
   "execution_count": 565,
   "metadata": {},
   "outputs": [],
   "source": [
    "# This is the url you will scrape in this exercise\n",
    "url4 ='https://en.wikipedia.org/wiki/Python' "
   ]
  },
  {
   "cell_type": "code",
   "execution_count": 566,
   "metadata": {},
   "outputs": [],
   "source": [
    "driver.get(url4)"
   ]
  },
  {
   "cell_type": "code",
   "execution_count": 567,
   "metadata": {},
   "outputs": [
    {
     "data": {
      "text/plain": [
       "[<selenium.webdriver.remote.webelement.WebElement (session=\"3c9fea89eb5e121be7eac621367555ad\", element=\"ddf3e224-e44f-4032-b94e-7e8d1cca73c8\")>,\n",
       " <selenium.webdriver.remote.webelement.WebElement (session=\"3c9fea89eb5e121be7eac621367555ad\", element=\"84438416-b97c-457a-8b2f-4f74b87cb8f9\")>,\n",
       " <selenium.webdriver.remote.webelement.WebElement (session=\"3c9fea89eb5e121be7eac621367555ad\", element=\"b1a24ecf-95f7-4595-8972-42cd6145e38f\")>,\n",
       " <selenium.webdriver.remote.webelement.WebElement (session=\"3c9fea89eb5e121be7eac621367555ad\", element=\"b17b085a-744a-4002-9cc6-4913ebd51cb9\")>,\n",
       " <selenium.webdriver.remote.webelement.WebElement (session=\"3c9fea89eb5e121be7eac621367555ad\", element=\"bb990924-085c-48ca-a6dd-47ad45999a8a\")>,\n",
       " <selenium.webdriver.remote.webelement.WebElement (session=\"3c9fea89eb5e121be7eac621367555ad\", element=\"eac9a1bd-1302-4724-be3c-50f447077c3a\")>,\n",
       " <selenium.webdriver.remote.webelement.WebElement (session=\"3c9fea89eb5e121be7eac621367555ad\", element=\"d696199a-997a-4b95-ab91-b6b8007613ad\")>,\n",
       " <selenium.webdriver.remote.webelement.WebElement (session=\"3c9fea89eb5e121be7eac621367555ad\", element=\"2184c358-b38f-4665-9dbe-77c23cd781d3\")>,\n",
       " <selenium.webdriver.remote.webelement.WebElement (session=\"3c9fea89eb5e121be7eac621367555ad\", element=\"07d18cdb-fff4-4807-9889-3638b23ef96d\")>,\n",
       " <selenium.webdriver.remote.webelement.WebElement (session=\"3c9fea89eb5e121be7eac621367555ad\", element=\"6839927e-0da2-44f0-afd2-282063bbfa57\")>,\n",
       " <selenium.webdriver.remote.webelement.WebElement (session=\"3c9fea89eb5e121be7eac621367555ad\", element=\"15c0d223-bb2b-4b79-8656-0c7c7e885e3e\")>,\n",
       " <selenium.webdriver.remote.webelement.WebElement (session=\"3c9fea89eb5e121be7eac621367555ad\", element=\"4e06eee4-df35-4950-8e27-958af3896b2e\")>,\n",
       " <selenium.webdriver.remote.webelement.WebElement (session=\"3c9fea89eb5e121be7eac621367555ad\", element=\"092b07d7-20d6-4be6-a6e4-231a82d64e42\")>,\n",
       " <selenium.webdriver.remote.webelement.WebElement (session=\"3c9fea89eb5e121be7eac621367555ad\", element=\"d4017e41-272a-4e66-97fe-e5002a4c1497\")>,\n",
       " <selenium.webdriver.remote.webelement.WebElement (session=\"3c9fea89eb5e121be7eac621367555ad\", element=\"154bb56a-4093-41d4-8438-7fe175df0ad3\")>,\n",
       " <selenium.webdriver.remote.webelement.WebElement (session=\"3c9fea89eb5e121be7eac621367555ad\", element=\"71c4264e-ba1e-4c8a-a247-e155cd314901\")>,\n",
       " <selenium.webdriver.remote.webelement.WebElement (session=\"3c9fea89eb5e121be7eac621367555ad\", element=\"eae75002-fc7a-497d-9c53-12995657b4e5\")>,\n",
       " <selenium.webdriver.remote.webelement.WebElement (session=\"3c9fea89eb5e121be7eac621367555ad\", element=\"ffba0caf-f404-45a0-b5e1-c6ba5fdeb9aa\")>,\n",
       " <selenium.webdriver.remote.webelement.WebElement (session=\"3c9fea89eb5e121be7eac621367555ad\", element=\"899f8934-8e2a-45d2-8f94-d2afee17dd20\")>,\n",
       " <selenium.webdriver.remote.webelement.WebElement (session=\"3c9fea89eb5e121be7eac621367555ad\", element=\"caeeabee-6718-4837-8adc-cadf7ff0b0a6\")>,\n",
       " <selenium.webdriver.remote.webelement.WebElement (session=\"3c9fea89eb5e121be7eac621367555ad\", element=\"1be6d143-7ed7-4ddf-93e5-6c641a980940\")>,\n",
       " <selenium.webdriver.remote.webelement.WebElement (session=\"3c9fea89eb5e121be7eac621367555ad\", element=\"adb686d1-e695-46bf-9d11-9029d19cee3b\")>,\n",
       " <selenium.webdriver.remote.webelement.WebElement (session=\"3c9fea89eb5e121be7eac621367555ad\", element=\"3bbb47f1-cd3d-4f03-84e2-cae9d5bb8d00\")>,\n",
       " <selenium.webdriver.remote.webelement.WebElement (session=\"3c9fea89eb5e121be7eac621367555ad\", element=\"b60cf35a-ab92-456a-91e3-e67d8a40f99e\")>,\n",
       " <selenium.webdriver.remote.webelement.WebElement (session=\"3c9fea89eb5e121be7eac621367555ad\", element=\"fc1eebae-6d04-4a13-9742-659e5326363e\")>,\n",
       " <selenium.webdriver.remote.webelement.WebElement (session=\"3c9fea89eb5e121be7eac621367555ad\", element=\"2b5c4293-38b5-463f-a83c-f522c465d394\")>,\n",
       " <selenium.webdriver.remote.webelement.WebElement (session=\"3c9fea89eb5e121be7eac621367555ad\", element=\"b366a884-cd6e-43b3-964c-8f9032c6fb34\")>,\n",
       " <selenium.webdriver.remote.webelement.WebElement (session=\"3c9fea89eb5e121be7eac621367555ad\", element=\"971b8e37-4130-4f56-8595-f008048e80f2\")>,\n",
       " <selenium.webdriver.remote.webelement.WebElement (session=\"3c9fea89eb5e121be7eac621367555ad\", element=\"895e26dc-9248-47df-9854-d00bacf853f0\")>,\n",
       " <selenium.webdriver.remote.webelement.WebElement (session=\"3c9fea89eb5e121be7eac621367555ad\", element=\"887d250b-bb42-4833-9e77-5f15a151d5cd\")>,\n",
       " <selenium.webdriver.remote.webelement.WebElement (session=\"3c9fea89eb5e121be7eac621367555ad\", element=\"c723eb60-a494-4403-998a-31923b422017\")>,\n",
       " <selenium.webdriver.remote.webelement.WebElement (session=\"3c9fea89eb5e121be7eac621367555ad\", element=\"a57fa8e3-233e-4278-89e3-21091ee9c28a\")>,\n",
       " <selenium.webdriver.remote.webelement.WebElement (session=\"3c9fea89eb5e121be7eac621367555ad\", element=\"8375504b-6d1b-4fea-9bf4-7f9d95929e9b\")>,\n",
       " <selenium.webdriver.remote.webelement.WebElement (session=\"3c9fea89eb5e121be7eac621367555ad\", element=\"8f3590d5-052a-4486-80f5-ab6afb9091c4\")>,\n",
       " <selenium.webdriver.remote.webelement.WebElement (session=\"3c9fea89eb5e121be7eac621367555ad\", element=\"8c8d698e-2c0f-456e-b52a-6078aeba23a4\")>,\n",
       " <selenium.webdriver.remote.webelement.WebElement (session=\"3c9fea89eb5e121be7eac621367555ad\", element=\"1b5732fd-d688-4a12-b3bd-6b50e5d830ef\")>,\n",
       " <selenium.webdriver.remote.webelement.WebElement (session=\"3c9fea89eb5e121be7eac621367555ad\", element=\"8385a690-2f84-448d-b3f8-7471d0e5bea9\")>,\n",
       " <selenium.webdriver.remote.webelement.WebElement (session=\"3c9fea89eb5e121be7eac621367555ad\", element=\"e55f8523-1ad8-4a83-b3d5-a35c2f01638b\")>,\n",
       " <selenium.webdriver.remote.webelement.WebElement (session=\"3c9fea89eb5e121be7eac621367555ad\", element=\"271e905f-bea2-4db8-bc87-abff954c89f7\")>,\n",
       " <selenium.webdriver.remote.webelement.WebElement (session=\"3c9fea89eb5e121be7eac621367555ad\", element=\"905507dc-da67-49ee-a721-123265ac4a9c\")>,\n",
       " <selenium.webdriver.remote.webelement.WebElement (session=\"3c9fea89eb5e121be7eac621367555ad\", element=\"b80006e5-fa35-46f2-9551-a2e7cd152a0b\")>,\n",
       " <selenium.webdriver.remote.webelement.WebElement (session=\"3c9fea89eb5e121be7eac621367555ad\", element=\"a3c24a44-8e1c-4135-8940-6afd50f1479e\")>,\n",
       " <selenium.webdriver.remote.webelement.WebElement (session=\"3c9fea89eb5e121be7eac621367555ad\", element=\"74d39f80-25c6-4aa7-b15b-338ccf1a3ac7\")>,\n",
       " <selenium.webdriver.remote.webelement.WebElement (session=\"3c9fea89eb5e121be7eac621367555ad\", element=\"eb46b22a-b975-4a4a-a4f6-0aa01696b438\")>,\n",
       " <selenium.webdriver.remote.webelement.WebElement (session=\"3c9fea89eb5e121be7eac621367555ad\", element=\"7b04fa67-5ff8-4414-b8f9-8808e0a65295\")>,\n",
       " <selenium.webdriver.remote.webelement.WebElement (session=\"3c9fea89eb5e121be7eac621367555ad\", element=\"04221d3a-96d4-4a96-ab48-1f09bab3687d\")>,\n",
       " <selenium.webdriver.remote.webelement.WebElement (session=\"3c9fea89eb5e121be7eac621367555ad\", element=\"ba6298f2-dc68-424f-8840-9721c54bbb07\")>,\n",
       " <selenium.webdriver.remote.webelement.WebElement (session=\"3c9fea89eb5e121be7eac621367555ad\", element=\"1b2560b3-50e9-47b9-ae77-24c723554a29\")>,\n",
       " <selenium.webdriver.remote.webelement.WebElement (session=\"3c9fea89eb5e121be7eac621367555ad\", element=\"25932ab0-4300-4205-9cf8-8f1e82ebc062\")>,\n",
       " <selenium.webdriver.remote.webelement.WebElement (session=\"3c9fea89eb5e121be7eac621367555ad\", element=\"b7329058-74db-431d-b693-40584c369e81\")>,\n",
       " <selenium.webdriver.remote.webelement.WebElement (session=\"3c9fea89eb5e121be7eac621367555ad\", element=\"9da78f6c-e629-4146-acfa-97dd3904f763\")>,\n",
       " <selenium.webdriver.remote.webelement.WebElement (session=\"3c9fea89eb5e121be7eac621367555ad\", element=\"b3cbf43d-384c-4d53-abb2-642929a4fd38\")>,\n",
       " <selenium.webdriver.remote.webelement.WebElement (session=\"3c9fea89eb5e121be7eac621367555ad\", element=\"c773ce29-a0c3-459c-b2eb-09b849bf89e4\")>,\n",
       " <selenium.webdriver.remote.webelement.WebElement (session=\"3c9fea89eb5e121be7eac621367555ad\", element=\"5022bbf9-58c3-4282-944b-a01581d29edb\")>,\n",
       " <selenium.webdriver.remote.webelement.WebElement (session=\"3c9fea89eb5e121be7eac621367555ad\", element=\"4b1c05c6-290e-431a-9d8e-9a68a50c1a5a\")>,\n",
       " <selenium.webdriver.remote.webelement.WebElement (session=\"3c9fea89eb5e121be7eac621367555ad\", element=\"65883775-ca6d-4cad-a000-d3a6145f3b65\")>,\n",
       " <selenium.webdriver.remote.webelement.WebElement (session=\"3c9fea89eb5e121be7eac621367555ad\", element=\"da55cb32-ad09-414a-b5f5-ccd52a0edf65\")>,\n",
       " <selenium.webdriver.remote.webelement.WebElement (session=\"3c9fea89eb5e121be7eac621367555ad\", element=\"3fa10c8b-ba0d-4b6d-a34c-aee731b82a92\")>,\n",
       " <selenium.webdriver.remote.webelement.WebElement (session=\"3c9fea89eb5e121be7eac621367555ad\", element=\"8591207c-c257-48df-bd63-ae7b910da14c\")>,\n",
       " <selenium.webdriver.remote.webelement.WebElement (session=\"3c9fea89eb5e121be7eac621367555ad\", element=\"14205c37-dc59-4304-ae21-77b2a7f6c105\")>,\n",
       " <selenium.webdriver.remote.webelement.WebElement (session=\"3c9fea89eb5e121be7eac621367555ad\", element=\"c9150325-278a-4025-8c65-dfa15ab03910\")>,\n",
       " <selenium.webdriver.remote.webelement.WebElement (session=\"3c9fea89eb5e121be7eac621367555ad\", element=\"9c448066-c5f0-41da-922c-2a2f99e42868\")>,\n",
       " <selenium.webdriver.remote.webelement.WebElement (session=\"3c9fea89eb5e121be7eac621367555ad\", element=\"864eddfa-b789-4e52-adc5-47705586265d\")>,\n",
       " <selenium.webdriver.remote.webelement.WebElement (session=\"3c9fea89eb5e121be7eac621367555ad\", element=\"e3b4ed79-6ca6-49f1-91b2-a9e6e1119d35\")>,\n",
       " <selenium.webdriver.remote.webelement.WebElement (session=\"3c9fea89eb5e121be7eac621367555ad\", element=\"d70c7cf0-f17f-4e22-ba6c-820a091d845f\")>,\n",
       " <selenium.webdriver.remote.webelement.WebElement (session=\"3c9fea89eb5e121be7eac621367555ad\", element=\"25548870-03c4-423c-b30e-00ed96692a1c\")>,\n",
       " <selenium.webdriver.remote.webelement.WebElement (session=\"3c9fea89eb5e121be7eac621367555ad\", element=\"5b4fb310-5524-4bd9-97c4-2114f1a6ce57\")>,\n",
       " <selenium.webdriver.remote.webelement.WebElement (session=\"3c9fea89eb5e121be7eac621367555ad\", element=\"d8d2ed31-4489-4dce-82ba-925301437d60\")>,\n",
       " <selenium.webdriver.remote.webelement.WebElement (session=\"3c9fea89eb5e121be7eac621367555ad\", element=\"28de591a-bddb-4e9d-9f61-25ae5647174a\")>,\n",
       " <selenium.webdriver.remote.webelement.WebElement (session=\"3c9fea89eb5e121be7eac621367555ad\", element=\"7f862bda-bc0e-4489-9117-0b38c92cb41b\")>,\n",
       " <selenium.webdriver.remote.webelement.WebElement (session=\"3c9fea89eb5e121be7eac621367555ad\", element=\"e63968e2-6c2e-4dd8-aee2-d331a58f63e7\")>,\n",
       " <selenium.webdriver.remote.webelement.WebElement (session=\"3c9fea89eb5e121be7eac621367555ad\", element=\"6e8455d0-1c69-4b85-9c6d-ba595bddacbc\")>,\n",
       " <selenium.webdriver.remote.webelement.WebElement (session=\"3c9fea89eb5e121be7eac621367555ad\", element=\"c1715719-ec2f-497f-80a5-04b3fa1cb21f\")>,\n",
       " <selenium.webdriver.remote.webelement.WebElement (session=\"3c9fea89eb5e121be7eac621367555ad\", element=\"ec2307cf-4ebf-4f22-9024-1e360686468b\")>,\n",
       " <selenium.webdriver.remote.webelement.WebElement (session=\"3c9fea89eb5e121be7eac621367555ad\", element=\"260b1547-24df-451e-8201-d1ff3897955b\")>,\n",
       " <selenium.webdriver.remote.webelement.WebElement (session=\"3c9fea89eb5e121be7eac621367555ad\", element=\"8cd20952-af4d-4de9-8b8e-014348076b66\")>,\n",
       " <selenium.webdriver.remote.webelement.WebElement (session=\"3c9fea89eb5e121be7eac621367555ad\", element=\"ba7d59fd-0a7a-41a8-a7b9-aa22436c275b\")>,\n",
       " <selenium.webdriver.remote.webelement.WebElement (session=\"3c9fea89eb5e121be7eac621367555ad\", element=\"c801cd27-af8f-47c5-84a4-f32d84b8bc25\")>,\n",
       " <selenium.webdriver.remote.webelement.WebElement (session=\"3c9fea89eb5e121be7eac621367555ad\", element=\"64173767-9089-4a21-9c12-5b8a94386cc5\")>,\n",
       " <selenium.webdriver.remote.webelement.WebElement (session=\"3c9fea89eb5e121be7eac621367555ad\", element=\"c9053fd1-7a88-4331-a347-73bb9041f6e3\")>,\n",
       " <selenium.webdriver.remote.webelement.WebElement (session=\"3c9fea89eb5e121be7eac621367555ad\", element=\"0ae177c9-1385-49ba-a3fe-e1fe3af06811\")>,\n",
       " <selenium.webdriver.remote.webelement.WebElement (session=\"3c9fea89eb5e121be7eac621367555ad\", element=\"2797992f-9699-4df3-a8e2-6c6199f94902\")>,\n",
       " <selenium.webdriver.remote.webelement.WebElement (session=\"3c9fea89eb5e121be7eac621367555ad\", element=\"b1c40012-1707-400b-9263-ec980bb43004\")>,\n",
       " <selenium.webdriver.remote.webelement.WebElement (session=\"3c9fea89eb5e121be7eac621367555ad\", element=\"fd1dcdf2-75b5-45a1-8699-50a054b0aa8d\")>,\n",
       " <selenium.webdriver.remote.webelement.WebElement (session=\"3c9fea89eb5e121be7eac621367555ad\", element=\"b6ed6ab7-d525-47ba-a3d6-d3901aa339f0\")>,\n",
       " <selenium.webdriver.remote.webelement.WebElement (session=\"3c9fea89eb5e121be7eac621367555ad\", element=\"b4274754-baa9-4421-b4ed-d4ecee8cbad8\")>,\n",
       " <selenium.webdriver.remote.webelement.WebElement (session=\"3c9fea89eb5e121be7eac621367555ad\", element=\"ad638ac1-c846-40b9-b9d0-208a1f23f4ae\")>,\n",
       " <selenium.webdriver.remote.webelement.WebElement (session=\"3c9fea89eb5e121be7eac621367555ad\", element=\"112e1e99-6bc5-4272-af5a-ac919715e582\")>,\n",
       " <selenium.webdriver.remote.webelement.WebElement (session=\"3c9fea89eb5e121be7eac621367555ad\", element=\"b70e75cd-37c3-4f0a-aab7-941686a8f1d9\")>,\n",
       " <selenium.webdriver.remote.webelement.WebElement (session=\"3c9fea89eb5e121be7eac621367555ad\", element=\"7b9f681b-3ba0-489c-940c-71e0e8a413d8\")>,\n",
       " <selenium.webdriver.remote.webelement.WebElement (session=\"3c9fea89eb5e121be7eac621367555ad\", element=\"ff63f4fe-bf1f-483d-b922-7e8580409860\")>,\n",
       " <selenium.webdriver.remote.webelement.WebElement (session=\"3c9fea89eb5e121be7eac621367555ad\", element=\"ff47c4ea-31cf-4025-8c2b-2e1e185c4f8c\")>,\n",
       " <selenium.webdriver.remote.webelement.WebElement (session=\"3c9fea89eb5e121be7eac621367555ad\", element=\"2cb9b440-832b-42be-8804-79a0a62e46ac\")>,\n",
       " <selenium.webdriver.remote.webelement.WebElement (session=\"3c9fea89eb5e121be7eac621367555ad\", element=\"0d66f345-fb7d-4344-be2c-0182ec886c84\")>,\n",
       " <selenium.webdriver.remote.webelement.WebElement (session=\"3c9fea89eb5e121be7eac621367555ad\", element=\"f4d58240-e6fc-4601-b29d-b4d9b4711bb5\")>,\n",
       " <selenium.webdriver.remote.webelement.WebElement (session=\"3c9fea89eb5e121be7eac621367555ad\", element=\"250b7afa-34ed-41d4-9641-6dfdf410646c\")>,\n",
       " <selenium.webdriver.remote.webelement.WebElement (session=\"3c9fea89eb5e121be7eac621367555ad\", element=\"7214c7ac-1d0a-493e-8786-5a4c8554773f\")>,\n",
       " <selenium.webdriver.remote.webelement.WebElement (session=\"3c9fea89eb5e121be7eac621367555ad\", element=\"1f4ed441-ba11-4152-acdb-cc8f53aec54a\")>,\n",
       " <selenium.webdriver.remote.webelement.WebElement (session=\"3c9fea89eb5e121be7eac621367555ad\", element=\"cbb9999f-1d6b-4d45-9a36-bc426703f95e\")>,\n",
       " <selenium.webdriver.remote.webelement.WebElement (session=\"3c9fea89eb5e121be7eac621367555ad\", element=\"b96fdee8-ff99-4e83-81b4-f4ad51a11a08\")>,\n",
       " <selenium.webdriver.remote.webelement.WebElement (session=\"3c9fea89eb5e121be7eac621367555ad\", element=\"176dae1a-8fc7-443e-89d9-5d4ae25f634c\")>,\n",
       " <selenium.webdriver.remote.webelement.WebElement (session=\"3c9fea89eb5e121be7eac621367555ad\", element=\"926b4ce9-21ec-4f61-8c38-12110a1f3ab3\")>,\n",
       " <selenium.webdriver.remote.webelement.WebElement (session=\"3c9fea89eb5e121be7eac621367555ad\", element=\"ac6a057b-4834-493a-95eb-e0f71db4e3e5\")>,\n",
       " <selenium.webdriver.remote.webelement.WebElement (session=\"3c9fea89eb5e121be7eac621367555ad\", element=\"92375d8c-ed4e-46ea-9986-348f93335605\")>,\n",
       " <selenium.webdriver.remote.webelement.WebElement (session=\"3c9fea89eb5e121be7eac621367555ad\", element=\"207ee7d4-8a75-46fb-9c01-7865a38c1b3e\")>,\n",
       " <selenium.webdriver.remote.webelement.WebElement (session=\"3c9fea89eb5e121be7eac621367555ad\", element=\"ab0073e9-35e7-4b52-9649-64999b0e16df\")>,\n",
       " <selenium.webdriver.remote.webelement.WebElement (session=\"3c9fea89eb5e121be7eac621367555ad\", element=\"7ef4e449-93fd-4e82-bd99-45cdddb5f03e\")>,\n",
       " <selenium.webdriver.remote.webelement.WebElement (session=\"3c9fea89eb5e121be7eac621367555ad\", element=\"5fcfc560-16f2-4414-9370-193489dfda49\")>,\n",
       " <selenium.webdriver.remote.webelement.WebElement (session=\"3c9fea89eb5e121be7eac621367555ad\", element=\"ef6dbb9a-80dc-43fe-ab8a-bd661edb67b4\")>,\n",
       " <selenium.webdriver.remote.webelement.WebElement (session=\"3c9fea89eb5e121be7eac621367555ad\", element=\"18901678-7cd7-4b45-8b0b-8eea70c9341e\")>,\n",
       " <selenium.webdriver.remote.webelement.WebElement (session=\"3c9fea89eb5e121be7eac621367555ad\", element=\"e4db5880-374d-40c1-b476-a7a2a17001cc\")>,\n",
       " <selenium.webdriver.remote.webelement.WebElement (session=\"3c9fea89eb5e121be7eac621367555ad\", element=\"51466524-145d-4824-86fa-b5ea5129d323\")>,\n",
       " <selenium.webdriver.remote.webelement.WebElement (session=\"3c9fea89eb5e121be7eac621367555ad\", element=\"ea85502a-5c68-408d-bff5-1db58a325e30\")>,\n",
       " <selenium.webdriver.remote.webelement.WebElement (session=\"3c9fea89eb5e121be7eac621367555ad\", element=\"388c2d05-b4c3-4512-88c1-2d46faec044f\")>,\n",
       " <selenium.webdriver.remote.webelement.WebElement (session=\"3c9fea89eb5e121be7eac621367555ad\", element=\"2befdae3-a14a-4beb-9173-869320b217d5\")>,\n",
       " <selenium.webdriver.remote.webelement.WebElement (session=\"3c9fea89eb5e121be7eac621367555ad\", element=\"111c3d9e-5b02-4a9c-9054-c628ae3831bc\")>,\n",
       " <selenium.webdriver.remote.webelement.WebElement (session=\"3c9fea89eb5e121be7eac621367555ad\", element=\"45eb89da-662a-4dd7-a62c-212665237ce6\")>,\n",
       " <selenium.webdriver.remote.webelement.WebElement (session=\"3c9fea89eb5e121be7eac621367555ad\", element=\"9a5d6a0b-8bb1-468e-ac87-1c63c4114c50\")>,\n",
       " <selenium.webdriver.remote.webelement.WebElement (session=\"3c9fea89eb5e121be7eac621367555ad\", element=\"b3b3b01b-a608-40c6-9f6c-b812ead46355\")>,\n",
       " <selenium.webdriver.remote.webelement.WebElement (session=\"3c9fea89eb5e121be7eac621367555ad\", element=\"e001bc6a-427d-471c-b12b-6ad518b92315\")>,\n",
       " <selenium.webdriver.remote.webelement.WebElement (session=\"3c9fea89eb5e121be7eac621367555ad\", element=\"42ef5831-128f-4c26-8f3a-c2ee4844922c\")>,\n",
       " <selenium.webdriver.remote.webelement.WebElement (session=\"3c9fea89eb5e121be7eac621367555ad\", element=\"49e1c7b8-3b57-4ad0-8e59-eaa91eddce9a\")>,\n",
       " <selenium.webdriver.remote.webelement.WebElement (session=\"3c9fea89eb5e121be7eac621367555ad\", element=\"ea1a89e6-36cc-4864-9756-1563cbd3f0b5\")>,\n",
       " <selenium.webdriver.remote.webelement.WebElement (session=\"3c9fea89eb5e121be7eac621367555ad\", element=\"8b070141-48cc-4e06-b8de-94cc50bc1f84\")>,\n",
       " <selenium.webdriver.remote.webelement.WebElement (session=\"3c9fea89eb5e121be7eac621367555ad\", element=\"63a0dd64-5430-42ba-acde-88e5a52f25ca\")>,\n",
       " <selenium.webdriver.remote.webelement.WebElement (session=\"3c9fea89eb5e121be7eac621367555ad\", element=\"692e811c-aa16-43d3-bd60-864bfe541176\")>,\n",
       " <selenium.webdriver.remote.webelement.WebElement (session=\"3c9fea89eb5e121be7eac621367555ad\", element=\"67903943-f0c5-4ddd-92dc-bc11cf98351e\")>,\n",
       " <selenium.webdriver.remote.webelement.WebElement (session=\"3c9fea89eb5e121be7eac621367555ad\", element=\"6cbc84d5-05b9-4e1f-87ef-6b9e4caca25b\")>,\n",
       " <selenium.webdriver.remote.webelement.WebElement (session=\"3c9fea89eb5e121be7eac621367555ad\", element=\"414e5aba-780a-4aa8-973a-18d8f0ef1912\")>,\n",
       " <selenium.webdriver.remote.webelement.WebElement (session=\"3c9fea89eb5e121be7eac621367555ad\", element=\"16f5564a-4d3f-4581-8823-b7b61707c9e7\")>,\n",
       " <selenium.webdriver.remote.webelement.WebElement (session=\"3c9fea89eb5e121be7eac621367555ad\", element=\"b1de4b81-b768-423e-a511-1ed5f4527008\")>,\n",
       " <selenium.webdriver.remote.webelement.WebElement (session=\"3c9fea89eb5e121be7eac621367555ad\", element=\"8c1873f3-71e6-48d8-8ef6-d10a6f317b3d\")>,\n",
       " <selenium.webdriver.remote.webelement.WebElement (session=\"3c9fea89eb5e121be7eac621367555ad\", element=\"5cfbeba7-92ca-4309-ab9f-512d714c1334\")>,\n",
       " <selenium.webdriver.remote.webelement.WebElement (session=\"3c9fea89eb5e121be7eac621367555ad\", element=\"a892b20e-afd1-4b08-9935-7d2173f1761f\")>,\n",
       " <selenium.webdriver.remote.webelement.WebElement (session=\"3c9fea89eb5e121be7eac621367555ad\", element=\"5d972918-2c56-4459-9c90-2ce398bc1463\")>,\n",
       " <selenium.webdriver.remote.webelement.WebElement (session=\"3c9fea89eb5e121be7eac621367555ad\", element=\"f7f4e756-b270-4dd6-a43a-9efd65f75339\")>,\n",
       " <selenium.webdriver.remote.webelement.WebElement (session=\"3c9fea89eb5e121be7eac621367555ad\", element=\"022ed393-4ef9-457f-9307-84c8bc93c39c\")>,\n",
       " <selenium.webdriver.remote.webelement.WebElement (session=\"3c9fea89eb5e121be7eac621367555ad\", element=\"b746f649-938c-451d-bc04-1a5c2ab73f79\")>,\n",
       " <selenium.webdriver.remote.webelement.WebElement (session=\"3c9fea89eb5e121be7eac621367555ad\", element=\"fe8642bf-7b5e-4057-b2be-aa2424dcd72e\")>,\n",
       " <selenium.webdriver.remote.webelement.WebElement (session=\"3c9fea89eb5e121be7eac621367555ad\", element=\"e17f7fe2-d5ad-481a-8c6a-7c658b835dd7\")>,\n",
       " <selenium.webdriver.remote.webelement.WebElement (session=\"3c9fea89eb5e121be7eac621367555ad\", element=\"b6de049d-aec9-4702-add9-5afa1416baa2\")>,\n",
       " <selenium.webdriver.remote.webelement.WebElement (session=\"3c9fea89eb5e121be7eac621367555ad\", element=\"30d60bb6-a183-403b-9865-b451df42b9fc\")>,\n",
       " <selenium.webdriver.remote.webelement.WebElement (session=\"3c9fea89eb5e121be7eac621367555ad\", element=\"8afd04da-f02d-42de-8ba8-a375fd2e772a\")>,\n",
       " <selenium.webdriver.remote.webelement.WebElement (session=\"3c9fea89eb5e121be7eac621367555ad\", element=\"947ca7a2-51d4-497d-883d-8fc225524f7f\")>,\n",
       " <selenium.webdriver.remote.webelement.WebElement (session=\"3c9fea89eb5e121be7eac621367555ad\", element=\"ee179490-4d3a-4f75-a2bd-b3a29542342e\")>,\n",
       " <selenium.webdriver.remote.webelement.WebElement (session=\"3c9fea89eb5e121be7eac621367555ad\", element=\"6de58a01-3d31-4cb5-ada9-fa7563c3e33a\")>,\n",
       " <selenium.webdriver.remote.webelement.WebElement (session=\"3c9fea89eb5e121be7eac621367555ad\", element=\"4a0437fd-6736-44eb-b3d9-e9c1198a28a5\")>,\n",
       " <selenium.webdriver.remote.webelement.WebElement (session=\"3c9fea89eb5e121be7eac621367555ad\", element=\"4200dbfa-ae1d-49c1-9e71-720992429237\")>,\n",
       " <selenium.webdriver.remote.webelement.WebElement (session=\"3c9fea89eb5e121be7eac621367555ad\", element=\"13664333-a5a4-4978-889a-a9004d8995b6\")>,\n",
       " <selenium.webdriver.remote.webelement.WebElement (session=\"3c9fea89eb5e121be7eac621367555ad\", element=\"b20fb9cb-039a-4463-a9c4-03d5bb7ffef8\")>,\n",
       " <selenium.webdriver.remote.webelement.WebElement (session=\"3c9fea89eb5e121be7eac621367555ad\", element=\"7eaa00da-b44b-49a6-a2a7-20c9dfe33bfa\")>,\n",
       " <selenium.webdriver.remote.webelement.WebElement (session=\"3c9fea89eb5e121be7eac621367555ad\", element=\"6e5c418d-f270-4cc5-afb7-7223690b00ba\")>,\n",
       " <selenium.webdriver.remote.webelement.WebElement (session=\"3c9fea89eb5e121be7eac621367555ad\", element=\"0fdaabff-ac54-4cd9-9bb8-18ba7dfbb0d7\")>,\n",
       " <selenium.webdriver.remote.webelement.WebElement (session=\"3c9fea89eb5e121be7eac621367555ad\", element=\"9d8a9944-db92-4db5-98f7-bd912f112c2e\")>,\n",
       " <selenium.webdriver.remote.webelement.WebElement (session=\"3c9fea89eb5e121be7eac621367555ad\", element=\"67c9aad8-e11c-4d9b-b260-d138fbac232c\")>]"
      ]
     },
     "execution_count": 567,
     "metadata": {},
     "output_type": "execute_result"
    }
   ],
   "source": [
    "imagen = driver.find_elements(By.TAG_NAME, 'a')\n",
    "imagen"
   ]
  },
  {
   "cell_type": "code",
   "execution_count": 568,
   "metadata": {},
   "outputs": [
    {
     "data": {
      "text/plain": [
       "['https://en.wikipedia.org/wiki/Python#mw-head',\n",
       " 'https://en.wikipedia.org/wiki/Python#searchInput',\n",
       " 'https://en.wiktionary.org/wiki/Python',\n",
       " 'https://en.wiktionary.org/wiki/python',\n",
       " 'https://en.wikipedia.org/wiki/Python#Snakes',\n",
       " 'https://en.wikipedia.org/wiki/Python#Computing',\n",
       " 'https://en.wikipedia.org/wiki/Python#People',\n",
       " 'https://en.wikipedia.org/wiki/Python#Roller_coasters',\n",
       " 'https://en.wikipedia.org/wiki/Python#Vehicles',\n",
       " 'https://en.wikipedia.org/wiki/Python#Weaponry',\n",
       " 'https://en.wikipedia.org/wiki/Python#Other_uses',\n",
       " 'https://en.wikipedia.org/wiki/Python#See_also',\n",
       " 'https://en.wikipedia.org/w/index.php?title=Python&action=edit&section=1&editintro=Template:Disambig_editintro',\n",
       " 'https://en.wikipedia.org/wiki/Pythonidae',\n",
       " 'https://en.wikipedia.org/wiki/Python_(genus)',\n",
       " 'https://en.wikipedia.org/wiki/Python_(mythology)',\n",
       " 'https://en.wikipedia.org/w/index.php?title=Python&action=edit&section=2&editintro=Template:Disambig_editintro',\n",
       " 'https://en.wikipedia.org/wiki/Python_(programming_language)',\n",
       " 'https://en.wikipedia.org/wiki/CMU_Common_Lisp',\n",
       " 'https://en.wikipedia.org/wiki/PERQ#PERQ_3',\n",
       " 'https://en.wikipedia.org/w/index.php?title=Python&action=edit&section=3&editintro=Template:Disambig_editintro',\n",
       " 'https://en.wikipedia.org/wiki/Python_of_Aenus',\n",
       " 'https://en.wikipedia.org/wiki/Python_(painter)',\n",
       " 'https://en.wikipedia.org/wiki/Python_of_Byzantium',\n",
       " 'https://en.wikipedia.org/wiki/Python_of_Catana',\n",
       " 'https://en.wikipedia.org/wiki/Python_Anghelo',\n",
       " 'https://en.wikipedia.org/w/index.php?title=Python&action=edit&section=4&editintro=Template:Disambig_editintro',\n",
       " 'https://en.wikipedia.org/wiki/Python_(Efteling)',\n",
       " 'https://en.wikipedia.org/wiki/Python_(Busch_Gardens_Tampa_Bay)',\n",
       " 'https://en.wikipedia.org/wiki/Python_(Coney_Island,_Cincinnati,_Ohio)',\n",
       " 'https://en.wikipedia.org/w/index.php?title=Python&action=edit&section=5&editintro=Template:Disambig_editintro',\n",
       " 'https://en.wikipedia.org/wiki/Python_(automobile_maker)',\n",
       " 'https://en.wikipedia.org/wiki/Python_(Ford_prototype)',\n",
       " 'https://en.wikipedia.org/w/index.php?title=Python&action=edit&section=6&editintro=Template:Disambig_editintro',\n",
       " 'https://en.wikipedia.org/wiki/Python_(missile)',\n",
       " 'https://en.wikipedia.org/wiki/Python_(nuclear_primary)',\n",
       " 'https://en.wikipedia.org/wiki/Colt_Python',\n",
       " 'https://en.wikipedia.org/w/index.php?title=Python&action=edit&section=7&editintro=Template:Disambig_editintro',\n",
       " 'https://en.wikipedia.org/wiki/Python_(codename)',\n",
       " 'https://en.wikipedia.org/wiki/Python_(film)',\n",
       " 'https://en.wikipedia.org/wiki/Monty_Python',\n",
       " 'https://en.wikipedia.org/wiki/Python_(Monty)_Pictures',\n",
       " 'https://en.wikipedia.org/wiki/Timon_of_Phlius',\n",
       " 'https://en.wikipedia.org/w/index.php?title=Python&action=edit&section=8&editintro=Template:Disambig_editintro',\n",
       " 'https://en.wikipedia.org/wiki/Cython',\n",
       " 'https://en.wikipedia.org/wiki/Pyton',\n",
       " 'https://en.wikipedia.org/wiki/Pithon',\n",
       " 'https://en.wikipedia.org/wiki/File:Disambig_gray.svg',\n",
       " 'https://en.wikipedia.org/wiki/Help:Disambiguation',\n",
       " 'https://en.wikipedia.org/w/index.php?title=Special:WhatLinksHere/Python&namespace=0',\n",
       " 'https://en.wikipedia.org/w/index.php?title=Python&oldid=1104201971',\n",
       " 'https://en.wikipedia.org/wiki/Help:Category',\n",
       " 'https://en.wikipedia.org/wiki/Category:Disambiguation_pages',\n",
       " 'https://en.wikipedia.org/wiki/Category:Human_name_disambiguation_pages',\n",
       " 'https://en.wikipedia.org/wiki/Category:Disambiguation_pages_with_given-name-holder_lists',\n",
       " 'https://en.wikipedia.org/wiki/Category:Disambiguation_pages_with_short_descriptions',\n",
       " 'https://en.wikipedia.org/wiki/Category:Short_description_is_different_from_Wikidata',\n",
       " 'https://en.wikipedia.org/wiki/Category:All_article_disambiguation_pages',\n",
       " 'https://en.wikipedia.org/wiki/Category:All_disambiguation_pages',\n",
       " 'https://en.wikipedia.org/wiki/Category:Animal_common_name_disambiguation_pages',\n",
       " 'https://en.wikipedia.org/wiki/Special:MyTalk',\n",
       " 'https://en.wikipedia.org/wiki/Special:MyContributions',\n",
       " 'https://en.wikipedia.org/w/index.php?title=Special:CreateAccount&returnto=Python',\n",
       " 'https://en.wikipedia.org/w/index.php?title=Special:UserLogin&returnto=Python',\n",
       " 'https://en.wikipedia.org/wiki/Python',\n",
       " 'https://en.wikipedia.org/wiki/Talk:Python',\n",
       " 'https://en.wikipedia.org/wiki/Python',\n",
       " 'https://en.wikipedia.org/w/index.php?title=Python&action=edit&editintro=Template:Disambig_editintro',\n",
       " 'https://en.wikipedia.org/w/index.php?title=Python&action=history',\n",
       " 'https://en.wikipedia.org/wiki/Main_Page',\n",
       " 'https://en.wikipedia.org/wiki/Main_Page',\n",
       " 'https://en.wikipedia.org/wiki/Wikipedia:Contents',\n",
       " 'https://en.wikipedia.org/wiki/Portal:Current_events',\n",
       " 'https://en.wikipedia.org/wiki/Special:Random',\n",
       " 'https://en.wikipedia.org/wiki/Wikipedia:About',\n",
       " 'https://en.wikipedia.org/wiki/Wikipedia:Contact_us',\n",
       " 'https://donate.wikimedia.org/wiki/Special:FundraiserRedirector?utm_source=donate&utm_medium=sidebar&utm_campaign=C13_en.wikipedia.org&uselang=en',\n",
       " 'https://en.wikipedia.org/wiki/Help:Contents',\n",
       " 'https://en.wikipedia.org/wiki/Help:Introduction',\n",
       " 'https://en.wikipedia.org/wiki/Wikipedia:Community_portal',\n",
       " 'https://en.wikipedia.org/wiki/Special:RecentChanges',\n",
       " 'https://en.wikipedia.org/wiki/Wikipedia:File_Upload_Wizard',\n",
       " 'https://en.wikipedia.org/wiki/Special:WhatLinksHere/Python',\n",
       " 'https://en.wikipedia.org/wiki/Special:RecentChangesLinked/Python',\n",
       " 'https://en.wikipedia.org/wiki/Wikipedia:File_Upload_Wizard',\n",
       " 'https://en.wikipedia.org/wiki/Special:SpecialPages',\n",
       " 'https://en.wikipedia.org/w/index.php?title=Python&oldid=1104201971',\n",
       " 'https://en.wikipedia.org/w/index.php?title=Python&action=info',\n",
       " 'https://en.wikipedia.org/w/index.php?title=Special:CiteThisPage&page=Python&id=1104201971&wpFormIdentifier=titleform',\n",
       " 'https://www.wikidata.org/wiki/Special:EntityPage/Q747452',\n",
       " 'https://en.wikipedia.org/w/index.php?title=Special:DownloadAsPdf&page=Python&action=show-download-screen',\n",
       " 'https://en.wikipedia.org/w/index.php?title=Python&printable=yes',\n",
       " 'https://commons.wikimedia.org/wiki/Category:Python',\n",
       " 'https://af.wikipedia.org/wiki/Python',\n",
       " 'https://als.wikipedia.org/wiki/Python',\n",
       " 'https://ar.wikipedia.org/wiki/%D8%A8%D8%A7%D9%8A%D8%AB%D9%88%D9%86_(%D8%AA%D9%88%D8%B6%D9%8A%D8%AD)',\n",
       " 'https://az.wikipedia.org/wiki/Python',\n",
       " 'https://bn.wikipedia.org/wiki/%E0%A6%AA%E0%A6%BE%E0%A6%87%E0%A6%A5%E0%A6%A8_(%E0%A6%A6%E0%A7%8D%E0%A6%AC%E0%A7%8D%E0%A6%AF%E0%A6%B0%E0%A7%8D%E0%A6%A5%E0%A6%A4%E0%A6%BE_%E0%A6%A8%E0%A6%BF%E0%A6%B0%E0%A6%B8%E0%A6%A8)',\n",
       " 'https://be.wikipedia.org/wiki/Python',\n",
       " 'https://bg.wikipedia.org/wiki/%D0%9F%D0%B8%D1%82%D0%BE%D0%BD_(%D0%BF%D0%BE%D1%8F%D1%81%D0%BD%D0%B5%D0%BD%D0%B8%D0%B5)',\n",
       " 'https://cs.wikipedia.org/wiki/Python_(rozcestn%C3%ADk)',\n",
       " 'https://da.wikipedia.org/wiki/Python',\n",
       " 'https://de.wikipedia.org/wiki/Python',\n",
       " 'https://eo.wikipedia.org/wiki/Pitono_(apartigilo)',\n",
       " 'https://eu.wikipedia.org/wiki/Python_(argipena)',\n",
       " 'https://fa.wikipedia.org/wiki/%D9%BE%D8%A7%DB%8C%D8%AA%D9%88%D9%86',\n",
       " 'https://fr.wikipedia.org/wiki/Python',\n",
       " 'https://ko.wikipedia.org/wiki/%ED%8C%8C%EC%9D%B4%EC%84%A0',\n",
       " 'https://hr.wikipedia.org/wiki/Python_(razdvojba)',\n",
       " 'https://io.wikipedia.org/wiki/Pitono',\n",
       " 'https://id.wikipedia.org/wiki/Python',\n",
       " 'https://ia.wikipedia.org/wiki/Python_(disambiguation)',\n",
       " 'https://is.wikipedia.org/wiki/Python_(a%C3%B0greining)',\n",
       " 'https://it.wikipedia.org/wiki/Python_(disambigua)',\n",
       " 'https://he.wikipedia.org/wiki/%D7%A4%D7%99%D7%AA%D7%95%D7%9F',\n",
       " 'https://ka.wikipedia.org/wiki/%E1%83%9E%E1%83%98%E1%83%97%E1%83%9D%E1%83%9C%E1%83%98_(%E1%83%9B%E1%83%A0%E1%83%90%E1%83%95%E1%83%90%E1%83%9A%E1%83%9B%E1%83%9C%E1%83%98%E1%83%A8%E1%83%95%E1%83%9C%E1%83%94%E1%83%9A%E1%83%9D%E1%83%95%E1%83%90%E1%83%9C%E1%83%98)',\n",
       " 'https://kg.wikipedia.org/wiki/Mboma_(nyoka)',\n",
       " 'https://la.wikipedia.org/wiki/Python_(discretiva)',\n",
       " 'https://lb.wikipedia.org/wiki/Python',\n",
       " 'https://hu.wikipedia.org/wiki/Python_(egy%C3%A9rtelm%C5%B1s%C3%ADt%C5%91_lap)',\n",
       " 'https://mr.wikipedia.org/wiki/%E0%A4%AA%E0%A4%BE%E0%A4%AF%E0%A4%A5%E0%A5%89%E0%A4%A8_(%E0%A4%86%E0%A4%9C%E0%A5%8D%E0%A4%9E%E0%A4%BE%E0%A4%B5%E0%A4%B2%E0%A5%80_%E0%A4%AD%E0%A4%BE%E0%A4%B7%E0%A4%BE)',\n",
       " 'https://nl.wikipedia.org/wiki/Python',\n",
       " 'https://ja.wikipedia.org/wiki/%E3%83%91%E3%82%A4%E3%82%BD%E3%83%B3',\n",
       " 'https://no.wikipedia.org/wiki/Pyton',\n",
       " 'https://pl.wikipedia.org/wiki/Pyton',\n",
       " 'https://pt.wikipedia.org/wiki/Python_(desambigua%C3%A7%C3%A3o)',\n",
       " 'https://ru.wikipedia.org/wiki/Python_(%D0%B7%D0%BD%D0%B0%D1%87%D0%B5%D0%BD%D0%B8%D1%8F)',\n",
       " 'https://sk.wikipedia.org/wiki/Python',\n",
       " 'https://sr.wikipedia.org/wiki/%D0%9F%D0%B8%D1%82%D0%BE%D0%BD_(%D0%B2%D0%B8%D1%88%D0%B5%D0%B7%D0%BD%D0%B0%D1%87%D0%BD%D0%B0_%D0%BE%D0%B4%D1%80%D0%B5%D0%B4%D0%BD%D0%B8%D1%86%D0%B0)',\n",
       " 'https://sh.wikipedia.org/wiki/Python',\n",
       " 'https://fi.wikipedia.org/wiki/Python',\n",
       " 'https://sv.wikipedia.org/wiki/Pyton',\n",
       " 'https://th.wikipedia.org/wiki/%E0%B9%84%E0%B8%9E%E0%B8%97%E0%B8%AD%E0%B8%99',\n",
       " 'https://tr.wikipedia.org/wiki/Python_(anlam_ayr%C4%B1m%C4%B1)',\n",
       " 'https://uk.wikipedia.org/wiki/%D0%9F%D1%96%D1%84%D0%BE%D0%BD',\n",
       " 'https://ur.wikipedia.org/wiki/%D9%BE%D8%A7%D8%A6%DB%8C%D8%AA%DA%BE%D9%88%D9%86',\n",
       " 'https://vi.wikipedia.org/wiki/Python',\n",
       " 'https://zh.wikipedia.org/wiki/Python_(%E6%B6%88%E6%AD%A7%E4%B9%89)',\n",
       " 'https://www.wikidata.org/wiki/Special:EntityPage/Q747452#sitelinks-wikipedia',\n",
       " 'https://en.wikipedia.org/wiki/Wikipedia:Text_of_Creative_Commons_Attribution-ShareAlike_3.0_Unported_License',\n",
       " 'https://creativecommons.org/licenses/by-sa/3.0/',\n",
       " 'https://foundation.wikimedia.org/wiki/Terms_of_Use',\n",
       " 'https://foundation.wikimedia.org/wiki/Privacy_policy',\n",
       " 'https://www.wikimediafoundation.org/',\n",
       " 'https://foundation.wikimedia.org/wiki/Privacy_policy',\n",
       " 'https://en.wikipedia.org/wiki/Wikipedia:About',\n",
       " 'https://en.wikipedia.org/wiki/Wikipedia:General_disclaimer',\n",
       " 'https://en.wikipedia.org/wiki/Wikipedia:Contact_us',\n",
       " 'https://en.m.wikipedia.org/w/index.php?title=Python&mobileaction=toggle_view_mobile',\n",
       " 'https://developer.wikimedia.org/',\n",
       " 'https://stats.wikimedia.org/#/en.wikipedia.org',\n",
       " 'https://foundation.wikimedia.org/wiki/Cookie_statement',\n",
       " 'https://wikimediafoundation.org/',\n",
       " 'https://www.mediawiki.org/']"
      ]
     },
     "execution_count": 568,
     "metadata": {},
     "output_type": "execute_result"
    }
   ],
   "source": [
    "img=[e.get_attribute('href') for e in driver.find_elements(By.TAG_NAME, 'a')]\n",
    "img [1::]"
   ]
  },
  {
   "cell_type": "markdown",
   "metadata": {},
   "source": [
    "#### Number of Titles that have changed in the United States Code since its last release point "
   ]
  },
  {
   "cell_type": "code",
   "execution_count": 569,
   "metadata": {},
   "outputs": [],
   "source": [
    "# This is the url you will scrape in this exercise\n",
    "url5 = 'http://uscode.house.gov/download/download.shtml'"
   ]
  },
  {
   "cell_type": "code",
   "execution_count": 570,
   "metadata": {},
   "outputs": [],
   "source": [
    "driver.get(url5)"
   ]
  },
  {
   "cell_type": "code",
   "execution_count": 571,
   "metadata": {},
   "outputs": [
    {
     "data": {
      "text/plain": [
       "['Title 1 - General Provisions ٭',\n",
       " 'Title 3 - The President ٭',\n",
       " 'Title 4 - Flag and Seal, Seat of Government, and the States ٭',\n",
       " 'Title 5 - Government Organization and Employees ٭',\n",
       " 'Title 7 - Agriculture',\n",
       " 'Title 8 - Aliens and Nationality',\n",
       " 'Title 9 - Arbitration ٭',\n",
       " 'Title 10 - Armed Forces ٭',\n",
       " 'Title 11 - Bankruptcy ٭',\n",
       " 'Title 12 - Banks and Banking',\n",
       " 'Title 13 - Census ٭',\n",
       " 'Title 14 - Coast Guard ٭',\n",
       " 'Title 16 - Conservation',\n",
       " 'Title 17 - Copyrights ٭',\n",
       " 'Title 18 - Crimes and Criminal Procedure ٭',\n",
       " 'Title 19 - Customs Duties',\n",
       " 'Title 20 - Education',\n",
       " 'Title 21 - Food and Drugs',\n",
       " 'Title 22 - Foreign Relations and Intercourse',\n",
       " 'Title 23 - Highways ٭',\n",
       " 'Title 24 - Hospitals and Asylums',\n",
       " 'Title 25 - Indians',\n",
       " 'Title 27 - Intoxicating Liquors',\n",
       " 'Title 28 - Judiciary and Judicial Procedure ٭',\n",
       " 'Title 29 - Labor',\n",
       " 'Title 30 - Mineral Lands and Mining',\n",
       " 'Title 31 - Money and Finance ٭',\n",
       " 'Title 32 - National Guard ٭',\n",
       " 'Title 35 - Patents ٭',\n",
       " 'Title 36 - Patriotic and National Observances, Ceremonies, and Organizations ٭',\n",
       " 'Title 37 - Pay and Allowances of the Uniformed Services ٭',\n",
       " 'Title 39 - Postal Service ٭',\n",
       " 'Title 43 - Public Lands',\n",
       " 'Title 45 - Railroads',\n",
       " 'Title 46 - Shipping ٭',\n",
       " 'Title 48 - Territories and Insular Possessions',\n",
       " 'Title 49 - Transportation ٭',\n",
       " 'Title 50 - War and National Defense',\n",
       " 'Title 52 - Voting and Elections',\n",
       " 'Title 53 [Reserved]',\n",
       " 'Title 54 - National Park Service and Related Programs ٭']"
      ]
     },
     "execution_count": 571,
     "metadata": {},
     "output_type": "execute_result"
    }
   ],
   "source": [
    "titulos = driver.find_elements(By.CLASS_NAME, 'usctitle')\n",
    "titulos\n",
    "\n",
    "num_cod = [e.text.strip() for e in driver.find_elements(By.CLASS_NAME, 'usctitle')]\n",
    "num_cod[2::]\n"
   ]
  },
  {
   "cell_type": "code",
   "execution_count": null,
   "metadata": {},
   "outputs": [],
   "source": []
  },
  {
   "cell_type": "markdown",
   "metadata": {},
   "source": [
    "#### A Python list with the top ten FBI's Most Wanted names "
   ]
  },
  {
   "cell_type": "code",
   "execution_count": 572,
   "metadata": {},
   "outputs": [],
   "source": [
    "# This is the url you will scrape in this exercise\n",
    "url6 = 'https://www.fbi.gov/wanted/topten'"
   ]
  },
  {
   "cell_type": "code",
   "execution_count": 573,
   "metadata": {},
   "outputs": [],
   "source": [
    "driver.get(url6)"
   ]
  },
  {
   "cell_type": "code",
   "execution_count": 574,
   "metadata": {},
   "outputs": [
    {
     "data": {
      "text/plain": [
       "['ARNOLDO JIMENEZ',\n",
       " 'ALEXIS FLORES',\n",
       " 'JOSE RODOLFO VILLARREAL-HERNANDEZ',\n",
       " 'YULAN ADONAY ARCHAGA CARIAS',\n",
       " 'BHADRESHKUMAR CHETANBHAI PATEL',\n",
       " 'OMAR ALEXANDER CARDENAS',\n",
       " 'ALEJANDRO ROSALES CASTILLO',\n",
       " 'RUJA IGNATOVA',\n",
       " 'JASON DEREK BROWN',\n",
       " 'RAFAEL CARO-QUINTERO']"
      ]
     },
     "execution_count": 574,
     "metadata": {},
     "output_type": "execute_result"
    }
   ],
   "source": [
    "nombres = driver.find_elements(By.CLASS_NAME, 'title')\n",
    "\n",
    "\n",
    "nom_buscado = [e.text.strip() for e in driver.find_elements(By.CLASS_NAME, 'title')]\n",
    "nom_buscado[1::]"
   ]
  },
  {
   "cell_type": "markdown",
   "metadata": {},
   "source": [
    "####  20 latest earthquakes info (date, time, latitude, longitude and region name) by the EMSC as a pandas dataframe"
   ]
  },
  {
   "cell_type": "code",
   "execution_count": 575,
   "metadata": {},
   "outputs": [],
   "source": [
    "# This is the url you will scrape in this exercise\n",
    "url7 = 'https://www.emsc-csem.org/Earthquake/'"
   ]
  },
  {
   "cell_type": "code",
   "execution_count": 576,
   "metadata": {},
   "outputs": [
    {
     "ename": "NoSuchElementException",
     "evalue": "Message: no such element: Unable to locate element: {\"method\":\"xpath\",\"selector\":\"//*[@id=\"tbody\"]\"}\n  (Session info: chrome=105.0.5195.102)\nStacktrace:\n0   chromedriver                        0x00000001048fe788 chromedriver + 4515720\n1   chromedriver                        0x00000001048829d3 chromedriver + 4008403\n2   chromedriver                        0x000000010451512a chromedriver + 413994\n3   chromedriver                        0x000000010454c873 chromedriver + 641139\n4   chromedriver                        0x000000010454ca61 chromedriver + 641633\n5   chromedriver                        0x000000010457ef64 chromedriver + 847716\n6   chromedriver                        0x00000001045697fd chromedriver + 759805\n7   chromedriver                        0x000000010457cbd9 chromedriver + 838617\n8   chromedriver                        0x0000000104569603 chromedriver + 759299\n9   chromedriver                        0x000000010453f990 chromedriver + 588176\n10  chromedriver                        0x0000000104540a75 chromedriver + 592501\n11  chromedriver                        0x00000001048ce6cd chromedriver + 4318925\n12  chromedriver                        0x00000001048d2f35 chromedriver + 4337461\n13  chromedriver                        0x00000001048da1ff chromedriver + 4366847\n14  chromedriver                        0x00000001048d3c5a chromedriver + 4340826\n15  chromedriver                        0x00000001048a9c2c chromedriver + 4168748\n16  chromedriver                        0x00000001048f04f8 chromedriver + 4457720\n17  chromedriver                        0x00000001048f0693 chromedriver + 4458131\n18  chromedriver                        0x0000000104905a3e chromedriver + 4545086\n19  libsystem_pthread.dylib             0x00007ff81564d4e1 _pthread_start + 125\n20  libsystem_pthread.dylib             0x00007ff815648f6b thread_start + 15\n",
     "output_type": "error",
     "traceback": [
      "\u001b[0;31m---------------------------------------------------------------------------\u001b[0m",
      "\u001b[0;31mNoSuchElementException\u001b[0m                    Traceback (most recent call last)",
      "\u001b[0;32m/var/folders/x5/35_m562959z2k_v0h2llkrzr0000gn/T/ipykernel_81178/3236608272.py\u001b[0m in \u001b[0;36m<module>\u001b[0;34m\u001b[0m\n\u001b[0;32m----> 1\u001b[0;31m \u001b[0mtabla\u001b[0m\u001b[0;34m=\u001b[0m\u001b[0mdriver\u001b[0m\u001b[0;34m.\u001b[0m\u001b[0mfind_element\u001b[0m\u001b[0;34m(\u001b[0m\u001b[0mBy\u001b[0m\u001b[0;34m.\u001b[0m\u001b[0mXPATH\u001b[0m\u001b[0;34m,\u001b[0m\u001b[0;34m'//*[@id=\"tbody\"]'\u001b[0m\u001b[0;34m)\u001b[0m\u001b[0;34m\u001b[0m\u001b[0;34m\u001b[0m\u001b[0m\n\u001b[0m\u001b[1;32m      2\u001b[0m \u001b[0;34m\u001b[0m\u001b[0m\n\u001b[1;32m      3\u001b[0m \u001b[0mfilas\u001b[0m\u001b[0;34m=\u001b[0m\u001b[0mtabla\u001b[0m\u001b[0;34m.\u001b[0m\u001b[0mfind_elements\u001b[0m\u001b[0;34m(\u001b[0m\u001b[0mBy\u001b[0m\u001b[0;34m.\u001b[0m\u001b[0mTAG_NAME\u001b[0m\u001b[0;34m,\u001b[0m\u001b[0;34m'tr'\u001b[0m\u001b[0;34m)\u001b[0m\u001b[0;34m\u001b[0m\u001b[0;34m\u001b[0m\u001b[0m\n\u001b[1;32m      4\u001b[0m \u001b[0;34m\u001b[0m\u001b[0m\n\u001b[1;32m      5\u001b[0m \u001b[0;34m\u001b[0m\u001b[0m\n",
      "\u001b[0;32m~/opt/anaconda3/lib/python3.9/site-packages/selenium/webdriver/remote/webdriver.py\u001b[0m in \u001b[0;36mfind_element\u001b[0;34m(self, by, value)\u001b[0m\n\u001b[1;32m    853\u001b[0m             \u001b[0mvalue\u001b[0m \u001b[0;34m=\u001b[0m \u001b[0;34m'[name=\"%s\"]'\u001b[0m \u001b[0;34m%\u001b[0m \u001b[0mvalue\u001b[0m\u001b[0;34m\u001b[0m\u001b[0;34m\u001b[0m\u001b[0m\n\u001b[1;32m    854\u001b[0m \u001b[0;34m\u001b[0m\u001b[0m\n\u001b[0;32m--> 855\u001b[0;31m         return self.execute(Command.FIND_ELEMENT, {\n\u001b[0m\u001b[1;32m    856\u001b[0m             \u001b[0;34m'using'\u001b[0m\u001b[0;34m:\u001b[0m \u001b[0mby\u001b[0m\u001b[0;34m,\u001b[0m\u001b[0;34m\u001b[0m\u001b[0;34m\u001b[0m\u001b[0m\n\u001b[1;32m    857\u001b[0m             'value': value})['value']\n",
      "\u001b[0;32m~/opt/anaconda3/lib/python3.9/site-packages/selenium/webdriver/remote/webdriver.py\u001b[0m in \u001b[0;36mexecute\u001b[0;34m(self, driver_command, params)\u001b[0m\n\u001b[1;32m    426\u001b[0m         \u001b[0mresponse\u001b[0m \u001b[0;34m=\u001b[0m \u001b[0mself\u001b[0m\u001b[0;34m.\u001b[0m\u001b[0mcommand_executor\u001b[0m\u001b[0;34m.\u001b[0m\u001b[0mexecute\u001b[0m\u001b[0;34m(\u001b[0m\u001b[0mdriver_command\u001b[0m\u001b[0;34m,\u001b[0m \u001b[0mparams\u001b[0m\u001b[0;34m)\u001b[0m\u001b[0;34m\u001b[0m\u001b[0;34m\u001b[0m\u001b[0m\n\u001b[1;32m    427\u001b[0m         \u001b[0;32mif\u001b[0m \u001b[0mresponse\u001b[0m\u001b[0;34m:\u001b[0m\u001b[0;34m\u001b[0m\u001b[0;34m\u001b[0m\u001b[0m\n\u001b[0;32m--> 428\u001b[0;31m             \u001b[0mself\u001b[0m\u001b[0;34m.\u001b[0m\u001b[0merror_handler\u001b[0m\u001b[0;34m.\u001b[0m\u001b[0mcheck_response\u001b[0m\u001b[0;34m(\u001b[0m\u001b[0mresponse\u001b[0m\u001b[0;34m)\u001b[0m\u001b[0;34m\u001b[0m\u001b[0;34m\u001b[0m\u001b[0m\n\u001b[0m\u001b[1;32m    429\u001b[0m             response['value'] = self._unwrap_value(\n\u001b[1;32m    430\u001b[0m                 response.get('value', None))\n",
      "\u001b[0;32m~/opt/anaconda3/lib/python3.9/site-packages/selenium/webdriver/remote/errorhandler.py\u001b[0m in \u001b[0;36mcheck_response\u001b[0;34m(self, response)\u001b[0m\n\u001b[1;32m    241\u001b[0m                 \u001b[0malert_text\u001b[0m \u001b[0;34m=\u001b[0m \u001b[0mvalue\u001b[0m\u001b[0;34m[\u001b[0m\u001b[0;34m'alert'\u001b[0m\u001b[0;34m]\u001b[0m\u001b[0;34m.\u001b[0m\u001b[0mget\u001b[0m\u001b[0;34m(\u001b[0m\u001b[0;34m'text'\u001b[0m\u001b[0;34m)\u001b[0m\u001b[0;34m\u001b[0m\u001b[0;34m\u001b[0m\u001b[0m\n\u001b[1;32m    242\u001b[0m             \u001b[0;32mraise\u001b[0m \u001b[0mexception_class\u001b[0m\u001b[0;34m(\u001b[0m\u001b[0mmessage\u001b[0m\u001b[0;34m,\u001b[0m \u001b[0mscreen\u001b[0m\u001b[0;34m,\u001b[0m \u001b[0mstacktrace\u001b[0m\u001b[0;34m,\u001b[0m \u001b[0malert_text\u001b[0m\u001b[0;34m)\u001b[0m  \u001b[0;31m# type: ignore[call-arg]  # mypy is not smart enough here\u001b[0m\u001b[0;34m\u001b[0m\u001b[0;34m\u001b[0m\u001b[0m\n\u001b[0;32m--> 243\u001b[0;31m         \u001b[0;32mraise\u001b[0m \u001b[0mexception_class\u001b[0m\u001b[0;34m(\u001b[0m\u001b[0mmessage\u001b[0m\u001b[0;34m,\u001b[0m \u001b[0mscreen\u001b[0m\u001b[0;34m,\u001b[0m \u001b[0mstacktrace\u001b[0m\u001b[0;34m)\u001b[0m\u001b[0;34m\u001b[0m\u001b[0;34m\u001b[0m\u001b[0m\n\u001b[0m",
      "\u001b[0;31mNoSuchElementException\u001b[0m: Message: no such element: Unable to locate element: {\"method\":\"xpath\",\"selector\":\"//*[@id=\"tbody\"]\"}\n  (Session info: chrome=105.0.5195.102)\nStacktrace:\n0   chromedriver                        0x00000001048fe788 chromedriver + 4515720\n1   chromedriver                        0x00000001048829d3 chromedriver + 4008403\n2   chromedriver                        0x000000010451512a chromedriver + 413994\n3   chromedriver                        0x000000010454c873 chromedriver + 641139\n4   chromedriver                        0x000000010454ca61 chromedriver + 641633\n5   chromedriver                        0x000000010457ef64 chromedriver + 847716\n6   chromedriver                        0x00000001045697fd chromedriver + 759805\n7   chromedriver                        0x000000010457cbd9 chromedriver + 838617\n8   chromedriver                        0x0000000104569603 chromedriver + 759299\n9   chromedriver                        0x000000010453f990 chromedriver + 588176\n10  chromedriver                        0x0000000104540a75 chromedriver + 592501\n11  chromedriver                        0x00000001048ce6cd chromedriver + 4318925\n12  chromedriver                        0x00000001048d2f35 chromedriver + 4337461\n13  chromedriver                        0x00000001048da1ff chromedriver + 4366847\n14  chromedriver                        0x00000001048d3c5a chromedriver + 4340826\n15  chromedriver                        0x00000001048a9c2c chromedriver + 4168748\n16  chromedriver                        0x00000001048f04f8 chromedriver + 4457720\n17  chromedriver                        0x00000001048f0693 chromedriver + 4458131\n18  chromedriver                        0x0000000104905a3e chromedriver + 4545086\n19  libsystem_pthread.dylib             0x00007ff81564d4e1 _pthread_start + 125\n20  libsystem_pthread.dylib             0x00007ff815648f6b thread_start + 15\n"
     ]
    }
   ],
   "source": [
    "tabla=driver.find_element(By.XPATH,'//*[@id=\"tbody\"]')\n",
    "\n",
    "filas=tabla.find_elements(By.TAG_NAME,'tr')\n",
    "\n",
    "\n",
    "data=[]\n",
    "\n",
    "for f in filas:\n",
    "    \n",
    "    elementos=f.find_elements(By.TAG_NAME,'td')\n",
    "    \n",
    "    tmp=[]\n",
    "    \n",
    "    for e in elementos:\n",
    "        \n",
    "        tmp.append(e.text)\n",
    "        \n",
    "    data.append(tmp)\n",
    "    \n",
    "data[0]"
   ]
  },
  {
   "cell_type": "code",
   "execution_count": null,
   "metadata": {},
   "outputs": [],
   "source": []
  },
  {
   "cell_type": "code",
   "execution_count": null,
   "metadata": {},
   "outputs": [],
   "source": []
  },
  {
   "cell_type": "code",
   "execution_count": null,
   "metadata": {},
   "outputs": [],
   "source": []
  },
  {
   "cell_type": "code",
   "execution_count": null,
   "metadata": {},
   "outputs": [],
   "source": []
  },
  {
   "cell_type": "markdown",
   "metadata": {},
   "source": [
    "#### Count number of tweets by a given Twitter account."
   ]
  },
  {
   "cell_type": "markdown",
   "metadata": {},
   "source": [
    "You will need to include a ***try/except block*** for account names not found. \n",
    "<br>***Hint:*** the program should count the number of tweets for any provided account"
   ]
  },
  {
   "cell_type": "code",
   "execution_count": 577,
   "metadata": {},
   "outputs": [],
   "source": [
    "# This is the url you will scrape in this exercise \n",
    "# You will need to add the account credentials to this url\n",
    "url8 = 'https://twitter.com/elonmusk'"
   ]
  },
  {
   "cell_type": "code",
   "execution_count": 578,
   "metadata": {},
   "outputs": [],
   "source": [
    "driver.get(url8)"
   ]
  },
  {
   "cell_type": "code",
   "execution_count": 579,
   "metadata": {},
   "outputs": [
    {
     "data": {
      "text/plain": [
       "'19,1 mil Tweets'"
      ]
     },
     "execution_count": 579,
     "metadata": {},
     "output_type": "execute_result"
    }
   ],
   "source": [
    "Tweets= driver.find_element(By.XPATH, '//*[@id=\"react-root\"]/div/div/div[2]/main/div/div/div/div/div/div[1]/div[1]/div/div/div/div/div/div[2]/div/div')\n",
    "\n",
    "Tweets.text"
   ]
  },
  {
   "cell_type": "markdown",
   "metadata": {},
   "source": [
    "#### Number of followers of a given twitter account"
   ]
  },
  {
   "cell_type": "markdown",
   "metadata": {},
   "source": [
    "You will need to include a ***try/except block*** in case account/s name not found. \n",
    "<br>***Hint:*** the program should count the followers for any provided account"
   ]
  },
  {
   "cell_type": "code",
   "execution_count": 583,
   "metadata": {},
   "outputs": [],
   "source": [
    "# This is the url you will scrape in this exercise \n",
    "# You will need to add the account credentials to this url\n",
    "url9 = 'https://twitter.com/elonmusk'"
   ]
  },
  {
   "cell_type": "code",
   "execution_count": 584,
   "metadata": {},
   "outputs": [],
   "source": [
    "driver.get(url9)"
   ]
  },
  {
   "cell_type": "code",
   "execution_count": 586,
   "metadata": {},
   "outputs": [
    {
     "data": {
      "text/plain": [
       "'104,8 M'"
      ]
     },
     "execution_count": 586,
     "metadata": {},
     "output_type": "execute_result"
    }
   ],
   "source": [
    "Followers_elon= driver.find_element(By.XPATH, '//*[@id=\"react-root\"]/div/div/div[2]/main/div/div/div/div/div/div[2]/div/div/div/div/div[5]/div[2]/a/span[1]/span')\n",
    "\n",
    "Followers_elon.text"
   ]
  },
  {
   "cell_type": "markdown",
   "metadata": {},
   "source": [
    "#### List all language names and number of related articles in the order they appear in wikipedia.org"
   ]
  },
  {
   "cell_type": "code",
   "execution_count": null,
   "metadata": {},
   "outputs": [],
   "source": [
    "# This is the url you will scrape in this exercise\n",
    "url10 = 'https://www.wikipedia.org/'"
   ]
  },
  {
   "cell_type": "code",
   "execution_count": null,
   "metadata": {},
   "outputs": [],
   "source": [
    "driver.get(url10)"
   ]
  },
  {
   "cell_type": "code",
   "execution_count": null,
   "metadata": {},
   "outputs": [],
   "source": [
    "language = driver.find_elements(By.TAG_NAME, 'a')\n",
    "\n",
    "\n",
    "lan = [e.text.strip().replace('+', '').split('\\n') for e in driver.find_elements(By.TAG_NAME, 'a')]\n",
    "lan [1:10]\n"
   ]
  },
  {
   "cell_type": "code",
   "execution_count": null,
   "metadata": {},
   "outputs": [],
   "source": []
  },
  {
   "cell_type": "markdown",
   "metadata": {},
   "source": [
    "#### A list with the different kind of datasets available in data.gov.uk "
   ]
  },
  {
   "cell_type": "code",
   "execution_count": null,
   "metadata": {},
   "outputs": [],
   "source": [
    "# This is the url you will scrape in this exercise\n",
    "url11 = 'https://data.gov.uk/'"
   ]
  },
  {
   "cell_type": "code",
   "execution_count": null,
   "metadata": {},
   "outputs": [],
   "source": [
    "driver.get(url11)"
   ]
  },
  {
   "cell_type": "code",
   "execution_count": null,
   "metadata": {},
   "outputs": [],
   "source": [
    "datos = driver.find_elements(By.TAG_NAME, 'h3')\n",
    "\n",
    "\n",
    "lista = [e.text.strip() for e in driver.find_elements(By.TAG_NAME, 'h3')]\n",
    "lista\n"
   ]
  },
  {
   "cell_type": "markdown",
   "metadata": {},
   "source": [
    "#### Top 10 languages by number of native speakers stored in a Pandas Dataframe"
   ]
  },
  {
   "cell_type": "code",
   "execution_count": null,
   "metadata": {},
   "outputs": [],
   "source": [
    "# This is the url you will scrape in this exercise\n",
    "url12 = 'https://en.wikipedia.org/wiki/List_of_languages_by_number_of_native_speakers'"
   ]
  },
  {
   "cell_type": "code",
   "execution_count": null,
   "metadata": {},
   "outputs": [],
   "source": [
    "driver.get(url12)\n",
    "driver.current_url"
   ]
  },
  {
   "cell_type": "code",
   "execution_count": null,
   "metadata": {},
   "outputs": [],
   "source": [
    "tabla=driver.find_element(By.TAG_NAME,'tbody')\n",
    "\n",
    "filas=tabla.find_elements(By.TAG_NAME,'tr')\n",
    "\n",
    "\n",
    "data=[]\n",
    "\n",
    "for f in filas:\n",
    "    \n",
    "    elementos=f.find_elements(By.TAG_NAME,'td')\n",
    "    \n",
    "    tmp=[]\n",
    "    \n",
    "    for e in elementos:\n",
    "        \n",
    "        tmp.append(e.text)\n",
    "        \n",
    "    data.append(tmp)\n",
    "    \n",
    "data"
   ]
  },
  {
   "cell_type": "code",
   "execution_count": null,
   "metadata": {},
   "outputs": [],
   "source": [
    "filas = driver.find_elements(By.TAG_NAME, 'tr')\n",
    "filas[1].text"
   ]
  },
  {
   "cell_type": "code",
   "execution_count": null,
   "metadata": {},
   "outputs": [],
   "source": [
    "cabeceras=driver.find_element(By.TAG_NAME,'tr')\n",
    "\n",
    "cabeceras=[c.text.replace('\\n',' ').upper() for c in cabeceras.find_elements(By.TAG_NAME,'th')]\n",
    "\n",
    "driver.quit()\n",
    "\n",
    "cabeceras\n",
    "\n"
   ]
  },
  {
   "cell_type": "code",
   "execution_count": null,
   "metadata": {},
   "outputs": [],
   "source": [
    "df=pd.DataFrame(data, columns=cabeceras)\n",
    "\n",
    "df[1::]"
   ]
  },
  {
   "cell_type": "code",
   "execution_count": null,
   "metadata": {},
   "outputs": [],
   "source": []
  },
  {
   "cell_type": "markdown",
   "metadata": {},
   "source": [
    "### BONUS QUESTIONS"
   ]
  },
  {
   "cell_type": "markdown",
   "metadata": {},
   "source": [
    "#### Scrape a certain number of tweets of a given Twitter account."
   ]
  },
  {
   "cell_type": "code",
   "execution_count": null,
   "metadata": {},
   "outputs": [],
   "source": [
    "# This is the url you will scrape in this exercise \n",
    "# You will need to add the account credentials to this url\n",
    "url = 'https://twitter.com/'"
   ]
  },
  {
   "cell_type": "code",
   "execution_count": null,
   "metadata": {},
   "outputs": [],
   "source": [
    "# your code"
   ]
  },
  {
   "cell_type": "markdown",
   "metadata": {},
   "source": [
    "#### IMDB's Top 250 data (movie name, Initial release, director name and stars) as a pandas dataframe"
   ]
  },
  {
   "cell_type": "code",
   "execution_count": null,
   "metadata": {},
   "outputs": [],
   "source": [
    "# This is the url you will scrape in this exercise \n",
    "url = 'https://www.imdb.com/chart/top'"
   ]
  },
  {
   "cell_type": "code",
   "execution_count": null,
   "metadata": {},
   "outputs": [],
   "source": [
    "# your code"
   ]
  },
  {
   "cell_type": "markdown",
   "metadata": {},
   "source": [
    "#### Movie name, year and a brief summary of the top 10 random movies (IMDB) as a pandas dataframe."
   ]
  },
  {
   "cell_type": "code",
   "execution_count": null,
   "metadata": {},
   "outputs": [],
   "source": [
    "#This is the url you will scrape in this exercise\n",
    "url = 'http://www.imdb.com/chart/top'"
   ]
  },
  {
   "cell_type": "code",
   "execution_count": null,
   "metadata": {},
   "outputs": [],
   "source": [
    "#your code"
   ]
  },
  {
   "cell_type": "markdown",
   "metadata": {},
   "source": [
    "#### Find the live weather report (temperature, wind speed, description and weather) of a given city."
   ]
  },
  {
   "cell_type": "code",
   "execution_count": null,
   "metadata": {},
   "outputs": [],
   "source": [
    "#https://openweathermap.org/current\n",
    "city = city=input('Enter the city:')\n",
    "url = 'http://api.openweathermap.org/data/2.5/weather?'+'q='+city+'&APPID=b35975e18dc93725acb092f7272cc6b8&units=metric'"
   ]
  },
  {
   "cell_type": "code",
   "execution_count": null,
   "metadata": {},
   "outputs": [],
   "source": [
    "# your code"
   ]
  },
  {
   "cell_type": "markdown",
   "metadata": {},
   "source": [
    "#### Book name,price and stock availability as a pandas dataframe."
   ]
  },
  {
   "cell_type": "code",
   "execution_count": null,
   "metadata": {},
   "outputs": [],
   "source": [
    "# This is the url you will scrape in this exercise. \n",
    "# It is a fictional bookstore created to be scraped. \n",
    "url = 'http://books.toscrape.com/'"
   ]
  }
 ],
 "metadata": {
  "kernelspec": {
   "display_name": "Python 3 (ipykernel)",
   "language": "python",
   "name": "python3"
  },
  "language_info": {
   "codemirror_mode": {
    "name": "ipython",
    "version": 3
   },
   "file_extension": ".py",
   "mimetype": "text/x-python",
   "name": "python",
   "nbconvert_exporter": "python",
   "pygments_lexer": "ipython3",
   "version": "3.9.7"
  }
 },
 "nbformat": 4,
 "nbformat_minor": 2
}

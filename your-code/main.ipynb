{
 "cells": [
  {
   "cell_type": "markdown",
   "metadata": {},
   "source": [
    "# Web Scraping Lab\n",
    "\n",
    "You will find in this notebook some scrapy exercises to practise your scraping skills.\n",
    "\n",
    "**Tips:**\n",
    "\n",
    "- Check the response status code for each request to ensure you have obtained the intended contennt.\n",
    "- Print the response text in each request to understand the kind of info you are getting and its format.\n",
    "- Check for patterns in the response text to extract the data/info requested in each question.\n",
    "- Visit each url and take a look at its source through Chrome DevTools. You'll need to identify the html tags, special class names etc. used for the html content you are expected to extract."
   ]
  },
  {
   "cell_type": "markdown",
   "metadata": {},
   "source": [
    "- [Selenium Doc](https://www.selenium.dev/documentation/)\n",
    "- [Requests library](http://docs.python-requests.org/en/master/#the-user-guide) documentation \n",
    "- [Urllib](https://docs.python.org/3/library/urllib.html#module-urllib)\n",
    "- [re lib](https://docs.python.org/3/library/re.html)\n",
    "- [lxml lib](https://lxml.de/)\n",
    "- [Scrapy](https://scrapy.org/)\n",
    "- [List of HTTP status codes](https://en.wikipedia.org/wiki/List_of_HTTP_status_codes)\n",
    "- [HTML basics](http://www.simplehtmlguide.com/cheatsheet.php)\n",
    "- [CSS basics](https://www.cssbasics.com/#page_start)"
   ]
  },
  {
   "cell_type": "markdown",
   "metadata": {},
   "source": [
    "#### Below are the libraries and modules you may need. `Selenium` and `pandas` are imported for you."
   ]
  },
  {
   "cell_type": "code",
   "execution_count": 2,
   "metadata": {},
   "outputs": [
    {
     "name": "stdout",
     "output_type": "stream",
     "text": [
      "Requirement already satisfied: selenium in /Users/jeffworker/opt/anaconda3/lib/python3.9/site-packages (4.4.0)\n",
      "Requirement already satisfied: trio~=0.17 in /Users/jeffworker/opt/anaconda3/lib/python3.9/site-packages (from selenium) (0.21.0)\n",
      "Requirement already satisfied: trio-websocket~=0.9 in /Users/jeffworker/opt/anaconda3/lib/python3.9/site-packages (from selenium) (0.9.2)\n",
      "Requirement already satisfied: urllib3[secure,socks]~=1.26 in /Users/jeffworker/opt/anaconda3/lib/python3.9/site-packages (from selenium) (1.26.9)\n",
      "Requirement already satisfied: outcome in /Users/jeffworker/opt/anaconda3/lib/python3.9/site-packages (from trio~=0.17->selenium) (1.2.0)\n",
      "Requirement already satisfied: sniffio in /Users/jeffworker/opt/anaconda3/lib/python3.9/site-packages (from trio~=0.17->selenium) (1.2.0)\n",
      "Requirement already satisfied: idna in /Users/jeffworker/opt/anaconda3/lib/python3.9/site-packages (from trio~=0.17->selenium) (3.3)\n",
      "Requirement already satisfied: attrs>=19.2.0 in /Users/jeffworker/opt/anaconda3/lib/python3.9/site-packages (from trio~=0.17->selenium) (21.4.0)\n",
      "Requirement already satisfied: async-generator>=1.9 in /Users/jeffworker/opt/anaconda3/lib/python3.9/site-packages (from trio~=0.17->selenium) (1.10)\n",
      "Requirement already satisfied: sortedcontainers in /Users/jeffworker/opt/anaconda3/lib/python3.9/site-packages (from trio~=0.17->selenium) (2.4.0)\n",
      "Requirement already satisfied: wsproto>=0.14 in /Users/jeffworker/opt/anaconda3/lib/python3.9/site-packages (from trio-websocket~=0.9->selenium) (1.2.0)\n",
      "Requirement already satisfied: PySocks!=1.5.7,<2.0,>=1.5.6 in /Users/jeffworker/opt/anaconda3/lib/python3.9/site-packages (from urllib3[secure,socks]~=1.26->selenium) (1.7.1)\n",
      "Requirement already satisfied: pyOpenSSL>=0.14 in /Users/jeffworker/opt/anaconda3/lib/python3.9/site-packages (from urllib3[secure,socks]~=1.26->selenium) (21.0.0)\n",
      "Requirement already satisfied: cryptography>=1.3.4 in /Users/jeffworker/opt/anaconda3/lib/python3.9/site-packages (from urllib3[secure,socks]~=1.26->selenium) (3.4.8)\n",
      "Requirement already satisfied: certifi in /Users/jeffworker/opt/anaconda3/lib/python3.9/site-packages (from urllib3[secure,socks]~=1.26->selenium) (2021.10.8)\n",
      "Requirement already satisfied: cffi>=1.12 in /Users/jeffworker/opt/anaconda3/lib/python3.9/site-packages (from cryptography>=1.3.4->urllib3[secure,socks]~=1.26->selenium) (1.15.0)\n",
      "Requirement already satisfied: pycparser in /Users/jeffworker/opt/anaconda3/lib/python3.9/site-packages (from cffi>=1.12->cryptography>=1.3.4->urllib3[secure,socks]~=1.26->selenium) (2.21)\n",
      "Requirement already satisfied: six>=1.5.2 in /Users/jeffworker/opt/anaconda3/lib/python3.9/site-packages (from pyOpenSSL>=0.14->urllib3[secure,socks]~=1.26->selenium) (1.16.0)\n",
      "Requirement already satisfied: h11<1,>=0.9.0 in /Users/jeffworker/opt/anaconda3/lib/python3.9/site-packages (from wsproto>=0.14->trio-websocket~=0.9->selenium) (0.13.0)\n",
      "Note: you may need to restart the kernel to use updated packages.\n"
     ]
    }
   ],
   "source": [
    "pip install selenium\n"
   ]
  },
  {
   "cell_type": "code",
   "execution_count": 3,
   "metadata": {},
   "outputs": [
    {
     "name": "stdout",
     "output_type": "stream",
     "text": [
      "Requirement already satisfied: webdriver_manager in /Users/jeffworker/opt/anaconda3/lib/python3.9/site-packages (3.8.3)\n",
      "Requirement already satisfied: python-dotenv in /Users/jeffworker/opt/anaconda3/lib/python3.9/site-packages (from webdriver_manager) (0.20.0)\n",
      "Requirement already satisfied: requests in /Users/jeffworker/opt/anaconda3/lib/python3.9/site-packages (from webdriver_manager) (2.27.1)\n",
      "Requirement already satisfied: tqdm in /Users/jeffworker/opt/anaconda3/lib/python3.9/site-packages (from webdriver_manager) (4.64.0)\n",
      "Requirement already satisfied: idna<4,>=2.5 in /Users/jeffworker/opt/anaconda3/lib/python3.9/site-packages (from requests->webdriver_manager) (3.3)\n",
      "Requirement already satisfied: charset-normalizer~=2.0.0 in /Users/jeffworker/opt/anaconda3/lib/python3.9/site-packages (from requests->webdriver_manager) (2.0.4)\n",
      "Requirement already satisfied: certifi>=2017.4.17 in /Users/jeffworker/opt/anaconda3/lib/python3.9/site-packages (from requests->webdriver_manager) (2021.10.8)\n",
      "Requirement already satisfied: urllib3<1.27,>=1.21.1 in /Users/jeffworker/opt/anaconda3/lib/python3.9/site-packages (from requests->webdriver_manager) (1.26.9)\n",
      "Note: you may need to restart the kernel to use updated packages.\n"
     ]
    }
   ],
   "source": [
    "pip install webdriver_manager"
   ]
  },
  {
   "cell_type": "code",
   "execution_count": 6,
   "metadata": {},
   "outputs": [],
   "source": [
    "import pandas as pd\n",
    "from selenium.webdriver.chrome.options import Options\n",
    "from webdriver_manager.chrome import ChromeDriverManager\n",
    "from selenium import webdriver"
   ]
  },
  {
   "cell_type": "markdown",
   "metadata": {},
   "source": [
    "#### Enable the options you may need. In the next cell you have an example of them but you can choose to use them or not."
   ]
  },
  {
   "cell_type": "code",
   "execution_count": 58,
   "metadata": {},
   "outputs": [],
   "source": [
    "#driver configuration\n",
    "opciones=Options()\n",
    "\n",
    "opciones.add_experimental_option('excludeSwitches', ['enable-automation'])\n",
    "opciones.add_experimental_option('useAutomationExtension', False)\n",
    "opciones.headless=False    # si True, no aperece la ventana (headless=no visible)\n",
    "opciones.add_argument('--start-maximized')         # comienza maximizado\n",
    "#opciones.add_argument('user-data-dir=selenium')    # mantiene las cookies\n",
    "#opciones.add_extension('driver_folder/adblock.crx')       # adblocker\n",
    "opciones.add_argument('--incognito')"
   ]
  },
  {
   "cell_type": "code",
   "execution_count": 8,
   "metadata": {},
   "outputs": [
    {
     "name": "stderr",
     "output_type": "stream",
     "text": [
      "[WDM] - Downloading: 100%|█████████████████| 8.15M/8.15M [00:03<00:00, 2.53MB/s]\n",
      "/var/folders/bl/k3sl29m953728l636_vh_6dw0000gn/T/ipykernel_15474/2939705179.py:2: DeprecationWarning: executable_path has been deprecated, please pass in a Service object\n",
      "  driver=webdriver.Chrome(PATH)\n"
     ]
    }
   ],
   "source": [
    "PATH=ChromeDriverManager().install()\n",
    "driver=webdriver.Chrome(PATH)\n",
    "driver.get('https://www.google.es')"
   ]
  },
  {
   "cell_type": "code",
   "execution_count": null,
   "metadata": {},
   "outputs": [],
   "source": [
    "#ejecutar todas las veces que hago una llamada\n",
    "driver=webdriver.Chrome(PATH)\n",
    "driver.get('https://www.google.es')"
   ]
  },
  {
   "cell_type": "code",
   "execution_count": null,
   "metadata": {},
   "outputs": [],
   "source": []
  },
  {
   "cell_type": "code",
   "execution_count": 9,
   "metadata": {},
   "outputs": [
    {
     "name": "stderr",
     "output_type": "stream",
     "text": [
      "/var/folders/bl/k3sl29m953728l636_vh_6dw0000gn/T/ipykernel_15474/2545439249.py:2: DeprecationWarning: executable_path has been deprecated, please pass in a Service object\n",
      "  driver = webdriver.Chrome(PATH,options = opciones)\n"
     ]
    }
   ],
   "source": [
    "driver = \"./chromedriver.exe\" #remember substitute this for your driver path\n",
    "driver = webdriver.Chrome(PATH,options = opciones)"
   ]
  },
  {
   "cell_type": "markdown",
   "metadata": {},
   "source": [
    "#### Download, parse, and print the content from the Trending Developers page from GitHub:"
   ]
  },
  {
   "cell_type": "code",
   "execution_count": 10,
   "metadata": {},
   "outputs": [],
   "source": [
    "# This is the url you will scrape in this exercise\n",
    "url = 'https://github.com/trending/developers'"
   ]
  },
  {
   "cell_type": "code",
   "execution_count": 11,
   "metadata": {
    "scrolled": false
   },
   "outputs": [
    {
     "name": "stderr",
     "output_type": "stream",
     "text": [
      "/var/folders/bl/k3sl29m953728l636_vh_6dw0000gn/T/ipykernel_15474/2317264644.py:1: DeprecationWarning: executable_path has been deprecated, please pass in a Service object\n",
      "  driver=webdriver.Chrome(PATH)\n"
     ]
    }
   ],
   "source": [
    "driver=webdriver.Chrome(PATH)\n",
    "driver.get(url)"
   ]
  },
  {
   "cell_type": "code",
   "execution_count": 13,
   "metadata": {},
   "outputs": [],
   "source": [
    "from selenium.webdriver.common.by import By"
   ]
  },
  {
   "cell_type": "code",
   "execution_count": 23,
   "metadata": {},
   "outputs": [],
   "source": [
    "nombres = driver.find_elements(By.CLASS_NAME, 'h3')"
   ]
  },
  {
   "cell_type": "code",
   "execution_count": 25,
   "metadata": {},
   "outputs": [
    {
     "data": {
      "text/plain": [
       "'Azure SDK Bot'"
      ]
     },
     "execution_count": 25,
     "metadata": {},
     "output_type": "execute_result"
    }
   ],
   "source": [
    "driver.find_elements(By.CLASS_NAME, 'h3')[0].text\n"
   ]
  },
  {
   "cell_type": "code",
   "execution_count": 28,
   "metadata": {},
   "outputs": [
    {
     "data": {
      "text/plain": [
       "['Azure SDK Bot',\n",
       " 'Joshie',\n",
       " 'Ariel Mashraki',\n",
       " 'Tom Payne',\n",
       " 'RangiLyu',\n",
       " 'Vojtech Miksu',\n",
       " 'MichaIng',\n",
       " 'Jocelyn Badgley',\n",
       " 'Bas Nijholt',\n",
       " 'Steve Macenski',\n",
       " 'Ben Manes',\n",
       " 'Nathan Shively-Sanders',\n",
       " 'Matthew Leibowitz',\n",
       " 'Tim MacDonald',\n",
       " 'Dunsin',\n",
       " 'Sunil Pai',\n",
       " 'Costa Huang',\n",
       " 'Edward Z. Yang',\n",
       " 'Geshan Manandhar',\n",
       " 'Bram Gerritsen',\n",
       " 'James Lamb',\n",
       " 'Nolan Lawson',\n",
       " 'jdhao',\n",
       " 'J. Nick Koston',\n",
       " 'Alex Li']"
      ]
     },
     "execution_count": 28,
     "metadata": {},
     "output_type": "execute_result"
    }
   ],
   "source": [
    "nombre= []\n",
    "\n",
    "for i in range(len(nombres)):\n",
    "    nombre.append(nombres[i].text)\n",
    "    \n",
    "nombre"
   ]
  },
  {
   "cell_type": "markdown",
   "metadata": {},
   "source": [
    "#### Display the names of the trending developers retrieved in the previous step.\n",
    "\n",
    "Your output should be a Python list of developer names. Each name should not contain any html tag.\n",
    "\n",
    "**Instructions:**\n",
    "\n",
    "1. Find out the html tag and class names used for the developer names.\n",
    "\n",
    "1. Use string manipulation techniques to replace whitespaces and linebreaks (i.e. `\\n`) in the *text* of each html element. Use a list to store the clean names.\n",
    "\n",
    "1. Print the list of names.\n",
    "\n",
    "Your output should look like below:\n",
    "\n",
    "```\n",
    "['trimstray (@trimstray)',\n",
    " 'joewalnes (JoeWalnes)',\n",
    " 'charlax (Charles-AxelDein)',\n",
    " 'ForrestKnight (ForrestKnight)',\n",
    " 'revery-ui (revery-ui)',\n",
    " 'alibaba (Alibaba)',\n",
    " 'Microsoft (Microsoft)',\n",
    " 'github (GitHub)',\n",
    " 'facebook (Facebook)',\n",
    " 'boazsegev (Bo)',\n",
    " 'google (Google)',\n",
    " 'cloudfetch',\n",
    " 'sindresorhus (SindreSorhus)',\n",
    " 'tensorflow',\n",
    " 'apache (TheApacheSoftwareFoundation)',\n",
    " 'DevonCrawford (DevonCrawford)',\n",
    " 'ARMmbed (ArmMbed)',\n",
    " 'vuejs (vuejs)',\n",
    " 'fastai (fast.ai)',\n",
    " 'QiShaoXuan (Qi)',\n",
    " 'joelparkerhenderson (JoelParkerHenderson)',\n",
    " 'torvalds (LinusTorvalds)',\n",
    " 'CyC2018',\n",
    " 'komeiji-satori (神楽坂覚々)',\n",
    " 'script-8']\n",
    " ```"
   ]
  },
  {
   "cell_type": "markdown",
   "metadata": {},
   "source": [
    "#### Display the trending Python repositories in GitHub\n",
    "\n",
    "The steps to solve this problem is similar to the previous one except that you need to find out the repository names instead of developer names."
   ]
  },
  {
   "cell_type": "code",
   "execution_count": 56,
   "metadata": {},
   "outputs": [],
   "source": [
    "# This is the url you will scrape in this exercise\n",
    "url_2 = 'https://github.com/trending/python?since=daily'"
   ]
  },
  {
   "cell_type": "code",
   "execution_count": 57,
   "metadata": {},
   "outputs": [
    {
     "name": "stderr",
     "output_type": "stream",
     "text": [
      "/var/folders/bl/k3sl29m953728l636_vh_6dw0000gn/T/ipykernel_15474/654294197.py:1: DeprecationWarning: executable_path has been deprecated, please pass in a Service object\n",
      "  driver=webdriver.Chrome(PATH)\n"
     ]
    }
   ],
   "source": [
    "driver=webdriver.Chrome(PATH)\n",
    "driver.get(url_2)"
   ]
  },
  {
   "cell_type": "code",
   "execution_count": 63,
   "metadata": {},
   "outputs": [],
   "source": [
    "repos = driver.find_elements(By.CLASS_NAME,'lh-condensed')"
   ]
  },
  {
   "cell_type": "code",
   "execution_count": 64,
   "metadata": {},
   "outputs": [
    {
     "data": {
      "text/plain": [
       "['bes-dev / stable_diffusion.openvino',\n",
       " 'hlky / sd-enable-textual-inversion',\n",
       " 'jackfrued / Python-100-Days',\n",
       " 'hlky / stable-diffusion-webui',\n",
       " 'k4yt3x / video2x',\n",
       " 'OpenEthan / SMSBoom',\n",
       " 'smallevilbeast / ntchat',\n",
       " 'EvanLi / Github-Ranking',\n",
       " 'Azure / azure-cli',\n",
       " 'pytorch / tutorials',\n",
       " 'tiangolo / sqlmodel',\n",
       " 'python-poetry / poetry',\n",
       " 'alibaba / EasyCV',\n",
       " '521xueweihan / HelloGitHub',\n",
       " 'AUTOMATIC1111 / stable-diffusion-webui',\n",
       " 'eriklindernoren / ML-From-Scratch',\n",
       " 'gradio-app / gradio',\n",
       " 'dmlc / dgl',\n",
       " 'khast3x / Redcloud',\n",
       " 'MasterBin-IIAU / Unicorn',\n",
       " 'dbt-labs / dbt-utils',\n",
       " 'shellward / StablenderDiffusion',\n",
       " 'TencentARC / GFPGAN',\n",
       " 'wandb / wandb',\n",
       " 'njustkmg / PaddleMM']"
      ]
     },
     "execution_count": 64,
     "metadata": {},
     "output_type": "execute_result"
    }
   ],
   "source": [
    "repos_total= []\n",
    "\n",
    "for i in range(len(repos)):\n",
    "    repos_total.append(repos[i].text)\n",
    "    \n",
    "repos_total"
   ]
  },
  {
   "cell_type": "markdown",
   "metadata": {},
   "source": [
    "#### Display all the image links from Walt Disney wikipedia page"
   ]
  },
  {
   "cell_type": "code",
   "execution_count": 65,
   "metadata": {},
   "outputs": [],
   "source": [
    "# This is the url you will scrape in this exercise\n",
    "url_3 = 'https://en.wikipedia.org/wiki/Walt_Disney'"
   ]
  },
  {
   "cell_type": "code",
   "execution_count": 66,
   "metadata": {},
   "outputs": [
    {
     "name": "stderr",
     "output_type": "stream",
     "text": [
      "/var/folders/bl/k3sl29m953728l636_vh_6dw0000gn/T/ipykernel_15474/3363828835.py:1: DeprecationWarning: executable_path has been deprecated, please pass in a Service object\n",
      "  driver=webdriver.Chrome(PATH)\n"
     ]
    }
   ],
   "source": [
    "driver=webdriver.Chrome(PATH)\n",
    "driver.get(url_3)\n"
   ]
  },
  {
   "cell_type": "code",
   "execution_count": 71,
   "metadata": {},
   "outputs": [
    {
     "data": {
      "text/plain": [
       "<selenium.webdriver.remote.webelement.WebElement (session=\"4a4c88c8ff59c32215f2544eaf1e597d\", element=\"a46179e0-8ef7-4975-baea-a18e8110e4f5\")>"
      ]
     },
     "execution_count": 71,
     "metadata": {},
     "output_type": "execute_result"
    }
   ],
   "source": [
    "disney = driver.find_elements(By.CLASS_NAME,'image')\n",
    "disney[0]"
   ]
  },
  {
   "cell_type": "code",
   "execution_count": 75,
   "metadata": {},
   "outputs": [
    {
     "data": {
      "text/plain": [
       "['https://en.wikipedia.org/wiki/File:Walt_Disney_1946.JPG',\n",
       " 'https://en.wikipedia.org/wiki/File:Walt_Disney_1942_signature.svg',\n",
       " 'https://en.wikipedia.org/wiki/File:Walt_Disney_Birthplace_Exterior_Hermosa_Chicago_Illinois.jpg',\n",
       " 'https://en.wikipedia.org/wiki/File:Walt_Disney_envelope_ca._1921.jpg',\n",
       " 'https://en.wikipedia.org/wiki/File:Trolley_Troubles_poster.jpg',\n",
       " 'https://en.wikipedia.org/wiki/File:Steamboat-willie.jpg',\n",
       " 'https://en.wikipedia.org/wiki/File:Walt_Disney_1935.jpg',\n",
       " 'https://en.wikipedia.org/wiki/File:Walt_Disney_Snow_white_1937_trailer_screenshot_(13).jpg',\n",
       " 'https://en.wikipedia.org/wiki/File:Disney_drawing_goofy.jpg',\n",
       " 'https://en.wikipedia.org/wiki/File:WaltDisneyplansDisneylandDec1954.jpg',\n",
       " 'https://en.wikipedia.org/wiki/File:Walt_disney_portrait_right.jpg',\n",
       " 'https://en.wikipedia.org/wiki/File:DisneySchiphol1951.jpg',\n",
       " 'https://en.wikipedia.org/wiki/File:Walt_Disney_Grave.JPG',\n",
       " 'https://en.wikipedia.org/wiki/File:Roy_O._Disney_with_Company_at_Press_Conference.jpg',\n",
       " 'https://en.wikipedia.org/wiki/File:Disney_Oscar_1953_(cropped).jpg',\n",
       " 'https://en.wikipedia.org/wiki/File:Disney1968.jpg',\n",
       " 'https://en.wikipedia.org/wiki/File:Disneyland_Resort_logo.svg',\n",
       " 'https://en.wikipedia.org/wiki/File:Animation_disc.svg',\n",
       " 'https://en.wikipedia.org/wiki/File:Magic_Kingdom_castle.jpg',\n",
       " 'https://en.wikipedia.org/wiki/File:Blank_television_set.svg']"
      ]
     },
     "execution_count": 75,
     "metadata": {},
     "output_type": "execute_result"
    }
   ],
   "source": [
    "disney_im= []\n",
    "\n",
    "for i in range(len(disney)):\n",
    "    disney_im.append(disney[i].get_attribute('href'))\n",
    "disney_im    "
   ]
  },
  {
   "cell_type": "markdown",
   "metadata": {},
   "source": [
    "#### Retrieve an arbitary Wikipedia page of \"Python\" and create a list of links on that page"
   ]
  },
  {
   "cell_type": "code",
   "execution_count": 76,
   "metadata": {},
   "outputs": [],
   "source": [
    "# This is the url you will scrape in this exercise\n",
    "url_4 ='https://en.wikipedia.org/wiki/Python' "
   ]
  },
  {
   "cell_type": "code",
   "execution_count": 78,
   "metadata": {},
   "outputs": [
    {
     "name": "stderr",
     "output_type": "stream",
     "text": [
      "/var/folders/bl/k3sl29m953728l636_vh_6dw0000gn/T/ipykernel_15474/3034565966.py:1: DeprecationWarning: executable_path has been deprecated, please pass in a Service object\n",
      "  driver=webdriver.Chrome(PATH)\n"
     ]
    }
   ],
   "source": [
    "driver=webdriver.Chrome(PATH)\n",
    "driver.get(url_4)\n"
   ]
  },
  {
   "cell_type": "code",
   "execution_count": 82,
   "metadata": {},
   "outputs": [
    {
     "data": {
      "text/plain": [
       "[<selenium.webdriver.remote.webelement.WebElement (session=\"c08695913210d5046b964b4f0fc458a9\", element=\"7b1b7298-f3d3-482f-a74c-4dc704fe5561\")>,\n",
       " <selenium.webdriver.remote.webelement.WebElement (session=\"c08695913210d5046b964b4f0fc458a9\", element=\"3d14e2fc-0b02-41dc-bd2b-08ea84af9c67\")>,\n",
       " <selenium.webdriver.remote.webelement.WebElement (session=\"c08695913210d5046b964b4f0fc458a9\", element=\"a96f9a63-57fc-4f9b-8132-7f26a6db424b\")>,\n",
       " <selenium.webdriver.remote.webelement.WebElement (session=\"c08695913210d5046b964b4f0fc458a9\", element=\"99c8b0be-70fc-462c-91a3-e16ff4aa5bdb\")>,\n",
       " <selenium.webdriver.remote.webelement.WebElement (session=\"c08695913210d5046b964b4f0fc458a9\", element=\"7d36fb75-e57f-42ba-bb31-c9e0b0ec38c1\")>,\n",
       " <selenium.webdriver.remote.webelement.WebElement (session=\"c08695913210d5046b964b4f0fc458a9\", element=\"90d04eef-90a0-43f2-9a61-8842f49716ae\")>,\n",
       " <selenium.webdriver.remote.webelement.WebElement (session=\"c08695913210d5046b964b4f0fc458a9\", element=\"152d59e7-1080-441e-8222-399cd74c56fb\")>,\n",
       " <selenium.webdriver.remote.webelement.WebElement (session=\"c08695913210d5046b964b4f0fc458a9\", element=\"dda4caa8-deea-4b5a-83b6-599fa06b2a23\")>,\n",
       " <selenium.webdriver.remote.webelement.WebElement (session=\"c08695913210d5046b964b4f0fc458a9\", element=\"c9701a4e-abcc-42ef-b92b-597961653f7c\")>,\n",
       " <selenium.webdriver.remote.webelement.WebElement (session=\"c08695913210d5046b964b4f0fc458a9\", element=\"d96ea398-7f97-4431-baee-13a6c6188e34\")>,\n",
       " <selenium.webdriver.remote.webelement.WebElement (session=\"c08695913210d5046b964b4f0fc458a9\", element=\"fb758848-661a-4c15-8a54-9ff866f04250\")>,\n",
       " <selenium.webdriver.remote.webelement.WebElement (session=\"c08695913210d5046b964b4f0fc458a9\", element=\"798e61d2-040e-4019-8d2f-71b798ee0497\")>,\n",
       " <selenium.webdriver.remote.webelement.WebElement (session=\"c08695913210d5046b964b4f0fc458a9\", element=\"fc3c88cc-d4a7-4b0d-88e1-b07f481f4a01\")>,\n",
       " <selenium.webdriver.remote.webelement.WebElement (session=\"c08695913210d5046b964b4f0fc458a9\", element=\"c046ce5b-305c-4a80-8324-cbed4ecdf339\")>,\n",
       " <selenium.webdriver.remote.webelement.WebElement (session=\"c08695913210d5046b964b4f0fc458a9\", element=\"7289bd1d-0f63-42a1-8789-b7a02a726753\")>,\n",
       " <selenium.webdriver.remote.webelement.WebElement (session=\"c08695913210d5046b964b4f0fc458a9\", element=\"aa2079cc-ac57-4315-8536-4bfe89c21cf2\")>,\n",
       " <selenium.webdriver.remote.webelement.WebElement (session=\"c08695913210d5046b964b4f0fc458a9\", element=\"fd1d4541-f1c7-430a-b3a5-0ec10ab390c8\")>,\n",
       " <selenium.webdriver.remote.webelement.WebElement (session=\"c08695913210d5046b964b4f0fc458a9\", element=\"447d75da-3819-4935-886c-c3f67f21783d\")>,\n",
       " <selenium.webdriver.remote.webelement.WebElement (session=\"c08695913210d5046b964b4f0fc458a9\", element=\"151a437f-62ec-4a4f-bad0-0fa2772f83a4\")>,\n",
       " <selenium.webdriver.remote.webelement.WebElement (session=\"c08695913210d5046b964b4f0fc458a9\", element=\"51f8b226-e691-4a9d-b9e7-f8c1756cc2d1\")>,\n",
       " <selenium.webdriver.remote.webelement.WebElement (session=\"c08695913210d5046b964b4f0fc458a9\", element=\"5b35630f-09b5-4fb9-bfd2-552c9a37bc06\")>,\n",
       " <selenium.webdriver.remote.webelement.WebElement (session=\"c08695913210d5046b964b4f0fc458a9\", element=\"3ceec604-bf4b-4301-9572-591b26941336\")>,\n",
       " <selenium.webdriver.remote.webelement.WebElement (session=\"c08695913210d5046b964b4f0fc458a9\", element=\"2a2166e7-0bf6-4638-95ef-c8f9294d2689\")>,\n",
       " <selenium.webdriver.remote.webelement.WebElement (session=\"c08695913210d5046b964b4f0fc458a9\", element=\"7ada5ef1-edfc-4398-82c7-4e58b831c56c\")>,\n",
       " <selenium.webdriver.remote.webelement.WebElement (session=\"c08695913210d5046b964b4f0fc458a9\", element=\"86b75f85-f150-404f-afd8-4237007ab7c0\")>,\n",
       " <selenium.webdriver.remote.webelement.WebElement (session=\"c08695913210d5046b964b4f0fc458a9\", element=\"b8527b57-50e3-4ddd-9d78-64ccf7802382\")>,\n",
       " <selenium.webdriver.remote.webelement.WebElement (session=\"c08695913210d5046b964b4f0fc458a9\", element=\"df624994-72dc-4757-90ca-9eea1341c8b8\")>,\n",
       " <selenium.webdriver.remote.webelement.WebElement (session=\"c08695913210d5046b964b4f0fc458a9\", element=\"fb4e95df-54ae-46ba-9ab3-aa740d57d326\")>,\n",
       " <selenium.webdriver.remote.webelement.WebElement (session=\"c08695913210d5046b964b4f0fc458a9\", element=\"c1f6d42b-44e6-4212-99f4-fbe262e16476\")>,\n",
       " <selenium.webdriver.remote.webelement.WebElement (session=\"c08695913210d5046b964b4f0fc458a9\", element=\"23d36443-0d41-4828-bd0a-ef676b33b30d\")>,\n",
       " <selenium.webdriver.remote.webelement.WebElement (session=\"c08695913210d5046b964b4f0fc458a9\", element=\"be7707f4-4c2a-406e-b887-f620a3864990\")>,\n",
       " <selenium.webdriver.remote.webelement.WebElement (session=\"c08695913210d5046b964b4f0fc458a9\", element=\"1289aa1e-dbc5-4997-94dc-14bdd7cebf9d\")>,\n",
       " <selenium.webdriver.remote.webelement.WebElement (session=\"c08695913210d5046b964b4f0fc458a9\", element=\"f487290b-f261-42e8-abc3-56d6d8f4d569\")>,\n",
       " <selenium.webdriver.remote.webelement.WebElement (session=\"c08695913210d5046b964b4f0fc458a9\", element=\"1f0441b1-11b8-4fe3-a0a7-757497a52a49\")>,\n",
       " <selenium.webdriver.remote.webelement.WebElement (session=\"c08695913210d5046b964b4f0fc458a9\", element=\"445bfb0d-e282-4d01-8d93-d83e59e31205\")>,\n",
       " <selenium.webdriver.remote.webelement.WebElement (session=\"c08695913210d5046b964b4f0fc458a9\", element=\"9b0f671c-7140-4ac4-be6d-09e3cfe93abe\")>,\n",
       " <selenium.webdriver.remote.webelement.WebElement (session=\"c08695913210d5046b964b4f0fc458a9\", element=\"4597fae8-6aa8-4bcb-8db0-547bcc4f85bc\")>,\n",
       " <selenium.webdriver.remote.webelement.WebElement (session=\"c08695913210d5046b964b4f0fc458a9\", element=\"4aca7568-2a6b-4873-9a95-52015c52337a\")>,\n",
       " <selenium.webdriver.remote.webelement.WebElement (session=\"c08695913210d5046b964b4f0fc458a9\", element=\"fc5a81ff-11da-4426-b522-066590c09886\")>,\n",
       " <selenium.webdriver.remote.webelement.WebElement (session=\"c08695913210d5046b964b4f0fc458a9\", element=\"eb9bdd58-b55e-4d3d-9f4c-645fb52f75a0\")>,\n",
       " <selenium.webdriver.remote.webelement.WebElement (session=\"c08695913210d5046b964b4f0fc458a9\", element=\"76eeb831-b753-4f85-976c-01f3f64f1c14\")>,\n",
       " <selenium.webdriver.remote.webelement.WebElement (session=\"c08695913210d5046b964b4f0fc458a9\", element=\"4b274dbe-211a-4af9-8043-f739bda0f76d\")>,\n",
       " <selenium.webdriver.remote.webelement.WebElement (session=\"c08695913210d5046b964b4f0fc458a9\", element=\"87de21ac-fe75-4362-991b-0b213ea5027e\")>,\n",
       " <selenium.webdriver.remote.webelement.WebElement (session=\"c08695913210d5046b964b4f0fc458a9\", element=\"a0040a0c-3a53-40b5-903a-426b62d6c07b\")>,\n",
       " <selenium.webdriver.remote.webelement.WebElement (session=\"c08695913210d5046b964b4f0fc458a9\", element=\"baca54f8-7455-413e-8454-0955ec3333bb\")>,\n",
       " <selenium.webdriver.remote.webelement.WebElement (session=\"c08695913210d5046b964b4f0fc458a9\", element=\"fede755f-6418-4f24-9b8b-4fadc6e80455\")>,\n",
       " <selenium.webdriver.remote.webelement.WebElement (session=\"c08695913210d5046b964b4f0fc458a9\", element=\"fd13904e-e46d-4dbc-80eb-e1e8aff3d3d9\")>,\n",
       " <selenium.webdriver.remote.webelement.WebElement (session=\"c08695913210d5046b964b4f0fc458a9\", element=\"7b93d4a4-9e16-4bfd-9f9d-a25bac0958e9\")>,\n",
       " <selenium.webdriver.remote.webelement.WebElement (session=\"c08695913210d5046b964b4f0fc458a9\", element=\"23d8d615-747a-450e-b6aa-b11ab1f95f55\")>,\n",
       " <selenium.webdriver.remote.webelement.WebElement (session=\"c08695913210d5046b964b4f0fc458a9\", element=\"6458eea1-075d-4753-a0d1-4786f8239dd2\")>,\n",
       " <selenium.webdriver.remote.webelement.WebElement (session=\"c08695913210d5046b964b4f0fc458a9\", element=\"743ce1dc-94ec-4d77-930e-2069acfcb16a\")>,\n",
       " <selenium.webdriver.remote.webelement.WebElement (session=\"c08695913210d5046b964b4f0fc458a9\", element=\"72ee979b-cf04-4878-8cd0-87b81b26e0e6\")>,\n",
       " <selenium.webdriver.remote.webelement.WebElement (session=\"c08695913210d5046b964b4f0fc458a9\", element=\"f795649f-17e1-4e69-b1f2-cd491543b63e\")>,\n",
       " <selenium.webdriver.remote.webelement.WebElement (session=\"c08695913210d5046b964b4f0fc458a9\", element=\"17e4a111-bd99-4c5f-b197-feb819ed3838\")>,\n",
       " <selenium.webdriver.remote.webelement.WebElement (session=\"c08695913210d5046b964b4f0fc458a9\", element=\"2cc4fd31-3ea4-42a3-ac41-9b84b1f30926\")>,\n",
       " <selenium.webdriver.remote.webelement.WebElement (session=\"c08695913210d5046b964b4f0fc458a9\", element=\"a879d6ad-205e-4208-abea-b430deeaeb6c\")>,\n",
       " <selenium.webdriver.remote.webelement.WebElement (session=\"c08695913210d5046b964b4f0fc458a9\", element=\"b36832c8-5d48-49d3-972d-3be377fc8753\")>,\n",
       " <selenium.webdriver.remote.webelement.WebElement (session=\"c08695913210d5046b964b4f0fc458a9\", element=\"cc3a7871-b9d2-4e4e-b43d-929e4db0c787\")>,\n",
       " <selenium.webdriver.remote.webelement.WebElement (session=\"c08695913210d5046b964b4f0fc458a9\", element=\"7c05aeda-c905-459c-b205-ec99cfdf8b70\")>,\n",
       " <selenium.webdriver.remote.webelement.WebElement (session=\"c08695913210d5046b964b4f0fc458a9\", element=\"f72926fb-0f2d-4d5d-b09c-7cd1f7970084\")>,\n",
       " <selenium.webdriver.remote.webelement.WebElement (session=\"c08695913210d5046b964b4f0fc458a9\", element=\"a63c0d70-8d08-45b8-84a7-0525a6110f29\")>,\n",
       " <selenium.webdriver.remote.webelement.WebElement (session=\"c08695913210d5046b964b4f0fc458a9\", element=\"b17ca058-8767-4479-b922-87effc51b69b\")>,\n",
       " <selenium.webdriver.remote.webelement.WebElement (session=\"c08695913210d5046b964b4f0fc458a9\", element=\"c197ca51-36b0-4576-9a4f-989a9ef6e5e5\")>,\n",
       " <selenium.webdriver.remote.webelement.WebElement (session=\"c08695913210d5046b964b4f0fc458a9\", element=\"51057bf3-b080-40be-9c1a-535956fb0c43\")>,\n",
       " <selenium.webdriver.remote.webelement.WebElement (session=\"c08695913210d5046b964b4f0fc458a9\", element=\"060c668e-b391-46cb-ab04-2de4058ae24f\")>,\n",
       " <selenium.webdriver.remote.webelement.WebElement (session=\"c08695913210d5046b964b4f0fc458a9\", element=\"d1fa355c-c818-4bd6-b894-8e8f8023bc0a\")>,\n",
       " <selenium.webdriver.remote.webelement.WebElement (session=\"c08695913210d5046b964b4f0fc458a9\", element=\"444192d0-f404-41d3-abd7-02eba894f109\")>,\n",
       " <selenium.webdriver.remote.webelement.WebElement (session=\"c08695913210d5046b964b4f0fc458a9\", element=\"91c3125d-3983-46ee-a51b-089a483e53fa\")>,\n",
       " <selenium.webdriver.remote.webelement.WebElement (session=\"c08695913210d5046b964b4f0fc458a9\", element=\"091939b3-06b2-465d-a31a-27fcdb13e091\")>,\n",
       " <selenium.webdriver.remote.webelement.WebElement (session=\"c08695913210d5046b964b4f0fc458a9\", element=\"61c0dcbe-6ecb-485d-b881-35db15910256\")>,\n",
       " <selenium.webdriver.remote.webelement.WebElement (session=\"c08695913210d5046b964b4f0fc458a9\", element=\"57eac13d-da67-4b50-8a31-3f30b5649d81\")>,\n",
       " <selenium.webdriver.remote.webelement.WebElement (session=\"c08695913210d5046b964b4f0fc458a9\", element=\"2d62c4e3-92ed-44ca-846b-86fc9951736f\")>,\n",
       " <selenium.webdriver.remote.webelement.WebElement (session=\"c08695913210d5046b964b4f0fc458a9\", element=\"62ce212c-80a7-4829-a0bf-e48f3d749bf3\")>,\n",
       " <selenium.webdriver.remote.webelement.WebElement (session=\"c08695913210d5046b964b4f0fc458a9\", element=\"c7cb8d8f-7b77-456a-9797-9679762420b5\")>,\n",
       " <selenium.webdriver.remote.webelement.WebElement (session=\"c08695913210d5046b964b4f0fc458a9\", element=\"10b7e319-f64f-4e13-8df2-89f303a106bb\")>,\n",
       " <selenium.webdriver.remote.webelement.WebElement (session=\"c08695913210d5046b964b4f0fc458a9\", element=\"39e72710-340e-48bc-8b7c-698cf69da846\")>,\n",
       " <selenium.webdriver.remote.webelement.WebElement (session=\"c08695913210d5046b964b4f0fc458a9\", element=\"9ebd3a61-3a8c-403a-9df8-7da1477af894\")>,\n",
       " <selenium.webdriver.remote.webelement.WebElement (session=\"c08695913210d5046b964b4f0fc458a9\", element=\"436dd6d9-ad7d-488b-8802-ca8f07cf2827\")>,\n",
       " <selenium.webdriver.remote.webelement.WebElement (session=\"c08695913210d5046b964b4f0fc458a9\", element=\"d26d3a6e-7290-4fd5-b85e-db2ff444163d\")>,\n",
       " <selenium.webdriver.remote.webelement.WebElement (session=\"c08695913210d5046b964b4f0fc458a9\", element=\"da458753-ccc7-4e97-b57f-5c9e1f511400\")>,\n",
       " <selenium.webdriver.remote.webelement.WebElement (session=\"c08695913210d5046b964b4f0fc458a9\", element=\"a61a8c77-80fb-4f9c-9024-bba20125cdbd\")>,\n",
       " <selenium.webdriver.remote.webelement.WebElement (session=\"c08695913210d5046b964b4f0fc458a9\", element=\"0ae4a9b1-6016-47c4-98e6-aa121cbfdaf7\")>,\n",
       " <selenium.webdriver.remote.webelement.WebElement (session=\"c08695913210d5046b964b4f0fc458a9\", element=\"03280944-716a-44bd-800b-c7a4754433ab\")>,\n",
       " <selenium.webdriver.remote.webelement.WebElement (session=\"c08695913210d5046b964b4f0fc458a9\", element=\"0e7dbd0a-75ef-4848-bfce-20d82d49f239\")>,\n",
       " <selenium.webdriver.remote.webelement.WebElement (session=\"c08695913210d5046b964b4f0fc458a9\", element=\"90c87160-85cd-4ad7-8032-b233dad76095\")>,\n",
       " <selenium.webdriver.remote.webelement.WebElement (session=\"c08695913210d5046b964b4f0fc458a9\", element=\"6389c507-b0f0-4649-9ab8-14547510d17e\")>,\n",
       " <selenium.webdriver.remote.webelement.WebElement (session=\"c08695913210d5046b964b4f0fc458a9\", element=\"1e79c4e2-91cd-40ea-b335-39d98eb53632\")>,\n",
       " <selenium.webdriver.remote.webelement.WebElement (session=\"c08695913210d5046b964b4f0fc458a9\", element=\"ac75a201-8db1-4baa-8b0e-db7f8768d258\")>,\n",
       " <selenium.webdriver.remote.webelement.WebElement (session=\"c08695913210d5046b964b4f0fc458a9\", element=\"bd2116d5-3ae5-471e-bda6-e7fed2e149a0\")>,\n",
       " <selenium.webdriver.remote.webelement.WebElement (session=\"c08695913210d5046b964b4f0fc458a9\", element=\"4d30771c-6c2d-4e2e-beb1-4dc8fcbbb454\")>,\n",
       " <selenium.webdriver.remote.webelement.WebElement (session=\"c08695913210d5046b964b4f0fc458a9\", element=\"c4679e71-1c70-436a-ab25-6d2706856b2d\")>,\n",
       " <selenium.webdriver.remote.webelement.WebElement (session=\"c08695913210d5046b964b4f0fc458a9\", element=\"27f0f73b-147e-480d-827e-f855f3a58b72\")>,\n",
       " <selenium.webdriver.remote.webelement.WebElement (session=\"c08695913210d5046b964b4f0fc458a9\", element=\"866eb22b-d77f-485e-83eb-aa8fc4f2a5f9\")>,\n",
       " <selenium.webdriver.remote.webelement.WebElement (session=\"c08695913210d5046b964b4f0fc458a9\", element=\"0cb9fde9-2ecc-41a5-8a88-eaa073fe7344\")>,\n",
       " <selenium.webdriver.remote.webelement.WebElement (session=\"c08695913210d5046b964b4f0fc458a9\", element=\"82a7a210-ef41-4656-9204-e0f3f157479f\")>,\n",
       " <selenium.webdriver.remote.webelement.WebElement (session=\"c08695913210d5046b964b4f0fc458a9\", element=\"8b310763-e62d-4971-8ea1-8b7da2acc0a4\")>,\n",
       " <selenium.webdriver.remote.webelement.WebElement (session=\"c08695913210d5046b964b4f0fc458a9\", element=\"9689b83b-d345-492b-81ba-1a4f4b1f6522\")>,\n",
       " <selenium.webdriver.remote.webelement.WebElement (session=\"c08695913210d5046b964b4f0fc458a9\", element=\"01047eb1-5bab-48ab-afe1-e7515e3826f8\")>,\n",
       " <selenium.webdriver.remote.webelement.WebElement (session=\"c08695913210d5046b964b4f0fc458a9\", element=\"8999f9a3-b619-4e2b-af00-70f6c387bd56\")>,\n",
       " <selenium.webdriver.remote.webelement.WebElement (session=\"c08695913210d5046b964b4f0fc458a9\", element=\"483b2bf0-4b0a-4a15-819e-729043bd35dd\")>,\n",
       " <selenium.webdriver.remote.webelement.WebElement (session=\"c08695913210d5046b964b4f0fc458a9\", element=\"2e9ad084-79a3-4405-8f2b-b55bac35f841\")>,\n",
       " <selenium.webdriver.remote.webelement.WebElement (session=\"c08695913210d5046b964b4f0fc458a9\", element=\"1b199cf9-20ff-48df-b66d-1446855052f1\")>,\n",
       " <selenium.webdriver.remote.webelement.WebElement (session=\"c08695913210d5046b964b4f0fc458a9\", element=\"24815298-ce39-44f2-a8cd-e2cac101234f\")>,\n",
       " <selenium.webdriver.remote.webelement.WebElement (session=\"c08695913210d5046b964b4f0fc458a9\", element=\"c38e86de-7274-46a3-9e32-71a8c15ae095\")>,\n",
       " <selenium.webdriver.remote.webelement.WebElement (session=\"c08695913210d5046b964b4f0fc458a9\", element=\"2bddf473-158c-4272-a1b2-2a2cccc4dafe\")>,\n",
       " <selenium.webdriver.remote.webelement.WebElement (session=\"c08695913210d5046b964b4f0fc458a9\", element=\"ddb8552c-ffc8-4ec2-b626-da8b1b77babc\")>,\n",
       " <selenium.webdriver.remote.webelement.WebElement (session=\"c08695913210d5046b964b4f0fc458a9\", element=\"d286368a-fbd4-467c-8f40-9d2b6fa12c6f\")>,\n",
       " <selenium.webdriver.remote.webelement.WebElement (session=\"c08695913210d5046b964b4f0fc458a9\", element=\"3d7fbae3-e1f8-4505-97ac-1605c3630df9\")>,\n",
       " <selenium.webdriver.remote.webelement.WebElement (session=\"c08695913210d5046b964b4f0fc458a9\", element=\"a603460c-4e42-408f-bb97-a6561f1e7b97\")>,\n",
       " <selenium.webdriver.remote.webelement.WebElement (session=\"c08695913210d5046b964b4f0fc458a9\", element=\"b86b3aec-1095-45d1-b1fd-cc76c8ea75f3\")>,\n",
       " <selenium.webdriver.remote.webelement.WebElement (session=\"c08695913210d5046b964b4f0fc458a9\", element=\"e3152a3b-3fe7-4e93-928f-b292e0f17950\")>,\n",
       " <selenium.webdriver.remote.webelement.WebElement (session=\"c08695913210d5046b964b4f0fc458a9\", element=\"5d018e9e-fed4-4654-af63-c9c4e40afb99\")>,\n",
       " <selenium.webdriver.remote.webelement.WebElement (session=\"c08695913210d5046b964b4f0fc458a9\", element=\"1812ef22-b967-4ec7-b306-ae0c2b010186\")>,\n",
       " <selenium.webdriver.remote.webelement.WebElement (session=\"c08695913210d5046b964b4f0fc458a9\", element=\"24890828-9cb2-4114-a671-7735ee315652\")>,\n",
       " <selenium.webdriver.remote.webelement.WebElement (session=\"c08695913210d5046b964b4f0fc458a9\", element=\"220a8910-14da-445f-90b9-c36482cd45b8\")>,\n",
       " <selenium.webdriver.remote.webelement.WebElement (session=\"c08695913210d5046b964b4f0fc458a9\", element=\"a1e7239e-ac3c-4827-8e25-3cad7469e9f0\")>,\n",
       " <selenium.webdriver.remote.webelement.WebElement (session=\"c08695913210d5046b964b4f0fc458a9\", element=\"de8f6419-c1b2-4f5a-bef4-99d4e66de1f5\")>,\n",
       " <selenium.webdriver.remote.webelement.WebElement (session=\"c08695913210d5046b964b4f0fc458a9\", element=\"86b6fef3-6b64-4599-b463-5aa50823fe6f\")>,\n",
       " <selenium.webdriver.remote.webelement.WebElement (session=\"c08695913210d5046b964b4f0fc458a9\", element=\"5ede5cee-fcbb-4bdf-b3fd-5db06a4b0567\")>,\n",
       " <selenium.webdriver.remote.webelement.WebElement (session=\"c08695913210d5046b964b4f0fc458a9\", element=\"55932b20-9bf1-47e0-99f9-f8a9907b732f\")>,\n",
       " <selenium.webdriver.remote.webelement.WebElement (session=\"c08695913210d5046b964b4f0fc458a9\", element=\"13f0e8cc-38c7-4187-b8d0-acc43077612e\")>,\n",
       " <selenium.webdriver.remote.webelement.WebElement (session=\"c08695913210d5046b964b4f0fc458a9\", element=\"43eebfc3-5ca3-47d8-94d6-b38b047dd61c\")>,\n",
       " <selenium.webdriver.remote.webelement.WebElement (session=\"c08695913210d5046b964b4f0fc458a9\", element=\"8251a1a9-eab7-438d-9d86-f70d193c9d1b\")>,\n",
       " <selenium.webdriver.remote.webelement.WebElement (session=\"c08695913210d5046b964b4f0fc458a9\", element=\"0507f4ae-fb05-4a87-b210-3a035c466e80\")>,\n",
       " <selenium.webdriver.remote.webelement.WebElement (session=\"c08695913210d5046b964b4f0fc458a9\", element=\"84adb556-09a8-4882-8e31-58a0d0824f3a\")>,\n",
       " <selenium.webdriver.remote.webelement.WebElement (session=\"c08695913210d5046b964b4f0fc458a9\", element=\"b71f2bb0-c724-45b6-ac79-dbd8bf491970\")>,\n",
       " <selenium.webdriver.remote.webelement.WebElement (session=\"c08695913210d5046b964b4f0fc458a9\", element=\"8cf56f99-059a-439e-82f5-8405707d2908\")>,\n",
       " <selenium.webdriver.remote.webelement.WebElement (session=\"c08695913210d5046b964b4f0fc458a9\", element=\"cf5dac6b-bde1-4882-a5dc-ca08cde28c0c\")>,\n",
       " <selenium.webdriver.remote.webelement.WebElement (session=\"c08695913210d5046b964b4f0fc458a9\", element=\"06c6fcd9-0adf-48bb-b256-f74cdec48f8c\")>,\n",
       " <selenium.webdriver.remote.webelement.WebElement (session=\"c08695913210d5046b964b4f0fc458a9\", element=\"eb31cca9-1823-491e-a07b-9c0798b6cb2f\")>,\n",
       " <selenium.webdriver.remote.webelement.WebElement (session=\"c08695913210d5046b964b4f0fc458a9\", element=\"124ee1a2-2f78-4d22-93e8-111a8bf1933e\")>,\n",
       " <selenium.webdriver.remote.webelement.WebElement (session=\"c08695913210d5046b964b4f0fc458a9\", element=\"18714fb5-e9e9-4a22-a8a3-53f251db98a7\")>,\n",
       " <selenium.webdriver.remote.webelement.WebElement (session=\"c08695913210d5046b964b4f0fc458a9\", element=\"f21540fb-1be4-4368-937e-772646f49811\")>,\n",
       " <selenium.webdriver.remote.webelement.WebElement (session=\"c08695913210d5046b964b4f0fc458a9\", element=\"a1046c21-b8b3-4254-a531-0df279c2bf55\")>,\n",
       " <selenium.webdriver.remote.webelement.WebElement (session=\"c08695913210d5046b964b4f0fc458a9\", element=\"9d8238b9-9f8c-4ce0-9d76-48b1602ff2a5\")>,\n",
       " <selenium.webdriver.remote.webelement.WebElement (session=\"c08695913210d5046b964b4f0fc458a9\", element=\"acfaaffa-6748-4338-b2d7-e41a8e6d56a1\")>,\n",
       " <selenium.webdriver.remote.webelement.WebElement (session=\"c08695913210d5046b964b4f0fc458a9\", element=\"da8a28d3-71b4-4e2f-99e0-ff3e16fc6ed6\")>,\n",
       " <selenium.webdriver.remote.webelement.WebElement (session=\"c08695913210d5046b964b4f0fc458a9\", element=\"5b329424-3fc7-4dbb-ad5b-71e39e1c2136\")>,\n",
       " <selenium.webdriver.remote.webelement.WebElement (session=\"c08695913210d5046b964b4f0fc458a9\", element=\"521af9ad-2d46-4089-822a-8357878ffe27\")>,\n",
       " <selenium.webdriver.remote.webelement.WebElement (session=\"c08695913210d5046b964b4f0fc458a9\", element=\"fa69e995-30c1-4b35-9b6a-8b0c30190a27\")>,\n",
       " <selenium.webdriver.remote.webelement.WebElement (session=\"c08695913210d5046b964b4f0fc458a9\", element=\"bf516a35-12d0-4181-a1a2-c75e4fdd93dc\")>,\n",
       " <selenium.webdriver.remote.webelement.WebElement (session=\"c08695913210d5046b964b4f0fc458a9\", element=\"5f6ecad3-d592-42ec-8932-5c715f09eb6b\")>,\n",
       " <selenium.webdriver.remote.webelement.WebElement (session=\"c08695913210d5046b964b4f0fc458a9\", element=\"78ec9fda-120b-4922-9021-651ad03708b2\")>,\n",
       " <selenium.webdriver.remote.webelement.WebElement (session=\"c08695913210d5046b964b4f0fc458a9\", element=\"1921b6e4-11d5-4dce-915e-cac4b3830a47\")>,\n",
       " <selenium.webdriver.remote.webelement.WebElement (session=\"c08695913210d5046b964b4f0fc458a9\", element=\"fbf1140d-470b-4de3-acc5-550c7879d094\")>,\n",
       " <selenium.webdriver.remote.webelement.WebElement (session=\"c08695913210d5046b964b4f0fc458a9\", element=\"6a4e8b5c-2a6b-4e9e-b70c-3319f640284d\")>,\n",
       " <selenium.webdriver.remote.webelement.WebElement (session=\"c08695913210d5046b964b4f0fc458a9\", element=\"16befecb-23c8-408a-af1e-252759e1c321\")>,\n",
       " <selenium.webdriver.remote.webelement.WebElement (session=\"c08695913210d5046b964b4f0fc458a9\", element=\"1d81edea-f5b6-4fc2-9f6a-eba2f10c4407\")>,\n",
       " <selenium.webdriver.remote.webelement.WebElement (session=\"c08695913210d5046b964b4f0fc458a9\", element=\"c1d219e1-82db-4111-9802-c0315c3c7e4e\")>,\n",
       " <selenium.webdriver.remote.webelement.WebElement (session=\"c08695913210d5046b964b4f0fc458a9\", element=\"5344d931-ed0e-4319-bae4-30d034e3c7e3\")>,\n",
       " <selenium.webdriver.remote.webelement.WebElement (session=\"c08695913210d5046b964b4f0fc458a9\", element=\"a13d8710-81c9-45ad-aff1-e1632f333529\")>,\n",
       " <selenium.webdriver.remote.webelement.WebElement (session=\"c08695913210d5046b964b4f0fc458a9\", element=\"0672effc-83b1-4f27-8a97-b64d1515aba0\")>,\n",
       " <selenium.webdriver.remote.webelement.WebElement (session=\"c08695913210d5046b964b4f0fc458a9\", element=\"029897df-7380-4027-9a55-5d04973553a7\")>,\n",
       " <selenium.webdriver.remote.webelement.WebElement (session=\"c08695913210d5046b964b4f0fc458a9\", element=\"67869897-3c45-4d75-8fd1-f3bee24d2798\")>,\n",
       " <selenium.webdriver.remote.webelement.WebElement (session=\"c08695913210d5046b964b4f0fc458a9\", element=\"18bcb8ce-1fa9-4429-bdf0-6af94ae904c3\")>,\n",
       " <selenium.webdriver.remote.webelement.WebElement (session=\"c08695913210d5046b964b4f0fc458a9\", element=\"9e44c416-d94f-45a6-b5f3-f18cb738b218\")>,\n",
       " <selenium.webdriver.remote.webelement.WebElement (session=\"c08695913210d5046b964b4f0fc458a9\", element=\"d40911d1-2e78-4695-bdad-824e0e6b2a57\")>]"
      ]
     },
     "execution_count": 82,
     "metadata": {},
     "output_type": "execute_result"
    }
   ],
   "source": [
    "python = driver.find_elements(By.TAG_NAME,'a')\n",
    "python"
   ]
  },
  {
   "cell_type": "code",
   "execution_count": 85,
   "metadata": {},
   "outputs": [
    {
     "data": {
      "text/plain": [
       "[None,\n",
       " 'https://en.wikipedia.org/wiki/Python#mw-head',\n",
       " 'https://en.wikipedia.org/wiki/Python#searchInput',\n",
       " 'https://en.wiktionary.org/wiki/Python',\n",
       " 'https://en.wiktionary.org/wiki/python',\n",
       " 'https://en.wikipedia.org/wiki/Python#Snakes',\n",
       " 'https://en.wikipedia.org/wiki/Python#Computing',\n",
       " 'https://en.wikipedia.org/wiki/Python#People',\n",
       " 'https://en.wikipedia.org/wiki/Python#Roller_coasters',\n",
       " 'https://en.wikipedia.org/wiki/Python#Vehicles',\n",
       " 'https://en.wikipedia.org/wiki/Python#Weaponry',\n",
       " 'https://en.wikipedia.org/wiki/Python#Other_uses',\n",
       " 'https://en.wikipedia.org/wiki/Python#See_also',\n",
       " 'https://en.wikipedia.org/w/index.php?title=Python&action=edit&section=1&editintro=Template:Disambig_editintro',\n",
       " 'https://en.wikipedia.org/wiki/Pythonidae',\n",
       " 'https://en.wikipedia.org/wiki/Python_(genus)',\n",
       " 'https://en.wikipedia.org/wiki/Python_(mythology)',\n",
       " 'https://en.wikipedia.org/w/index.php?title=Python&action=edit&section=2&editintro=Template:Disambig_editintro',\n",
       " 'https://en.wikipedia.org/wiki/Python_(programming_language)',\n",
       " 'https://en.wikipedia.org/wiki/CMU_Common_Lisp',\n",
       " 'https://en.wikipedia.org/wiki/PERQ#PERQ_3',\n",
       " 'https://en.wikipedia.org/w/index.php?title=Python&action=edit&section=3&editintro=Template:Disambig_editintro',\n",
       " 'https://en.wikipedia.org/wiki/Python_of_Aenus',\n",
       " 'https://en.wikipedia.org/wiki/Python_(painter)',\n",
       " 'https://en.wikipedia.org/wiki/Python_of_Byzantium',\n",
       " 'https://en.wikipedia.org/wiki/Python_of_Catana',\n",
       " 'https://en.wikipedia.org/wiki/Python_Anghelo',\n",
       " 'https://en.wikipedia.org/w/index.php?title=Python&action=edit&section=4&editintro=Template:Disambig_editintro',\n",
       " 'https://en.wikipedia.org/wiki/Python_(Efteling)',\n",
       " 'https://en.wikipedia.org/wiki/Python_(Busch_Gardens_Tampa_Bay)',\n",
       " 'https://en.wikipedia.org/wiki/Python_(Coney_Island,_Cincinnati,_Ohio)',\n",
       " 'https://en.wikipedia.org/w/index.php?title=Python&action=edit&section=5&editintro=Template:Disambig_editintro',\n",
       " 'https://en.wikipedia.org/wiki/Python_(automobile_maker)',\n",
       " 'https://en.wikipedia.org/wiki/Python_(Ford_prototype)',\n",
       " 'https://en.wikipedia.org/w/index.php?title=Python&action=edit&section=6&editintro=Template:Disambig_editintro',\n",
       " 'https://en.wikipedia.org/wiki/Python_(missile)',\n",
       " 'https://en.wikipedia.org/wiki/Python_(nuclear_primary)',\n",
       " 'https://en.wikipedia.org/wiki/Colt_Python',\n",
       " 'https://en.wikipedia.org/w/index.php?title=Python&action=edit&section=7&editintro=Template:Disambig_editintro',\n",
       " 'https://en.wikipedia.org/wiki/Python_(codename)',\n",
       " 'https://en.wikipedia.org/wiki/Python_(film)',\n",
       " 'https://en.wikipedia.org/wiki/Monty_Python',\n",
       " 'https://en.wikipedia.org/wiki/Python_(Monty)_Pictures',\n",
       " 'https://en.wikipedia.org/wiki/Timon_of_Phlius',\n",
       " 'https://en.wikipedia.org/w/index.php?title=Python&action=edit&section=8&editintro=Template:Disambig_editintro',\n",
       " 'https://en.wikipedia.org/wiki/Cython',\n",
       " 'https://en.wikipedia.org/wiki/Pyton',\n",
       " 'https://en.wikipedia.org/wiki/Pithon',\n",
       " 'https://en.wikipedia.org/wiki/File:Disambig_gray.svg',\n",
       " 'https://en.wikipedia.org/wiki/Help:Disambiguation',\n",
       " 'https://en.wikipedia.org/w/index.php?title=Special:WhatLinksHere/Python&namespace=0',\n",
       " 'https://en.wikipedia.org/w/index.php?title=Python&oldid=1104201971',\n",
       " 'https://en.wikipedia.org/wiki/Help:Category',\n",
       " 'https://en.wikipedia.org/wiki/Category:Disambiguation_pages',\n",
       " 'https://en.wikipedia.org/wiki/Category:Human_name_disambiguation_pages',\n",
       " 'https://en.wikipedia.org/wiki/Category:Disambiguation_pages_with_given-name-holder_lists',\n",
       " 'https://en.wikipedia.org/wiki/Category:Disambiguation_pages_with_short_descriptions',\n",
       " 'https://en.wikipedia.org/wiki/Category:Short_description_is_different_from_Wikidata',\n",
       " 'https://en.wikipedia.org/wiki/Category:All_article_disambiguation_pages',\n",
       " 'https://en.wikipedia.org/wiki/Category:All_disambiguation_pages',\n",
       " 'https://en.wikipedia.org/wiki/Category:Animal_common_name_disambiguation_pages',\n",
       " 'https://en.wikipedia.org/wiki/Special:MyTalk',\n",
       " 'https://en.wikipedia.org/wiki/Special:MyContributions',\n",
       " 'https://en.wikipedia.org/w/index.php?title=Special:CreateAccount&returnto=Python',\n",
       " 'https://en.wikipedia.org/w/index.php?title=Special:UserLogin&returnto=Python',\n",
       " 'https://en.wikipedia.org/wiki/Python',\n",
       " 'https://en.wikipedia.org/wiki/Talk:Python',\n",
       " 'https://en.wikipedia.org/wiki/Python',\n",
       " 'https://en.wikipedia.org/w/index.php?title=Python&action=edit&editintro=Template:Disambig_editintro',\n",
       " 'https://en.wikipedia.org/w/index.php?title=Python&action=history',\n",
       " 'https://en.wikipedia.org/wiki/Main_Page',\n",
       " 'https://en.wikipedia.org/wiki/Main_Page',\n",
       " 'https://en.wikipedia.org/wiki/Wikipedia:Contents',\n",
       " 'https://en.wikipedia.org/wiki/Portal:Current_events',\n",
       " 'https://en.wikipedia.org/wiki/Special:Random',\n",
       " 'https://en.wikipedia.org/wiki/Wikipedia:About',\n",
       " 'https://en.wikipedia.org/wiki/Wikipedia:Contact_us',\n",
       " 'https://donate.wikimedia.org/wiki/Special:FundraiserRedirector?utm_source=donate&utm_medium=sidebar&utm_campaign=C13_en.wikipedia.org&uselang=en',\n",
       " 'https://en.wikipedia.org/wiki/Help:Contents',\n",
       " 'https://en.wikipedia.org/wiki/Help:Introduction',\n",
       " 'https://en.wikipedia.org/wiki/Wikipedia:Community_portal',\n",
       " 'https://en.wikipedia.org/wiki/Special:RecentChanges',\n",
       " 'https://en.wikipedia.org/wiki/Wikipedia:File_Upload_Wizard',\n",
       " 'https://en.wikipedia.org/wiki/Special:WhatLinksHere/Python',\n",
       " 'https://en.wikipedia.org/wiki/Special:RecentChangesLinked/Python',\n",
       " 'https://en.wikipedia.org/wiki/Wikipedia:File_Upload_Wizard',\n",
       " 'https://en.wikipedia.org/wiki/Special:SpecialPages',\n",
       " 'https://en.wikipedia.org/w/index.php?title=Python&oldid=1104201971',\n",
       " 'https://en.wikipedia.org/w/index.php?title=Python&action=info',\n",
       " 'https://en.wikipedia.org/w/index.php?title=Special:CiteThisPage&page=Python&id=1104201971&wpFormIdentifier=titleform',\n",
       " 'https://www.wikidata.org/wiki/Special:EntityPage/Q747452',\n",
       " 'https://en.wikipedia.org/w/index.php?title=Special:DownloadAsPdf&page=Python&action=show-download-screen',\n",
       " 'https://en.wikipedia.org/w/index.php?title=Python&printable=yes',\n",
       " 'https://commons.wikimedia.org/wiki/Category:Python',\n",
       " 'https://af.wikipedia.org/wiki/Python',\n",
       " 'https://als.wikipedia.org/wiki/Python',\n",
       " 'https://ar.wikipedia.org/wiki/%D8%A8%D8%A7%D9%8A%D8%AB%D9%88%D9%86_(%D8%AA%D9%88%D8%B6%D9%8A%D8%AD)',\n",
       " 'https://az.wikipedia.org/wiki/Python',\n",
       " 'https://bn.wikipedia.org/wiki/%E0%A6%AA%E0%A6%BE%E0%A6%87%E0%A6%A5%E0%A6%A8_(%E0%A6%A6%E0%A7%8D%E0%A6%AC%E0%A7%8D%E0%A6%AF%E0%A6%B0%E0%A7%8D%E0%A6%A5%E0%A6%A4%E0%A6%BE_%E0%A6%A8%E0%A6%BF%E0%A6%B0%E0%A6%B8%E0%A6%A8)',\n",
       " 'https://be.wikipedia.org/wiki/Python',\n",
       " 'https://bg.wikipedia.org/wiki/%D0%9F%D0%B8%D1%82%D0%BE%D0%BD_(%D0%BF%D0%BE%D1%8F%D1%81%D0%BD%D0%B5%D0%BD%D0%B8%D0%B5)',\n",
       " 'https://cs.wikipedia.org/wiki/Python_(rozcestn%C3%ADk)',\n",
       " 'https://da.wikipedia.org/wiki/Python',\n",
       " 'https://de.wikipedia.org/wiki/Python',\n",
       " 'https://eo.wikipedia.org/wiki/Pitono_(apartigilo)',\n",
       " 'https://eu.wikipedia.org/wiki/Python_(argipena)',\n",
       " 'https://fa.wikipedia.org/wiki/%D9%BE%D8%A7%DB%8C%D8%AA%D9%88%D9%86',\n",
       " 'https://fr.wikipedia.org/wiki/Python',\n",
       " 'https://ko.wikipedia.org/wiki/%ED%8C%8C%EC%9D%B4%EC%84%A0',\n",
       " 'https://hr.wikipedia.org/wiki/Python_(razdvojba)',\n",
       " 'https://io.wikipedia.org/wiki/Pitono',\n",
       " 'https://id.wikipedia.org/wiki/Python',\n",
       " 'https://ia.wikipedia.org/wiki/Python_(disambiguation)',\n",
       " 'https://is.wikipedia.org/wiki/Python_(a%C3%B0greining)',\n",
       " 'https://it.wikipedia.org/wiki/Python_(disambigua)',\n",
       " 'https://he.wikipedia.org/wiki/%D7%A4%D7%99%D7%AA%D7%95%D7%9F',\n",
       " 'https://ka.wikipedia.org/wiki/%E1%83%9E%E1%83%98%E1%83%97%E1%83%9D%E1%83%9C%E1%83%98_(%E1%83%9B%E1%83%A0%E1%83%90%E1%83%95%E1%83%90%E1%83%9A%E1%83%9B%E1%83%9C%E1%83%98%E1%83%A8%E1%83%95%E1%83%9C%E1%83%94%E1%83%9A%E1%83%9D%E1%83%95%E1%83%90%E1%83%9C%E1%83%98)',\n",
       " 'https://kg.wikipedia.org/wiki/Mboma_(nyoka)',\n",
       " 'https://la.wikipedia.org/wiki/Python_(discretiva)',\n",
       " 'https://lb.wikipedia.org/wiki/Python',\n",
       " 'https://hu.wikipedia.org/wiki/Python_(egy%C3%A9rtelm%C5%B1s%C3%ADt%C5%91_lap)',\n",
       " 'https://mr.wikipedia.org/wiki/%E0%A4%AA%E0%A4%BE%E0%A4%AF%E0%A4%A5%E0%A5%89%E0%A4%A8_(%E0%A4%86%E0%A4%9C%E0%A5%8D%E0%A4%9E%E0%A4%BE%E0%A4%B5%E0%A4%B2%E0%A5%80_%E0%A4%AD%E0%A4%BE%E0%A4%B7%E0%A4%BE)',\n",
       " 'https://nl.wikipedia.org/wiki/Python',\n",
       " 'https://ja.wikipedia.org/wiki/%E3%83%91%E3%82%A4%E3%82%BD%E3%83%B3',\n",
       " 'https://no.wikipedia.org/wiki/Pyton',\n",
       " 'https://pl.wikipedia.org/wiki/Pyton',\n",
       " 'https://pt.wikipedia.org/wiki/Python_(desambigua%C3%A7%C3%A3o)',\n",
       " 'https://ru.wikipedia.org/wiki/Python_(%D0%B7%D0%BD%D0%B0%D1%87%D0%B5%D0%BD%D0%B8%D1%8F)',\n",
       " 'https://sk.wikipedia.org/wiki/Python',\n",
       " 'https://sr.wikipedia.org/wiki/%D0%9F%D0%B8%D1%82%D0%BE%D0%BD_(%D0%B2%D0%B8%D1%88%D0%B5%D0%B7%D0%BD%D0%B0%D1%87%D0%BD%D0%B0_%D0%BE%D0%B4%D1%80%D0%B5%D0%B4%D0%BD%D0%B8%D1%86%D0%B0)',\n",
       " 'https://sh.wikipedia.org/wiki/Python',\n",
       " 'https://fi.wikipedia.org/wiki/Python',\n",
       " 'https://sv.wikipedia.org/wiki/Pyton',\n",
       " 'https://th.wikipedia.org/wiki/%E0%B9%84%E0%B8%9E%E0%B8%97%E0%B8%AD%E0%B8%99',\n",
       " 'https://tr.wikipedia.org/wiki/Python_(anlam_ayr%C4%B1m%C4%B1)',\n",
       " 'https://uk.wikipedia.org/wiki/%D0%9F%D1%96%D1%84%D0%BE%D0%BD',\n",
       " 'https://ur.wikipedia.org/wiki/%D9%BE%D8%A7%D8%A6%DB%8C%D8%AA%DA%BE%D9%88%D9%86',\n",
       " 'https://vi.wikipedia.org/wiki/Python',\n",
       " 'https://zh.wikipedia.org/wiki/Python_(%E6%B6%88%E6%AD%A7%E4%B9%89)',\n",
       " 'https://www.wikidata.org/wiki/Special:EntityPage/Q747452#sitelinks-wikipedia',\n",
       " 'https://en.wikipedia.org/wiki/Wikipedia:Text_of_Creative_Commons_Attribution-ShareAlike_3.0_Unported_License',\n",
       " 'https://creativecommons.org/licenses/by-sa/3.0/',\n",
       " 'https://foundation.wikimedia.org/wiki/Terms_of_Use',\n",
       " 'https://foundation.wikimedia.org/wiki/Privacy_policy',\n",
       " 'https://www.wikimediafoundation.org/',\n",
       " 'https://foundation.wikimedia.org/wiki/Privacy_policy',\n",
       " 'https://en.wikipedia.org/wiki/Wikipedia:About',\n",
       " 'https://en.wikipedia.org/wiki/Wikipedia:General_disclaimer',\n",
       " 'https://en.wikipedia.org/wiki/Wikipedia:Contact_us',\n",
       " 'https://en.m.wikipedia.org/w/index.php?title=Python&mobileaction=toggle_view_mobile',\n",
       " 'https://developer.wikimedia.org/',\n",
       " 'https://stats.wikimedia.org/#/en.wikipedia.org',\n",
       " 'https://foundation.wikimedia.org/wiki/Cookie_statement',\n",
       " 'https://en.wikipedia.org/wiki/Python#',\n",
       " 'https://wikimediafoundation.org/',\n",
       " 'https://www.mediawiki.org/',\n",
       " 'https://en.wikipedia.org/wiki/Python?action=edit']"
      ]
     },
     "execution_count": 85,
     "metadata": {},
     "output_type": "execute_result"
    }
   ],
   "source": [
    "python_links= []\n",
    "\n",
    "for line in range(len(python)):\n",
    "        python_links.append(python[line].get_attribute('href'))\n",
    "python_links      "
   ]
  },
  {
   "cell_type": "code",
   "execution_count": null,
   "metadata": {},
   "outputs": [],
   "source": []
  },
  {
   "cell_type": "markdown",
   "metadata": {},
   "source": [
    "#### Number of Titles that have changed in the United States Code since its last release point "
   ]
  },
  {
   "cell_type": "code",
   "execution_count": 86,
   "metadata": {},
   "outputs": [],
   "source": [
    "# This is the url you will scrape in this exercise\n",
    "url_5 = 'http://uscode.house.gov/download/download.shtml'"
   ]
  },
  {
   "cell_type": "code",
   "execution_count": 87,
   "metadata": {},
   "outputs": [
    {
     "name": "stderr",
     "output_type": "stream",
     "text": [
      "/var/folders/bl/k3sl29m953728l636_vh_6dw0000gn/T/ipykernel_15474/2102995815.py:1: DeprecationWarning: executable_path has been deprecated, please pass in a Service object\n",
      "  driver=webdriver.Chrome(PATH)\n"
     ]
    }
   ],
   "source": [
    "driver=webdriver.Chrome(PATH)\n",
    "driver.get(url_5)\n"
   ]
  },
  {
   "cell_type": "code",
   "execution_count": 90,
   "metadata": {},
   "outputs": [],
   "source": [
    "us = driver.find_elements(By.CLASS_NAME,'usctitlechanged')\n"
   ]
  },
  {
   "cell_type": "code",
   "execution_count": 89,
   "metadata": {},
   "outputs": [
    {
     "data": {
      "text/plain": [
       "['Title 2 - The Congress',\n",
       " 'Title 5 - Government Organization and Employees ٭',\n",
       " 'Title 10 - Armed Forces ٭',\n",
       " 'Title 28 - Judiciary and Judicial Procedure ٭',\n",
       " \"Title 38 - Veterans' Benefits ٭\"]"
      ]
     },
     "execution_count": 89,
     "metadata": {},
     "output_type": "execute_result"
    }
   ],
   "source": [
    "us_changes= []\n",
    "\n",
    "for i in range(len(us)):\n",
    "        us_changes.append(us[i].text)\n",
    "us_changes      "
   ]
  },
  {
   "cell_type": "markdown",
   "metadata": {},
   "source": [
    "#### A Python list with the top ten FBI's Most Wanted names "
   ]
  },
  {
   "cell_type": "code",
   "execution_count": 91,
   "metadata": {},
   "outputs": [],
   "source": [
    "# This is the url you will scrape in this exercise\n",
    "url_6 = 'https://www.fbi.gov/wanted/topten'"
   ]
  },
  {
   "cell_type": "code",
   "execution_count": 92,
   "metadata": {},
   "outputs": [
    {
     "name": "stderr",
     "output_type": "stream",
     "text": [
      "/var/folders/bl/k3sl29m953728l636_vh_6dw0000gn/T/ipykernel_15474/1412627121.py:1: DeprecationWarning: executable_path has been deprecated, please pass in a Service object\n",
      "  driver=webdriver.Chrome(PATH)\n"
     ]
    }
   ],
   "source": [
    "driver=webdriver.Chrome(PATH)\n",
    "driver.get(url_6)\n"
   ]
  },
  {
   "cell_type": "code",
   "execution_count": 98,
   "metadata": {},
   "outputs": [],
   "source": [
    "fbi = driver.find_elements(By.CLASS_NAME,'title')[1:11]"
   ]
  },
  {
   "cell_type": "code",
   "execution_count": 99,
   "metadata": {},
   "outputs": [
    {
     "data": {
      "text/plain": [
       "['ALEXIS FLORES',\n",
       " 'JOSE RODOLFO VILLARREAL-HERNANDEZ',\n",
       " 'YULAN ADONAY ARCHAGA CARIAS',\n",
       " 'BHADRESHKUMAR CHETANBHAI PATEL',\n",
       " 'OMAR ALEXANDER CARDENAS',\n",
       " 'ALEJANDRO ROSALES CASTILLO',\n",
       " 'RUJA IGNATOVA',\n",
       " 'JASON DEREK BROWN',\n",
       " 'ARNOLDO JIMENEZ',\n",
       " 'RAFAEL CARO-QUINTERO']"
      ]
     },
     "execution_count": 99,
     "metadata": {},
     "output_type": "execute_result"
    }
   ],
   "source": [
    "fbi_data= []\n",
    "\n",
    "for i in range(len(fbi)):\n",
    "        fbi_data.append(fbi[i].text)\n",
    "fbi_data  "
   ]
  },
  {
   "cell_type": "markdown",
   "metadata": {},
   "source": [
    "####  20 latest earthquakes info (date, time, latitude, longitude and region name) by the EMSC as a pandas dataframe"
   ]
  },
  {
   "cell_type": "code",
   "execution_count": null,
   "metadata": {},
   "outputs": [],
   "source": [
    "# This is the url you will scrape in this exercise\n",
    "url = 'https://www.emsc-csem.org/Earthquake/'"
   ]
  },
  {
   "cell_type": "markdown",
   "metadata": {},
   "source": [
    "#### Count number of tweets by a given Twitter account."
   ]
  },
  {
   "cell_type": "markdown",
   "metadata": {},
   "source": [
    "You will need to include a ***try/except block*** for account names not found. \n",
    "<br>***Hint:*** the program should count the number of tweets for any provided account"
   ]
  },
  {
   "cell_type": "code",
   "execution_count": 109,
   "metadata": {},
   "outputs": [],
   "source": [
    "# This is the url you will scrape in this exercise \n",
    "# You will need to add the account credentials to this url\n",
    "url_7 = 'https://twitter.com/cretecreck'"
   ]
  },
  {
   "cell_type": "code",
   "execution_count": 116,
   "metadata": {
    "scrolled": true
   },
   "outputs": [
    {
     "name": "stderr",
     "output_type": "stream",
     "text": [
      "/var/folders/bl/k3sl29m953728l636_vh_6dw0000gn/T/ipykernel_15474/3849847787.py:1: DeprecationWarning: executable_path has been deprecated, please pass in a Service object\n",
      "  driver=webdriver.Chrome(PATH)\n"
     ]
    }
   ],
   "source": [
    "driver=webdriver.Chrome(PATH)\n",
    "driver.get(url_7)"
   ]
  },
  {
   "cell_type": "code",
   "execution_count": 117,
   "metadata": {},
   "outputs": [],
   "source": [
    "driver.find_element(By.XPATH,'//*[@id=\"layers\"]/div/div[2]/div/div/div/div[2]/div[1]/div/span/span').click()\n"
   ]
  },
  {
   "cell_type": "code",
   "execution_count": 121,
   "metadata": {},
   "outputs": [
    {
     "data": {
      "text/plain": [
       "'7,044 Tweets'"
      ]
     },
     "execution_count": 121,
     "metadata": {},
     "output_type": "execute_result"
    }
   ],
   "source": [
    "twitter_2 = driver.find_element(By.XPATH, '//*[@id=\"react-root\"]/div/div/div[2]/main/div/div/div/div/div/div[1]/div[1]/div/div/div/div/div/div[2]/div/div')\n",
    "twitter_2.text"
   ]
  },
  {
   "cell_type": "markdown",
   "metadata": {},
   "source": [
    "#### Number of followers of a given twitter account"
   ]
  },
  {
   "cell_type": "markdown",
   "metadata": {},
   "source": [
    "You will need to include a ***try/except block*** in case account/s name not found. \n",
    "<br>***Hint:*** the program should count the followers for any provided account"
   ]
  },
  {
   "cell_type": "code",
   "execution_count": 127,
   "metadata": {},
   "outputs": [],
   "source": [
    "# This is the url you will scrape in this exercise \n",
    "# You will need to add the account credentials to this url\n",
    "url_8 = 'https://twitter.com/cretecreck'"
   ]
  },
  {
   "cell_type": "code",
   "execution_count": 128,
   "metadata": {},
   "outputs": [
    {
     "name": "stderr",
     "output_type": "stream",
     "text": [
      "/var/folders/bl/k3sl29m953728l636_vh_6dw0000gn/T/ipykernel_15474/3295162333.py:1: DeprecationWarning: executable_path has been deprecated, please pass in a Service object\n",
      "  driver=webdriver.Chrome(PATH)\n"
     ]
    }
   ],
   "source": [
    "driver=webdriver.Chrome(PATH)\n",
    "driver.get(url_8)"
   ]
  },
  {
   "cell_type": "code",
   "execution_count": 129,
   "metadata": {},
   "outputs": [],
   "source": [
    "driver.find_element(By.XPATH,'//*[@id=\"layers\"]/div/div[2]/div/div/div/div[2]/div[1]/div/span/span').click()\n"
   ]
  },
  {
   "cell_type": "code",
   "execution_count": 130,
   "metadata": {},
   "outputs": [
    {
     "data": {
      "text/plain": [
       "'417 Followers'"
      ]
     },
     "execution_count": 130,
     "metadata": {},
     "output_type": "execute_result"
    }
   ],
   "source": [
    "twitter_3 = driver.find_element(By.XPATH,'//*[@id=\"react-root\"]/div/div/div[2]/main/div/div/div/div/div/div[2]/div/div/div/div/div[5]/div[2]/a')\n",
    "twitter_3.text                               "
   ]
  },
  {
   "cell_type": "markdown",
   "metadata": {},
   "source": [
    "#### List all language names and number of related articles in the order they appear in wikipedia.org"
   ]
  },
  {
   "cell_type": "code",
   "execution_count": 131,
   "metadata": {},
   "outputs": [],
   "source": [
    "# This is the url you will scrape in this exercise\n",
    "url_9 = 'https://www.wikipedia.org/'"
   ]
  },
  {
   "cell_type": "code",
   "execution_count": 133,
   "metadata": {},
   "outputs": [
    {
     "name": "stderr",
     "output_type": "stream",
     "text": [
      "/var/folders/bl/k3sl29m953728l636_vh_6dw0000gn/T/ipykernel_15474/4072987327.py:1: DeprecationWarning: executable_path has been deprecated, please pass in a Service object\n",
      "  driver=webdriver.Chrome(PATH)\n"
     ]
    }
   ],
   "source": [
    "driver=webdriver.Chrome(PATH)\n",
    "driver.get(url_9)"
   ]
  },
  {
   "cell_type": "code",
   "execution_count": 141,
   "metadata": {},
   "outputs": [],
   "source": [
    "lng = driver.find_elements(By.TAG_NAME,'strong')"
   ]
  },
  {
   "cell_type": "code",
   "execution_count": 145,
   "metadata": {},
   "outputs": [
    {
     "data": {
      "text/plain": [
       "['English',\n",
       " '日本語',\n",
       " 'Español',\n",
       " 'Русский',\n",
       " 'Deutsch',\n",
       " 'Français',\n",
       " 'Italiano',\n",
       " '中文',\n",
       " 'Português',\n",
       " 'العربية']"
      ]
     },
     "execution_count": 145,
     "metadata": {},
     "output_type": "execute_result"
    }
   ],
   "source": [
    "lang_wiki=[]\n",
    "\n",
    "for i in range(len(lng)):\n",
    "    lang_wiki.append(lng[i].text)\n",
    "lang_wiki [1:11]"
   ]
  },
  {
   "cell_type": "markdown",
   "metadata": {},
   "source": [
    "#### A list with the different kind of datasets available in data.gov.uk "
   ]
  },
  {
   "cell_type": "code",
   "execution_count": 146,
   "metadata": {},
   "outputs": [],
   "source": [
    "# This is the url you will scrape in this exercise\n",
    "url_10 = 'https://data.gov.uk/'"
   ]
  },
  {
   "cell_type": "code",
   "execution_count": 147,
   "metadata": {},
   "outputs": [
    {
     "name": "stderr",
     "output_type": "stream",
     "text": [
      "/var/folders/bl/k3sl29m953728l636_vh_6dw0000gn/T/ipykernel_15474/2579999037.py:1: DeprecationWarning: executable_path has been deprecated, please pass in a Service object\n",
      "  driver=webdriver.Chrome(PATH)\n"
     ]
    }
   ],
   "source": [
    "driver=webdriver.Chrome(PATH)\n",
    "driver.get(url_10)"
   ]
  },
  {
   "cell_type": "code",
   "execution_count": 148,
   "metadata": {},
   "outputs": [],
   "source": [
    "\n",
    "driver.find_element(By.XPATH,'//*[@id=\"global-cookie-message\"]/div[1]/div/div[2]/button[1]').click()\n",
    "\n"
   ]
  },
  {
   "cell_type": "code",
   "execution_count": 149,
   "metadata": {},
   "outputs": [],
   "source": [
    "driver.find_element(By.XPATH,'//*[@id=\"global-cookie-message\"]/div[2]/div/button').click()"
   ]
  },
  {
   "cell_type": "code",
   "execution_count": 153,
   "metadata": {},
   "outputs": [],
   "source": [
    "gob = driver.find_elements(By.TAG_NAME,'h3')"
   ]
  },
  {
   "cell_type": "code",
   "execution_count": 155,
   "metadata": {},
   "outputs": [
    {
     "data": {
      "text/plain": [
       "['Business and economy',\n",
       " 'Crime and justice',\n",
       " 'Defence',\n",
       " 'Education',\n",
       " 'Environment',\n",
       " 'Government',\n",
       " 'Government spending',\n",
       " 'Health',\n",
       " 'Mapping',\n",
       " 'Society',\n",
       " 'Towns and cities',\n",
       " 'Transport',\n",
       " 'Digital service performance',\n",
       " 'Government reference data']"
      ]
     },
     "execution_count": 155,
     "metadata": {},
     "output_type": "execute_result"
    }
   ],
   "source": [
    "gob_data= []\n",
    "\n",
    "for i in range(len(gob)):\n",
    "        gob_data.append(gob[i].text)\n",
    "gob_data"
   ]
  },
  {
   "cell_type": "markdown",
   "metadata": {},
   "source": [
    "#### Top 10 languages by number of native speakers stored in a Pandas Dataframe"
   ]
  },
  {
   "cell_type": "code",
   "execution_count": 157,
   "metadata": {},
   "outputs": [],
   "source": [
    "# This is the url you will scrape in this exercise\n",
    "url_11 = 'https://en.wikipedia.org/wiki/List_of_languages_by_number_of_native_speakers'"
   ]
  },
  {
   "cell_type": "code",
   "execution_count": 158,
   "metadata": {},
   "outputs": [
    {
     "name": "stderr",
     "output_type": "stream",
     "text": [
      "/var/folders/bl/k3sl29m953728l636_vh_6dw0000gn/T/ipykernel_15474/2322244344.py:1: DeprecationWarning: executable_path has been deprecated, please pass in a Service object\n",
      "  driver=webdriver.Chrome(PATH)\n"
     ]
    }
   ],
   "source": [
    "driver=webdriver.Chrome(PATH)\n",
    "driver.get(url_11)"
   ]
  },
  {
   "cell_type": "code",
   "execution_count": 226,
   "metadata": {},
   "outputs": [
    {
     "data": {
      "text/plain": [
       "<selenium.webdriver.remote.webelement.WebElement (session=\"7be877cbcc75baaec5f1daf732a24a01\", element=\"e6fa723f-459e-4345-9968-6f5b41a83853\")>"
      ]
     },
     "execution_count": 226,
     "metadata": {},
     "output_type": "execute_result"
    }
   ],
   "source": [
    "titulos= driver.find_element(By.XPATH, '//*[@id=\"mw-content-text\"]/div[1]/table[1]/thead')\n",
    "titulos"
   ]
  },
  {
   "cell_type": "code",
   "execution_count": 233,
   "metadata": {},
   "outputs": [
    {
     "data": {
      "text/plain": [
       "['Rank',\n",
       " 'Language',\n",
       " 'Native Speakers\\n(millions)',\n",
       " 'Percentage\\nof world pop.\\n(March 2019)[10]',\n",
       " 'Language family',\n",
       " 'Branch']"
      ]
     },
     "execution_count": 233,
     "metadata": {},
     "output_type": "execute_result"
    }
   ],
   "source": [
    "titular = []\n",
    "\n",
    "titulo = titulos.find_elements(By.TAG_NAME, 'th')\n",
    "\n",
    "\n",
    "for i in range(len(titulo)):\n",
    "    contenido= titulo[i].text\n",
    "    titular.append(contenido)\n",
    "titular\n"
   ]
  },
  {
   "cell_type": "code",
   "execution_count": 202,
   "metadata": {},
   "outputs": [
    {
     "name": "stdout",
     "output_type": "stream",
     "text": [
      "[['1', 'Mandarin Chinese', '929.0', '11.922%', 'Sino-Tibetan', 'Sinitic'], ['2', 'Spanish', '474.7', '5.994%', 'Indo-European', 'Romance'], ['3', 'English', '372.9', '4.922%', 'Indo-European', 'Germanic'], ['4', 'Hindi (Sanskritised Hindustani)[11]', '343.9', '4.429%', 'Indo-European', 'Indo-Aryan'], ['5', 'Bengali', '233.7', '4.000%', 'Indo-European', 'Indo-Aryan'], ['6', 'Portuguese', '232.4', '2.870%', 'Indo-European', 'Romance'], ['7', 'Russian', '154.0', '2.000%', 'Indo-European', 'Balto-Slavic'], ['9', 'Western Punjabi[12]', '92.7', '1.204%', 'Indo-European', 'Indo-Aryan'], ['8', 'Japanese', '125.3', '1.662%', 'Japonic', 'Japanese'], ['10', 'Yue Chinese', '85.2', '0.949%', 'Sino-Tibetan', 'Sinitic'], ['11', 'Vietnamese', '84.6', '0.987%', 'Austroasiatic', 'Vietic'], ['12', 'Marathi', '83.1', '1.079%', 'Indo-European', 'Indo-Aryan'], ['13', 'Telugu', '82.0', '1.065%', 'Dravidian', 'South-Central'], ['14', 'Turkish', '82.2', '1.031%', 'Turkic', 'Oghuz'], ['15', 'Wu Chinese', '81.7', '1.057%', 'Sino-Tibetan', 'Sinitic'], ['16', 'Korean', '81.7', '1.004%', 'Koreanic', 'language isolate'], ['17', 'French', '79.9', '1.003%', 'Indo-European', 'Romance'], ['18', 'German (only Standard German)', '75.6', '0.988%', 'Indo-European', 'Germanic'], ['19', 'Tamil', '75.0', '0.974%', 'Dravidian', 'South'], ['20', 'Urdu (Persianised Hindustani)[11]', '70.2', '0.891%', 'Indo-European', 'Indo-Aryan'], ['21', 'Javanese', '68.3', '0.887%', 'Austronesian', 'Malayo-Polynesian'], ['22', 'Italian', '64.8', '0.842%', 'Indo-European', 'Romance'], ['23', 'Egyptian Arabic', '64.6[a]', '0.839%', 'Afroasiatic', 'Semitic'], ['24', 'Gujarati', '57.0', '0.732%', 'Indo-European', 'Indo-Aryan'], ['25', 'Iranian Persian', '56.4', '0.686%', 'Indo-European', 'Iranian'], ['26', 'Bhojpuri', '52.2', '0.678%', 'Indo-European', 'Indo-Aryan'], ['27', 'Southern Min', '50.1', '0.651%', 'Sino-Tibetan', 'Sinitic'], ['28', 'Hakka', '48.2', '0.626%', 'Sino-Tibetan', 'Sinitic'], ['29', 'Jin Chinese', '46.9', '0.609%', 'Sino-Tibetan', 'Sinitic'], ['30', 'Hausa', '43.9', '0.570%', 'Afroasiatic', 'Chadic'], ['31', 'Kannada', '43.6', '0.566%', 'Dravidian', 'South'], ['32', 'Indonesian', '43.6[b]', '0.564%', 'Austronesian', 'Malayo-Polynesian'], ['33', 'Yoruba', '43.6', '0.491%', 'Niger–Congo', 'Volta–Niger'], ['34', 'Polish', '40.0', '0.516%', 'Indo-European', 'Balto-Slavic'], ['35', 'Xiang Chinese', '37.3', '0.484%', 'Sino-Tibetan', 'Sinitic'], ['36', 'Malayalam', '37.1', '0.482%', 'Dravidian', 'South'], ['37', 'Odia', '34.5', '0.448%', 'Indo-European', 'Indo-Aryan'], ['38', 'Maithili', '33.9', '0.440%', 'Indo-European', 'Indo-Aryan'], ['39', 'Sudanese Arabic', '33.3', '0.414%', 'Afroasiatic', 'Semitic'], ['40', 'Burmese', '33.0', '0.427%', 'Sino-Tibetan', 'Lolo-Burmese'], ['41', 'Eastern Punjabi[12]', '32.6', '0.423%', 'Indo-European', 'Indo-Aryan'], ['42', 'Sunda', '32.4', '0.421%', 'Austronesian', 'Malayo-Polynesian'], ['43', 'Algerian Arabic', '34.7', '0.382%', 'Afroasiatic', 'Semitic'], ['44', 'Moroccan Arabic', '27.5', '0.357%', 'Afroasiatic', 'Semitic'], ['45', 'Ukrainian', '27.3', '0.355%', 'Indo-European', 'Balto-Slavic'], ['46', 'Igbo', '27.0', '0.351%', 'Niger–Congo', 'Volta–Niger'], ['47', 'Northern Uzbek', '25.1', '0.326%', 'Turkic', 'Karluk'], ['48', 'Sindhi', '24.6', '0.319%', 'Indo-European', 'Indo-Aryan'], ['49', 'North Levantine Arabic', '24.6', '0.319%', 'Afroasiatic', 'Semitic'], ['50', 'Romanian', '24.3', '0.316%', 'Indo-European', 'Romance'], ['51', 'Tagalog', '23.6', '0.306%', 'Austronesian', 'Malayo-Polynesian'], ['52', 'Dutch', '23.1', '0.300%', 'Indo-European', 'Germanic'], ['53', 'Saʽidi Arabic', '22.4', '0.291%', 'Afroasiatic', 'Semitic'], ['54', 'Gan Chinese', '22.1', '0.287%', 'Sino-Tibetan', 'Sinitic'], ['55', 'Amharic', '21.9', '0.284%', 'Afroasiatic', 'Semitic'], ['56', 'Northern Pashto', '20.9', '0.271%', 'Indo-European', 'Iranian'], ['57', 'Magahi', '20.7', '0.269%', 'Indo-European', 'Indo-Aryan'], ['58', 'Thai', '20.7', '0.269%', 'Kra–Dai', 'Tai'], ['59', 'Saraiki', '20.0', '0.260%', 'Indo-European', 'Indo-Aryan'], ['60', 'Khmer', '16.6', '0.216%', 'Austroasiatic', 'Khmer'], ['61', 'Chhattisgarhi', '16.3', '0.212%', 'Indo-European', 'Indo-Aryan'], ['62', 'Somali', '16.2', '0.210%', 'Afroasiatic', 'Cushitic'], ['63', 'Malaysian (Malaysian Malay)', '16.1', '0.209%', 'Austronesian', 'Malayo-Polynesian'], ['64', 'Cebuano', '15.9', '0.206%', 'Austronesian', 'Malayo-Polynesian'], ['65', 'Nepali', '15.8', '0.205%', 'Indo-European', 'Indo-Aryan'], ['66', 'Mesopotamian Arabic', '15.7', '0.204%', 'Afroasiatic', 'Semitic'], ['67', 'Assamese', '15.3', '0.199%', 'Indo-European', 'Indo-Aryan'], ['68', 'Sinhalese', '15.3', '0.199%', 'Indo-European', 'Indo-Aryan'], ['69', 'Northern Kurdish', '14.6', '0.190%', 'Indo-European', 'Iranian'], ['70', 'Hejazi Arabic', '14.5', '0.188%', 'Afroasiatic', 'Semitic'], ['71', 'Nigerian Fulfulde', '14.5', '0.188%', 'Niger–Congo', 'Senegambian'], ['72', 'Bavarian', '14.1', '0.183%', 'Indo-European', 'Germanic'], ['73', 'South Azerbaijani', '13.8', '0.179%', 'Turkic', 'Oghuz'], ['74', 'Greek', '13.1', '0.170%', 'Indo-European', 'Hellenic'], ['75', 'Chittagonian', '13.0', '0.169%', 'Indo-European', 'Indo-Aryan'], ['76', 'Kazakh', '12.9', '0.168%', 'Turkic', 'Kipchak'], ['77', 'Deccan', '12.8', '0.166%', 'Indo-European', 'Indo-Aryan'], ['78', 'Hungarian', '12.6', '0.164%', 'Uralic', 'Finno-Ugric'], ['79', 'Kinyarwanda', '12.1', '0.157%', 'Niger–Congo', 'Bantu'], ['80', 'Zulu', '12.1', '0.157%', 'Niger–Congo', 'Bantu'], ['81', 'South Levantine Arabic', '11.6', '0.151%', 'Afroasiatic', 'Semitic'], ['82', 'Tunisian Arabic', '11.6', '0.151%', 'Afroasiatic', 'Semitic'], ['83', 'Sanaani Spoken Arabic', '11.4', '0.148%', 'Afroasiatic', 'Semitic'], ['84', 'Northern Min', '11.0', '0.143%', 'Sino-Tibetan', 'Sinitic'], ['85', 'Southern Pashto', '10.9', '0.142%', 'Indo-European', 'Iranian'], ['86', 'Rundi', '10.8', '0.140%', 'Niger–Congo', 'Bantu'], ['87', 'Czech', '10.7', '0.139%', 'Indo-European', 'Balto-Slavic'], ['88', 'Taʽizzi-Adeni Arabic', '10.5', '0.136%', 'Afroasiatic', 'Semitic'], ['89', 'Uyghur', '10.4', '0.135%', 'Turkic', 'Karluk'], ['90', 'Eastern Min', '10.3', '0.134%', 'Sino-Tibetan', 'Sinitic'], ['91', 'Sylheti', '10.3', '0.134%', 'Indo-European', 'Indo-Aryan']]\n"
     ]
    }
   ],
   "source": [
    "tabla = driver.find_element(By.XPATH,'//*[@id=\"mw-content-text\"]/div[1]/table[1]/tbody')\n",
    "\n",
    "filas = tabla.find_elements(By.TAG_NAME, 'tr')\n",
    "\n",
    "data=[]\n",
    "\n",
    "for fila in filas:\n",
    "    elementos = fila.find_elements(By.TAG_NAME,'td')\n",
    "    t = []\n",
    "    for e in elementos:\n",
    "        t.append(e.text)\n",
    "    data.append(t)\n",
    "print(data)\n"
   ]
  },
  {
   "cell_type": "code",
   "execution_count": 234,
   "metadata": {},
   "outputs": [
    {
     "data": {
      "text/html": [
       "<div>\n",
       "<style scoped>\n",
       "    .dataframe tbody tr th:only-of-type {\n",
       "        vertical-align: middle;\n",
       "    }\n",
       "\n",
       "    .dataframe tbody tr th {\n",
       "        vertical-align: top;\n",
       "    }\n",
       "\n",
       "    .dataframe thead th {\n",
       "        text-align: right;\n",
       "    }\n",
       "</style>\n",
       "<table border=\"1\" class=\"dataframe\">\n",
       "  <thead>\n",
       "    <tr style=\"text-align: right;\">\n",
       "      <th></th>\n",
       "      <th>Rank</th>\n",
       "      <th>Language</th>\n",
       "      <th>Native Speakers\\n(millions)</th>\n",
       "      <th>Percentage\\nof world pop.\\n(March 2019)[10]</th>\n",
       "      <th>Language family</th>\n",
       "      <th>Branch</th>\n",
       "    </tr>\n",
       "  </thead>\n",
       "  <tbody>\n",
       "    <tr>\n",
       "      <th>0</th>\n",
       "      <td>1</td>\n",
       "      <td>Mandarin Chinese</td>\n",
       "      <td>929.0</td>\n",
       "      <td>11.922%</td>\n",
       "      <td>Sino-Tibetan</td>\n",
       "      <td>Sinitic</td>\n",
       "    </tr>\n",
       "    <tr>\n",
       "      <th>1</th>\n",
       "      <td>2</td>\n",
       "      <td>Spanish</td>\n",
       "      <td>474.7</td>\n",
       "      <td>5.994%</td>\n",
       "      <td>Indo-European</td>\n",
       "      <td>Romance</td>\n",
       "    </tr>\n",
       "    <tr>\n",
       "      <th>2</th>\n",
       "      <td>3</td>\n",
       "      <td>English</td>\n",
       "      <td>372.9</td>\n",
       "      <td>4.922%</td>\n",
       "      <td>Indo-European</td>\n",
       "      <td>Germanic</td>\n",
       "    </tr>\n",
       "    <tr>\n",
       "      <th>3</th>\n",
       "      <td>4</td>\n",
       "      <td>Hindi (Sanskritised Hindustani)[11]</td>\n",
       "      <td>343.9</td>\n",
       "      <td>4.429%</td>\n",
       "      <td>Indo-European</td>\n",
       "      <td>Indo-Aryan</td>\n",
       "    </tr>\n",
       "    <tr>\n",
       "      <th>4</th>\n",
       "      <td>5</td>\n",
       "      <td>Bengali</td>\n",
       "      <td>233.7</td>\n",
       "      <td>4.000%</td>\n",
       "      <td>Indo-European</td>\n",
       "      <td>Indo-Aryan</td>\n",
       "    </tr>\n",
       "    <tr>\n",
       "      <th>...</th>\n",
       "      <td>...</td>\n",
       "      <td>...</td>\n",
       "      <td>...</td>\n",
       "      <td>...</td>\n",
       "      <td>...</td>\n",
       "      <td>...</td>\n",
       "    </tr>\n",
       "    <tr>\n",
       "      <th>86</th>\n",
       "      <td>87</td>\n",
       "      <td>Czech</td>\n",
       "      <td>10.7</td>\n",
       "      <td>0.139%</td>\n",
       "      <td>Indo-European</td>\n",
       "      <td>Balto-Slavic</td>\n",
       "    </tr>\n",
       "    <tr>\n",
       "      <th>87</th>\n",
       "      <td>88</td>\n",
       "      <td>Taʽizzi-Adeni Arabic</td>\n",
       "      <td>10.5</td>\n",
       "      <td>0.136%</td>\n",
       "      <td>Afroasiatic</td>\n",
       "      <td>Semitic</td>\n",
       "    </tr>\n",
       "    <tr>\n",
       "      <th>88</th>\n",
       "      <td>89</td>\n",
       "      <td>Uyghur</td>\n",
       "      <td>10.4</td>\n",
       "      <td>0.135%</td>\n",
       "      <td>Turkic</td>\n",
       "      <td>Karluk</td>\n",
       "    </tr>\n",
       "    <tr>\n",
       "      <th>89</th>\n",
       "      <td>90</td>\n",
       "      <td>Eastern Min</td>\n",
       "      <td>10.3</td>\n",
       "      <td>0.134%</td>\n",
       "      <td>Sino-Tibetan</td>\n",
       "      <td>Sinitic</td>\n",
       "    </tr>\n",
       "    <tr>\n",
       "      <th>90</th>\n",
       "      <td>91</td>\n",
       "      <td>Sylheti</td>\n",
       "      <td>10.3</td>\n",
       "      <td>0.134%</td>\n",
       "      <td>Indo-European</td>\n",
       "      <td>Indo-Aryan</td>\n",
       "    </tr>\n",
       "  </tbody>\n",
       "</table>\n",
       "<p>91 rows × 6 columns</p>\n",
       "</div>"
      ],
      "text/plain": [
       "   Rank                             Language Native Speakers\\n(millions)  \\\n",
       "0     1                     Mandarin Chinese                       929.0   \n",
       "1     2                              Spanish                       474.7   \n",
       "2     3                              English                       372.9   \n",
       "3     4  Hindi (Sanskritised Hindustani)[11]                       343.9   \n",
       "4     5                              Bengali                       233.7   \n",
       "..  ...                                  ...                         ...   \n",
       "86   87                                Czech                        10.7   \n",
       "87   88                 Taʽizzi-Adeni Arabic                        10.5   \n",
       "88   89                               Uyghur                        10.4   \n",
       "89   90                          Eastern Min                        10.3   \n",
       "90   91                              Sylheti                        10.3   \n",
       "\n",
       "   Percentage\\nof world pop.\\n(March 2019)[10] Language family        Branch  \n",
       "0                                      11.922%    Sino-Tibetan       Sinitic  \n",
       "1                                       5.994%   Indo-European       Romance  \n",
       "2                                       4.922%   Indo-European      Germanic  \n",
       "3                                       4.429%   Indo-European    Indo-Aryan  \n",
       "4                                       4.000%   Indo-European    Indo-Aryan  \n",
       "..                                         ...             ...           ...  \n",
       "86                                      0.139%   Indo-European  Balto-Slavic  \n",
       "87                                      0.136%     Afroasiatic       Semitic  \n",
       "88                                      0.135%          Turkic        Karluk  \n",
       "89                                      0.134%    Sino-Tibetan       Sinitic  \n",
       "90                                      0.134%   Indo-European    Indo-Aryan  \n",
       "\n",
       "[91 rows x 6 columns]"
      ]
     },
     "execution_count": 234,
     "metadata": {},
     "output_type": "execute_result"
    }
   ],
   "source": [
    "tabla=pd.DataFrame(data, columns=titular)\n",
    "tabla"
   ]
  },
  {
   "cell_type": "code",
   "execution_count": null,
   "metadata": {},
   "outputs": [],
   "source": []
  },
  {
   "cell_type": "code",
   "execution_count": null,
   "metadata": {},
   "outputs": [],
   "source": []
  },
  {
   "cell_type": "code",
   "execution_count": null,
   "metadata": {},
   "outputs": [],
   "source": []
  },
  {
   "cell_type": "markdown",
   "metadata": {},
   "source": [
    "### BONUS QUESTIONS"
   ]
  },
  {
   "cell_type": "markdown",
   "metadata": {},
   "source": [
    "#### Scrape a certain number of tweets of a given Twitter account."
   ]
  },
  {
   "cell_type": "code",
   "execution_count": null,
   "metadata": {},
   "outputs": [],
   "source": [
    "# This is the url you will scrape in this exercise \n",
    "# You will need to add the account credentials to this url\n",
    "url = 'https://twitter.com/'"
   ]
  },
  {
   "cell_type": "code",
   "execution_count": null,
   "metadata": {},
   "outputs": [],
   "source": [
    "# your code"
   ]
  },
  {
   "cell_type": "markdown",
   "metadata": {},
   "source": [
    "#### IMDB's Top 250 data (movie name, Initial release, director name and stars) as a pandas dataframe"
   ]
  },
  {
   "cell_type": "code",
   "execution_count": null,
   "metadata": {},
   "outputs": [],
   "source": [
    "# This is the url you will scrape in this exercise \n",
    "url = 'https://www.imdb.com/chart/top'"
   ]
  },
  {
   "cell_type": "code",
   "execution_count": null,
   "metadata": {},
   "outputs": [],
   "source": [
    "# your code"
   ]
  },
  {
   "cell_type": "markdown",
   "metadata": {},
   "source": [
    "#### Movie name, year and a brief summary of the top 10 random movies (IMDB) as a pandas dataframe."
   ]
  },
  {
   "cell_type": "code",
   "execution_count": null,
   "metadata": {},
   "outputs": [],
   "source": [
    "#This is the url you will scrape in this exercise\n",
    "url = 'http://www.imdb.com/chart/top'"
   ]
  },
  {
   "cell_type": "code",
   "execution_count": null,
   "metadata": {},
   "outputs": [],
   "source": [
    "#your code"
   ]
  },
  {
   "cell_type": "markdown",
   "metadata": {},
   "source": [
    "#### Find the live weather report (temperature, wind speed, description and weather) of a given city."
   ]
  },
  {
   "cell_type": "code",
   "execution_count": null,
   "metadata": {},
   "outputs": [],
   "source": [
    "#https://openweathermap.org/current\n",
    "city = city=input('Enter the city:')\n",
    "url = 'http://api.openweathermap.org/data/2.5/weather?'+'q='+city+'&APPID=b35975e18dc93725acb092f7272cc6b8&units=metric'"
   ]
  },
  {
   "cell_type": "code",
   "execution_count": null,
   "metadata": {},
   "outputs": [],
   "source": [
    "# your code"
   ]
  },
  {
   "cell_type": "markdown",
   "metadata": {},
   "source": [
    "#### Book name,price and stock availability as a pandas dataframe."
   ]
  },
  {
   "cell_type": "code",
   "execution_count": null,
   "metadata": {},
   "outputs": [],
   "source": [
    "# This is the url you will scrape in this exercise. \n",
    "# It is a fictional bookstore created to be scraped. \n",
    "url = 'http://books.toscrape.com/'"
   ]
  },
  {
   "cell_type": "code",
   "execution_count": null,
   "metadata": {},
   "outputs": [],
   "source": [
    "#your code"
   ]
  }
 ],
 "metadata": {
  "kernelspec": {
   "display_name": "Python 3 (ipykernel)",
   "language": "python",
   "name": "python3"
  },
  "language_info": {
   "codemirror_mode": {
    "name": "ipython",
    "version": 3
   },
   "file_extension": ".py",
   "mimetype": "text/x-python",
   "name": "python",
   "nbconvert_exporter": "python",
   "pygments_lexer": "ipython3",
   "version": "3.9.12"
  }
 },
 "nbformat": 4,
 "nbformat_minor": 2
}

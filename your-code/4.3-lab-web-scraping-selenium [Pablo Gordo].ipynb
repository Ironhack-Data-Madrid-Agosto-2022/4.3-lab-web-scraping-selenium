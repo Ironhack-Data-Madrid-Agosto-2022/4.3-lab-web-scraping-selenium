{
 "cells": [
  {
   "cell_type": "markdown",
   "metadata": {},
   "source": [
    "# Web Scraping Lab\n",
    "\n",
    "You will find in this notebook some scrapy exercises to practise your scraping skills.\n",
    "\n",
    "**Tips:**\n",
    "\n",
    "- Check the response status code for each request to ensure you have obtained the intended contennt.\n",
    "- Print the response text in each request to understand the kind of info you are getting and its format.\n",
    "- Check for patterns in the response text to extract the data/info requested in each question.\n",
    "- Visit each url and take a look at its source through Chrome DevTools. You'll need to identify the html tags, special class names etc. used for the html content you are expected to extract.\n",
    "\n",
    "----------\n",
    "\n",
    " Verifique el código de estado de respuesta para cada solicitud para asegurarse de haber obtenido el contenido previsto. Imprima el texto de respuesta en cada solicitud para comprender el tipo de información que está obteniendo y su formato. Verifique los patrones en el texto de respuesta para extraer los datos / información solicitados en cada pregunta. Visite cada URL y eche un vistazo a su fuente a través de Chrome DevTools. Deberá identificar las etiquetas html, nombres de clase especiales, etc., utilizados para el contenido html que se espera que extraiga."
   ]
  },
  {
   "cell_type": "markdown",
   "metadata": {},
   "source": [
    "- [Selenium Doc](https://www.selenium.dev/documentation/)\n",
    "- [Requests library](http://docs.python-requests.org/en/master/#the-user-guide) documentation \n",
    "- [Urllib](https://docs.python.org/3/library/urllib.html#module-urllib)\n",
    "- [re lib](https://docs.python.org/3/library/re.html)\n",
    "- [lxml lib](https://lxml.de/)\n",
    "- [Scrapy](https://scrapy.org/)\n",
    "- [List of HTTP status codes](https://en.wikipedia.org/wiki/List_of_HTTP_status_codes)\n",
    "- [HTML basics](http://www.simplehtmlguide.com/cheatsheet.php)\n",
    "- [CSS basics](https://www.cssbasics.com/#page_start)"
   ]
  },
  {
   "cell_type": "markdown",
   "metadata": {},
   "source": [
    "#### Below are the libraries and modules you may need. `Selenium` and `pandas` are imported for you."
   ]
  },
  {
   "cell_type": "code",
   "execution_count": 1,
   "metadata": {},
   "outputs": [],
   "source": [
    "import pandas as pd\n",
    "from selenium.webdriver.chrome.options import Options\n",
    "from webdriver_manager.chrome import ChromeDriverManager\n",
    "import time\n",
    "import warnings\n",
    "warnings.filterwarnings('ignore')"
   ]
  },
  {
   "cell_type": "markdown",
   "metadata": {},
   "source": [
    "#### Enable the options you may need. In the next cell you have an example of them but you can choose to use them or not."
   ]
  },
  {
   "cell_type": "code",
   "execution_count": 2,
   "metadata": {},
   "outputs": [],
   "source": [
    "#driver configuration\n",
    "opciones=Options()\n",
    "\n",
    "opciones.add_experimental_option('excludeSwitches', ['enable-automation'])\n",
    "opciones.add_experimental_option('useAutomationExtension', False)\n",
    "opciones.headless=False    # si True, no aperece la ventana (headless=no visible)\n",
    "opciones.add_argument('--start-maximized')         # comienza maximizado\n",
    "opciones.add_argument('user-data-dir=selenium')    # mantiene las cookies\n",
    "#opciones.add_extension('driver_folder/adblock.crx')       # adblocker\n",
    "#opciones.add_argument('--incognito')"
   ]
  },
  {
   "cell_type": "code",
   "execution_count": 3,
   "metadata": {},
   "outputs": [],
   "source": [
    "from selenium import webdriver"
   ]
  },
  {
   "cell_type": "code",
   "execution_count": 4,
   "metadata": {},
   "outputs": [],
   "source": [
    "driver = \"/Users/pgr/Documents/GitHub/4.3-lab-web-scraping-selenium/chromedriver\" #remember substitute this for your driver path\n",
    "driver = webdriver.Chrome(driver,options = opciones)"
   ]
  },
  {
   "cell_type": "markdown",
   "metadata": {},
   "source": [
    "#### Download, parse, and print the content from the Trending Developers page from GitHub:\n",
    "\n",
    " Descargue, analice e imprima el contenido de la página Desarrolladores de tendencias de GitHub:"
   ]
  },
  {
   "cell_type": "code",
   "execution_count": 5,
   "metadata": {},
   "outputs": [],
   "source": [
    "# This is the url you will scrape in this exercise\n",
    "url = 'https://github.com/trending/developers'"
   ]
  },
  {
   "cell_type": "code",
   "execution_count": 6,
   "metadata": {},
   "outputs": [],
   "source": [
    "driver.get(url)"
   ]
  },
  {
   "cell_type": "markdown",
   "metadata": {},
   "source": [
    "#### Display the names of the trending developers retrieved in the previous step.\n",
    "\n",
    "Your output should be a Python list of developer names. Each name should not contain any html tag.\n",
    "\n",
    "**Instructions:**\n",
    "\n",
    "1. Find out the html tag and class names used for the developer names.\n",
    "\n",
    "1. Use string manipulation techniques to replace whitespaces and linebreaks (i.e. `\\n`) in the *text* of each html element. Use a list to store the clean names.\n",
    "\n",
    "1. Print the list of names.\n",
    "\n",
    "Your output should look like below:\n",
    "\n",
    "```\n",
    " ```\n",
    " \n",
    " _____\n",
    " \n",
    "Muestre los nombres de los desarrolladores de tendencias recuperados en el paso anterior. \n",
    "Su salida debe ser una lista de Python de nombres de desarrolladores. \n",
    "Cada nombre no debe contener ninguna etiqueta html.  \n",
    "Instrucciones: Descubra la etiqueta html y los nombres de clase utilizados para los nombres de desarrolladores.  Use técnicas de manipulación de cadenas para reemplazar espacios en blanco y linebreaks ( i.e. \\ n ) en el texto de cada elemento html. \n",
    "Use una lista para almacenar los nombres limpios.  \n",
    "Imprima la lista de nombres.  Su salida debe verse como a continuación:"
   ]
  },
  {
   "cell_type": "code",
   "execution_count": 9,
   "metadata": {},
   "outputs": [
    {
     "data": {
      "text/plain": [
       "'https://github.com/trending/developers'"
      ]
     },
     "execution_count": 9,
     "metadata": {},
     "output_type": "execute_result"
    }
   ],
   "source": [
    "driver.current_url"
   ]
  },
  {
   "cell_type": "code",
   "execution_count": 12,
   "metadata": {},
   "outputs": [],
   "source": [
    "from selenium.webdriver.common.by import By"
   ]
  },
  {
   "cell_type": "code",
   "execution_count": 123,
   "metadata": {},
   "outputs": [],
   "source": [
    "caja = driver.find_elements(By.XPATH, '//*[@id=\"js-pjax-container\"]/div[3]/div')\n"
   ]
  },
  {
   "cell_type": "code",
   "execution_count": 124,
   "metadata": {
    "collapsed": true
   },
   "outputs": [
    {
     "data": {
      "text/plain": [
       "[<selenium.webdriver.remote.webelement.WebElement (session=\"369a696eba64bf9feac0f839a27683ff\", element=\"f0842726-ea15-455d-acec-62b8e98fce82\")>,\n",
       " <selenium.webdriver.remote.webelement.WebElement (session=\"369a696eba64bf9feac0f839a27683ff\", element=\"7a94c075-1695-4678-90f7-b2be5c60e247\")>,\n",
       " <selenium.webdriver.remote.webelement.WebElement (session=\"369a696eba64bf9feac0f839a27683ff\", element=\"c01c5ed5-b56c-4b8a-a3cb-10e3d033eb47\")>,\n",
       " <selenium.webdriver.remote.webelement.WebElement (session=\"369a696eba64bf9feac0f839a27683ff\", element=\"0e787424-a3da-49b0-8205-88de5c90a540\")>,\n",
       " <selenium.webdriver.remote.webelement.WebElement (session=\"369a696eba64bf9feac0f839a27683ff\", element=\"cd165b18-ae6c-4c5a-a8ec-e99e1f8333aa\")>,\n",
       " <selenium.webdriver.remote.webelement.WebElement (session=\"369a696eba64bf9feac0f839a27683ff\", element=\"b8192cc7-e5e5-4c3c-bed0-cecf5ab963f7\")>,\n",
       " <selenium.webdriver.remote.webelement.WebElement (session=\"369a696eba64bf9feac0f839a27683ff\", element=\"c83345fc-4061-4c1b-8b04-0e0504a2c2b0\")>,\n",
       " <selenium.webdriver.remote.webelement.WebElement (session=\"369a696eba64bf9feac0f839a27683ff\", element=\"52e5d227-15e5-47f5-8684-a29d52dc81ce\")>,\n",
       " <selenium.webdriver.remote.webelement.WebElement (session=\"369a696eba64bf9feac0f839a27683ff\", element=\"1108b3a5-bebe-4b79-9fc8-39a6ea72db95\")>,\n",
       " <selenium.webdriver.remote.webelement.WebElement (session=\"369a696eba64bf9feac0f839a27683ff\", element=\"20418f65-193c-4733-96f8-b30f8cb8d8b1\")>,\n",
       " <selenium.webdriver.remote.webelement.WebElement (session=\"369a696eba64bf9feac0f839a27683ff\", element=\"b3275add-233f-4788-817a-25fe10f7191b\")>,\n",
       " <selenium.webdriver.remote.webelement.WebElement (session=\"369a696eba64bf9feac0f839a27683ff\", element=\"cd4a47c5-147d-468c-98b0-c661ab5615c7\")>,\n",
       " <selenium.webdriver.remote.webelement.WebElement (session=\"369a696eba64bf9feac0f839a27683ff\", element=\"e8feb362-24d3-4343-a19f-5641dc911d6e\")>,\n",
       " <selenium.webdriver.remote.webelement.WebElement (session=\"369a696eba64bf9feac0f839a27683ff\", element=\"3a37841a-b1cb-44b8-8b08-a1af3ffe9e75\")>,\n",
       " <selenium.webdriver.remote.webelement.WebElement (session=\"369a696eba64bf9feac0f839a27683ff\", element=\"d2c30d6a-b99d-4977-af72-b60e4fd1cae5\")>,\n",
       " <selenium.webdriver.remote.webelement.WebElement (session=\"369a696eba64bf9feac0f839a27683ff\", element=\"0b3f6ed9-21c1-4e4e-b83a-de96b857edf7\")>,\n",
       " <selenium.webdriver.remote.webelement.WebElement (session=\"369a696eba64bf9feac0f839a27683ff\", element=\"c4db5c1e-7b2e-4b25-885f-8e977d3f021a\")>,\n",
       " <selenium.webdriver.remote.webelement.WebElement (session=\"369a696eba64bf9feac0f839a27683ff\", element=\"3e23e502-667e-4145-b1c8-b6617ef954f2\")>,\n",
       " <selenium.webdriver.remote.webelement.WebElement (session=\"369a696eba64bf9feac0f839a27683ff\", element=\"8a82bcb6-8b13-4f0f-8add-fb49a294bb85\")>,\n",
       " <selenium.webdriver.remote.webelement.WebElement (session=\"369a696eba64bf9feac0f839a27683ff\", element=\"4a32b4d1-f7bc-4d46-9129-d854b50534ac\")>,\n",
       " <selenium.webdriver.remote.webelement.WebElement (session=\"369a696eba64bf9feac0f839a27683ff\", element=\"8474e0ac-5486-4fe0-ad8c-8f027fa28977\")>,\n",
       " <selenium.webdriver.remote.webelement.WebElement (session=\"369a696eba64bf9feac0f839a27683ff\", element=\"202aca09-252f-4150-add2-b764e92f8797\")>,\n",
       " <selenium.webdriver.remote.webelement.WebElement (session=\"369a696eba64bf9feac0f839a27683ff\", element=\"5b6bb47a-9168-4781-af9d-2363e7e062b6\")>,\n",
       " <selenium.webdriver.remote.webelement.WebElement (session=\"369a696eba64bf9feac0f839a27683ff\", element=\"797c6f12-5632-4493-bb56-d39c6fb781ec\")>,\n",
       " <selenium.webdriver.remote.webelement.WebElement (session=\"369a696eba64bf9feac0f839a27683ff\", element=\"0ca8db44-5c01-4302-8b1a-390ecb368e74\")>,\n",
       " <selenium.webdriver.remote.webelement.WebElement (session=\"369a696eba64bf9feac0f839a27683ff\", element=\"76fb1d86-5782-4178-aa1b-67009c4c418f\")>,\n",
       " <selenium.webdriver.remote.webelement.WebElement (session=\"369a696eba64bf9feac0f839a27683ff\", element=\"06d0c170-4bfc-4cae-a2a5-867ec2628097\")>,\n",
       " <selenium.webdriver.remote.webelement.WebElement (session=\"369a696eba64bf9feac0f839a27683ff\", element=\"76f20e98-acfe-4b8a-9555-1f76c387b7b1\")>,\n",
       " <selenium.webdriver.remote.webelement.WebElement (session=\"369a696eba64bf9feac0f839a27683ff\", element=\"005e0ebb-5683-46b1-a975-3951bd1bfed0\")>,\n",
       " <selenium.webdriver.remote.webelement.WebElement (session=\"369a696eba64bf9feac0f839a27683ff\", element=\"b811e7e3-efa2-4379-977b-82e44372567c\")>,\n",
       " <selenium.webdriver.remote.webelement.WebElement (session=\"369a696eba64bf9feac0f839a27683ff\", element=\"29d0bde3-c07b-4e2b-be9d-1bee5c757cd8\")>,\n",
       " <selenium.webdriver.remote.webelement.WebElement (session=\"369a696eba64bf9feac0f839a27683ff\", element=\"d776e7ac-daa8-486f-9598-8e2507880e46\")>,\n",
       " <selenium.webdriver.remote.webelement.WebElement (session=\"369a696eba64bf9feac0f839a27683ff\", element=\"761e8d40-b9ed-4fff-98e1-30d242425b68\")>,\n",
       " <selenium.webdriver.remote.webelement.WebElement (session=\"369a696eba64bf9feac0f839a27683ff\", element=\"9bf7f1db-5557-4e63-98eb-4a131b902167\")>,\n",
       " <selenium.webdriver.remote.webelement.WebElement (session=\"369a696eba64bf9feac0f839a27683ff\", element=\"61983f62-928e-4e33-a087-10f92b96745c\")>,\n",
       " <selenium.webdriver.remote.webelement.WebElement (session=\"369a696eba64bf9feac0f839a27683ff\", element=\"23a45329-8033-4f8d-9a20-ebd098fa1945\")>,\n",
       " <selenium.webdriver.remote.webelement.WebElement (session=\"369a696eba64bf9feac0f839a27683ff\", element=\"c997aa7a-8624-45c0-981b-244c130633d4\")>,\n",
       " <selenium.webdriver.remote.webelement.WebElement (session=\"369a696eba64bf9feac0f839a27683ff\", element=\"da5c2850-323d-40db-a60d-b1dd7c3cea8e\")>,\n",
       " <selenium.webdriver.remote.webelement.WebElement (session=\"369a696eba64bf9feac0f839a27683ff\", element=\"c0bd50b4-92bf-4484-a23c-d73d79f91cda\")>,\n",
       " <selenium.webdriver.remote.webelement.WebElement (session=\"369a696eba64bf9feac0f839a27683ff\", element=\"ee8bf1b0-5d02-4964-a61a-dd22936a35b7\")>,\n",
       " <selenium.webdriver.remote.webelement.WebElement (session=\"369a696eba64bf9feac0f839a27683ff\", element=\"c185feac-fea1-461c-8816-6bbe39005103\")>,\n",
       " <selenium.webdriver.remote.webelement.WebElement (session=\"369a696eba64bf9feac0f839a27683ff\", element=\"f54edbd1-5e7c-4379-ab47-60e7dbbb38ea\")>,\n",
       " <selenium.webdriver.remote.webelement.WebElement (session=\"369a696eba64bf9feac0f839a27683ff\", element=\"ee1ea4d8-2785-4704-b5e2-a27e58adee57\")>,\n",
       " <selenium.webdriver.remote.webelement.WebElement (session=\"369a696eba64bf9feac0f839a27683ff\", element=\"9bd21370-42a4-4ac9-8242-51e8738df97b\")>,\n",
       " <selenium.webdriver.remote.webelement.WebElement (session=\"369a696eba64bf9feac0f839a27683ff\", element=\"f6a39d31-88e0-40b3-84de-24dcae04894c\")>,\n",
       " <selenium.webdriver.remote.webelement.WebElement (session=\"369a696eba64bf9feac0f839a27683ff\", element=\"87f7b337-c9e8-4cf1-b9bb-306f1963690c\")>,\n",
       " <selenium.webdriver.remote.webelement.WebElement (session=\"369a696eba64bf9feac0f839a27683ff\", element=\"5457f966-7726-4da1-ac96-d883a7b56f5e\")>,\n",
       " <selenium.webdriver.remote.webelement.WebElement (session=\"369a696eba64bf9feac0f839a27683ff\", element=\"1f5d168d-3b32-4a3f-b950-5218acfbbf99\")>,\n",
       " <selenium.webdriver.remote.webelement.WebElement (session=\"369a696eba64bf9feac0f839a27683ff\", element=\"3cba65b0-fc79-4ce2-b190-23a6125984b5\")>,\n",
       " <selenium.webdriver.remote.webelement.WebElement (session=\"369a696eba64bf9feac0f839a27683ff\", element=\"fc17da8b-d6f6-443a-8dce-0f2dbd324aae\")>]"
      ]
     },
     "execution_count": 124,
     "metadata": {},
     "output_type": "execute_result"
    }
   ],
   "source": [
    "nombres = caja[0].find_elements(By.CLASS_NAME, 'col-md-6')\n",
    "nombres"
   ]
  },
  {
   "cell_type": "code",
   "execution_count": 125,
   "metadata": {
    "collapsed": true
   },
   "outputs": [
    {
     "data": {
      "text/plain": [
       "['Azure SDK Bot @azure-sdk',\n",
       " 'Joshie @Joshua-Ashton',\n",
       " 'Ariel Mashraki @a8m',\n",
       " 'Tom Payne @twpayne',\n",
       " 'RangiLyu',\n",
       " 'Vojtech Miksu @tajo',\n",
       " 'MichaIng',\n",
       " 'Jocelyn Badgley @Twipped',\n",
       " 'Bas Nijholt @basnijholt',\n",
       " 'Steve Macenski @SteveMacenski',\n",
       " 'Ben Manes @ben-manes',\n",
       " 'Nathan Shively-Sanders @sandersn',\n",
       " 'Matthew Leibowitz @mattleibow',\n",
       " 'Tim MacDonald @timacdonald',\n",
       " 'Dunsin @Dun-sin',\n",
       " 'Sunil Pai @threepointone',\n",
       " 'Costa Huang @vwxyzjn',\n",
       " 'Edward Z. Yang @ezyang',\n",
       " 'Geshan Manandhar @geshan',\n",
       " 'Bram Gerritsen @bramstroker',\n",
       " 'James Lamb @jameslamb',\n",
       " 'Nolan Lawson @nolanlawson',\n",
       " 'jdhao @jdhao',\n",
       " 'J. Nick Koston @bdraco',\n",
       " 'Alex Li @AlexV525']"
      ]
     },
     "execution_count": 125,
     "metadata": {},
     "output_type": "execute_result"
    }
   ],
   "source": [
    "filtro_nombres = []\n",
    "\n",
    "for e in nombres[::2]:\n",
    "    filtro_nombres.append(e.text.strip().replace('\\n',' @'))\n",
    "\n",
    "filtro_nombres\n"
   ]
  },
  {
   "cell_type": "markdown",
   "metadata": {},
   "source": [
    "#### Display the trending Python repositories in GitHub\n",
    "\n",
    "The steps to solve this problem is similar to the previous one except that you need to find out the repository names instead of developer names.\n",
    "\n",
    "____\n",
    "\n",
    " Los pasos para resolver este problema son similares a los anteriores, excepto que necesita encontrar los nombres de repositorio en lugar de los nombres de desarrollador."
   ]
  },
  {
   "cell_type": "code",
   "execution_count": 127,
   "metadata": {},
   "outputs": [],
   "source": [
    "# This is the url you will scrape in this exercise\n",
    "url = 'https://github.com/trending/python?since=daily'"
   ]
  },
  {
   "cell_type": "code",
   "execution_count": 128,
   "metadata": {},
   "outputs": [
    {
     "data": {
      "text/plain": [
       "'https://github.com/trending/python?since=daily'"
      ]
     },
     "execution_count": 128,
     "metadata": {},
     "output_type": "execute_result"
    }
   ],
   "source": [
    "driver.get(url)\n",
    "driver.current_url"
   ]
  },
  {
   "cell_type": "code",
   "execution_count": 154,
   "metadata": {
    "collapsed": true
   },
   "outputs": [
    {
     "data": {
      "text/plain": [
       "[['stable_diffusion.openvino'],\n",
       " ['sd-enable-textual-inversion'],\n",
       " ['Python-100-Days'],\n",
       " ['stable-diffusion-webui'],\n",
       " ['video2x'],\n",
       " ['SMSBoom'],\n",
       " ['ntchat'],\n",
       " ['Github-Ranking'],\n",
       " ['azure-cli'],\n",
       " ['tutorials'],\n",
       " ['sqlmodel'],\n",
       " ['poetry'],\n",
       " ['EasyCV'],\n",
       " ['HelloGitHub'],\n",
       " ['stable-diffusion-webui'],\n",
       " ['ML-From-Scratch'],\n",
       " ['gradio'],\n",
       " ['dgl'],\n",
       " ['Redcloud'],\n",
       " ['Unicorn'],\n",
       " ['dbt-utils'],\n",
       " ['StablenderDiffusion'],\n",
       " ['GFPGAN'],\n",
       " ['wandb'],\n",
       " ['PaddleMM']]"
      ]
     },
     "execution_count": 154,
     "metadata": {},
     "output_type": "execute_result"
    }
   ],
   "source": [
    "caja = driver.find_elements(By.TAG_NAME, 'h1')\n",
    "\n",
    "nombre = []\n",
    "for e in caja[1:]:\n",
    "    nombre.append(e.text.split(' / ')[1:])\n",
    "\n",
    "nombre"
   ]
  },
  {
   "cell_type": "markdown",
   "metadata": {},
   "source": [
    "#### Display all the image links from Walt Disney wikipedia page"
   ]
  },
  {
   "cell_type": "code",
   "execution_count": 156,
   "metadata": {},
   "outputs": [],
   "source": [
    "# This is the url you will scrape in this exercise\n",
    "url = 'https://en.wikipedia.org/wiki/Walt_Disney'"
   ]
  },
  {
   "cell_type": "code",
   "execution_count": 157,
   "metadata": {},
   "outputs": [
    {
     "data": {
      "text/plain": [
       "'https://en.wikipedia.org/wiki/Walt_Disney'"
      ]
     },
     "execution_count": 157,
     "metadata": {},
     "output_type": "execute_result"
    }
   ],
   "source": [
    "driver.get(url)\n",
    "driver.current_url"
   ]
  },
  {
   "cell_type": "code",
   "execution_count": 173,
   "metadata": {
    "collapsed": true
   },
   "outputs": [
    {
     "data": {
      "text/plain": [
       "['https://en.wikipedia.org/wiki/File:Walt_Disney_1946.JPG',\n",
       " 'https://en.wikipedia.org/wiki/File:Walt_Disney_1942_signature.svg',\n",
       " 'https://en.wikipedia.org/wiki/File:Walt_Disney_Birthplace_Exterior_Hermosa_Chicago_Illinois.jpg',\n",
       " 'https://en.wikipedia.org/wiki/File:Walt_Disney_envelope_ca._1921.jpg',\n",
       " 'https://en.wikipedia.org/wiki/File:Trolley_Troubles_poster.jpg',\n",
       " 'https://en.wikipedia.org/wiki/File:Steamboat-willie.jpg',\n",
       " 'https://en.wikipedia.org/wiki/File:Walt_Disney_1935.jpg',\n",
       " 'https://en.wikipedia.org/wiki/File:Walt_Disney_Snow_white_1937_trailer_screenshot_(13).jpg',\n",
       " 'https://en.wikipedia.org/wiki/File:Disney_drawing_goofy.jpg',\n",
       " 'https://en.wikipedia.org/wiki/File:WaltDisneyplansDisneylandDec1954.jpg',\n",
       " 'https://en.wikipedia.org/wiki/File:Walt_disney_portrait_right.jpg',\n",
       " 'https://en.wikipedia.org/wiki/File:DisneySchiphol1951.jpg',\n",
       " 'https://en.wikipedia.org/wiki/File:Walt_Disney_Grave.JPG',\n",
       " 'https://en.wikipedia.org/wiki/File:Roy_O._Disney_with_Company_at_Press_Conference.jpg',\n",
       " 'https://en.wikipedia.org/wiki/File:Disney_Oscar_1953_(cropped).jpg',\n",
       " 'https://en.wikipedia.org/wiki/File:Disney1968.jpg',\n",
       " 'https://en.wikipedia.org/wiki/File:Disneyland_Resort_logo.svg',\n",
       " 'https://en.wikipedia.org/wiki/File:Animation_disc.svg',\n",
       " 'https://en.wikipedia.org/wiki/File:Magic_Kingdom_castle.jpg',\n",
       " 'https://en.wikipedia.org/wiki/File:Blank_television_set.svg']"
      ]
     },
     "execution_count": 173,
     "metadata": {},
     "output_type": "execute_result"
    }
   ],
   "source": [
    "caja = driver.find_elements(By.CLASS_NAME, 'image')\n",
    "caja[5].get_attribute('href')\n",
    "\n",
    "imagen = []\n",
    "\n",
    "for e in caja:\n",
    "    imagen.append(e.get_attribute('href'))\n",
    "\n",
    "imagen"
   ]
  },
  {
   "cell_type": "markdown",
   "metadata": {},
   "source": [
    "#### Retrieve an arbitary Wikipedia page of \"Python\" and create a list of links on that page"
   ]
  },
  {
   "cell_type": "code",
   "execution_count": 174,
   "metadata": {},
   "outputs": [],
   "source": [
    "# This is the url you will scrape in this exercise\n",
    "url ='https://en.wikipedia.org/wiki/Python' "
   ]
  },
  {
   "cell_type": "code",
   "execution_count": 175,
   "metadata": {},
   "outputs": [
    {
     "data": {
      "text/plain": [
       "'https://en.wikipedia.org/wiki/Python'"
      ]
     },
     "execution_count": 175,
     "metadata": {},
     "output_type": "execute_result"
    }
   ],
   "source": [
    "driver.get(url)\n",
    "driver.current_url"
   ]
  },
  {
   "cell_type": "code",
   "execution_count": 198,
   "metadata": {
    "collapsed": true
   },
   "outputs": [
    {
     "data": {
      "text/plain": [
       "['https://en.wikipedia.org/wiki/Python#mw-head',\n",
       " 'https://en.wikipedia.org/wiki/Python#searchInput',\n",
       " 'https://en.wiktionary.org/wiki/Python',\n",
       " 'https://en.wiktionary.org/wiki/python',\n",
       " 'https://en.wikipedia.org/wiki/Python#Snakes',\n",
       " 'https://en.wikipedia.org/wiki/Python#Computing',\n",
       " 'https://en.wikipedia.org/wiki/Python#People',\n",
       " 'https://en.wikipedia.org/wiki/Python#Roller_coasters',\n",
       " 'https://en.wikipedia.org/wiki/Python#Vehicles',\n",
       " 'https://en.wikipedia.org/wiki/Python#Weaponry',\n",
       " 'https://en.wikipedia.org/wiki/Python#Other_uses',\n",
       " 'https://en.wikipedia.org/wiki/Python#See_also',\n",
       " 'https://en.wikipedia.org/w/index.php?title=Python&action=edit&section=1&editintro=Template:Disambig_editintro',\n",
       " 'https://en.wikipedia.org/wiki/Pythonidae',\n",
       " 'https://en.wikipedia.org/wiki/Python_(genus)',\n",
       " 'https://en.wikipedia.org/wiki/Python_(mythology)',\n",
       " 'https://en.wikipedia.org/w/index.php?title=Python&action=edit&section=2&editintro=Template:Disambig_editintro',\n",
       " 'https://en.wikipedia.org/wiki/Python_(programming_language)',\n",
       " 'https://en.wikipedia.org/wiki/CMU_Common_Lisp',\n",
       " 'https://en.wikipedia.org/wiki/PERQ#PERQ_3',\n",
       " 'https://en.wikipedia.org/w/index.php?title=Python&action=edit&section=3&editintro=Template:Disambig_editintro',\n",
       " 'https://en.wikipedia.org/wiki/Python_of_Aenus',\n",
       " 'https://en.wikipedia.org/wiki/Python_(painter)',\n",
       " 'https://en.wikipedia.org/wiki/Python_of_Byzantium',\n",
       " 'https://en.wikipedia.org/wiki/Python_of_Catana',\n",
       " 'https://en.wikipedia.org/wiki/Python_Anghelo',\n",
       " 'https://en.wikipedia.org/w/index.php?title=Python&action=edit&section=4&editintro=Template:Disambig_editintro',\n",
       " 'https://en.wikipedia.org/wiki/Python_(Efteling)',\n",
       " 'https://en.wikipedia.org/wiki/Python_(Busch_Gardens_Tampa_Bay)',\n",
       " 'https://en.wikipedia.org/wiki/Python_(Coney_Island,_Cincinnati,_Ohio)',\n",
       " 'https://en.wikipedia.org/w/index.php?title=Python&action=edit&section=5&editintro=Template:Disambig_editintro',\n",
       " 'https://en.wikipedia.org/wiki/Python_(automobile_maker)',\n",
       " 'https://en.wikipedia.org/wiki/Python_(Ford_prototype)',\n",
       " 'https://en.wikipedia.org/w/index.php?title=Python&action=edit&section=6&editintro=Template:Disambig_editintro',\n",
       " 'https://en.wikipedia.org/wiki/Python_(missile)',\n",
       " 'https://en.wikipedia.org/wiki/Python_(nuclear_primary)',\n",
       " 'https://en.wikipedia.org/wiki/Colt_Python',\n",
       " 'https://en.wikipedia.org/w/index.php?title=Python&action=edit&section=7&editintro=Template:Disambig_editintro',\n",
       " 'https://en.wikipedia.org/wiki/Python_(codename)',\n",
       " 'https://en.wikipedia.org/wiki/Python_(film)',\n",
       " 'https://en.wikipedia.org/wiki/Monty_Python',\n",
       " 'https://en.wikipedia.org/wiki/Python_(Monty)_Pictures',\n",
       " 'https://en.wikipedia.org/wiki/Timon_of_Phlius',\n",
       " 'https://en.wikipedia.org/w/index.php?title=Python&action=edit&section=8&editintro=Template:Disambig_editintro',\n",
       " 'https://en.wikipedia.org/wiki/Cython',\n",
       " 'https://en.wikipedia.org/wiki/Pyton',\n",
       " 'https://en.wikipedia.org/wiki/Pithon',\n",
       " 'https://en.wikipedia.org/wiki/File:Disambig_gray.svg',\n",
       " 'https://en.wikipedia.org/wiki/Help:Disambiguation',\n",
       " 'https://en.wikipedia.org/w/index.php?title=Special:WhatLinksHere/Python&namespace=0',\n",
       " 'https://en.wikipedia.org/w/index.php?title=Python&oldid=1104201971',\n",
       " 'https://en.wikipedia.org/wiki/Help:Category',\n",
       " 'https://en.wikipedia.org/wiki/Category:Disambiguation_pages',\n",
       " 'https://en.wikipedia.org/wiki/Category:Human_name_disambiguation_pages',\n",
       " 'https://en.wikipedia.org/wiki/Category:Disambiguation_pages_with_given-name-holder_lists',\n",
       " 'https://en.wikipedia.org/wiki/Category:Disambiguation_pages_with_short_descriptions',\n",
       " 'https://en.wikipedia.org/wiki/Category:Short_description_is_different_from_Wikidata',\n",
       " 'https://en.wikipedia.org/wiki/Category:All_article_disambiguation_pages',\n",
       " 'https://en.wikipedia.org/wiki/Category:All_disambiguation_pages',\n",
       " 'https://en.wikipedia.org/wiki/Category:Animal_common_name_disambiguation_pages',\n",
       " 'https://en.wikipedia.org/wiki/Special:MyTalk',\n",
       " 'https://en.wikipedia.org/wiki/Special:MyContributions',\n",
       " 'https://en.wikipedia.org/w/index.php?title=Special:CreateAccount&returnto=Python',\n",
       " 'https://en.wikipedia.org/w/index.php?title=Special:UserLogin&returnto=Python',\n",
       " 'https://en.wikipedia.org/wiki/Python',\n",
       " 'https://en.wikipedia.org/wiki/Talk:Python',\n",
       " 'https://en.wikipedia.org/wiki/Python',\n",
       " 'https://en.wikipedia.org/w/index.php?title=Python&action=edit&editintro=Template:Disambig_editintro',\n",
       " 'https://en.wikipedia.org/w/index.php?title=Python&action=history',\n",
       " 'https://en.wikipedia.org/wiki/Main_Page',\n",
       " 'https://en.wikipedia.org/wiki/Main_Page',\n",
       " 'https://en.wikipedia.org/wiki/Wikipedia:Contents',\n",
       " 'https://en.wikipedia.org/wiki/Portal:Current_events',\n",
       " 'https://en.wikipedia.org/wiki/Special:Random',\n",
       " 'https://en.wikipedia.org/wiki/Wikipedia:About',\n",
       " 'https://en.wikipedia.org/wiki/Wikipedia:Contact_us',\n",
       " 'https://donate.wikimedia.org/wiki/Special:FundraiserRedirector?utm_source=donate&utm_medium=sidebar&utm_campaign=C13_en.wikipedia.org&uselang=en',\n",
       " 'https://en.wikipedia.org/wiki/Help:Contents',\n",
       " 'https://en.wikipedia.org/wiki/Help:Introduction',\n",
       " 'https://en.wikipedia.org/wiki/Wikipedia:Community_portal',\n",
       " 'https://en.wikipedia.org/wiki/Special:RecentChanges',\n",
       " 'https://en.wikipedia.org/wiki/Wikipedia:File_Upload_Wizard',\n",
       " 'https://en.wikipedia.org/wiki/Special:WhatLinksHere/Python',\n",
       " 'https://en.wikipedia.org/wiki/Special:RecentChangesLinked/Python',\n",
       " 'https://en.wikipedia.org/wiki/Wikipedia:File_Upload_Wizard',\n",
       " 'https://en.wikipedia.org/wiki/Special:SpecialPages',\n",
       " 'https://en.wikipedia.org/w/index.php?title=Python&oldid=1104201971',\n",
       " 'https://en.wikipedia.org/w/index.php?title=Python&action=info',\n",
       " 'https://en.wikipedia.org/w/index.php?title=Special:CiteThisPage&page=Python&id=1104201971&wpFormIdentifier=titleform',\n",
       " 'https://www.wikidata.org/wiki/Special:EntityPage/Q747452',\n",
       " 'https://en.wikipedia.org/w/index.php?title=Special:DownloadAsPdf&page=Python&action=show-download-screen',\n",
       " 'https://en.wikipedia.org/w/index.php?title=Python&printable=yes',\n",
       " 'https://commons.wikimedia.org/wiki/Category:Python',\n",
       " 'https://af.wikipedia.org/wiki/Python',\n",
       " 'https://als.wikipedia.org/wiki/Python',\n",
       " 'https://ar.wikipedia.org/wiki/%D8%A8%D8%A7%D9%8A%D8%AB%D9%88%D9%86_(%D8%AA%D9%88%D8%B6%D9%8A%D8%AD)',\n",
       " 'https://az.wikipedia.org/wiki/Python',\n",
       " 'https://bn.wikipedia.org/wiki/%E0%A6%AA%E0%A6%BE%E0%A6%87%E0%A6%A5%E0%A6%A8_(%E0%A6%A6%E0%A7%8D%E0%A6%AC%E0%A7%8D%E0%A6%AF%E0%A6%B0%E0%A7%8D%E0%A6%A5%E0%A6%A4%E0%A6%BE_%E0%A6%A8%E0%A6%BF%E0%A6%B0%E0%A6%B8%E0%A6%A8)',\n",
       " 'https://be.wikipedia.org/wiki/Python',\n",
       " 'https://bg.wikipedia.org/wiki/%D0%9F%D0%B8%D1%82%D0%BE%D0%BD_(%D0%BF%D0%BE%D1%8F%D1%81%D0%BD%D0%B5%D0%BD%D0%B8%D0%B5)',\n",
       " 'https://cs.wikipedia.org/wiki/Python_(rozcestn%C3%ADk)',\n",
       " 'https://da.wikipedia.org/wiki/Python',\n",
       " 'https://de.wikipedia.org/wiki/Python',\n",
       " 'https://eo.wikipedia.org/wiki/Pitono_(apartigilo)',\n",
       " 'https://eu.wikipedia.org/wiki/Python_(argipena)',\n",
       " 'https://fa.wikipedia.org/wiki/%D9%BE%D8%A7%DB%8C%D8%AA%D9%88%D9%86',\n",
       " 'https://fr.wikipedia.org/wiki/Python',\n",
       " 'https://ko.wikipedia.org/wiki/%ED%8C%8C%EC%9D%B4%EC%84%A0',\n",
       " 'https://hr.wikipedia.org/wiki/Python_(razdvojba)',\n",
       " 'https://io.wikipedia.org/wiki/Pitono',\n",
       " 'https://id.wikipedia.org/wiki/Python',\n",
       " 'https://ia.wikipedia.org/wiki/Python_(disambiguation)',\n",
       " 'https://is.wikipedia.org/wiki/Python_(a%C3%B0greining)',\n",
       " 'https://it.wikipedia.org/wiki/Python_(disambigua)',\n",
       " 'https://he.wikipedia.org/wiki/%D7%A4%D7%99%D7%AA%D7%95%D7%9F',\n",
       " 'https://ka.wikipedia.org/wiki/%E1%83%9E%E1%83%98%E1%83%97%E1%83%9D%E1%83%9C%E1%83%98_(%E1%83%9B%E1%83%A0%E1%83%90%E1%83%95%E1%83%90%E1%83%9A%E1%83%9B%E1%83%9C%E1%83%98%E1%83%A8%E1%83%95%E1%83%9C%E1%83%94%E1%83%9A%E1%83%9D%E1%83%95%E1%83%90%E1%83%9C%E1%83%98)',\n",
       " 'https://kg.wikipedia.org/wiki/Mboma_(nyoka)',\n",
       " 'https://la.wikipedia.org/wiki/Python_(discretiva)',\n",
       " 'https://lb.wikipedia.org/wiki/Python',\n",
       " 'https://hu.wikipedia.org/wiki/Python_(egy%C3%A9rtelm%C5%B1s%C3%ADt%C5%91_lap)',\n",
       " 'https://mr.wikipedia.org/wiki/%E0%A4%AA%E0%A4%BE%E0%A4%AF%E0%A4%A5%E0%A5%89%E0%A4%A8_(%E0%A4%86%E0%A4%9C%E0%A5%8D%E0%A4%9E%E0%A4%BE%E0%A4%B5%E0%A4%B2%E0%A5%80_%E0%A4%AD%E0%A4%BE%E0%A4%B7%E0%A4%BE)',\n",
       " 'https://nl.wikipedia.org/wiki/Python',\n",
       " 'https://ja.wikipedia.org/wiki/%E3%83%91%E3%82%A4%E3%82%BD%E3%83%B3',\n",
       " 'https://no.wikipedia.org/wiki/Pyton',\n",
       " 'https://pl.wikipedia.org/wiki/Pyton',\n",
       " 'https://pt.wikipedia.org/wiki/Python_(desambigua%C3%A7%C3%A3o)',\n",
       " 'https://ru.wikipedia.org/wiki/Python_(%D0%B7%D0%BD%D0%B0%D1%87%D0%B5%D0%BD%D0%B8%D1%8F)',\n",
       " 'https://sk.wikipedia.org/wiki/Python',\n",
       " 'https://sr.wikipedia.org/wiki/%D0%9F%D0%B8%D1%82%D0%BE%D0%BD_(%D0%B2%D0%B8%D1%88%D0%B5%D0%B7%D0%BD%D0%B0%D1%87%D0%BD%D0%B0_%D0%BE%D0%B4%D1%80%D0%B5%D0%B4%D0%BD%D0%B8%D1%86%D0%B0)',\n",
       " 'https://sh.wikipedia.org/wiki/Python',\n",
       " 'https://fi.wikipedia.org/wiki/Python',\n",
       " 'https://sv.wikipedia.org/wiki/Pyton',\n",
       " 'https://th.wikipedia.org/wiki/%E0%B9%84%E0%B8%9E%E0%B8%97%E0%B8%AD%E0%B8%99',\n",
       " 'https://tr.wikipedia.org/wiki/Python_(anlam_ayr%C4%B1m%C4%B1)',\n",
       " 'https://uk.wikipedia.org/wiki/%D0%9F%D1%96%D1%84%D0%BE%D0%BD',\n",
       " 'https://ur.wikipedia.org/wiki/%D9%BE%D8%A7%D8%A6%DB%8C%D8%AA%DA%BE%D9%88%D9%86',\n",
       " 'https://vi.wikipedia.org/wiki/Python',\n",
       " 'https://zh.wikipedia.org/wiki/Python_(%E6%B6%88%E6%AD%A7%E4%B9%89)',\n",
       " 'https://www.wikidata.org/wiki/Special:EntityPage/Q747452#sitelinks-wikipedia',\n",
       " 'https://en.wikipedia.org/wiki/Wikipedia:Text_of_Creative_Commons_Attribution-ShareAlike_3.0_Unported_License',\n",
       " 'https://creativecommons.org/licenses/by-sa/3.0/',\n",
       " 'https://foundation.wikimedia.org/wiki/Terms_of_Use',\n",
       " 'https://foundation.wikimedia.org/wiki/Privacy_policy',\n",
       " 'https://www.wikimediafoundation.org/',\n",
       " 'https://foundation.wikimedia.org/wiki/Privacy_policy',\n",
       " 'https://en.wikipedia.org/wiki/Wikipedia:About',\n",
       " 'https://en.wikipedia.org/wiki/Wikipedia:General_disclaimer',\n",
       " 'https://en.wikipedia.org/wiki/Wikipedia:Contact_us',\n",
       " 'https://en.m.wikipedia.org/w/index.php?title=Python&mobileaction=toggle_view_mobile',\n",
       " 'https://developer.wikimedia.org/',\n",
       " 'https://stats.wikimedia.org/#/en.wikipedia.org',\n",
       " 'https://foundation.wikimedia.org/wiki/Cookie_statement',\n",
       " 'https://en.wikipedia.org/wiki/Python#',\n",
       " 'https://wikimediafoundation.org/',\n",
       " 'https://www.mediawiki.org/',\n",
       " 'https://en.wikipedia.org/wiki/Python?action=edit']"
      ]
     },
     "execution_count": 198,
     "metadata": {},
     "output_type": "execute_result"
    }
   ],
   "source": [
    "caja = driver.find_elements(By.TAG_NAME, 'a')\n",
    "caja[5].get_attribute('href')\n",
    "\n",
    "url_python = []\n",
    "\n",
    "for e in caja:\n",
    "    url_python.append(e.get_attribute('href'))\n",
    "\n",
    "url_python[1:]"
   ]
  },
  {
   "cell_type": "markdown",
   "metadata": {},
   "source": [
    "#### Number of Titles that have changed in the United States Code since its last release point \n",
    "\n",
    " Número de títulos que han cambiado en el Código de los Estados Unidos desde su último punto de lanzamiento"
   ]
  },
  {
   "cell_type": "code",
   "execution_count": 200,
   "metadata": {},
   "outputs": [],
   "source": [
    "# This is the url you will scrape in this exercise\n",
    "url = 'http://uscode.house.gov/download/download.shtml'"
   ]
  },
  {
   "cell_type": "code",
   "execution_count": 201,
   "metadata": {},
   "outputs": [
    {
     "data": {
      "text/plain": [
       "'http://uscode.house.gov/download/download.shtml'"
      ]
     },
     "execution_count": 201,
     "metadata": {},
     "output_type": "execute_result"
    }
   ],
   "source": [
    "driver.get(url)\n",
    "driver.current_url"
   ]
  },
  {
   "cell_type": "code",
   "execution_count": 209,
   "metadata": {
    "collapsed": true
   },
   "outputs": [
    {
     "data": {
      "text/plain": [
       "['Title 1 - General Provisions ٭',\n",
       " 'Title 3 - The President ٭',\n",
       " 'Title 4 - Flag and Seal, Seat of Government, and the States ٭',\n",
       " 'Title 6 - Domestic Security',\n",
       " 'Title 7 - Agriculture',\n",
       " 'Title 8 - Aliens and Nationality',\n",
       " 'Title 9 - Arbitration ٭',\n",
       " 'Title 11 - Bankruptcy ٭',\n",
       " 'Title 12 - Banks and Banking',\n",
       " 'Title 13 - Census ٭',\n",
       " 'Title 14 - Coast Guard ٭',\n",
       " 'Title 15 - Commerce and Trade',\n",
       " 'Title 16 - Conservation',\n",
       " 'Title 17 - Copyrights ٭',\n",
       " 'Title 18 - Crimes and Criminal Procedure ٭',\n",
       " 'Title 19 - Customs Duties',\n",
       " 'Title 20 - Education',\n",
       " 'Title 21 - Food and Drugs',\n",
       " 'Title 22 - Foreign Relations and Intercourse',\n",
       " 'Title 23 - Highways ٭',\n",
       " 'Title 24 - Hospitals and Asylums',\n",
       " 'Title 25 - Indians',\n",
       " 'Title 26 - Internal Revenue Code',\n",
       " 'Title 27 - Intoxicating Liquors',\n",
       " 'Title 29 - Labor',\n",
       " 'Title 30 - Mineral Lands and Mining',\n",
       " 'Title 31 - Money and Finance ٭',\n",
       " 'Title 32 - National Guard ٭',\n",
       " 'Title 33 - Navigation and Navigable Waters',\n",
       " 'Title 34 - Crime Control and Law Enforcement',\n",
       " 'Title 35 - Patents ٭',\n",
       " 'Title 36 - Patriotic and National Observances, Ceremonies, and Organizations ٭',\n",
       " 'Title 37 - Pay and Allowances of the Uniformed Services ٭',\n",
       " 'Title 39 - Postal Service ٭',\n",
       " 'Title 40 - Public Buildings, Property, and Works ٭',\n",
       " 'Title 41 - Public Contracts ٭',\n",
       " 'Title 42 - The Public Health and Welfare',\n",
       " 'Title 43 - Public Lands',\n",
       " 'Title 44 - Public Printing and Documents ٭',\n",
       " 'Title 45 - Railroads',\n",
       " 'Title 46 - Shipping ٭',\n",
       " 'Title 47 - Telecommunications',\n",
       " 'Title 48 - Territories and Insular Possessions',\n",
       " 'Title 49 - Transportation ٭',\n",
       " 'Title 50 - War and National Defense',\n",
       " 'Title 51 - National and Commercial Space Programs ٭',\n",
       " 'Title 52 - Voting and Elections',\n",
       " 'Title 53 [Reserved]',\n",
       " 'Title 54 - National Park Service and Related Programs ٭']"
      ]
     },
     "execution_count": 209,
     "metadata": {},
     "output_type": "execute_result"
    }
   ],
   "source": [
    "caja = driver.find_elements(By.CLASS_NAME, 'usctitle')\n",
    "\n",
    "titles = []\n",
    "\n",
    "for e in caja:\n",
    "    titles.append(e.text)\n",
    "\n",
    "titles[2:]"
   ]
  },
  {
   "cell_type": "markdown",
   "metadata": {},
   "source": [
    "#### A Python list with the top ten FBI's Most Wanted names "
   ]
  },
  {
   "cell_type": "code",
   "execution_count": 210,
   "metadata": {},
   "outputs": [],
   "source": [
    "# This is the url you will scrape in this exercise\n",
    "url = 'https://www.fbi.gov/wanted/topten'"
   ]
  },
  {
   "cell_type": "code",
   "execution_count": 211,
   "metadata": {},
   "outputs": [
    {
     "data": {
      "text/plain": [
       "'https://www.fbi.gov/wanted/topten'"
      ]
     },
     "execution_count": 211,
     "metadata": {},
     "output_type": "execute_result"
    }
   ],
   "source": [
    "driver.get(url)\n",
    "driver.current_url"
   ]
  },
  {
   "cell_type": "code",
   "execution_count": 222,
   "metadata": {
    "collapsed": true
   },
   "outputs": [
    {
     "data": {
      "text/plain": [
       "['ALEXIS FLORES',\n",
       " 'JOSE RODOLFO VILLARREAL-HERNANDEZ',\n",
       " 'YULAN ADONAY ARCHAGA CARIAS',\n",
       " 'BHADRESHKUMAR CHETANBHAI PATEL',\n",
       " 'OMAR ALEXANDER CARDENAS',\n",
       " 'ALEJANDRO ROSALES CASTILLO',\n",
       " 'RUJA IGNATOVA',\n",
       " 'JASON DEREK BROWN',\n",
       " 'ARNOLDO JIMENEZ',\n",
       " 'RAFAEL CARO-QUINTERO']"
      ]
     },
     "execution_count": 222,
     "metadata": {},
     "output_type": "execute_result"
    }
   ],
   "source": [
    "caja = driver.find_elements(By.TAG_NAME, 'h3')\n",
    "\n",
    "names = []\n",
    "\n",
    "for e in caja:\n",
    "    names.append(e.text)\n",
    "\n",
    "names[:-2]\n",
    "\n"
   ]
  },
  {
   "cell_type": "markdown",
   "metadata": {},
   "source": [
    "####  20 latest earthquakes info (date, time, latitude, longitude and region name) by the EMSC as a pandas dataframe"
   ]
  },
  {
   "cell_type": "code",
   "execution_count": null,
   "metadata": {},
   "outputs": [],
   "source": [
    "# This is the url you will scrape in this exercise\n",
    "url = 'https://www.emsc-csem.org/Earthquake/'"
   ]
  },
  {
   "cell_type": "code",
   "execution_count": null,
   "metadata": {},
   "outputs": [],
   "source": [
    "#your code"
   ]
  },
  {
   "cell_type": "markdown",
   "metadata": {},
   "source": [
    "#### Count number of tweets by a given Twitter account."
   ]
  },
  {
   "cell_type": "markdown",
   "metadata": {},
   "source": [
    "You will need to include a ***try/except block*** for account names not found. \n",
    "<br>***Hint:*** the program should count the number of tweets for any provided account"
   ]
  },
  {
   "cell_type": "code",
   "execution_count": 224,
   "metadata": {},
   "outputs": [],
   "source": [
    "# This is the url you will scrape in this exercise \n",
    "# You will need to add the account credentials to this url\n",
    "url = 'https://twitter.com/Mouredev'"
   ]
  },
  {
   "cell_type": "code",
   "execution_count": 225,
   "metadata": {},
   "outputs": [
    {
     "data": {
      "text/plain": [
       "'https://twitter.com/'"
      ]
     },
     "execution_count": 225,
     "metadata": {},
     "output_type": "execute_result"
    }
   ],
   "source": [
    "driver.get(url)\n",
    "driver.current_url"
   ]
  },
  {
   "cell_type": "code",
   "execution_count": 230,
   "metadata": {},
   "outputs": [
    {
     "data": {
      "text/plain": [
       "'91 mil'"
      ]
     },
     "execution_count": 230,
     "metadata": {},
     "output_type": "execute_result"
    }
   ],
   "source": [
    "caja = driver.find_elements(By.XPATH, '//*[@id=\"react-root\"]/div/div/div[2]/main/div/div/div/div[1]/div/div[2]/div/div/div/div/div[5]/div[2]/a/span[1]/span')\n",
    "caja[0].text"
   ]
  },
  {
   "cell_type": "markdown",
   "metadata": {},
   "source": [
    "#### Number of followers of a given twitter account"
   ]
  },
  {
   "cell_type": "markdown",
   "metadata": {},
   "source": [
    "You will need to include a ***try/except block*** in case account/s name not found. \n",
    "<br>***Hint:*** the program should count the followers for any provided account"
   ]
  },
  {
   "cell_type": "code",
   "execution_count": 231,
   "metadata": {},
   "outputs": [],
   "source": [
    "# This is the url you will scrape in this exercise \n",
    "# You will need to add the account credentials to this url\n",
    "url = 'https://twitter.com/Mouredev'"
   ]
  },
  {
   "cell_type": "code",
   "execution_count": 232,
   "metadata": {},
   "outputs": [
    {
     "data": {
      "text/plain": [
       "'https://twitter.com/'"
      ]
     },
     "execution_count": 232,
     "metadata": {},
     "output_type": "execute_result"
    }
   ],
   "source": [
    "driver.get(url)\n",
    "driver.current_url"
   ]
  },
  {
   "cell_type": "code",
   "execution_count": 233,
   "metadata": {},
   "outputs": [
    {
     "data": {
      "text/plain": [
       "'356'"
      ]
     },
     "execution_count": 233,
     "metadata": {},
     "output_type": "execute_result"
    }
   ],
   "source": [
    "caja = driver.find_elements(By.XPATH, '//*[@id=\"react-root\"]/div/div/div[2]/main/div/div/div/div[1]/div/div[2]/div/div/div/div/div[5]/div[1]/a/span[1]/span')\n",
    "caja[0].text"
   ]
  },
  {
   "cell_type": "markdown",
   "metadata": {},
   "source": [
    "#### List all language names and number of related articles in the order they appear in wikipedia.org\n",
    "\n",
    " Enumere todos los nombres de idiomas y el número de artículos relacionados en el orden en que aparecen en wikipedia.org"
   ]
  },
  {
   "cell_type": "code",
   "execution_count": 234,
   "metadata": {},
   "outputs": [],
   "source": [
    "# This is the url you will scrape in this exercise\n",
    "url = 'https://www.wikipedia.org/'"
   ]
  },
  {
   "cell_type": "code",
   "execution_count": 235,
   "metadata": {},
   "outputs": [
    {
     "data": {
      "text/plain": [
       "'https://www.wikipedia.org/'"
      ]
     },
     "execution_count": 235,
     "metadata": {},
     "output_type": "execute_result"
    }
   ],
   "source": [
    "driver.get(url)\n",
    "driver.current_url"
   ]
  },
  {
   "cell_type": "code",
   "execution_count": 284,
   "metadata": {
    "collapsed": true
   },
   "outputs": [
    {
     "data": {
      "text/plain": [
       "[['Español', '1 755 000 artículos'],\n",
       " ['English', '6 458 000 articles'],\n",
       " ['日本語', '1 314 000 記事'],\n",
       " ['Русский', '1 798 000 статей'],\n",
       " ['Deutsch', '2 667 000 Artikel'],\n",
       " ['Français', '2 400 000 articles'],\n",
       " ['Italiano', '1 742 000 voci'],\n",
       " ['中文', '1 256 000 条目 / 條目'],\n",
       " ['Português', '1 085 000 artigos'],\n",
       " ['العربية', '1 159 000 مقالة']]"
      ]
     },
     "execution_count": 284,
     "metadata": {},
     "output_type": "execute_result"
    }
   ],
   "source": [
    "caja = driver.find_elements(By.CLASS_NAME, 'central-featured')\n",
    "caja[0].text.replace('+', '').split('\\n')\n",
    "\n",
    "contador=0\n",
    "nombre=[]\n",
    "articulos=[]\n",
    "lst = []\n",
    "\n",
    "for e in caja[0].text.replace('+', '').split('\\n'):\n",
    "\n",
    "    if contador%2 == 0:\n",
    "        nombre.append(e)\n",
    "        contador+=1\n",
    "    else:\n",
    "        articulos.append(e)\n",
    "        contador+=1\n",
    "        lst.append(nombre + articulos)\n",
    "        nombre=[]\n",
    "        articulos=[]\n",
    "\n",
    "lst"
   ]
  },
  {
   "cell_type": "markdown",
   "metadata": {},
   "source": [
    "#### A list with the different kind of datasets available in data.gov.uk \n",
    "\n",
    "Una lista con los diferentes tipos de conjuntos de datos disponibles en data.gov.uk"
   ]
  },
  {
   "cell_type": "code",
   "execution_count": 285,
   "metadata": {},
   "outputs": [],
   "source": [
    "# This is the url you will scrape in this exercise\n",
    "url = 'https://data.gov.uk/'"
   ]
  },
  {
   "cell_type": "code",
   "execution_count": 286,
   "metadata": {},
   "outputs": [
    {
     "data": {
      "text/plain": [
       "'https://www.data.gov.uk/'"
      ]
     },
     "execution_count": 286,
     "metadata": {},
     "output_type": "execute_result"
    }
   ],
   "source": [
    "driver.get(url)\n",
    "driver.current_url"
   ]
  },
  {
   "cell_type": "code",
   "execution_count": 296,
   "metadata": {},
   "outputs": [
    {
     "data": {
      "text/plain": [
       "['Business and economy',\n",
       " 'Crime and justice',\n",
       " 'Defence',\n",
       " 'Education',\n",
       " 'Environment',\n",
       " 'Government',\n",
       " 'Government spending',\n",
       " 'Health',\n",
       " 'Mapping',\n",
       " 'Society',\n",
       " 'Towns and cities',\n",
       " 'Transport',\n",
       " 'Digital service performance',\n",
       " 'Government reference data']"
      ]
     },
     "execution_count": 296,
     "metadata": {},
     "output_type": "execute_result"
    }
   ],
   "source": [
    "caja = driver.find_elements(By.CLASS_NAME, 'govuk-grid-row')\n",
    "caja[4].text.split('\\n')[1::2]"
   ]
  },
  {
   "cell_type": "markdown",
   "metadata": {},
   "source": [
    "#### Top 10 languages by number of native speakers stored in a Pandas Dataframe"
   ]
  },
  {
   "cell_type": "code",
   "execution_count": 298,
   "metadata": {},
   "outputs": [],
   "source": [
    "# This is the url you will scrape in this exercise\n",
    "url = 'https://en.wikipedia.org/wiki/List_of_languages_by_number_of_native_speakers'"
   ]
  },
  {
   "cell_type": "code",
   "execution_count": 299,
   "metadata": {},
   "outputs": [
    {
     "data": {
      "text/plain": [
       "'https://en.wikipedia.org/wiki/List_of_languages_by_number_of_native_speakers'"
      ]
     },
     "execution_count": 299,
     "metadata": {},
     "output_type": "execute_result"
    }
   ],
   "source": [
    "driver.get(url)\n",
    "driver.current_url"
   ]
  },
  {
   "cell_type": "code",
   "execution_count": 311,
   "metadata": {},
   "outputs": [
    {
     "data": {
      "text/plain": [
       "[['1', 'Mandarin Chinese', '929.0', '11.922%', 'Sino-Tibetan', 'Sinitic'],\n",
       " ['2', 'Spanish', '474.7', '5.994%', 'Indo-European', 'Romance'],\n",
       " ['3', 'English', '372.9', '4.922%', 'Indo-European', 'Germanic'],\n",
       " ['4',\n",
       "  'Hindi (Sanskritised Hindustani)[11]',\n",
       "  '343.9',\n",
       "  '4.429%',\n",
       "  'Indo-European',\n",
       "  'Indo-Aryan'],\n",
       " ['5', 'Bengali', '233.7', '4.000%', 'Indo-European', 'Indo-Aryan'],\n",
       " ['6', 'Portuguese', '232.4', '2.870%', 'Indo-European', 'Romance'],\n",
       " ['7', 'Russian', '154.0', '2.000%', 'Indo-European', 'Balto-Slavic'],\n",
       " ['8', 'Japanese', '125.3', '1.662%', 'Japonic', 'Japanese'],\n",
       " ['9', 'Western Punjabi[12]', '92.7', '1.204%', 'Indo-European', 'Indo-Aryan'],\n",
       " ['10', 'Yue Chinese', '85.2', '0.949%', 'Sino-Tibetan', 'Sinitic']]"
      ]
     },
     "execution_count": 311,
     "metadata": {},
     "output_type": "execute_result"
    }
   ],
   "source": [
    "tabla = driver.find_elements(By.TAG_NAME, 'tbody')\n",
    "filas = driver.find_elements(By.TAG_NAME, 'tr')\n",
    "\n",
    "data=[]\n",
    "\n",
    "for f in filas:\n",
    "    \n",
    "    elementos=f.find_elements(By.TAG_NAME, 'td')\n",
    "    \n",
    "    tmp=[]\n",
    "    \n",
    "    for e in elementos:\n",
    "        \n",
    "        tmp.append(e.text)\n",
    "        \n",
    "    data.append(tmp)\n",
    "    \n",
    "data2 = data [1:11]\n",
    "data2\n"
   ]
  },
  {
   "cell_type": "code",
   "execution_count": 307,
   "metadata": {},
   "outputs": [
    {
     "data": {
      "text/plain": [
       "'1 Mandarin Chinese 929.0 11.922% Sino-Tibetan Sinitic'"
      ]
     },
     "execution_count": 307,
     "metadata": {},
     "output_type": "execute_result"
    }
   ],
   "source": [
    "filas = driver.find_elements(By.TAG_NAME, 'tr')\n",
    "filas[1].text"
   ]
  },
  {
   "cell_type": "code",
   "execution_count": 315,
   "metadata": {},
   "outputs": [
    {
     "data": {
      "text/plain": [
       "['RANK',\n",
       " 'LANGUAGE',\n",
       " 'NATIVE SPEAKERS (MILLIONS)',\n",
       " 'PERCENTAGE OF WORLD POP. (MARCH 2019)[10]',\n",
       " 'LANGUAGE FAMILY',\n",
       " 'BRANCH']"
      ]
     },
     "execution_count": 315,
     "metadata": {},
     "output_type": "execute_result"
    }
   ],
   "source": [
    "cabeceras=driver.find_element(By.TAG_NAME, 'thead')\n",
    "\n",
    "cabeceras=[c.text.replace('\\n',' ').upper() for c in cabeceras.find_elements(By.TAG_NAME, 'th')]\n",
    "\n",
    "cabeceras"
   ]
  },
  {
   "cell_type": "code",
   "execution_count": 317,
   "metadata": {},
   "outputs": [
    {
     "data": {
      "text/html": [
       "<div>\n",
       "<style scoped>\n",
       "    .dataframe tbody tr th:only-of-type {\n",
       "        vertical-align: middle;\n",
       "    }\n",
       "\n",
       "    .dataframe tbody tr th {\n",
       "        vertical-align: top;\n",
       "    }\n",
       "\n",
       "    .dataframe thead th {\n",
       "        text-align: right;\n",
       "    }\n",
       "</style>\n",
       "<table border=\"1\" class=\"dataframe\">\n",
       "  <thead>\n",
       "    <tr style=\"text-align: right;\">\n",
       "      <th></th>\n",
       "      <th>RANK</th>\n",
       "      <th>LANGUAGE</th>\n",
       "      <th>NATIVE SPEAKERS (MILLIONS)</th>\n",
       "      <th>PERCENTAGE OF WORLD POP. (MARCH 2019)[10]</th>\n",
       "      <th>LANGUAGE FAMILY</th>\n",
       "      <th>BRANCH</th>\n",
       "    </tr>\n",
       "  </thead>\n",
       "  <tbody>\n",
       "    <tr>\n",
       "      <th>0</th>\n",
       "      <td>1</td>\n",
       "      <td>Mandarin Chinese</td>\n",
       "      <td>929.0</td>\n",
       "      <td>11.922%</td>\n",
       "      <td>Sino-Tibetan</td>\n",
       "      <td>Sinitic</td>\n",
       "    </tr>\n",
       "    <tr>\n",
       "      <th>1</th>\n",
       "      <td>2</td>\n",
       "      <td>Spanish</td>\n",
       "      <td>474.7</td>\n",
       "      <td>5.994%</td>\n",
       "      <td>Indo-European</td>\n",
       "      <td>Romance</td>\n",
       "    </tr>\n",
       "    <tr>\n",
       "      <th>2</th>\n",
       "      <td>3</td>\n",
       "      <td>English</td>\n",
       "      <td>372.9</td>\n",
       "      <td>4.922%</td>\n",
       "      <td>Indo-European</td>\n",
       "      <td>Germanic</td>\n",
       "    </tr>\n",
       "    <tr>\n",
       "      <th>3</th>\n",
       "      <td>4</td>\n",
       "      <td>Hindi (Sanskritised Hindustani)[11]</td>\n",
       "      <td>343.9</td>\n",
       "      <td>4.429%</td>\n",
       "      <td>Indo-European</td>\n",
       "      <td>Indo-Aryan</td>\n",
       "    </tr>\n",
       "    <tr>\n",
       "      <th>4</th>\n",
       "      <td>5</td>\n",
       "      <td>Bengali</td>\n",
       "      <td>233.7</td>\n",
       "      <td>4.000%</td>\n",
       "      <td>Indo-European</td>\n",
       "      <td>Indo-Aryan</td>\n",
       "    </tr>\n",
       "    <tr>\n",
       "      <th>5</th>\n",
       "      <td>6</td>\n",
       "      <td>Portuguese</td>\n",
       "      <td>232.4</td>\n",
       "      <td>2.870%</td>\n",
       "      <td>Indo-European</td>\n",
       "      <td>Romance</td>\n",
       "    </tr>\n",
       "    <tr>\n",
       "      <th>6</th>\n",
       "      <td>7</td>\n",
       "      <td>Russian</td>\n",
       "      <td>154.0</td>\n",
       "      <td>2.000%</td>\n",
       "      <td>Indo-European</td>\n",
       "      <td>Balto-Slavic</td>\n",
       "    </tr>\n",
       "    <tr>\n",
       "      <th>7</th>\n",
       "      <td>8</td>\n",
       "      <td>Japanese</td>\n",
       "      <td>125.3</td>\n",
       "      <td>1.662%</td>\n",
       "      <td>Japonic</td>\n",
       "      <td>Japanese</td>\n",
       "    </tr>\n",
       "    <tr>\n",
       "      <th>8</th>\n",
       "      <td>9</td>\n",
       "      <td>Western Punjabi[12]</td>\n",
       "      <td>92.7</td>\n",
       "      <td>1.204%</td>\n",
       "      <td>Indo-European</td>\n",
       "      <td>Indo-Aryan</td>\n",
       "    </tr>\n",
       "    <tr>\n",
       "      <th>9</th>\n",
       "      <td>10</td>\n",
       "      <td>Yue Chinese</td>\n",
       "      <td>85.2</td>\n",
       "      <td>0.949%</td>\n",
       "      <td>Sino-Tibetan</td>\n",
       "      <td>Sinitic</td>\n",
       "    </tr>\n",
       "  </tbody>\n",
       "</table>\n",
       "</div>"
      ],
      "text/plain": [
       "  RANK                             LANGUAGE NATIVE SPEAKERS (MILLIONS)  \\\n",
       "0    1                     Mandarin Chinese                      929.0   \n",
       "1    2                              Spanish                      474.7   \n",
       "2    3                              English                      372.9   \n",
       "3    4  Hindi (Sanskritised Hindustani)[11]                      343.9   \n",
       "4    5                              Bengali                      233.7   \n",
       "5    6                           Portuguese                      232.4   \n",
       "6    7                              Russian                      154.0   \n",
       "7    8                             Japanese                      125.3   \n",
       "8    9                  Western Punjabi[12]                       92.7   \n",
       "9   10                          Yue Chinese                       85.2   \n",
       "\n",
       "  PERCENTAGE OF WORLD POP. (MARCH 2019)[10] LANGUAGE FAMILY        BRANCH  \n",
       "0                                   11.922%    Sino-Tibetan       Sinitic  \n",
       "1                                    5.994%   Indo-European       Romance  \n",
       "2                                    4.922%   Indo-European      Germanic  \n",
       "3                                    4.429%   Indo-European    Indo-Aryan  \n",
       "4                                    4.000%   Indo-European    Indo-Aryan  \n",
       "5                                    2.870%   Indo-European       Romance  \n",
       "6                                    2.000%   Indo-European  Balto-Slavic  \n",
       "7                                    1.662%         Japonic      Japanese  \n",
       "8                                    1.204%   Indo-European    Indo-Aryan  \n",
       "9                                    0.949%    Sino-Tibetan       Sinitic  "
      ]
     },
     "execution_count": 317,
     "metadata": {},
     "output_type": "execute_result"
    }
   ],
   "source": [
    "df=pd.DataFrame(data2, columns=cabeceras)\n",
    "\n",
    "df"
   ]
  },
  {
   "cell_type": "code",
   "execution_count": null,
   "metadata": {},
   "outputs": [],
   "source": []
  },
  {
   "cell_type": "markdown",
   "metadata": {},
   "source": [
    "### BONUS QUESTIONS"
   ]
  },
  {
   "cell_type": "markdown",
   "metadata": {},
   "source": [
    "#### Scrape a certain number of tweets of a given Twitter account."
   ]
  },
  {
   "cell_type": "code",
   "execution_count": null,
   "metadata": {},
   "outputs": [],
   "source": [
    "# This is the url you will scrape in this exercise \n",
    "# You will need to add the account credentials to this url\n",
    "url = 'https://twitter.com/'"
   ]
  },
  {
   "cell_type": "code",
   "execution_count": null,
   "metadata": {},
   "outputs": [],
   "source": [
    "# your code"
   ]
  },
  {
   "cell_type": "markdown",
   "metadata": {},
   "source": [
    "#### IMDB's Top 250 data (movie name, Initial release, director name and stars) as a pandas dataframe"
   ]
  },
  {
   "cell_type": "code",
   "execution_count": null,
   "metadata": {},
   "outputs": [],
   "source": [
    "# This is the url you will scrape in this exercise \n",
    "url = 'https://www.imdb.com/chart/top'"
   ]
  },
  {
   "cell_type": "code",
   "execution_count": null,
   "metadata": {},
   "outputs": [],
   "source": [
    "# your code"
   ]
  },
  {
   "cell_type": "markdown",
   "metadata": {},
   "source": [
    "#### Movie name, year and a brief summary of the top 10 random movies (IMDB) as a pandas dataframe."
   ]
  },
  {
   "cell_type": "code",
   "execution_count": null,
   "metadata": {},
   "outputs": [],
   "source": [
    "#This is the url you will scrape in this exercise\n",
    "url = 'http://www.imdb.com/chart/top'"
   ]
  },
  {
   "cell_type": "code",
   "execution_count": null,
   "metadata": {},
   "outputs": [],
   "source": [
    "#your code"
   ]
  },
  {
   "cell_type": "markdown",
   "metadata": {},
   "source": [
    "#### Find the live weather report (temperature, wind speed, description and weather) of a given city."
   ]
  },
  {
   "cell_type": "code",
   "execution_count": null,
   "metadata": {},
   "outputs": [],
   "source": [
    "#https://openweathermap.org/current\n",
    "city = city=input('Enter the city:')\n",
    "url = 'http://api.openweathermap.org/data/2.5/weather?'+'q='+city+'&APPID=b35975e18dc93725acb092f7272cc6b8&units=metric'"
   ]
  },
  {
   "cell_type": "code",
   "execution_count": null,
   "metadata": {},
   "outputs": [],
   "source": [
    "# your code"
   ]
  },
  {
   "cell_type": "markdown",
   "metadata": {},
   "source": [
    "#### Book name,price and stock availability as a pandas dataframe."
   ]
  },
  {
   "cell_type": "code",
   "execution_count": null,
   "metadata": {},
   "outputs": [],
   "source": [
    "# This is the url you will scrape in this exercise. \n",
    "# It is a fictional bookstore created to be scraped. \n",
    "url = 'http://books.toscrape.com/'"
   ]
  },
  {
   "cell_type": "code",
   "execution_count": null,
   "metadata": {},
   "outputs": [],
   "source": [
    "#your code"
   ]
  }
 ],
 "metadata": {
  "kernelspec": {
   "display_name": "Python 3 (ipykernel)",
   "language": "python",
   "name": "python3"
  },
  "language_info": {
   "codemirror_mode": {
    "name": "ipython",
    "version": 3
   },
   "file_extension": ".py",
   "mimetype": "text/x-python",
   "name": "python",
   "nbconvert_exporter": "python",
   "pygments_lexer": "ipython3",
   "version": "3.9.12"
  }
 },
 "nbformat": 4,
 "nbformat_minor": 2
}
